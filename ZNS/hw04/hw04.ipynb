{
 "cells": [
  {
   "cell_type": "markdown",
   "id": "6107f99a-3ce7-45dd-9c98-96fe92b8d210",
   "metadata": {},
   "source": [
    "# Úloha 4: Extrakce pravidel pro znalostní systém z náhodného lesa"
   ]
  },
  {
   "cell_type": "code",
   "execution_count": 1,
   "id": "706abd8f-bf5b-43c2-8853-216ae950ee22",
   "metadata": {},
   "outputs": [],
   "source": [
    "import pandas as pd\n",
    "import numpy as np\n",
    "import matplotlib.pyplot as plt\n",
    "import seaborn as sns\n",
    "import random\n",
    "\n",
    "\n",
    "from sklearn.model_selection import train_test_split\n",
    "from sklearn.model_selection import ParameterGrid\n",
    "from sklearn.ensemble import RandomForestClassifier\n",
    "import sklearn.metrics as metrics \n",
    "from sklearn import tree\n",
    "\n",
    "from ucimlrepo import fetch_ucirepo "
   ]
  },
  {
   "cell_type": "markdown",
   "id": "fa8b6e6a-1f96-4b2c-bac9-415f4ecbbf26",
   "metadata": {},
   "source": [
    "Načteme data podle návodu."
   ]
  },
  {
   "cell_type": "code",
   "execution_count": 2,
   "id": "d73c38d8-ee4f-44ec-88b8-4021f9e34bd6",
   "metadata": {},
   "outputs": [],
   "source": [
    "# fetch dataset \n",
    "breast_cancer_wisconsin_diagnostic = fetch_ucirepo(id=17) \n",
    "  \n",
    "# data (as pandas dataframes) \n",
    "Xdata = breast_cancer_wisconsin_diagnostic.data.features \n",
    "ydata = breast_cancer_wisconsin_diagnostic.data.targets "
   ]
  },
  {
   "cell_type": "code",
   "execution_count": 3,
   "id": "ca955b37-4050-4498-8bd8-b15867bfeeed",
   "metadata": {},
   "outputs": [
    {
     "name": "stdout",
     "output_type": "stream",
     "text": [
      "<class 'pandas.core.frame.DataFrame'>\n",
      "RangeIndex: 569 entries, 0 to 568\n",
      "Data columns (total 30 columns):\n",
      " #   Column              Non-Null Count  Dtype  \n",
      "---  ------              --------------  -----  \n",
      " 0   radius1             569 non-null    float64\n",
      " 1   texture1            569 non-null    float64\n",
      " 2   perimeter1          569 non-null    float64\n",
      " 3   area1               569 non-null    float64\n",
      " 4   smoothness1         569 non-null    float64\n",
      " 5   compactness1        569 non-null    float64\n",
      " 6   concavity1          569 non-null    float64\n",
      " 7   concave_points1     569 non-null    float64\n",
      " 8   symmetry1           569 non-null    float64\n",
      " 9   fractal_dimension1  569 non-null    float64\n",
      " 10  radius2             569 non-null    float64\n",
      " 11  texture2            569 non-null    float64\n",
      " 12  perimeter2          569 non-null    float64\n",
      " 13  area2               569 non-null    float64\n",
      " 14  smoothness2         569 non-null    float64\n",
      " 15  compactness2        569 non-null    float64\n",
      " 16  concavity2          569 non-null    float64\n",
      " 17  concave_points2     569 non-null    float64\n",
      " 18  symmetry2           569 non-null    float64\n",
      " 19  fractal_dimension2  569 non-null    float64\n",
      " 20  radius3             569 non-null    float64\n",
      " 21  texture3            569 non-null    float64\n",
      " 22  perimeter3          569 non-null    float64\n",
      " 23  area3               569 non-null    float64\n",
      " 24  smoothness3         569 non-null    float64\n",
      " 25  compactness3        569 non-null    float64\n",
      " 26  concavity3          569 non-null    float64\n",
      " 27  concave_points3     569 non-null    float64\n",
      " 28  symmetry3           569 non-null    float64\n",
      " 29  fractal_dimension3  569 non-null    float64\n",
      "dtypes: float64(30)\n",
      "memory usage: 133.5 KB\n"
     ]
    }
   ],
   "source": [
    "Xdata.info()"
   ]
  },
  {
   "cell_type": "code",
   "execution_count": 4,
   "id": "4a987c59-0f6a-4a25-b08b-e2f23e831766",
   "metadata": {},
   "outputs": [
    {
     "name": "stdout",
     "output_type": "stream",
     "text": [
      "<class 'pandas.core.frame.DataFrame'>\n",
      "RangeIndex: 569 entries, 0 to 568\n",
      "Data columns (total 1 columns):\n",
      " #   Column     Non-Null Count  Dtype \n",
      "---  ------     --------------  ----- \n",
      " 0   Diagnosis  569 non-null    object\n",
      "dtypes: object(1)\n",
      "memory usage: 4.6+ KB\n"
     ]
    }
   ],
   "source": [
    "ydata.info()"
   ]
  },
  {
   "cell_type": "markdown",
   "id": "89854db5-1164-4d00-aab2-a66e4952343f",
   "metadata": {},
   "source": [
    "## Příprava dat"
   ]
  },
  {
   "cell_type": "markdown",
   "id": "4dfd9bb8-8c3c-428e-935d-a3b2d7da832e",
   "metadata": {},
   "source": [
    "Převedeme `Diagnosis` na `category` a pak pomocí `cat.codes` na číselnou hodnotu."
   ]
  },
  {
   "cell_type": "code",
   "execution_count": 5,
   "id": "18937aba-6d8e-4134-a4bb-bbf927633694",
   "metadata": {},
   "outputs": [],
   "source": [
    "ydata = ydata.astype('category').apply(lambda x: x.cat.codes)"
   ]
  },
  {
   "cell_type": "markdown",
   "id": "37b6c484-0454-4e8b-88e8-4c1aa7ce0dba",
   "metadata": {},
   "source": [
    "Rozdělíme data na trénovací a testovací pomocí `train_test_split`.\n",
    "Rozdělení:\n",
    "* 70% - trénovací\n",
    "* 30% - testovací"
   ]
  },
  {
   "cell_type": "code",
   "execution_count": 6,
   "id": "34c7de48-aef9-4257-9495-db9ff00593e4",
   "metadata": {},
   "outputs": [],
   "source": [
    "random_seed = 42 #constant for random_state\n",
    "\n",
    "Xtrain, Xtest, ytrain, ytest = train_test_split(Xdata, ydata, test_size = 0.3, random_state = random_seed) "
   ]
  },
  {
   "cell_type": "markdown",
   "id": "24ff0761-e16e-4328-b40a-527469ce4531",
   "metadata": {},
   "source": [
    "## Random Forest"
   ]
  },
  {
   "cell_type": "markdown",
   "id": "6e7295d0-2cec-44d7-ad26-c899ae7a1aa0",
   "metadata": {},
   "source": [
    "Zkusíme nejprve natrénovat náhodný les s výchozími parametry, tedy budeme mít les o 100 stromech."
   ]
  },
  {
   "cell_type": "code",
   "execution_count": 7,
   "id": "e1b9db16-bb5c-4fc8-9339-476053fce09a",
   "metadata": {},
   "outputs": [
    {
     "name": "stdout",
     "output_type": "stream",
     "text": [
      "accuracy score for Tree (train): 1.000000\n",
      "accuracy score for Tree (test): 0.970760\n"
     ]
    }
   ],
   "source": [
    "forest = RandomForestClassifier()\n",
    "forest.fit(Xtrain, ytrain.values.ravel())\n",
    "print('accuracy score for Tree (train): {0:.6f}'.format(metrics.accuracy_score(ytrain, forest.predict(Xtrain))))\n",
    "print('accuracy score for Tree (test): {0:.6f}'.format(metrics.accuracy_score(ytest, forest.predict(Xtest))))"
   ]
  },
  {
   "cell_type": "markdown",
   "id": "4c6cda27-2b58-40a2-b4b6-2d15daafe636",
   "metadata": {},
   "source": [
    "Výsledky jsou dobré. Zkoušel jsem ladit hyperparametry, ale výsledek nebyl lepší, tak jsem se rozhodl nepoužívat validační množinu a trénovat na větším počtu dat."
   ]
  },
  {
   "cell_type": "markdown",
   "id": "8d557900-f430-4012-b7a9-e5ac92379836",
   "metadata": {},
   "source": [
    "## Extrakce pravidel z každého stromu"
   ]
  },
  {
   "cell_type": "markdown",
   "id": "23e908b2-bf1a-4a1e-b83a-2eae2c7f39ba",
   "metadata": {},
   "source": [
    "Sloučil jsem data do jednoho datasetu. Budu ho potřebovat k zjištění názvů sloupců."
   ]
  },
  {
   "cell_type": "code",
   "execution_count": 8,
   "id": "301af95e-362b-4715-a7c8-83b785eb6add",
   "metadata": {},
   "outputs": [],
   "source": [
    "data = Xdata.join(ydata[\"Diagnosis\"])"
   ]
  },
  {
   "cell_type": "markdown",
   "id": "a416c890-71f9-4944-9de3-9e54bf554860",
   "metadata": {},
   "source": [
    "Pro vizualizaci jednoho ze stromů jsem použil metodu `plot_tree` z knihovny `sklearn`."
   ]
  },
  {
   "cell_type": "code",
   "execution_count": 9,
   "id": "a471162a-6993-41cd-aa1f-91f51b106176",
   "metadata": {},
   "outputs": [
    {
     "data": {
      "image/png": "[encoded data removed]",
      "text/plain": [
       "<Figure size 1200x800 with 1 Axes>"
      ]
     },
     "metadata": {},
     "output_type": "display_data"
    }
   ],
   "source": [
    "plt.figure(figsize=(12, 8))\n",
    "tree.plot_tree(forest.estimators_[0], feature_names=data.columns[:-1], class_names=data['Diagnosis'].unique().astype(str), filled=True)\n",
    "plt.show()"
   ]
  },
  {
   "cell_type": "markdown",
   "id": "6c7b7516-14a1-4022-bc8c-c3a8bb6e8a3f",
   "metadata": {},
   "source": [
    "Vytvořil jsem prázdný seznam pravidel."
   ]
  },
  {
   "cell_type": "code",
   "execution_count": 10,
   "id": "63117c49-5ffa-4a10-b275-84e84b9c0f52",
   "metadata": {},
   "outputs": [],
   "source": [
    "rules = []"
   ]
  },
  {
   "cell_type": "markdown",
   "id": "9cd75f47-ece5-41e6-aad1-3a9dc8b1f726",
   "metadata": {},
   "source": [
    "Napsal jsem funkci `get_tree_rules`, která rekurzivně prochází strom od kořene ke listům a zaznamenává jednotlivé části pravidel (ty vznikají při přechodu mezi uzly) do tuple ve formátu (`column_name`, `<` or `>=`, `threshold`). Takové části pravidel spojujeme do seznamu `rule`, a když dosáhneme listu, vložíme tento seznam do globálního seznamu pravidel `rules`."
   ]
  },
  {
   "cell_type": "code",
   "execution_count": 11,
   "id": "b15d979e-faa3-4f0f-8a29-77df6f5aa33e",
   "metadata": {},
   "outputs": [],
   "source": [
    "def get_tree_rules(node, rule, tree):\n",
    "    if tree.children_left[node] != -1 or tree.children_right[node] != -1:\n",
    "        name = data.columns[:-1][tree.feature[node]]\n",
    "        threshold = tree.threshold[node]\n",
    "        \n",
    "        rule.append((name, \"<\", threshold))\n",
    "        get_tree_rules(tree.children_left[node], rule, tree)\n",
    "        \n",
    "        rule.append((name, \">=\", threshold))\n",
    "        get_tree_rules(tree.children_right[node], rule, tree)\n",
    "    else:\n",
    "        rules.append((np.argmax(tree.value[node][0]), rule.copy()))\n",
    "        rule.clear()"
   ]
  },
  {
   "cell_type": "markdown",
   "id": "8061d720-9d8c-4e9f-bf10-5c76efa007c3",
   "metadata": {},
   "source": [
    "Aplikujeme funkci `get_tree_rules` na celý les, tedy postupně na každý strom v lese."
   ]
  },
  {
   "cell_type": "code",
   "execution_count": 12,
   "id": "09873d47-4fdc-498f-9999-301509ea7051",
   "metadata": {},
   "outputs": [],
   "source": [
    "for tree_idx, tree in enumerate(forest.estimators_):\n",
    "    rl = []\n",
    "    get_tree_rules(0, rl, tree.tree_)"
   ]
  },
  {
   "cell_type": "code",
   "execution_count": 13,
   "id": "7c5a25e1-ea28-4211-a190-f37756e700c1",
   "metadata": {},
   "outputs": [
    {
     "data": {
      "text/plain": [
       "1743"
      ]
     },
     "execution_count": 13,
     "metadata": {},
     "output_type": "execute_result"
    }
   ],
   "source": [
    "len(rules)"
   ]
  },
  {
   "cell_type": "markdown",
   "id": "de396ae5-a12f-40ca-b09d-18cec5600025",
   "metadata": {},
   "source": [
    "## Hodnotící funkce"
   ]
  },
  {
   "cell_type": "markdown",
   "id": "4c136c0e-5ab7-4486-a0c0-a9554abbc810",
   "metadata": {},
   "source": [
    "Rozměry matice, do které budeme ukládat výstup pravidel pro jednotlivé záznamy z trénovací množiny."
   ]
  },
  {
   "cell_type": "code",
   "execution_count": 14,
   "id": "7f147434-5740-44ce-a419-09bb73738d60",
   "metadata": {},
   "outputs": [],
   "source": [
    "m = Xtrain.shape[0] \n",
    "n = len(rules)"
   ]
  },
  {
   "cell_type": "markdown",
   "id": "2ac9f753-3b99-4200-84be-e8549b1a48db",
   "metadata": {},
   "source": [
    "Převedeme trénovací dataset na seznam seznamů n-tic, což usnadní jeho vkládání do pravidel."
   ]
  },
  {
   "cell_type": "code",
   "execution_count": 15,
   "id": "9c75d3cc-d45a-4357-bcd4-6cf079f71661",
   "metadata": {},
   "outputs": [],
   "source": [
    "result = [list(row.items()) for row in Xtrain.to_dict('records')]"
   ]
  },
  {
   "cell_type": "markdown",
   "id": "682a3e03-e90f-4b2e-9d09-29f4e4f08fc3",
   "metadata": {},
   "source": [
    "`RsCoverage` je matice, která v řádcích obsahuje výstupy jednoho pravidla pro jednotlivé položky trénovacího datasetu."
   ]
  },
  {
   "cell_type": "code",
   "execution_count": 16,
   "id": "78c2367b-e7c9-44ea-a82b-17ffff741948",
   "metadata": {},
   "outputs": [
    {
     "data": {
      "text/plain": [
       "(398,)"
      ]
     },
     "execution_count": 16,
     "metadata": {},
     "output_type": "execute_result"
    }
   ],
   "source": [
    "RsCoverage = np.zeros((n, m))\n",
    "RsCoverage[0].shape"
   ]
  },
  {
   "cell_type": "markdown",
   "id": "404d7652-1236-4c3f-9b41-a76ea3651cbb",
   "metadata": {},
   "source": [
    "Funkce `match` vezme jeden řádek datasetu a zkouší na něj aplikovat pravidlo. Vezme hodnotu příznaku a jeho název a porovná je s jednotlivými částmi pravidla. Pokud takovou část nalezne, zvýší proměnnou `correct` a pokračuje v procházení záznamu. Pokud existuje mapování vstupního záznamu na vstupní pravidlo, vrátí výsledek pravidla, jinak -1."
   ]
  },
  {
   "cell_type": "code",
   "execution_count": 17,
   "id": "f0c2ecc3-4b9c-46e7-99fc-362f8d96dbc9",
   "metadata": {},
   "outputs": [],
   "source": [
    "def match(rule, sample):\n",
    "    correct = 0\n",
    "    for term in sample:\n",
    "        for rule_term in rule[1]:\n",
    "            if rule_term[1] == '<':\n",
    "                if (rule_term[0] == term[0]) and (term[1] < rule_term[2]):\n",
    "                    correct += 1\n",
    "                    break\n",
    "            else:\n",
    "                if (rule_term[0] == term[0]) and (term[1] >= rule_term[2]):\n",
    "                    correct += 1\n",
    "                    break\n",
    "    if correct == len(rule[1]):\n",
    "        return rule[0]\n",
    "    return -1"
   ]
  },
  {
   "cell_type": "markdown",
   "id": "cd1c87f4-37da-4558-a304-dd68f8f73faa",
   "metadata": {},
   "source": [
    "Pomocí funkce `match` vypočítáme hodnoty pro všechny kombinace a zaznamenáme výsledek do matice `RsCoverage`."
   ]
  },
  {
   "cell_type": "code",
   "execution_count": 18,
   "id": "f52d8229-619b-4d24-b10d-f214c8640c23",
   "metadata": {},
   "outputs": [],
   "source": [
    "i = 0\n",
    "j = 0\n",
    "for res in result:\n",
    "    for rule in rules:\n",
    "        RsCoverage[i][j] = match(rule, res)\n",
    "        i += 1\n",
    "    j += 1\n",
    "    i = 0   "
   ]
  },
  {
   "cell_type": "code",
   "execution_count": 19,
   "id": "0a55ecad-dafb-4b55-a0b7-d9a8f6e5ae89",
   "metadata": {},
   "outputs": [
    {
     "data": {
      "text/plain": [
       "array([[ 0., -1., -1., ..., -1., -1., -1.],\n",
       "       [-1., -1.,  1., ..., -1.,  1., -1.],\n",
       "       [-1.,  0.,  0., ...,  0.,  0.,  0.],\n",
       "       ...,\n",
       "       [-1., -1., -1., ..., -1., -1., -1.],\n",
       "       [-1., -1., -1., ..., -1., -1., -1.],\n",
       "       [-1., -1.,  1., ..., -1.,  1., -1.]])"
      ]
     },
     "execution_count": 19,
     "metadata": {},
     "output_type": "execute_result"
    }
   ],
   "source": [
    "RsCoverage"
   ]
  },
  {
   "cell_type": "markdown",
   "id": "59e1341f-6759-4b21-a659-ecce8d4b7003",
   "metadata": {},
   "source": [
    "Funkce `ruleScore` vypočítá kvalitu pravidel pomocí matice `RsCoverage` a vzorce `((correct - nic) / (correct + nic)) + (correct / (nic + k))`. Vezme jeden řádek matice `RsCoverage` a zjistí, kolik záznamů bylo možné aplikovat na aktuální pravidlo. Na základě toho spočítá skóre tohoto pravidla.\n",
    "* correct ... počet správně klasifikovaných vzorků\r",
    "* nic  ... počet nesprávně kalsifikovaných vzorků"
   ]
  },
  {
   "cell_type": "code",
   "execution_count": 20,
   "id": "79052c51-5a12-4547-91dc-5ebd771ce11e",
   "metadata": {},
   "outputs": [],
   "source": [
    "def ruleScore(rule_result):\n",
    "    result = []\n",
    "    j = 0\n",
    "    k = 0.00000000000001\n",
    "    for point in rule_result:\n",
    "        correct = 0\n",
    "        for arr in point:\n",
    "            if arr != -1:\n",
    "                correct += 1\n",
    "        nic = RsCoverage[0].shape[0] - correct\n",
    "        score = ((correct - nic)/(correct + nic)) + (correct/(nic + k))\n",
    "        result.append((round(score, 2), j)) \n",
    "        j += 1\n",
    "    return result"
   ]
  },
  {
   "cell_type": "code",
   "execution_count": 21,
   "id": "8354cad2-16d9-49ec-9a9a-c8e5547db591",
   "metadata": {},
   "outputs": [
    {
     "data": {
      "text/plain": [
       "1743"
      ]
     },
     "execution_count": 21,
     "metadata": {},
     "output_type": "execute_result"
    }
   ],
   "source": [
    "correct = ruleScore(RsCoverage)\n",
    "len(correct)"
   ]
  },
  {
   "cell_type": "markdown",
   "id": "73f7e915-746a-4dfb-8780-d360c3a3bec6",
   "metadata": {},
   "source": [
    "Seřadíme pravidla podle skóre, tedy od nejvíce užitečného pravidla k nejméně užitečnému."
   ]
  },
  {
   "cell_type": "code",
   "execution_count": 22,
   "id": "b043f93b-b526-4cfa-b3cd-d9834056b23d",
   "metadata": {},
   "outputs": [],
   "source": [
    "correct.sort(key=lambda x: x[0], reverse=True)"
   ]
  },
  {
   "cell_type": "markdown",
   "id": "058342be-cb4f-49df-ba03-121a3af67fb3",
   "metadata": {},
   "source": [
    "## Hill climbing"
   ]
  },
  {
   "cell_type": "markdown",
   "id": "32defe87-465c-4677-bc28-6a21daac9abf",
   "metadata": {},
   "source": [
    "Funkce `HeuristicSearch` najde souseda (podmnožinu pravidel). Pravidlo přidáme na základě vstupního parametru `k`. \n",
    "* `k` musí být větší než 0, protože nejlepší pravidlo již je obsaženo v sadě pravidel."
   ]
  },
  {
   "cell_type": "code",
   "execution_count": 23,
   "id": "9f6d2d9b-e9dd-43ed-80cd-6dfbbd38c762",
   "metadata": {},
   "outputs": [],
   "source": [
    "def HeuristicSearch(rule_set, k):\n",
    "    if (k > 0) and (correct[k] not in rule_set):\n",
    "        rule_set.append(correct[k])\n",
    "    return rule_set"
   ]
  },
  {
   "cell_type": "markdown",
   "id": "26cc1ce4-1918-4820-837d-d1dd13c48092",
   "metadata": {},
   "source": [
    "Funkce `Accuracy` spočítá přesnost pravidel na trénovacích datech. Použije již existující funkci `match`, která vrátí predikci pravidla pro vstupní datový bod."
   ]
  },
  {
   "cell_type": "code",
   "execution_count": 24,
   "id": "a249edcb-15f4-4044-92af-3ce4945f0e13",
   "metadata": {},
   "outputs": [],
   "source": [
    "def Accuracy(rule_set):\n",
    "    prediction = []\n",
    "    correct = 0\n",
    "    tmp = ytrain.to_numpy()\n",
    "    for res in result:\n",
    "        for rule in rules:\n",
    "            from_match = match(rule, res)\n",
    "            if from_match != -1:\n",
    "                prediction.append(from_match)\n",
    "                break\n",
    "\n",
    "    for i in range(0, len(prediction)):\n",
    "        if prediction[i] == tmp[i][0]:\n",
    "            correct += 1\n",
    "    acc = correct / len(prediction)\n",
    "    return acc"
   ]
  },
  {
   "cell_type": "markdown",
   "id": "ab2ccb81-493f-4892-8f36-a19ac1dc9ac0",
   "metadata": {},
   "source": [
    "Parametry Hill climbingu:\n",
    "1. `N` - počet pravidel v počáteční sadě pravidel.\n",
    "2. `MaxIteration` - maximální počet iterací Hill climbingu.\n",
    "3. `iniRs` - počáteční množina pravidel.\n",
    "4. `bestRs` - nejlepší množina pravidel."
   ]
  },
  {
   "cell_type": "code",
   "execution_count": 25,
   "id": "462aa580-050d-41c1-b87c-5a20ab829598",
   "metadata": {},
   "outputs": [],
   "source": [
    "N = 1\n",
    "MaxIteration = 3000\n",
    "iniRs = correct[:N]\n",
    "bestRs = iniRs"
   ]
  },
  {
   "cell_type": "markdown",
   "id": "3d28a4d2-84f9-4ba0-a7a9-5c8cb4d73a3e",
   "metadata": {},
   "source": [
    "Provedeme `MaxIteration` iterací a budeme porovnávat přesnost nalezené podmnožiny pravidel s nejlepší. Pokud nalezneme lepší výsledek, pak zkopírujeme tuto množinu do proměnné `bestRs`. Pak resetujeme množinu pravidel tak, že náhodně přidáme několik pravidel, odebereme nebo nezměníme pravidlo."
   ]
  },
  {
   "cell_type": "code",
   "execution_count": 26,
   "id": "86dee47e-76ab-49ab-a623-a10abbfeb26e",
   "metadata": {},
   "outputs": [],
   "source": [
    "k = 0\n",
    "for i in range(0, MaxIteration):\n",
    "    \n",
    "    impRs = HeuristicSearch(iniRs, k)\n",
    "    \n",
    "    if Accuracy(impRs) > Accuracy(bestRs):\n",
    "        bestRs = impRs.copy()\n",
    "        \n",
    "    if (N+k) < len(correct):\n",
    "        impRs = correct[0:(N+k)]\n",
    "        k = random.randint(-1,5)"
   ]
  },
  {
   "cell_type": "markdown",
   "id": "186cf2cc-93a5-4af2-a38a-bc42b7067853",
   "metadata": {},
   "source": [
    "Přesnost nejlepší sady pravidel na trénovacích datech."
   ]
  },
  {
   "cell_type": "code",
   "execution_count": 27,
   "id": "c1a6a887-2e36-4321-adc7-6817ed7db2f5",
   "metadata": {},
   "outputs": [
    {
     "data": {
      "text/plain": [
       "0.8618090452261307"
      ]
     },
     "execution_count": 27,
     "metadata": {},
     "output_type": "execute_result"
    }
   ],
   "source": [
    "Accuracy(bestRs)"
   ]
  },
  {
   "cell_type": "markdown",
   "id": "5b7e55bf-3900-42eb-8fe5-8fcc2b6d5db0",
   "metadata": {},
   "source": [
    "Funkce calcPerformance provede totéž jako funkce Accuracy, ale na testovacích datech."
   ]
  },
  {
   "cell_type": "code",
   "execution_count": 28,
   "id": "f93de852-19ce-47ee-b2e2-ac949666cbca",
   "metadata": {},
   "outputs": [],
   "source": [
    "def calcPerformance(rule_set):\n",
    "    prediction = []\n",
    "    correct = 0\n",
    "    temp = ytest.to_numpy()\n",
    "    result_test = [list(row.items()) for row in Xtest.to_dict('records')]\n",
    "    for res in result_test:\n",
    "        for rule in rules:\n",
    "            from_match = match(rule, res)\n",
    "            if from_match != -1:\n",
    "                prediction.append(from_match)\n",
    "                break\n",
    "\n",
    "    for i in range(0, len(prediction)):\n",
    "        if prediction[i] == temp[i][0]:\n",
    "            correct += 1\n",
    "    acc = correct / len(prediction)\n",
    "    return acc"
   ]
  },
  {
   "cell_type": "markdown",
   "id": "d6c71b55-0882-4b28-bbf9-9c1b9b3e9828",
   "metadata": {},
   "source": [
    "Přesnost nejlepší sady pravidel na testovacích datech."
   ]
  },
  {
   "cell_type": "code",
   "execution_count": 29,
   "id": "ad1cd289-055b-46e5-90cd-aa6d09c36628",
   "metadata": {},
   "outputs": [
    {
     "data": {
      "text/plain": [
       "0.8771929824561403"
      ]
     },
     "execution_count": 29,
     "metadata": {},
     "output_type": "execute_result"
    }
   ],
   "source": [
    "calcPerformance(bestRs)"
   ]
  },
  {
   "cell_type": "markdown",
   "id": "0a343254-9c67-4350-99f8-d344ebd0d1aa",
   "metadata": {},
   "source": [
    "RScore a index pravidla"
   ]
  },
  {
   "cell_type": "code",
   "execution_count": 30,
   "id": "f455b190-05a5-4d3a-bdac-1593160ea924",
   "metadata": {},
   "outputs": [
    {
     "data": {
      "text/plain": [
       "[(198.99, 1357),\n",
       " (99.48, 622),\n",
       " (79.57, 457),\n",
       " (79.57, 222),\n",
       " (132.65, 1230),\n",
       " (132.65, 913)]"
      ]
     },
     "execution_count": 30,
     "metadata": {},
     "output_type": "execute_result"
    }
   ],
   "source": [
    "bestRs"
   ]
  },
  {
   "cell_type": "markdown",
   "id": "66db56d1-0d17-493d-94f2-0a9e6ec7ff38",
   "metadata": {},
   "source": [
    "## Rules"
   ]
  },
  {
   "cell_type": "markdown",
   "id": "cfaa1e84-bde9-4978-b8c1-50444e7474a0",
   "metadata": {},
   "source": [
    "Pravidla jsem zapsal ve formátu `IF THEN` do souboru `rules.txt`."
   ]
  },
  {
   "cell_type": "code",
   "execution_count": 33,
   "id": "0cbce9a5-5ee8-4a98-ad25-2bcbef1c095a",
   "metadata": {},
   "outputs": [],
   "source": [
    "f = open(\"rules.txt\", \"w\")\n",
    "for dt in bestRs:\n",
    "    str = \"IF \"\n",
    "    sz = len(rules[dt[1]][1])\n",
    "    cnt = 0\n",
    "    for terms in rules[dt[1]][1]:\n",
    "        str += f\"{terms[0]} {terms[1]} {terms[2]} \"\n",
    "        cnt += 1\n",
    "        if cnt != sz:\n",
    "            str += \"AND \"\n",
    "    str += f\"THEN {rules[dt[1]][0]}\\n\"            \n",
    "    f.write(str)\n",
    "f.close()"
   ]
  },
  {
   "cell_type": "code",
   "execution_count": null,
   "id": "5b70f0dc-b120-4104-8c2b-7e57607adc18",
   "metadata": {},
   "outputs": [],
   "source": []
  }
 ],
 "metadata": {
  "kernelspec": {
   "display_name": "Python 3 (ipykernel)",
   "language": "python",
   "name": "python3"
  },
  "language_info": {
   "codemirror_mode": {
    "name": "ipython",
    "version": 3
   },
   "file_extension": ".py",
   "mimetype": "text/x-python",
   "name": "python",
   "nbconvert_exporter": "python",
   "pygments_lexer": "ipython3",
   "version": "3.10.12"
  }
 },
 "nbformat": 4,
 "nbformat_minor": 5
}
