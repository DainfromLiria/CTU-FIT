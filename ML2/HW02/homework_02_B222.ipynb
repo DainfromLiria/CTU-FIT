{
 "cells": [
  {
   "cell_type": "markdown",
   "metadata": {},
   "source": [
    "# Úkol č. 2 - Využití neuronových sítí\n",
    "\n",
    "  * **Deadline je do 18. 5. 2023, 23:59:59**, pokud odevzdáte úkol do 24. 5. 2023, 23:59:59, budete penalizování -12 body, pozdější odevzdání je bez bodu.\n",
    "  * V rámci tohoto úkolu musíte sestrojit vhodný model neuronové sítě pro vícetřídou klasifikaci.\n",
    "  * Část bodů získáte za správné vypracování a část bodů získáte za výslednou přesnost Vašeho modelu na evaluačních datech.\n",
    "    \n",
    "> **Úkoly jsou zadány tak, aby Vám daly prostor pro invenci. Vymyslet _jak přesně_ budete úkol řešit, je důležitou součástí zadání a originalita či nápaditost bude také hodnocena!**\n",
    "\n",
    "Využívejte buňky typu `Markdown` k vysvětlování Vašeho postupu. Za nepřehlednost budou strhávány body.\n",
    "\n",
    "## Zdroj dat\n",
    "\n",
    " * Zdrojem dat jsou soubory `train.csv` a `evaluate.csv`.\n",
    " * Jedná se o obrázky 32x32 pixelů ve stupních šedi, které byly nějakým způsobem vyrobeny z [Fashion Mnist datasetu](https://www.kaggle.com/datasets/zalando-research/fashionmnist).\n",
    " * Soubor `train.csv` obsahuje trénovací data.\n",
    " * Cílová (vysvětlovaná) proměnná se jmenuje **label**.\n",
    " * Soubor `evaluate.csv` obsahuje testovací data bez hodnot skutečných labelů.\n",
    "\n",
    "## Pokyny k vypracování (max 18 bodů)\n",
    "\n",
    "**Body zadání**, za jejichž (poctivé) vypracování získáte **18 bodů**:\n",
    "  * V notebooku načtěte data ze souboru `train.csv`. Vhodným způsobem si je rozdělte na podmnožiny, které Vám poslouží pro trénování, porovnávání modelů a následnou predikci výkonnosti finálního modelu.\n",
    "  * Proveďte základní průzkum dat a svá pozorování diskutujte. Některé obrázky také zobrazte.\n",
    "  * Sestrojte a natrénujte několik variant modelu dopředné neuronové sítě. Přitom v rámci výpočetních možností:\n",
    "      * Okomentujte vhodnost daného modelu pro daný typ úlohy.\n",
    "      * Experimentujte s různými hloubkami a velikosmi vrstev.\n",
    "      * Experimentujte se standardizací/normalizací dat.\n",
    "      * Experimentujte s různými optimalizačními metodami.\n",
    "      * Experimentujte s různými regularizačními technikami.\n",
    "      * Získané výsledky vždy řádně okomentujte.\n",
    "\n",
    "  * Sestrojte model konvoluční neuronové sítě. Přitom v rámci výpočetních možností:\n",
    "      * Okomentujte vhodnost daného modelu pro daný typ úlohy.\n",
    "      * Experimentujte s různými hloubkami a velikosmi vrstev.\n",
    "      * Experimentujte se standardizací/normalizací dat.\n",
    "      * Experimentujte s různými optimalizačními metodami.\n",
    "      * Experimentujte s různými regularizačními technikami.\n",
    "      * Získané výsledky vždy řádně okomentujte.\n",
    "    \n",
    "  * Ze všech zkoušených možností vyberte finální model a odhadněte, jakou přesnost můžete očekávat na nových datech, která jste doposud neměli k dispozici.\n",
    "  \n",
    "  * Nakonec načtěte vyhodnocovací data ze souboru`evaluate.csv`. Pomocí finálního modelu napočítejte predikce pro tyto data (vysvětlovaná proměnná v nich již není). Vytvořte soubor `results.csv`, ve kterém získané predikce uložíte do dvou sloupců: **ID**, **predikce labelu**. Tento soubor též odevzdejte (uložte do projektu vedle notebooku).\n",
    "   \n",
    "   * Ukázka prvních řádků souboru `results.csv`:\n",
    "  \n",
    "```\n",
    "ID,label\n",
    "0,0\n",
    "1,1\n",
    "...\n",
    "```\n",
    "\n",
    "## Vyhodnocovací část (max 7 bodů)\n",
    "Za přesnost (accuraccy) na odevzdaných predikcích pro vyhodnocovací množnu získáte dalších max **7 bodů**.\n",
    "\n",
    "Označíme-li $A$ přesnost, které jste dosáhli, zaokrouhlenou na 2 desetinná místa, akumulují se výsledné body podle následujících pravidel:\n",
    "* pokud $A \\geq 0.80$ obdržíte +1 bod\n",
    "* pokud $A \\geq 0.83$ obdržíte +1 bod\n",
    "* pokud $A \\geq 0.86$ obdržíte +1 bod\n",
    "* pokud $A \\geq 0.87$ obdržíte +1 bod\n",
    "* pokud $A \\geq 0.88$ obdržíte +1 bod\n",
    "* pokud $A \\geq 0.89$ obdržíte +1 bod\n",
    "* pokud $A \\geq 0.90$ obdržíte +1 bod\n",
    "\n",
    "**Příklad:** Pokud bude Vaše přesnost 0.856, vyjde A = 0.86 a vy získáte 3 body.\n",
    "\n",
    "\n",
    "## Poznámky k odevzdání\n",
    "\n",
    "  * Řiďte se pokyny ze stránky https://courses.fit.cvut.cz/BI-ML2/homeworks/index.html.\n",
    "  * Vytvořte i csv soubor `results.csv` s predikcemi a uložte ho v rámci projektu vedle ipython notebooku."
   ]
  },
  {
   "cell_type": "markdown",
   "metadata": {},
   "source": [
    "# Řešení"
   ]
  },
  {
   "cell_type": "markdown",
   "metadata": {},
   "source": [
    "Naimportujeme knihovny."
   ]
  },
  {
   "cell_type": "code",
   "execution_count": 1,
   "metadata": {},
   "outputs": [],
   "source": [
    "#main libs\n",
    "import pandas as pd\n",
    "import numpy as np\n",
    "\n",
    "#neural network lib\n",
    "import torch\n",
    "import torch.nn as nn\n",
    "import torch.nn.functional as F\n",
    "\n",
    "#support libs\n",
    "from sklearn.model_selection import ParameterGrid\n",
    "from sklearn.preprocessing   import StandardScaler\n",
    "from sklearn.preprocessing   import MinMaxScaler\n",
    "\n",
    "#plots\n",
    "import matplotlib.pyplot as plt\n",
    "import seaborn as sns\n",
    "%matplotlib inline"
   ]
  },
  {
   "cell_type": "markdown",
   "metadata": {},
   "source": [
    "### Průzkum dat"
   ]
  },
  {
   "cell_type": "markdown",
   "metadata": {},
   "source": [
    "Pomocí ```read_csv()``` a načteme data ze souboru ```train.csv```"
   ]
  },
  {
   "cell_type": "code",
   "execution_count": 2,
   "metadata": {},
   "outputs": [
    {
     "data": {
      "text/html": [
       "<div>\n",
       "<style scoped>\n",
       "    .dataframe tbody tr th:only-of-type {\n",
       "        vertical-align: middle;\n",
       "    }\n",
       "\n",
       "    .dataframe tbody tr th {\n",
       "        vertical-align: top;\n",
       "    }\n",
       "\n",
       "    .dataframe thead th {\n",
       "        text-align: right;\n",
       "    }\n",
       "</style>\n",
       "<table border=\"1\" class=\"dataframe\">\n",
       "  <thead>\n",
       "    <tr style=\"text-align: right;\">\n",
       "      <th></th>\n",
       "      <th>pix1</th>\n",
       "      <th>pix2</th>\n",
       "      <th>pix3</th>\n",
       "      <th>pix4</th>\n",
       "      <th>pix5</th>\n",
       "      <th>pix6</th>\n",
       "      <th>pix7</th>\n",
       "      <th>pix8</th>\n",
       "      <th>pix9</th>\n",
       "      <th>pix10</th>\n",
       "      <th>...</th>\n",
       "      <th>pix1016</th>\n",
       "      <th>pix1017</th>\n",
       "      <th>pix1018</th>\n",
       "      <th>pix1019</th>\n",
       "      <th>pix1020</th>\n",
       "      <th>pix1021</th>\n",
       "      <th>pix1022</th>\n",
       "      <th>pix1023</th>\n",
       "      <th>pix1024</th>\n",
       "      <th>label</th>\n",
       "    </tr>\n",
       "  </thead>\n",
       "  <tbody>\n",
       "    <tr>\n",
       "      <th>0</th>\n",
       "      <td>1</td>\n",
       "      <td>1</td>\n",
       "      <td>1</td>\n",
       "      <td>1</td>\n",
       "      <td>1</td>\n",
       "      <td>1</td>\n",
       "      <td>1</td>\n",
       "      <td>1</td>\n",
       "      <td>1</td>\n",
       "      <td>1</td>\n",
       "      <td>...</td>\n",
       "      <td>1</td>\n",
       "      <td>1</td>\n",
       "      <td>1</td>\n",
       "      <td>1</td>\n",
       "      <td>1</td>\n",
       "      <td>1</td>\n",
       "      <td>1</td>\n",
       "      <td>1</td>\n",
       "      <td>1</td>\n",
       "      <td>7</td>\n",
       "    </tr>\n",
       "    <tr>\n",
       "      <th>1</th>\n",
       "      <td>4</td>\n",
       "      <td>4</td>\n",
       "      <td>4</td>\n",
       "      <td>4</td>\n",
       "      <td>4</td>\n",
       "      <td>4</td>\n",
       "      <td>5</td>\n",
       "      <td>5</td>\n",
       "      <td>5</td>\n",
       "      <td>6</td>\n",
       "      <td>...</td>\n",
       "      <td>4</td>\n",
       "      <td>4</td>\n",
       "      <td>4</td>\n",
       "      <td>4</td>\n",
       "      <td>4</td>\n",
       "      <td>4</td>\n",
       "      <td>4</td>\n",
       "      <td>4</td>\n",
       "      <td>4</td>\n",
       "      <td>0</td>\n",
       "    </tr>\n",
       "    <tr>\n",
       "      <th>2</th>\n",
       "      <td>0</td>\n",
       "      <td>0</td>\n",
       "      <td>0</td>\n",
       "      <td>0</td>\n",
       "      <td>0</td>\n",
       "      <td>0</td>\n",
       "      <td>0</td>\n",
       "      <td>0</td>\n",
       "      <td>0</td>\n",
       "      <td>0</td>\n",
       "      <td>...</td>\n",
       "      <td>0</td>\n",
       "      <td>0</td>\n",
       "      <td>0</td>\n",
       "      <td>0</td>\n",
       "      <td>0</td>\n",
       "      <td>0</td>\n",
       "      <td>0</td>\n",
       "      <td>0</td>\n",
       "      <td>0</td>\n",
       "      <td>6</td>\n",
       "    </tr>\n",
       "    <tr>\n",
       "      <th>3</th>\n",
       "      <td>2</td>\n",
       "      <td>2</td>\n",
       "      <td>2</td>\n",
       "      <td>2</td>\n",
       "      <td>2</td>\n",
       "      <td>2</td>\n",
       "      <td>2</td>\n",
       "      <td>2</td>\n",
       "      <td>2</td>\n",
       "      <td>2</td>\n",
       "      <td>...</td>\n",
       "      <td>2</td>\n",
       "      <td>2</td>\n",
       "      <td>2</td>\n",
       "      <td>2</td>\n",
       "      <td>2</td>\n",
       "      <td>2</td>\n",
       "      <td>2</td>\n",
       "      <td>2</td>\n",
       "      <td>2</td>\n",
       "      <td>3</td>\n",
       "    </tr>\n",
       "    <tr>\n",
       "      <th>4</th>\n",
       "      <td>0</td>\n",
       "      <td>0</td>\n",
       "      <td>0</td>\n",
       "      <td>0</td>\n",
       "      <td>0</td>\n",
       "      <td>0</td>\n",
       "      <td>0</td>\n",
       "      <td>0</td>\n",
       "      <td>0</td>\n",
       "      <td>0</td>\n",
       "      <td>...</td>\n",
       "      <td>0</td>\n",
       "      <td>0</td>\n",
       "      <td>0</td>\n",
       "      <td>0</td>\n",
       "      <td>0</td>\n",
       "      <td>0</td>\n",
       "      <td>0</td>\n",
       "      <td>0</td>\n",
       "      <td>0</td>\n",
       "      <td>3</td>\n",
       "    </tr>\n",
       "  </tbody>\n",
       "</table>\n",
       "<p>5 rows × 1025 columns</p>\n",
       "</div>"
      ],
      "text/plain": [
       "   pix1  pix2  pix3  pix4  pix5  pix6  pix7  pix8  pix9  pix10  ...  pix1016  \\\n",
       "0     1     1     1     1     1     1     1     1     1      1  ...        1   \n",
       "1     4     4     4     4     4     4     5     5     5      6  ...        4   \n",
       "2     0     0     0     0     0     0     0     0     0      0  ...        0   \n",
       "3     2     2     2     2     2     2     2     2     2      2  ...        2   \n",
       "4     0     0     0     0     0     0     0     0     0      0  ...        0   \n",
       "\n",
       "   pix1017  pix1018  pix1019  pix1020  pix1021  pix1022  pix1023  pix1024  \\\n",
       "0        1        1        1        1        1        1        1        1   \n",
       "1        4        4        4        4        4        4        4        4   \n",
       "2        0        0        0        0        0        0        0        0   \n",
       "3        2        2        2        2        2        2        2        2   \n",
       "4        0        0        0        0        0        0        0        0   \n",
       "\n",
       "   label  \n",
       "0      7  \n",
       "1      0  \n",
       "2      6  \n",
       "3      3  \n",
       "4      3  \n",
       "\n",
       "[5 rows x 1025 columns]"
      ]
     },
     "execution_count": 2,
     "metadata": {},
     "output_type": "execute_result"
    }
   ],
   "source": [
    "data = pd.read_csv(\"train.csv\")\n",
    "data.head()"
   ]
  },
  {
   "cell_type": "markdown",
   "metadata": {},
   "source": [
    "Zjistíme základnou informaci o datasetu pomoci  `info()`"
   ]
  },
  {
   "cell_type": "code",
   "execution_count": 3,
   "metadata": {},
   "outputs": [
    {
     "name": "stdout",
     "output_type": "stream",
     "text": [
      "<class 'pandas.core.frame.DataFrame'>\n",
      "RangeIndex: 56000 entries, 0 to 55999\n",
      "Columns: 1025 entries, pix1 to label\n",
      "dtypes: int64(1025)\n",
      "memory usage: 437.9 MB\n"
     ]
    },
    {
     "data": {
      "text/plain": [
       "None"
      ]
     },
     "metadata": {},
     "output_type": "display_data"
    }
   ],
   "source": [
    "display(data.info())"
   ]
  },
  {
   "cell_type": "markdown",
   "metadata": {},
   "source": [
    "* Dataset má celkem 56000 záznamu a 1025 příznaků včetně vysvětlováné proměnné. Tedy každý obrázek je 32x32 pixelů, celkem 1024 proměnné. Všechny proměnné jsou numerické(mají typ `int64`).\n",
    "* Taky ověříme, zda dataset obsahuje `NaN` hodnoty."
   ]
  },
  {
   "cell_type": "code",
   "execution_count": 4,
   "metadata": {},
   "outputs": [
    {
     "data": {
      "text/plain": [
       "False"
      ]
     },
     "execution_count": 4,
     "metadata": {},
     "output_type": "execute_result"
    }
   ],
   "source": [
    "data.isnull().values.any()"
   ]
  },
  {
   "cell_type": "markdown",
   "metadata": {},
   "source": [
    "* Dataset neobsahuje `NaN` hodnoty.\n",
    "* Zjistíme počet záznamu pro jednotlivé třídy v vysvětlované proměnné **Label**. Vykreslíme na to sloupcový graf."
   ]
  },
  {
   "cell_type": "code",
   "execution_count": 5,
   "metadata": {},
   "outputs": [
    {
     "data": {
      "image/png": "[encoded data removed]",
      "text/plain": [
       "<Figure size 600x500 with 1 Axes>"
      ]
     },
     "metadata": {},
     "output_type": "display_data"
    }
   ],
   "source": [
    "f, ax = plt.subplots(1, 1, figsize=(6, 5), sharex=True)\n",
    "sns.barplot(x=data[\"label\"].value_counts().index, y=data[\"label\"].value_counts().values)\n",
    "ax.set_title(\"Count of values in predict variable Label\")\n",
    "ax.bar_label(ax.containers[0]) #print values over the columns\n",
    "ax.set_xlabel(\"Label number\")\n",
    "ax.set_ylabel(\"Count\")\n",
    "plt.show()"
   ]
  },
  {
   "cell_type": "markdown",
   "metadata": {},
   "source": [
    "* Všechny třídy mají skoro stejný počet záznamů.\n",
    "* Oddělime vysvětlovanou proměnnu `label`, kterou budeme predikovat."
   ]
  },
  {
   "cell_type": "code",
   "execution_count": 6,
   "metadata": {},
   "outputs": [],
   "source": [
    "Xdata = data.drop(\"label\", axis = 1)\n",
    "ydata = data.label"
   ]
  },
  {
   "cell_type": "markdown",
   "metadata": {},
   "source": [
    "Zjistíme taky maximální a minimální hodnotu mezi všemi příznaky."
   ]
  },
  {
   "cell_type": "code",
   "execution_count": 7,
   "metadata": {},
   "outputs": [
    {
     "name": "stdout",
     "output_type": "stream",
     "text": [
      "Maximum value is  255\n",
      "Minimum value is  0\n"
     ]
    }
   ],
   "source": [
    "print(\"Maximum value is \", Xdata.to_numpy().max())\n",
    "print(\"Minimum value is \", Xdata.to_numpy().min())"
   ]
  },
  {
   "cell_type": "markdown",
   "metadata": {},
   "source": [
    "* Rozsah hodnot je od 0 do 255 což odpovídá rozsahu hodnot pro barvu pixelu.\n",
    "* Vykreslíme obrázky pro jednotlivé třídy použitím metody `imshow()`"
   ]
  },
  {
   "cell_type": "code",
   "execution_count": 8,
   "metadata": {},
   "outputs": [
    {
     "data": {
      "image/png": "[encoded data removed]",
      "text/plain": [
       "<Figure size 1000x1000 with 10 Axes>"
      ]
     },
     "metadata": {},
     "output_type": "display_data"
    }
   ],
   "source": [
    "names = {0: 'T-shirt', 1: 'Trouser', 2: 'Pullover', 3: 'Dress', 4: 'Coat', \n",
    "         5: 'Sandal', 6: 'Shirt', 7: 'Sneaker', 8: 'Bag', 9: 'Ankle boot'}\n",
    "f = plt.figure(figsize=(10, 10))\n",
    "for i in range(0, 10):\n",
    "    f.add_subplot(4, 4, i+1)\n",
    "    plt.imshow(Xdata[data.label == i].iloc[0].values.reshape(32,32), cmap='gray', interpolation='none')\n",
    "    plt.title(f\"{i} is {names[i]}\")\n",
    "    plt.axis(\"off\")\n",
    "plt.show()"
   ]
  },
  {
   "cell_type": "markdown",
   "metadata": {},
   "source": [
    "Z obrázků vidíme, že budeme predikovat zda je na obrázku tričko, kalhoty, pulovr, šaty, kabát, sandál, košile, tenisky, taška nebo bota."
   ]
  },
  {
   "cell_type": "markdown",
   "metadata": {},
   "source": [
    "### Příprava dat"
   ]
  },
  {
   "cell_type": "markdown",
   "metadata": {},
   "source": [
    "Převedeme oba dataframy na `numpy` pole, aby se dal převést je na tenzory."
   ]
  },
  {
   "cell_type": "code",
   "execution_count": 9,
   "metadata": {},
   "outputs": [],
   "source": [
    "Xdata = Xdata.to_numpy()\n",
    "ydata = ydata.to_numpy()"
   ]
  },
  {
   "cell_type": "markdown",
   "metadata": {},
   "source": [
    "Zároveň reshapeneme `Xdata`, to se nám bude hodit při práci s konvoluční síti, kde budeme potřebovat kanály. Máme černo-bílé obrázky proto kanál bude jenom jeden."
   ]
  },
  {
   "cell_type": "code",
   "execution_count": 10,
   "metadata": {},
   "outputs": [
    {
     "name": "stdout",
     "output_type": "stream",
     "text": [
      "(56000, 1024)\n",
      "(56000, 1, 32, 32)\n"
     ]
    }
   ],
   "source": [
    "print(Xdata.shape)          \n",
    "Xdata_reshape = Xdata.reshape(56000,1,32,32)\n",
    "print(Xdata_reshape.shape)"
   ]
  },
  {
   "cell_type": "markdown",
   "metadata": {},
   "source": [
    "Pomoci `TensorDataset` převedeme dataset na tenzory. Zároveň změníme datatypy na `float` a `long`, to se vyplatí při vytváření neutronové sítě(pytorch potřebuje jenom jich)."
   ]
  },
  {
   "cell_type": "code",
   "execution_count": 11,
   "metadata": {},
   "outputs": [
    {
     "data": {
      "text/plain": [
       "(tensor([[[1., 1., 1.,  ..., 1., 1., 1.],\n",
       "          [1., 1., 1.,  ..., 1., 1., 1.],\n",
       "          [1., 1., 1.,  ..., 1., 1., 1.],\n",
       "          ...,\n",
       "          [1., 1., 1.,  ..., 1., 1., 1.],\n",
       "          [1., 1., 1.,  ..., 1., 1., 1.],\n",
       "          [1., 1., 1.,  ..., 1., 1., 1.]]]),\n",
       " tensor(7))"
      ]
     },
     "execution_count": 11,
     "metadata": {},
     "output_type": "execute_result"
    }
   ],
   "source": [
    "dataset = torch.utils.data.TensorDataset(torch.tensor(Xdata_reshape, dtype = torch.float), torch.tensor(ydata, dtype = torch.long))\n",
    "dataset[0]"
   ]
  },
  {
   "cell_type": "markdown",
   "metadata": {},
   "source": [
    "* Rozdělíme data na validační, trénovací a testovací pomocí ```torch.utils.data.random_split```. Rozdělení:\n",
    "    * 70% - trénovací\n",
    "    * 15% - validační\n",
    "    * 15% - testovací\n",
    "* Použijeme zároveň `torch.Generator().manual_seed()`, aby zajistit náhodné rozdělení dat mezi trénovací, validační a testovací množinou."
   ]
  },
  {
   "cell_type": "code",
   "execution_count": 12,
   "metadata": {},
   "outputs": [
    {
     "name": "stdout",
     "output_type": "stream",
     "text": [
      "Train size: 39200\n",
      "Val size: 8400\n",
      "Test size: 8400\n"
     ]
    }
   ],
   "source": [
    "random_seed = torch.Generator().manual_seed(42)\n",
    "train_size = int(0.7 * len(dataset))\n",
    "val_size = int(0.15 * len(dataset))\n",
    "test_size = int(0.15 * len(dataset))\n",
    "Xtrain, Xval, Xtest = torch.utils.data.random_split(dataset, [train_size, val_size, test_size], random_seed)\n",
    "print(f\"Train size: {len(Xtrain)}\")\n",
    "print(f\"Val size: {len(Xval)}\")\n",
    "print(f\"Test size: {len(Xtest)}\")"
   ]
  },
  {
   "cell_type": "markdown",
   "metadata": {},
   "source": [
    "Připravíme data pro dávkové učení pomocí `torch.utils.data.DataLoader`. Velikost dávky pro trénovací množinu zvolíme 32 datové body, pro validační a testovací 128. Taky pomoci parametru `shuffle` po jedné iteraci všech dávek promícháme data v trénovací množině. To bude docela podstatné pro trénování."
   ]
  },
  {
   "cell_type": "code",
   "execution_count": 13,
   "metadata": {},
   "outputs": [],
   "source": [
    "train_loader = torch.utils.data.DataLoader(Xtrain, batch_size=32, shuffle=True)\n",
    "val_loader = torch.utils.data.DataLoader(Xval, batch_size=128, shuffle=False)\n",
    "test_loader = torch.utils.data.DataLoader(Xtest, batch_size=128, shuffle=False)"
   ]
  },
  {
   "cell_type": "markdown",
   "metadata": {},
   "source": [
    "Ověříme trénovací dávku"
   ]
  },
  {
   "cell_type": "code",
   "execution_count": 14,
   "metadata": {},
   "outputs": [
    {
     "name": "stdout",
     "output_type": "stream",
     "text": [
      "torch.Size([32, 1, 32, 32])\n",
      "torch.Size([32])\n"
     ]
    }
   ],
   "source": [
    "dataiter = iter(train_loader)\n",
    "images, labels = next(dataiter)\n",
    "print(images.shape)\n",
    "print(labels.shape)"
   ]
  },
  {
   "cell_type": "markdown",
   "metadata": {},
   "source": [
    "Vypadají v pohodě. Celkem tedy 32 obrázku a 32 labelu."
   ]
  },
  {
   "cell_type": "markdown",
   "metadata": {},
   "source": [
    "### Standardizace a normalizace dat"
   ]
  },
  {
   "cell_type": "markdown",
   "metadata": {},
   "source": [
    "Z toho důvodu, že pracujeme s obrazovými daty, nemá smysl dělat normalizace a standardizace po sloupcích. Proto provedeme tyto úpravy na celém datasetu najednou. Víme, že maximum bude vždy  255, minimum bude 0.\n",
    "\n",
    "**MinMax normalizace**\n",
    "\n",
    "Postup pro provedení Min-Max normalizace je následující:\n",
    "\n",
    "$x_i = \\frac{x_i - x_{\\min}}{x_{\\max} - x_{\\min}} = \\frac{x_i - 0}{255 - 0} = \\frac{x_i}{255}$,  kde $x_i$ představuje hodnotu jednoho pixelu v jednom obrazu"
   ]
  },
  {
   "cell_type": "code",
   "execution_count": 15,
   "metadata": {},
   "outputs": [],
   "source": [
    "#Normalization\n",
    "Xdata_MinMax = Xdata.astype('float64')\n",
    "for x in range(Xdata.shape[0]):\n",
    "    for y in range(Xdata.shape[1]):\n",
    "        Xdata_MinMax[x][y] = Xdata_MinMax[x][y] / 255"
   ]
  },
  {
   "cell_type": "markdown",
   "metadata": {},
   "source": [
    "Provedeme stejné kroky jako pro původní data."
   ]
  },
  {
   "cell_type": "code",
   "execution_count": 16,
   "metadata": {},
   "outputs": [],
   "source": [
    "Xdata_MinMax = Xdata_MinMax.reshape(56000,1,32,32)\n",
    "dataset_Min_Max = torch.utils.data.TensorDataset(torch.tensor(Xdata_MinMax, dtype = torch.float), torch.tensor(ydata, dtype = torch.long))\n",
    "Xtrain_MinMax, Xval_MinMax, Xtest_MinMax = torch.utils.data.random_split(dataset_Min_Max, [train_size, val_size, test_size], random_seed)\n",
    "train_loader_MinMax = torch.utils.data.DataLoader(Xtrain_MinMax, batch_size=32, shuffle=True)\n",
    "val_loader_MinMax = torch.utils.data.DataLoader(Xval_MinMax, batch_size=128, shuffle=False)\n",
    "test_loader_MinMax = torch.utils.data.DataLoader(Xtest_MinMax, batch_size=128, shuffle=False)"
   ]
  },
  {
   "cell_type": "markdown",
   "metadata": {},
   "source": [
    "**Standardizace**\n",
    "\n",
    "Postup pro provedení Standardizace je následující:\n",
    "\n",
    "$x_i = \\frac{x_i - \\overline{x}}{\\sqrt{{s_x}^2}}$ $~~~$ ,kde ${s_x}^2$ je výběrový rozptyl, $\\overline{x}$ je výběrový průměr a $x_i$ představuje hodnotu jednoho pixelu v jednom obrazu\n",
    "\n",
    "Místo výběrového rozptylu můžeme přímo použít směrodatnou odchylku, která je implementována v `numpy`."
   ]
  },
  {
   "cell_type": "code",
   "execution_count": 17,
   "metadata": {},
   "outputs": [
    {
     "name": "stdout",
     "output_type": "stream",
     "text": [
      "75.67351268098908\n",
      "75.67351268098908\n"
     ]
    }
   ],
   "source": [
    "print(np.std(Xdata))\n",
    "print(np.sqrt(np.var(Xdata)))"
   ]
  },
  {
   "cell_type": "code",
   "execution_count": 18,
   "metadata": {},
   "outputs": [],
   "source": [
    "#Standardisation\n",
    "our_mean = np.mean(Xdata)\n",
    "our_std = np.std(Xdata)\n",
    "Xdata_Stand = Xdata.astype('float64')\n",
    "for x in range(Xdata.shape[0]):\n",
    "    for y in range(Xdata.shape[1]):\n",
    "        Xdata_Stand[x][y] = (Xdata_Stand[x][y] - our_mean)/our_std"
   ]
  },
  {
   "cell_type": "markdown",
   "metadata": {},
   "source": [
    "Provedeme stejné kroky jako pro původní data."
   ]
  },
  {
   "cell_type": "code",
   "execution_count": 19,
   "metadata": {},
   "outputs": [],
   "source": [
    "Xdata_Stand = Xdata_Stand.reshape(56000,1,32,32)\n",
    "dataset_Stand = torch.utils.data.TensorDataset(torch.tensor(Xdata_Stand, dtype = torch.float), torch.tensor(ydata, dtype = torch.long))\n",
    "Xtrain_Stand, Xval_Stand, Xtest_Stand = torch.utils.data.random_split(dataset_Stand, [train_size, val_size, test_size], random_seed)\n",
    "train_loader_Stand = torch.utils.data.DataLoader(Xtrain_Stand, batch_size=32, shuffle=True)\n",
    "val_loader_Stand = torch.utils.data.DataLoader(Xval_Stand, batch_size=128, shuffle=False)\n",
    "test_loader_Stand = torch.utils.data.DataLoader(Xtest_Stand, batch_size=128, shuffle=False)"
   ]
  },
  {
   "cell_type": "markdown",
   "metadata": {},
   "source": [
    "### Trénovací funkce"
   ]
  },
  {
   "cell_type": "markdown",
   "metadata": {},
   "source": [
    "* Ještě před konstrukci neuronové sítě vytvoříme dvě funkce pro trénování. \n",
    "* Funkce `train_epoch` vezme v cyklu jednu dávku, napočítá výstupy pro tuto dávku (dopředný chod), vypočítá hodnotu ztrátové funkce, vypočítá gradienty a pomocí zvoleného optimalizátoru provede jeden krok gradientního sestupu. Na konci vrátí hodnotu ztrátové funkce pro celou trénovací množinu. "
   ]
  },
  {
   "cell_type": "code",
   "execution_count": 20,
   "metadata": {},
   "outputs": [],
   "source": [
    "def train_epoch(model, loss_fn, optimizer, activation_function, data_loader):\n",
    "    running_cum_loss = 0\n",
    "    \n",
    "    for data in data_loader:\n",
    "        \n",
    "        inputs, labels = data\n",
    "        \n",
    "        optimizer.zero_grad() #Sets the gradients of all optimized torch Tensors to zero.\n",
    "        outputs = model(inputs, activation_function) #forward\n",
    "        loss = loss_fn(outputs, labels) #compute loss\n",
    "        loss.backward() #backward prop\n",
    "        optimizer.step() #step of input optimizer\n",
    "        \n",
    "        #find train loss after one epoch and return it\n",
    "        last_mean_loss = loss.item() #get loss on this batch\n",
    "        running_cum_loss += last_mean_loss * inputs.shape[0] #sum of multiplys loss*size_of_batch(last batch not always 32) for compute average train loss\n",
    "    return running_cum_loss / len(Xtrain) #return average train loss after one epoch"
   ]
  },
  {
   "cell_type": "markdown",
   "metadata": {},
   "source": [
    "* Funkce `trainNN` natrénuje model přes `epoch_count` epoch, vypočítá hodnotu ztrátové funkce na validačních datech a zobrazí výsledek (ve formátu podobném těm, které jsme používali na cvičeních), pokud je parametr `printInfo` nastaven na `True`. \n",
    "    * Parametr `acc_arr` je list, do kterého ukládáme přesnost na validační množinu. Defaultně je nastaven jako `None` a potřebujeme ho pouze při ladění hyperparametrů modelu. \n",
    "    * Funkce `train_epoch` potřebuje jako parametr aktivační funkci pro skryté vrstvy (tento parametr budeme ladit), proto zavádíme parametr `activation_function`. Defaultně je použita funkce `F.relu`. \n",
    "    * Parametr `onEarlyStop` určuje, zda bude použito předčasné zastavení. Defaultně je nastaven jako `False`. \n",
    "    * Parametrem `showGraph` určuje, zda se zobrazí graf závislosti hodnoty ztrátové funkce pro trénovací a validační množinu v závislosti na počtu epoch. Defaultně je `False`.\n",
    "    * Dva poslední parametry určují, jaká data budou použita. Hodí se to dále na normalizovaná a standardizovaná data. Defaultně jsou nastevené na nemodifikovana data.\n",
    "* Předčasné zastavení bude prováděno následovně: pokud je trénovací loss pro tuto epochu menší než `best_vloss` (na začátku je nastaven na obrovské číslo), uložíme model a vynulujeme proměnnou `max_worse`. Pokud tomu tak není, zvýšíme `max_worse` o jedničku a pokud po 9 iteracích nenalezneme lepší model, ukončíme iterování."
   ]
  },
  {
   "cell_type": "code",
   "execution_count": 21,
   "metadata": {},
   "outputs": [],
   "source": [
    "def trainNN(model, loss_fn, optimizer, epoch_count, printInfo=False, \n",
    "            acc_arr=None, activation_function=F.relu, onEarlyStop=False, showGraph=False, \n",
    "            train_data_loader=train_loader, val_data_loader=val_loader):\n",
    "    \n",
    "    best_vloss = 1000000. #for early stopping\n",
    "    max_worse = 0\n",
    "    #for graph\n",
    "    train_loss = []\n",
    "    validation_loss = []\n",
    "\n",
    "    for epoch in range(epoch_count):\n",
    "        \n",
    "        #Train on (gradient tracking is on)\n",
    "        model.train(True)\n",
    "        \n",
    "        #train one epoch\n",
    "        avg_loss = train_epoch(model, loss_fn, optimizer, activation_function, train_data_loader)\n",
    "\n",
    "        #Train off to do reporting\n",
    "        model.train(False)\n",
    "\n",
    "        #Compute validation loss and accuraccy on validation data\n",
    "        running_cum_vloss = 0.0\n",
    "        vcorrect = 0\n",
    "        for vdata in val_data_loader:\n",
    "            vinputs, vlabels = vdata\n",
    "            #get loss on validation data(same computation like in train_epoch for train data) \n",
    "            with torch.no_grad():\n",
    "                voutputs = model(vinputs)\n",
    "                vloss = loss_fn(voutputs, vlabels)\n",
    "            running_cum_vloss += vloss * vinputs.shape[0]\n",
    "            #get count the correctly classified samples on val data\n",
    "            vcorrect += (voutputs.argmax(1) == vlabels).float().sum()\n",
    "        #get average loss\n",
    "        avg_vloss = running_cum_vloss / len(Xval)\n",
    "        #get accuraccy \n",
    "        vacc = vcorrect / len(Xval)\n",
    "        \n",
    "        #append accuraccy in list for tuning\n",
    "        if (acc_arr != None):\n",
    "            acc_arr.append(torch.round(vacc, decimals=3))\n",
    "        \n",
    "        #early stopping \n",
    "        if(onEarlyStop == True):\n",
    "            #If 9 times in a row loss is not higher then existent best loss\n",
    "            if(max_worse >= 9):\n",
    "                break\n",
    "                \n",
    "            #If current loss is lower than best loss, save model\n",
    "            if avg_vloss < best_vloss:\n",
    "                best_vloss = avg_vloss\n",
    "                model_path = \"saves/best_model.pt\"\n",
    "                torch.save(model.state_dict(), model_path)\n",
    "                max_worse = 0\n",
    "                print(\"Best model saved\")\n",
    "            else:\n",
    "                max_worse += 1 \n",
    "        \n",
    "        #append values of loss for train and val data\n",
    "        validation_loss.append(avg_vloss)\n",
    "        train_loss.append(avg_loss)\n",
    "        \n",
    "        #print info by one epoch \n",
    "        if(printInfo == True):\n",
    "            print(f\"EPOCH {epoch + 1}: \")\n",
    "            print(f\"TRAIN loss: {avg_loss:.3f}, VALIDATION loss: {avg_vloss:.3f}, accuraccy: {vacc:.3f}\")\n",
    "    \n",
    "    #show graph of train and validation loss by epochs \n",
    "    if(showGraph == True):\n",
    "        plt.plot(train_loss,'or-')\n",
    "        plt.plot(validation_loss,'ob-')\n",
    "        plt.xlabel('epoch')\n",
    "        plt.ylabel('loss')\n",
    "        plt.legend(['train loss', 'validation loss'])\n",
    "        plt.show()"
   ]
  },
  {
   "cell_type": "markdown",
   "metadata": {},
   "source": [
    "### Dopředná neuronová síť "
   ]
  },
  {
   "cell_type": "markdown",
   "metadata": {},
   "source": [
    "* **Vhodnost použití dopředné neuronové sítě pro klasifikaci obrazových dat**: \n",
    "    * Hlavní výhodou neuronových sítí je jejich obecnost a flexibilita pro zpracování různých typů vstupních dat. Konstrukce sítě, včetně počtu neuronů a vrstev, je součástí trénování modelu.\n",
    "    * Neuronová síť je schopna zachytit složitou strukturu dat, což je výhoda oproti jiným modelům. Dopředná neuronová síť, nemá přímý přístup k prostorovým informacím v obrazech a zpracovává data jako jednorozměrný vektor. To může omezovat schopnost zachycení prostorových informací v obrazech a vést k horšímu výkonu při klasifikaci obrazových dat. Přestože dopředné neuronové sítě nezachovávají prostorové informace jako konvoluční sítě, jsou schopny vytvářet sofistikované příznaky, i když pro tyto účely vyžadují více parametrů."
   ]
  },
  {
   "cell_type": "markdown",
   "metadata": {},
   "source": [
    "#### Počet vrstev a neuronů"
   ]
  },
  {
   "cell_type": "markdown",
   "metadata": {},
   "source": [
    "* Zkusime teď zkonstruovat dva modely **ForwardNN** a **ForwardNN2**. \n",
    "\n",
    "* **ForwardNN** bude představovat dopřednou neuronovou síť, ve které bude stejný počet neuronů v každé vrstvě. Pro vytvoření této sítě použijeme `nn.ModuleList()`, což nám umožní mít dynamický počet vrstev. Při inicializaci objektu `ForwardNN` předáme parametry: `hidden_layers_count` (počet vrstev), `neuron_count` (počet neuronů) a způsob inicializace vah (`start_weight`, defaultně je `kaiming_uniform_`, což je defaultně v PyTorch). V metodě `forward` také předáme aktivační funkci pro skryté vrstvy (defaultně je `F.relu`). Jako ztrátovou funkci použijeme katekorickou relativní entropii(`torch.nn.CrossEntropyLoss`), která v `pytorch` už má softmax(máme úlohu klasifikace do více tříd.) v sobě. Tedy na výstupně vrstvě necháme neurony bez aktivační funkce."
   ]
  },
  {
   "cell_type": "code",
   "execution_count": 22,
   "metadata": {},
   "outputs": [],
   "source": [
    "class ForwardNN(nn.Module):\n",
    "    def __init__(self, hidden_layers_count, neuron_count, start_weight=torch.nn.init.kaiming_uniform_):\n",
    "        super().__init__()\n",
    "        \n",
    "        self.layers = nn.ModuleList() #for hidden_layers_count layers\n",
    "        self.layers.append(nn.Linear(32*32, neuron_count))\n",
    "        if(hidden_layers_count > 1):\n",
    "            for i in range(1, hidden_layers_count):\n",
    "                self.layers.append(nn.Linear(neuron_count, neuron_count))\n",
    "        for hd in self.layers:\n",
    "            start_weight(hd.weight)\n",
    "        self.output = nn.Linear(neuron_count, 10)\n",
    "        start_weight(self.output.weight)\n",
    "        \n",
    "    def forward(self, x, activation_function=F.relu):\n",
    "        x = x.flatten(1) #because we have data in shape [32, 1, 32, 32] in one batch \n",
    "        for hl in self.layers:\n",
    "            x = activation_function(hl(x))\n",
    "        x = self.output(x)\n",
    "        return x\n"
   ]
  },
  {
   "cell_type": "markdown",
   "metadata": {},
   "source": [
    "* Vytvoříme pomocnou funkci `find_nl_count`, pomocí které zjistíme optimální počet neuronů a vrstev pro `ForwardNN`. Při ladění využijeme `ParameterGrid`. Nebudeme používat příliš mnoho neuronů a vrstev, protože máme relativně malou trénovací množinu a omezené výpočetní prostředky. Ladění provedeme na první epoše z důvodu omezených výpočetních možností.\n",
    "* Jako optimizer použijeme **Adam**. Zvolil jsem ho, protože je docela výkonný ve srovnání s jinými optimalizátory. Také proto, že nemohu současně ladit jak počet neuronů a vrstev, tak i parametry spojené s optimalizátorem, kvůli omezeným výpočetním možnostem.\n",
    "* Na vizualizaci vzsledků použijeme heatmapu. Vytvoříme také pomocný slovník, do kterého budeme zaznamenávat hodnotu ztrátové funkce na validační množinu pro různé kombinace neuronů a vrstev. Poté ho převedeme na dataframe a použijeme na něj metodu `pivot_table`, kterou vyžaduje `seaborn` pro zobrazení heatmapy."
   ]
  },
  {
   "cell_type": "code",
   "execution_count": 23,
   "metadata": {},
   "outputs": [],
   "source": [
    "def find_nl_count():\n",
    "    val_acc = [] \n",
    "    results = {'neurons': [], 'layers': [], 'accuraccy': []}\n",
    "    \n",
    "    hyperparam_dict = {\n",
    "        'layers': [1, 2, 3, 4],\n",
    "        'neurons': [32, 64, 128, 256],\n",
    "    }\n",
    "    param = ParameterGrid(hyperparam_dict)\n",
    "    \n",
    "    #find parameters\n",
    "    for hyp in param:\n",
    "        model_tune = ForwardNN(hyp['layers'], hyp['neurons'])\n",
    "        loss_fn_t = torch.nn.CrossEntropyLoss()\n",
    "        optimizer = torch.optim.Adam(model_tune.parameters())\n",
    "        trainNN(model_tune, loss_fn_t, optimizer, 1, acc_arr=val_acc)\n",
    "        results['neurons'].append(hyp['neurons'])\n",
    "        results['layers'].append(hyp['layers'])\n",
    "    \n",
    "    #get parameters with highest accuraccy\n",
    "    print(\"Tuning ended\")\n",
    "    best_params = param[np.argmax(val_acc)]\n",
    "    print('best params ', best_params)\n",
    "    \n",
    "    #create heatmap\n",
    "    results['accuraccy'] = val_acc\n",
    "    param_df = pd.DataFrame(results)\n",
    "    param_df = param_df.pivot_table(values='accuraccy', index='layers', columns='neurons')\n",
    "    f, ax = plt.subplots(figsize=(9, 6))\n",
    "    sns.heatmap(param_df, annot=True, fmt=\".3f\", cmap=\"Reds\", linewidth=.5, cbar_kws={'label': 'accuraccy'})\n",
    "    plt.show()\n",
    "    \n",
    "    return best_params"
   ]
  },
  {
   "cell_type": "markdown",
   "metadata": {},
   "source": [
    "Zavoláme funkci."
   ]
  },
  {
   "cell_type": "code",
   "execution_count": 24,
   "metadata": {},
   "outputs": [
    {
     "name": "stdout",
     "output_type": "stream",
     "text": [
      "Tuning ended\n",
      "best params  {'neurons': 256, 'layers': 4}\n"
     ]
    },
    {
     "data": {
      "image/png": "[encoded data removed]",
      "text/plain": [
       "<Figure size 900x600 with 2 Axes>"
      ]
     },
     "metadata": {},
     "output_type": "display_data"
    }
   ],
   "source": [
    "bp = find_nl_count()"
   ]
  },
  {
   "cell_type": "markdown",
   "metadata": {},
   "source": [
    "* Z heatmapy zjistíme, že nejlepší výsledky dosahují hlubší sítě. Dále je možné pozorovat, že při zvětšení počtu neuronů ve vrstvách potřebujeme méně vrstev pro dosažení relativně dobrých výsledků.\n",
    "* Na získaných parametrech provedeme trénování po dobu 10 epoch."
   ]
  },
  {
   "cell_type": "code",
   "execution_count": 25,
   "metadata": {},
   "outputs": [
    {
     "name": "stdout",
     "output_type": "stream",
     "text": [
      "EPOCH 1: \n",
      "TRAIN loss: 2.938, VALIDATION loss: 0.778, accuraccy: 0.733\n",
      "EPOCH 2: \n",
      "TRAIN loss: 0.723, VALIDATION loss: 0.676, accuraccy: 0.749\n",
      "EPOCH 3: \n",
      "TRAIN loss: 0.653, VALIDATION loss: 0.680, accuraccy: 0.751\n",
      "EPOCH 4: \n",
      "TRAIN loss: 0.616, VALIDATION loss: 0.607, accuraccy: 0.788\n",
      "EPOCH 5: \n",
      "TRAIN loss: 0.577, VALIDATION loss: 0.573, accuraccy: 0.790\n",
      "EPOCH 6: \n",
      "TRAIN loss: 0.549, VALIDATION loss: 0.552, accuraccy: 0.797\n",
      "EPOCH 7: \n",
      "TRAIN loss: 0.532, VALIDATION loss: 0.547, accuraccy: 0.803\n",
      "EPOCH 8: \n",
      "TRAIN loss: 0.511, VALIDATION loss: 0.534, accuraccy: 0.806\n",
      "EPOCH 9: \n",
      "TRAIN loss: 0.497, VALIDATION loss: 0.507, accuraccy: 0.817\n",
      "EPOCH 10: \n",
      "TRAIN loss: 0.489, VALIDATION loss: 0.593, accuraccy: 0.804\n"
     ]
    },
    {
     "data": {
      "image/png": "[encoded data removed]",
      "text/plain": [
       "<Figure size 640x480 with 1 Axes>"
      ]
     },
     "metadata": {},
     "output_type": "display_data"
    }
   ],
   "source": [
    "model_best = ForwardNN(bp['layers'], bp['neurons'])\n",
    "loss_fn_b = torch.nn.CrossEntropyLoss()\n",
    "optimizer_b = torch.optim.Adam(model_best.parameters())\n",
    "trainNN(model_best, loss_fn_b, optimizer_b, 10, printInfo=True, showGraph=True)"
   ]
  },
  {
   "cell_type": "markdown",
   "metadata": {},
   "source": [
    "Po deseti epochách trénování se přesnost zvýšila o 0.1, což je poměrně dobrý výsledek. Podle grafu lze říct, že nedošlo k přeučení během 10 epoch. Nyní vyzkoušíme jinou architekturu neuronové sítě."
   ]
  },
  {
   "cell_type": "markdown",
   "metadata": {},
   "source": [
    "* **ForwardNN2** už obsahuje statické množství vrstev a neuronů a ma oproti ForwardNN jiný tvar. První skryta vrstvá obsahuje 256 neuronů, druha 128, třeti 64. Celkem mamé jenom 3 skryté vrstvy."
   ]
  },
  {
   "cell_type": "code",
   "execution_count": 54,
   "metadata": {},
   "outputs": [],
   "source": [
    "class ForwardNN2(nn.Module):\n",
    "    def __init__(self, start_weight=torch.nn.init.kaiming_uniform_):\n",
    "        super().__init__()\n",
    "        \n",
    "        self.layer1 = nn.Linear(32*32, 256)\n",
    "        start_weight(self.layer1.weight)\n",
    "        \n",
    "        self.layer2 = nn.Linear(256, 128)\n",
    "        start_weight(self.layer2.weight)\n",
    "        \n",
    "        self.layer3 = nn.Linear(128, 64)\n",
    "        start_weight(self.layer3.weight)\n",
    "        \n",
    "        self.output = nn.Linear(64, 10)\n",
    "        start_weight(self.output.weight)\n",
    "        \n",
    "    def forward(self, x, activation_function=F.relu):\n",
    "        x = x.flatten(1)\n",
    "        x = activation_function(self.layer1(x))\n",
    "        x = activation_function(self.layer2(x))\n",
    "        x = activation_function(self.layer3(x))\n",
    "        x = self.output(x)\n",
    "        return x\n"
   ]
  },
  {
   "cell_type": "markdown",
   "metadata": {},
   "source": [
    "Provedeme trénování po dobu 10 epoch."
   ]
  },
  {
   "cell_type": "code",
   "execution_count": 55,
   "metadata": {},
   "outputs": [
    {
     "name": "stdout",
     "output_type": "stream",
     "text": [
      "EPOCH 1: \n",
      "TRAIN loss: 3.021, VALIDATION loss: 0.891, accuraccy: 0.716\n",
      "EPOCH 2: \n",
      "TRAIN loss: 0.773, VALIDATION loss: 0.720, accuraccy: 0.746\n",
      "EPOCH 3: \n",
      "TRAIN loss: 0.685, VALIDATION loss: 0.709, accuraccy: 0.752\n",
      "EPOCH 4: \n",
      "TRAIN loss: 0.627, VALIDATION loss: 0.597, accuraccy: 0.788\n",
      "EPOCH 5: \n",
      "TRAIN loss: 0.590, VALIDATION loss: 0.690, accuraccy: 0.748\n",
      "EPOCH 6: \n",
      "TRAIN loss: 0.564, VALIDATION loss: 0.580, accuraccy: 0.799\n",
      "EPOCH 7: \n",
      "TRAIN loss: 0.544, VALIDATION loss: 0.528, accuraccy: 0.812\n",
      "EPOCH 8: \n",
      "TRAIN loss: 0.517, VALIDATION loss: 0.548, accuraccy: 0.813\n",
      "EPOCH 9: \n",
      "TRAIN loss: 0.499, VALIDATION loss: 0.578, accuraccy: 0.805\n",
      "EPOCH 10: \n",
      "TRAIN loss: 0.481, VALIDATION loss: 0.508, accuraccy: 0.821\n"
     ]
    },
    {
     "data": {
      "image/png": "[encoded data removed]",
      "text/plain": [
       "<Figure size 640x480 with 1 Axes>"
      ]
     },
     "metadata": {},
     "output_type": "display_data"
    }
   ],
   "source": [
    "model_best0 = ForwardNN2()\n",
    "loss_fn_b0 = torch.nn.CrossEntropyLoss()\n",
    "optimizer_b0 = torch.optim.Adam(model_best0.parameters())\n",
    "trainNN(model_best0, loss_fn_b0, optimizer_b0, 10, printInfo=True, showGraph=True)"
   ]
  },
  {
   "cell_type": "markdown",
   "metadata": {},
   "source": [
    "Výsledek je téměř stejný, takže můžeme nadále používat jak `ForwardNN2`, tak i `ForwardNN`. Zkusíme dále ladit `ForwardNN2`."
   ]
  },
  {
   "cell_type": "markdown",
   "metadata": {},
   "source": [
    "#### Optimalizace"
   ]
  },
  {
   "cell_type": "markdown",
   "metadata": {},
   "source": [
    "* Vytvoříme funkci `find_init_params`, která nám pomůže ladit inicializaci vah a aktivační funkci pro skryté vrstvy. Rozhraní funkce je podobné jako u funkce `find_nl_count`, ale navíc předáváme jako parametr(`NN`) model neuronové sítě, aby tuto funkci bylo možné použít vícekrát.\n",
    "* Na inicializaci vah vyzkoušíme několik nejpopulárnějších přístupů. Budeme zkoušet hodnoty vah z normálního nebo uniformního rozdělení, všechny nuly a také sofistikovanější metody jako Xavier normal nebo Xavier uniform.\n",
    "* Jako aktivační funkce pro skryté vrstvy vyzkoušíme 4 nejznámější funkce, tedy ReLU, Leaky ReLU, SELU a hyperbolický tangent."
   ]
  },
  {
   "cell_type": "code",
   "execution_count": 25,
   "metadata": {},
   "outputs": [],
   "source": [
    "def find_init_params(NN):\n",
    "    val_acc = []\n",
    "    hyperparam_dict = {\n",
    "        'start_weight': [torch.nn.init.uniform_, torch.nn.init.normal_, torch.nn.init.zeros_, \n",
    "                          torch.nn.init.xavier_normal_, torch.nn.init.xavier_uniform_],\n",
    "        'activation': [F.relu, F.leaky_relu, F.selu, torch.tanh],\n",
    "    }\n",
    "    param = ParameterGrid(hyperparam_dict)\n",
    "\n",
    "    for hyp in param:\n",
    "        model_tune = NN(start_weight = hyp['start_weight'])\n",
    "        loss_fn_t = torch.nn.CrossEntropyLoss()\n",
    "        optimizer_t = torch.optim.Adam(model_tune.parameters())\n",
    "        trainNN(model_tune, loss_fn_t, optimizer_t, 1, acc_arr=val_acc, activation_function=hyp['activation'])\n",
    "\n",
    "    print(\"Tuning ended\")\n",
    "    best_params = param[np.argmax(val_acc)]\n",
    "    print('best params ', best_params)\n",
    "    return best_params"
   ]
  },
  {
   "cell_type": "markdown",
   "metadata": {},
   "source": [
    "Zavoláme funkci na `ForwardNN2`."
   ]
  },
  {
   "cell_type": "code",
   "execution_count": 57,
   "metadata": {},
   "outputs": [
    {
     "name": "stdout",
     "output_type": "stream",
     "text": [
      "Tuning ended\n",
      "best params  {'start_weight': <function xavier_normal_ at 0x000002BF381CA7A0>, 'activation': <function relu at 0x000002BF38146A70>}\n"
     ]
    }
   ],
   "source": [
    "bp2 = find_init_params(ForwardNN2)"
   ]
  },
  {
   "cell_type": "markdown",
   "metadata": {},
   "source": [
    "Na získaných parametrech provedeme trénování po dobu 10 epoch."
   ]
  },
  {
   "cell_type": "code",
   "execution_count": 58,
   "metadata": {},
   "outputs": [
    {
     "name": "stdout",
     "output_type": "stream",
     "text": [
      "EPOCH 1: \n",
      "TRAIN loss: 2.233, VALIDATION loss: 0.728, accuraccy: 0.741\n",
      "EPOCH 2: \n",
      "TRAIN loss: 0.677, VALIDATION loss: 0.647, accuraccy: 0.766\n",
      "EPOCH 3: \n",
      "TRAIN loss: 0.619, VALIDATION loss: 0.606, accuraccy: 0.785\n",
      "EPOCH 4: \n",
      "TRAIN loss: 0.593, VALIDATION loss: 0.612, accuraccy: 0.791\n",
      "EPOCH 5: \n",
      "TRAIN loss: 0.562, VALIDATION loss: 0.608, accuraccy: 0.790\n",
      "EPOCH 6: \n",
      "TRAIN loss: 0.553, VALIDATION loss: 0.531, accuraccy: 0.811\n",
      "EPOCH 7: \n",
      "TRAIN loss: 0.521, VALIDATION loss: 0.592, accuraccy: 0.791\n",
      "EPOCH 8: \n",
      "TRAIN loss: 0.500, VALIDATION loss: 0.583, accuraccy: 0.801\n",
      "EPOCH 9: \n",
      "TRAIN loss: 0.493, VALIDATION loss: 0.534, accuraccy: 0.810\n",
      "EPOCH 10: \n",
      "TRAIN loss: 0.474, VALIDATION loss: 0.526, accuraccy: 0.817\n"
     ]
    },
    {
     "data": {
      "image/png": "[encoded data removed]",
      "text/plain": [
       "<Figure size 640x480 with 1 Axes>"
      ]
     },
     "metadata": {},
     "output_type": "display_data"
    }
   ],
   "source": [
    "model_best2 = ForwardNN2(start_weight = bp2['start_weight'])\n",
    "loss_fn_b2 = torch.nn.CrossEntropyLoss()\n",
    "optimizer_b2 = torch.optim.Adam(model_best2.parameters())\n",
    "trainNN(model_best2, loss_fn_b2, optimizer_b2, 10, printInfo=True, \n",
    "        activation_function=bp2['activation'], showGraph=True)"
   ]
  },
  {
   "cell_type": "markdown",
   "metadata": {},
   "source": [
    "* Z výsledků vidíme, že změna způsobu inicializace vah na Xavier normal mírně zlepšila výsledek (je dobře vidět na train lossu).\n",
    "* Zkusíme ještě vyladit optimalizátor. K tomu vytvoříme funkci `find_opt_params`, která postupně vyzkouší nejpopulárnější optimalizátory s různými učícími parametry. Rozhraní funkce zůstává stejné jako u `find_init_params`, ale navíc předáváme již zjištěnou aktivační funkci pro skryté vrstvy a způsob inicializace vah."
   ]
  },
  {
   "cell_type": "code",
   "execution_count": 26,
   "metadata": {},
   "outputs": [],
   "source": [
    "def find_opt_params(NN, activation_function, start_weight):\n",
    "    val_acc = []\n",
    "    hyperparam_dict = {\n",
    "        'optimizer': [torch.optim.Adam, torch.optim.Adagrad, torch.optim.RMSprop, \n",
    "                      torch.optim.SGD, torch.optim.Adadelta],\n",
    "        'lr': [0.0001, 0.001, 0.01, 0.1, 0.2, 0.3],\n",
    "    }\n",
    "    param = ParameterGrid(hyperparam_dict)\n",
    "\n",
    "    for hyp in param:\n",
    "        model_tune = NN(start_weight=start_weight)\n",
    "        loss_fn_t = torch.nn.CrossEntropyLoss()\n",
    "        optimizer = hyp['optimizer'](model_tune.parameters(), lr=hyp['lr'])\n",
    "        trainNN(model_tune, loss_fn_t, optimizer, 1, acc_arr=val_acc, activation_function=activation_function)\n",
    "\n",
    "    print(\"Tuning ended\")\n",
    "    best_params = param[np.argmax(val_acc)]\n",
    "    print('best params ', best_params)\n",
    "    return best_params"
   ]
  },
  {
   "cell_type": "markdown",
   "metadata": {},
   "source": [
    "Zavoláme funkci na `ForwardNN2`."
   ]
  },
  {
   "cell_type": "code",
   "execution_count": 60,
   "metadata": {},
   "outputs": [
    {
     "name": "stdout",
     "output_type": "stream",
     "text": [
      "Tuning ended\n",
      "best params  {'optimizer': <class 'torch.optim.sgd.SGD'>, 'lr': 0.001}\n"
     ]
    }
   ],
   "source": [
    "bp3 = find_opt_params(ForwardNN2, bp2['activation'], bp2['start_weight'])"
   ]
  },
  {
   "cell_type": "markdown",
   "metadata": {},
   "source": [
    "Výsledek je překvapivý. Nejlepším optimalizátorem je klasický stochastický gradientní sestup. Na získaných parametrech provedeme trénování po dobu 10 epoch, abychom prozkoumali chování optimalizátoru."
   ]
  },
  {
   "cell_type": "code",
   "execution_count": 61,
   "metadata": {},
   "outputs": [
    {
     "name": "stdout",
     "output_type": "stream",
     "text": [
      "EPOCH 1: \n",
      "TRAIN loss: 1.966, VALIDATION loss: 0.739, accuraccy: 0.732\n",
      "EPOCH 2: \n",
      "TRAIN loss: 0.698, VALIDATION loss: 0.686, accuraccy: 0.743\n",
      "EPOCH 3: \n",
      "TRAIN loss: 0.629, VALIDATION loss: 0.635, accuraccy: 0.772\n",
      "EPOCH 4: \n",
      "TRAIN loss: 0.590, VALIDATION loss: 0.623, accuraccy: 0.775\n",
      "EPOCH 5: \n",
      "TRAIN loss: 0.560, VALIDATION loss: 0.622, accuraccy: 0.772\n",
      "EPOCH 6: \n",
      "TRAIN loss: 0.536, VALIDATION loss: 0.598, accuraccy: 0.786\n",
      "EPOCH 7: \n",
      "TRAIN loss: 0.518, VALIDATION loss: 0.572, accuraccy: 0.800\n",
      "EPOCH 8: \n",
      "TRAIN loss: 0.500, VALIDATION loss: 0.571, accuraccy: 0.800\n",
      "EPOCH 9: \n",
      "TRAIN loss: 0.485, VALIDATION loss: 0.580, accuraccy: 0.789\n",
      "EPOCH 10: \n",
      "TRAIN loss: 0.474, VALIDATION loss: 0.559, accuraccy: 0.802\n"
     ]
    },
    {
     "data": {
      "image/png": "[encoded data removed]",
      "text/plain": [
       "<Figure size 640x480 with 1 Axes>"
      ]
     },
     "metadata": {},
     "output_type": "display_data"
    }
   ],
   "source": [
    "model_best3 = ForwardNN2(start_weight=bp2['start_weight'])\n",
    "loss_fn_b3 = torch.nn.CrossEntropyLoss()\n",
    "optimizer_b3 = bp3['optimizer'](model_best3.parameters(), lr=bp3['lr'])\n",
    "trainNN(model_best3, loss_fn_b3, optimizer_b3, 10, printInfo=True, \n",
    "        activation_function=bp2['activation'], showGraph=True)"
   ]
  },
  {
   "cell_type": "markdown",
   "metadata": {},
   "source": [
    "Výsledek je dobrý, ale zkusíme natrénovat model s použitím optimalizátoru Adam a stejným učícím parametrem."
   ]
  },
  {
   "cell_type": "code",
   "execution_count": 63,
   "metadata": {},
   "outputs": [
    {
     "name": "stdout",
     "output_type": "stream",
     "text": [
      "EPOCH 1: \n",
      "TRAIN loss: 2.041, VALIDATION loss: 0.792, accuraccy: 0.730\n",
      "EPOCH 2: \n",
      "TRAIN loss: 0.700, VALIDATION loss: 0.643, accuraccy: 0.768\n",
      "EPOCH 3: \n",
      "TRAIN loss: 0.635, VALIDATION loss: 0.609, accuraccy: 0.785\n",
      "EPOCH 4: \n",
      "TRAIN loss: 0.578, VALIDATION loss: 0.600, accuraccy: 0.794\n",
      "EPOCH 5: \n",
      "TRAIN loss: 0.553, VALIDATION loss: 0.587, accuraccy: 0.778\n",
      "EPOCH 6: \n",
      "TRAIN loss: 0.527, VALIDATION loss: 0.517, accuraccy: 0.813\n",
      "EPOCH 7: \n",
      "TRAIN loss: 0.507, VALIDATION loss: 0.516, accuraccy: 0.813\n",
      "EPOCH 8: \n",
      "TRAIN loss: 0.490, VALIDATION loss: 0.516, accuraccy: 0.814\n",
      "EPOCH 9: \n",
      "TRAIN loss: 0.479, VALIDATION loss: 0.492, accuraccy: 0.819\n",
      "EPOCH 10: \n",
      "TRAIN loss: 0.457, VALIDATION loss: 0.524, accuraccy: 0.814\n"
     ]
    },
    {
     "data": {
      "image/png": "[encoded data removed]",
      "text/plain": [
       "<Figure size 640x480 with 1 Axes>"
      ]
     },
     "metadata": {},
     "output_type": "display_data"
    }
   ],
   "source": [
    "model_best4 = ForwardNN2(start_weight=bp2['start_weight'])\n",
    "loss_fn_b4 = torch.nn.CrossEntropyLoss()\n",
    "optimizer_b4 = torch.optim.Adam(model_best4.parameters(), lr=bp3['lr'])\n",
    "trainNN(model_best4, loss_fn_b4, optimizer_b4, 10, printInfo=True, \n",
    "        activation_function=bp2['activation'], showGraph=True)"
   ]
  },
  {
   "cell_type": "markdown",
   "metadata": {},
   "source": [
    "Z výsledků můžeme jistě říct, že Adam se stejným učícím parametrem je lepší. Proto pro finální model zvolíme právě tento optimalizátor. Při validaci se objevil problém s přesností po první epoše, kde Adam byl mírně horší, ale od šesté epochy je téměř o 0.01 lepší než stochastický gradientní sestup."
   ]
  },
  {
   "cell_type": "markdown",
   "metadata": {},
   "source": [
    "#### Regularizace"
   ]
  },
  {
   "cell_type": "markdown",
   "metadata": {},
   "source": [
    "Teď zkusíme použít několik regularizačních technik.\n",
    "\n",
    "* **Dropout**\n",
    "\n",
    "Dropout je efektivní regularizační technika, která se často používá v neuronových sítích. Dropout nutí síť rozhodovat se na základě širokého spektra informací tím, že náhodně deaktivuje některé neurony během trénování. Tímto způsobem síť musí naučit se spoléhat na různé aspekty dat a zlepšuje se její schopnost generalizace. Vyzkoušejme tedy použít dropout na druhé skryté vrstvě.\n",
    "\n",
    "* **Dávková normalizace**\n",
    "\n",
    "Davková normalizace pomáhá stabilizovat a zlepšit model tím, že normalizuje vstupní data tak, aby měla nulový průměr a jednotkový rozptyl přes jednotlivé dávky. Tím se snižuje závislost na počátečních hodnotách vah, což umožňuje rychlejší a stabilnější učení sítě. Ke snížení redundance vypneme intercepty. Davkovou normalizaci aplikujeme na všechny vrstvy.\n",
    "\n",
    "* **Předčasné zastavení**\n",
    "\n",
    "Předčasné zastavení již máme implementováno ve funkci `trainNN`, stačí jej pouze aktivovat parametrem `onEarlyStop`. Předčasné zastavení může zabránit přeučení modelu a zkrátit dobu trénování(vyhneme se tím zkoušení epoch, které by již nepřinesly žádné zlepšení)."
   ]
  },
  {
   "cell_type": "code",
   "execution_count": 64,
   "metadata": {},
   "outputs": [],
   "source": [
    "class ForwardNNFin(nn.Module):\n",
    "    def __init__(self, start_weight=torch.nn.init.kaiming_uniform_):\n",
    "        super().__init__()\n",
    "        \n",
    "        self.layer1 = nn.Linear(32*32, 256, bias=False)\n",
    "        start_weight(self.layer1.weight)\n",
    "        self.layer1_bn = nn.BatchNorm1d(256)\n",
    "        \n",
    "        self.layer2 = nn.Linear(256, 128, bias=False)\n",
    "        start_weight(self.layer2.weight)\n",
    "        self.layer2_bn = nn.BatchNorm1d(128)\n",
    "        \n",
    "        self.layer2_drop = nn.Dropout1d(p=0.2)\n",
    "        \n",
    "        self.layer3 = nn.Linear(128, 64, bias=False)\n",
    "        start_weight(self.layer3.weight)\n",
    "        self.layer3_bn = nn.BatchNorm1d(64)\n",
    "        \n",
    "        self.output = nn.Linear(64, 10)\n",
    "        start_weight(self.output.weight)\n",
    "        \n",
    "    def forward(self, x, activation_function=F.relu):\n",
    "        x = x.flatten(1)\n",
    "        x = self.layer1(x)\n",
    "        x = activation_function(self.layer1_bn(x))\n",
    "        x = self.layer2(x)\n",
    "        x = activation_function(self.layer2_bn(x))\n",
    "        x = self.layer2_drop(x)\n",
    "        x = self.layer3(x)\n",
    "        x = activation_function(self.layer3_bn(x))\n",
    "        x = self.output(x)\n",
    "        return x\n"
   ]
  },
  {
   "cell_type": "markdown",
   "metadata": {},
   "source": [
    "Všechny hyperparametry jsme již ověřili pomocí validace, proto natrénujeme model s těmito hodnotami. Zvolíme 15 epoch pro trénování."
   ]
  },
  {
   "cell_type": "code",
   "execution_count": 68,
   "metadata": {},
   "outputs": [
    {
     "name": "stdout",
     "output_type": "stream",
     "text": [
      "Best model saved\n",
      "EPOCH 1: \n",
      "TRAIN loss: 1.011, VALIDATION loss: 0.579, accuraccy: 0.799\n",
      "Best model saved\n",
      "EPOCH 2: \n",
      "TRAIN loss: 0.879, VALIDATION loss: 0.515, accuraccy: 0.817\n",
      "Best model saved\n",
      "EPOCH 3: \n",
      "TRAIN loss: 0.840, VALIDATION loss: 0.469, accuraccy: 0.836\n",
      "Best model saved\n",
      "EPOCH 4: \n",
      "TRAIN loss: 0.806, VALIDATION loss: 0.456, accuraccy: 0.831\n",
      "EPOCH 5: \n",
      "TRAIN loss: 0.784, VALIDATION loss: 0.465, accuraccy: 0.829\n",
      "Best model saved\n",
      "EPOCH 6: \n",
      "TRAIN loss: 0.761, VALIDATION loss: 0.432, accuraccy: 0.844\n",
      "EPOCH 7: \n",
      "TRAIN loss: 0.742, VALIDATION loss: 0.436, accuraccy: 0.839\n",
      "Best model saved\n",
      "EPOCH 8: \n",
      "TRAIN loss: 0.734, VALIDATION loss: 0.420, accuraccy: 0.846\n",
      "Best model saved\n",
      "EPOCH 9: \n",
      "TRAIN loss: 0.718, VALIDATION loss: 0.405, accuraccy: 0.854\n",
      "EPOCH 10: \n",
      "TRAIN loss: 0.706, VALIDATION loss: 0.412, accuraccy: 0.852\n",
      "Best model saved\n",
      "EPOCH 11: \n",
      "TRAIN loss: 0.696, VALIDATION loss: 0.403, accuraccy: 0.852\n",
      "Best model saved\n",
      "EPOCH 12: \n",
      "TRAIN loss: 0.689, VALIDATION loss: 0.402, accuraccy: 0.858\n",
      "EPOCH 13: \n",
      "TRAIN loss: 0.674, VALIDATION loss: 0.403, accuraccy: 0.849\n",
      "Best model saved\n",
      "EPOCH 14: \n",
      "TRAIN loss: 0.677, VALIDATION loss: 0.402, accuraccy: 0.851\n",
      "EPOCH 15: \n",
      "TRAIN loss: 0.654, VALIDATION loss: 0.404, accuraccy: 0.848\n",
      "Best model saved\n",
      "EPOCH 16: \n",
      "TRAIN loss: 0.648, VALIDATION loss: 0.386, accuraccy: 0.857\n",
      "Best model saved\n",
      "EPOCH 17: \n",
      "TRAIN loss: 0.652, VALIDATION loss: 0.385, accuraccy: 0.858\n",
      "EPOCH 18: \n",
      "TRAIN loss: 0.636, VALIDATION loss: 0.390, accuraccy: 0.860\n",
      "Best model saved\n",
      "EPOCH 19: \n",
      "TRAIN loss: 0.645, VALIDATION loss: 0.384, accuraccy: 0.859\n",
      "EPOCH 20: \n",
      "TRAIN loss: 0.628, VALIDATION loss: 0.403, accuraccy: 0.857\n"
     ]
    },
    {
     "data": {
      "image/png": "[encoded data removed]",
      "text/plain": [
       "<Figure size 640x480 with 1 Axes>"
      ]
     },
     "metadata": {},
     "output_type": "display_data"
    }
   ],
   "source": [
    "model_fin_forward = ForwardNNFin(start_weight=bp2['start_weight'])\n",
    "loss_fn_fin_forward = torch.nn.CrossEntropyLoss()\n",
    "optimizer_fin_forward = torch.optim.Adam(model_fin_forward.parameters(), lr=bp3['lr'])\n",
    "trainNN(model_fin_forward, loss_fn_fin_forward, optimizer_fin_forward, 20, printInfo=True, \n",
    "        activation_function=bp2['activation'], onEarlyStop=True, showGraph=True)"
   ]
  },
  {
   "cell_type": "markdown",
   "metadata": {},
   "source": [
    "* Z výsledků lze jistě říct, že regularizace přináší významné zlepšení. Po aplikaci všech regularizačních metod jsme dosáhli nárůstu přesnosti o 0.05, což je velmi dobrý výsledek. Také je důležité si uvědomit, že pokud budeme trénovat déle, pravděpodobně dosáhneme ještě lepší přesnosti. Pokud se tento model ukáže jako nejlepší, můžeme jej natrénovat na větším počtu epoch.\n",
    "* Načteme nejlepší model"
   ]
  },
  {
   "cell_type": "code",
   "execution_count": 69,
   "metadata": {},
   "outputs": [
    {
     "data": {
      "text/plain": [
       "<All keys matched successfully>"
      ]
     },
     "execution_count": 69,
     "metadata": {},
     "output_type": "execute_result"
    }
   ],
   "source": [
    "model_fin_forward.load_state_dict(torch.load(\"saves/best_model.pt\"))"
   ]
  },
  {
   "cell_type": "markdown",
   "metadata": {},
   "source": [
    "#### Dopředná neuronová síť pro standardizovaná a normalizovaná data"
   ]
  },
  {
   "cell_type": "markdown",
   "metadata": {},
   "source": [
    "Na finálním modelu dopředné neuronové sítě vyzkoušíme normalizovaná a standardizovaná data. Kód je v podstatě stejný jako dříve, jenom teď předáváme normalizovaná data do funkce `trainNN`."
   ]
  },
  {
   "cell_type": "markdown",
   "metadata": {},
   "source": [
    "**Normalizace**"
   ]
  },
  {
   "cell_type": "code",
   "execution_count": 71,
   "metadata": {},
   "outputs": [
    {
     "name": "stdout",
     "output_type": "stream",
     "text": [
      "EPOCH 1: \n",
      "TRAIN loss: 1.018, VALIDATION loss: 0.556, accuraccy: 0.805\n",
      "EPOCH 2: \n",
      "TRAIN loss: 0.879, VALIDATION loss: 0.511, accuraccy: 0.811\n",
      "EPOCH 3: \n",
      "TRAIN loss: 0.831, VALIDATION loss: 0.493, accuraccy: 0.816\n",
      "EPOCH 4: \n",
      "TRAIN loss: 0.802, VALIDATION loss: 0.468, accuraccy: 0.834\n",
      "EPOCH 5: \n",
      "TRAIN loss: 0.789, VALIDATION loss: 0.450, accuraccy: 0.837\n",
      "EPOCH 6: \n",
      "TRAIN loss: 0.764, VALIDATION loss: 0.424, accuraccy: 0.847\n",
      "EPOCH 7: \n",
      "TRAIN loss: 0.743, VALIDATION loss: 0.412, accuraccy: 0.855\n",
      "EPOCH 8: \n",
      "TRAIN loss: 0.733, VALIDATION loss: 0.430, accuraccy: 0.845\n",
      "EPOCH 9: \n",
      "TRAIN loss: 0.712, VALIDATION loss: 0.413, accuraccy: 0.850\n",
      "EPOCH 10: \n",
      "TRAIN loss: 0.706, VALIDATION loss: 0.409, accuraccy: 0.850\n"
     ]
    },
    {
     "data": {
      "image/png": "[encoded data removed]",
      "text/plain": [
       "<Figure size 640x480 with 1 Axes>"
      ]
     },
     "metadata": {},
     "output_type": "display_data"
    }
   ],
   "source": [
    "model_fin_forward_Norm = ForwardNNFin(start_weight=bp2['start_weight'])\n",
    "loss_fn_fin_forward_Norm = torch.nn.CrossEntropyLoss()\n",
    "optimizer_fin_forward_Norm = torch.optim.Adam(model_fin_forward_Norm.parameters(), lr=bp3['lr'])\n",
    "trainNN(model_fin_forward_Norm, loss_fn_fin_forward_Norm, optimizer_fin_forward_Norm, 10, printInfo=True, \n",
    "        activation_function=bp2['activation'], showGraph=True, \n",
    "        train_data_loader=train_loader_MinMax, val_data_loader=val_loader_MinMax)"
   ]
  },
  {
   "cell_type": "markdown",
   "metadata": {},
   "source": [
    "Model s MinMax normalizací dosahuje téměř stejných výsledků jako model na původních datech. Vzhledem k preferenci jednoduchých modelů nebudeme používat normalizaci. "
   ]
  },
  {
   "cell_type": "markdown",
   "metadata": {},
   "source": [
    "**Standardizace**"
   ]
  },
  {
   "cell_type": "code",
   "execution_count": 73,
   "metadata": {},
   "outputs": [
    {
     "name": "stdout",
     "output_type": "stream",
     "text": [
      "EPOCH 1: \n",
      "TRAIN loss: 1.015, VALIDATION loss: 0.598, accuraccy: 0.785\n",
      "EPOCH 2: \n",
      "TRAIN loss: 0.881, VALIDATION loss: 0.525, accuraccy: 0.807\n",
      "EPOCH 3: \n",
      "TRAIN loss: 0.829, VALIDATION loss: 0.496, accuraccy: 0.822\n",
      "EPOCH 4: \n",
      "TRAIN loss: 0.802, VALIDATION loss: 0.485, accuraccy: 0.824\n",
      "EPOCH 5: \n",
      "TRAIN loss: 0.775, VALIDATION loss: 0.457, accuraccy: 0.832\n",
      "EPOCH 6: \n",
      "TRAIN loss: 0.754, VALIDATION loss: 0.454, accuraccy: 0.830\n",
      "EPOCH 7: \n",
      "TRAIN loss: 0.742, VALIDATION loss: 0.436, accuraccy: 0.844\n",
      "EPOCH 8: \n",
      "TRAIN loss: 0.730, VALIDATION loss: 0.439, accuraccy: 0.834\n",
      "EPOCH 9: \n",
      "TRAIN loss: 0.711, VALIDATION loss: 0.430, accuraccy: 0.841\n",
      "EPOCH 10: \n",
      "TRAIN loss: 0.697, VALIDATION loss: 0.427, accuraccy: 0.843\n"
     ]
    },
    {
     "data": {
      "image/png": "[encoded data removed]",
      "text/plain": [
       "<Figure size 640x480 with 1 Axes>"
      ]
     },
     "metadata": {},
     "output_type": "display_data"
    }
   ],
   "source": [
    "model_fin_forward_Stand = ForwardNNFin(start_weight=bp2['start_weight'])\n",
    "loss_fn_fin_forward_Stand = torch.nn.CrossEntropyLoss()\n",
    "optimizer_fin_forward_Stand = torch.optim.Adam(model_fin_forward_Stand.parameters(), lr=bp3['lr'])\n",
    "trainNN(model_fin_forward_Stand, loss_fn_fin_forward_Stand, optimizer_fin_forward_Stand, 10, printInfo=True, \n",
    "        activation_function=bp2['activation'], showGraph=True,\n",
    "        train_data_loader=train_loader_Stand, val_data_loader=val_loader_Stand)"
   ]
  },
  {
   "cell_type": "markdown",
   "metadata": {},
   "source": [
    "Standardizace jak i MinMax normalizace nepřináší žádný přírůstek v přesnosti ani snížení hodnoty ztrátové funkce. Proto jako výsledný model dopředné neuronové sítě budeme uvažovat model na původních datech."
   ]
  },
  {
   "cell_type": "markdown",
   "metadata": {},
   "source": [
    "### Konvoluční neuronová síť"
   ]
  },
  {
   "cell_type": "markdown",
   "metadata": {},
   "source": [
    "* **Vhodnost použití konvoluční neuronové sítě pro klasifikaci obrazových dat**:\n",
    "    * Konvoluční neuronové sítě mají v podstatě stejné výhody jako dopředné sítě, ale navíc jsou schopny zachovávat prostorové informace v obrazech. Oproti dopředným sítím také vyžadují méně parametrů, což je další výhoda. Konvoluční vrstvy slouží k snižení počtu parametrů, ale zároveň zachování  informaci, což ve vysledku zachraňuje model oproti problemu dimenzionality a zvyšuje celkovou přesnost modelu.\n",
    "    "
   ]
  },
  {
   "cell_type": "markdown",
   "metadata": {},
   "source": [
    "#### Počet vrstev a neuronů"
   ]
  },
  {
   "cell_type": "markdown",
   "metadata": {},
   "source": [
    "* Nejprve zkusíme zkonstruovat dva modely, **ConvNN** a **ConvNN2**, na kterých se pokusíme najít vhodnou architekturu sítě.\n",
    "\n",
    "* **ConvNN** bude obsahovat pouze konvoluční vrstvy a výstupní plně propojenou vrstvu. Použijeme taky max pooling, který zmenší rozměry výstupu a vylepší invarianci vůči malým posunutím. To umožňí síti být odolnější vůči změnám polohy objektu na obrazku. Počet kanálů budeme volit jako mocninu 2. Celkem vytvoříme tři konvoluční vrstvy a jako aktivační funkci pro ně použijeme ReLU. Pro inicializaci vah bude použijeme defaultni pro pytorch Kaiming_uniform."
   ]
  },
  {
   "cell_type": "code",
   "execution_count": 22,
   "metadata": {},
   "outputs": [],
   "source": [
    "class ConvNN(nn.Module):\n",
    "    def __init__(self, start_weight=torch.nn.init.kaiming_uniform_):\n",
    "        super().__init__()\n",
    "        \n",
    "        self.conv1 = nn.Conv2d(in_channels = 1, out_channels = 128, kernel_size = 3)\n",
    "        start_weight(self.conv1.weight)\n",
    "        self.pool1 = nn.MaxPool2d(kernel_size = 2, stride = 2)\n",
    "        \n",
    "        self.conv2 = nn.Conv2d(128, 64, 3)\n",
    "        start_weight(self.conv2.weight)\n",
    "        self.pool2 = nn.MaxPool2d(kernel_size = 2, stride = 2)\n",
    "        \n",
    "        self.conv3 = nn.Conv2d(64, 32, 3)\n",
    "        start_weight(self.conv3.weight)\n",
    "        self.pool3 = nn.MaxPool2d(kernel_size = 2, stride = 2)\n",
    "        \n",
    "        self.output = nn.Linear(32*2*2, 10)\n",
    "        start_weight(self.output.weight)\n",
    "\n",
    "    def forward(self, x, activation_function=F.relu):\n",
    "        x = activation_function(self.conv1(x))\n",
    "        x = self.pool1(x)\n",
    "        x = activation_function(self.conv2(x))\n",
    "        x = self.pool2(x)\n",
    "        x = activation_function(self.conv3(x))\n",
    "        x = self.pool3(x)\n",
    "        x = x.flatten(start_dim = 1)\n",
    "        x = self.output(x)\n",
    "        return x\n"
   ]
  },
  {
   "cell_type": "markdown",
   "metadata": {},
   "source": [
    "Natrénujeme síť."
   ]
  },
  {
   "cell_type": "code",
   "execution_count": 84,
   "metadata": {},
   "outputs": [
    {
     "name": "stdout",
     "output_type": "stream",
     "text": [
      "EPOCH 1: \n",
      "TRAIN loss: 3.066, VALIDATION loss: 1.214, accuraccy: 0.558\n",
      "EPOCH 2: \n",
      "TRAIN loss: 1.022, VALIDATION loss: 0.966, accuraccy: 0.670\n",
      "EPOCH 3: \n",
      "TRAIN loss: 0.863, VALIDATION loss: 0.789, accuraccy: 0.714\n",
      "EPOCH 4: \n",
      "TRAIN loss: 0.760, VALIDATION loss: 0.830, accuraccy: 0.681\n",
      "EPOCH 5: \n",
      "TRAIN loss: 0.708, VALIDATION loss: 0.731, accuraccy: 0.748\n",
      "EPOCH 6: \n",
      "TRAIN loss: 0.666, VALIDATION loss: 0.703, accuraccy: 0.743\n",
      "EPOCH 7: \n",
      "TRAIN loss: 0.620, VALIDATION loss: 0.628, accuraccy: 0.766\n",
      "EPOCH 8: \n",
      "TRAIN loss: 0.579, VALIDATION loss: 0.582, accuraccy: 0.795\n",
      "EPOCH 9: \n",
      "TRAIN loss: 0.546, VALIDATION loss: 0.560, accuraccy: 0.795\n",
      "EPOCH 10: \n",
      "TRAIN loss: 0.520, VALIDATION loss: 0.546, accuraccy: 0.798\n"
     ]
    },
    {
     "data": {
      "image/png": "[encoded data removed]",
      "text/plain": [
       "<Figure size 640x480 with 1 Axes>"
      ]
     },
     "metadata": {},
     "output_type": "display_data"
    }
   ],
   "source": [
    "cnn = ConvNN()\n",
    "loss_fn_cnn = torch.nn.CrossEntropyLoss()\n",
    "optimizer_cnn = torch.optim.Adam(cnn.parameters())\n",
    "trainNN(cnn, loss_fn_cnn, optimizer_cnn, 10, printInfo=True, showGraph=True)"
   ]
  },
  {
   "cell_type": "markdown",
   "metadata": {},
   "source": [
    "Výsledek je poměrně špatný, běžná dopředná síť bez ladění hyperparametrů měla lepší výsledek. Z tohoto důvodu se pokusíme kombinovat konvoluční a plně propojené vrstvy.\n",
    "\n",
    "**ConvNN2**\n",
    "\n",
    "V nové síťě místo třech konvolučních vrstev ponechame jenom dvě a snižime jim počet kanalů. Místo třetí konvoluční vrstvy přidame tři plně propojené vrstvy(po 256, 128 a 64 neuronů). "
   ]
  },
  {
   "cell_type": "code",
   "execution_count": 23,
   "metadata": {},
   "outputs": [],
   "source": [
    "class ConvNN2(nn.Module):\n",
    "    def __init__(self, start_weight=torch.nn.init.kaiming_uniform_):\n",
    "        super().__init__()\n",
    "        \n",
    "        self.conv1 = nn.Conv2d(in_channels = 1, out_channels = 64, kernel_size = 3)\n",
    "        start_weight(self.conv1.weight)\n",
    "        self.pool1 = nn.MaxPool2d(kernel_size = 2, stride = 2)\n",
    "        \n",
    "        self.conv2 = nn.Conv2d(64, 32, 3)\n",
    "        start_weight(self.conv2.weight)\n",
    "        self.pool2 = nn.MaxPool2d(kernel_size = 2, stride = 2)\n",
    "        \n",
    "        self.hd1 = nn.Linear(32*6*6, 256)\n",
    "        start_weight(self.hd1.weight)\n",
    "        \n",
    "        self.hd2 = nn.Linear(256, 128)\n",
    "        start_weight(self.hd2.weight)\n",
    "        \n",
    "        self.hd3 = nn.Linear(128, 64)\n",
    "        start_weight(self.hd3.weight)\n",
    "        \n",
    "        self.output = nn.Linear(64, 10)\n",
    "        start_weight(self.output.weight)\n",
    "\n",
    "    def forward(self, x, activation_function=F.relu):\n",
    "        x = activation_function(self.conv1(x))\n",
    "        x = self.pool1(x)\n",
    "        x = activation_function(self.conv2(x))\n",
    "        x = self.pool2(x)\n",
    "        x = x.flatten(start_dim = 1)\n",
    "        x = activation_function(self.hd1(x))\n",
    "        x = activation_function(self.hd2(x))\n",
    "        x = activation_function(self.hd3(x))\n",
    "        x = self.output(x)\n",
    "        return x"
   ]
  },
  {
   "cell_type": "markdown",
   "metadata": {},
   "source": [
    "Natrénujeme síť."
   ]
  },
  {
   "cell_type": "code",
   "execution_count": 118,
   "metadata": {},
   "outputs": [
    {
     "name": "stdout",
     "output_type": "stream",
     "text": [
      "EPOCH 1: \n",
      "TRAIN loss: 2.109, VALIDATION loss: 0.731, accuraccy: 0.732\n",
      "EPOCH 2: \n",
      "TRAIN loss: 0.577, VALIDATION loss: 0.561, accuraccy: 0.788\n",
      "EPOCH 3: \n",
      "TRAIN loss: 0.498, VALIDATION loss: 0.517, accuraccy: 0.813\n",
      "EPOCH 4: \n",
      "TRAIN loss: 0.462, VALIDATION loss: 0.469, accuraccy: 0.824\n",
      "EPOCH 5: \n",
      "TRAIN loss: 0.435, VALIDATION loss: 0.472, accuraccy: 0.836\n",
      "EPOCH 6: \n",
      "TRAIN loss: 0.409, VALIDATION loss: 0.464, accuraccy: 0.830\n",
      "EPOCH 7: \n",
      "TRAIN loss: 0.379, VALIDATION loss: 0.427, accuraccy: 0.848\n",
      "EPOCH 8: \n",
      "TRAIN loss: 0.352, VALIDATION loss: 0.430, accuraccy: 0.849\n",
      "EPOCH 9: \n",
      "TRAIN loss: 0.329, VALIDATION loss: 0.412, accuraccy: 0.859\n",
      "EPOCH 10: \n",
      "TRAIN loss: 0.308, VALIDATION loss: 0.402, accuraccy: 0.866\n"
     ]
    },
    {
     "data": {
      "image/png": "[encoded data removed]",
      "text/plain": [
       "<Figure size 640x480 with 1 Axes>"
      ]
     },
     "metadata": {},
     "output_type": "display_data"
    }
   ],
   "source": [
    "cnn2 = ConvNN2()\n",
    "loss_fn_cnn2 = torch.nn.CrossEntropyLoss()\n",
    "optimizer_cnn2 = torch.optim.Adam(cnn2.parameters())\n",
    "trainNN(cnn2, loss_fn_cnn2, optimizer_cnn2, 10, printInfo=True, showGraph=True)"
   ]
  },
  {
   "cell_type": "markdown",
   "metadata": {},
   "source": [
    "Výsledek je již mnohem lepší. Bez jakéhokoli ladění optimalizátorů, metody inicializace vah a regularizace jsme dosáhli lepšího výsledku než na finálně laděné dopředné síti. Zkusíme tedy tento výsledek ještě vylepšit a ladit inicializaci vah a aktivační funkci pro skryté vrstvy. K tomu již máme připravenou funkci `find_init_params`, do které pouze dosadíme název neuronové sítě, kterou chceme ladit."
   ]
  },
  {
   "cell_type": "code",
   "execution_count": 28,
   "metadata": {},
   "outputs": [
    {
     "name": "stdout",
     "output_type": "stream",
     "text": [
      "Tuning ended\n",
      "best params  {'start_weight': <function xavier_normal_ at 0x00000284D6852050>, 'activation': <function relu at 0x00000284D67D6320>}\n"
     ]
    }
   ],
   "source": [
    "bpCNN = find_init_params(ConvNN2)"
   ]
  },
  {
   "cell_type": "code",
   "execution_count": 29,
   "metadata": {},
   "outputs": [
    {
     "name": "stdout",
     "output_type": "stream",
     "text": [
      "EPOCH 1: \n",
      "TRAIN loss: 0.644, VALIDATION loss: 0.417, accuraccy: 0.846\n",
      "EPOCH 2: \n",
      "TRAIN loss: 0.405, VALIDATION loss: 0.388, accuraccy: 0.857\n",
      "EPOCH 3: \n",
      "TRAIN loss: 0.357, VALIDATION loss: 0.365, accuraccy: 0.866\n",
      "EPOCH 4: \n",
      "TRAIN loss: 0.321, VALIDATION loss: 0.380, accuraccy: 0.861\n",
      "EPOCH 5: \n",
      "TRAIN loss: 0.295, VALIDATION loss: 0.375, accuraccy: 0.868\n",
      "EPOCH 6: \n",
      "TRAIN loss: 0.280, VALIDATION loss: 0.376, accuraccy: 0.865\n",
      "EPOCH 7: \n",
      "TRAIN loss: 0.246, VALIDATION loss: 0.367, accuraccy: 0.873\n",
      "EPOCH 8: \n",
      "TRAIN loss: 0.233, VALIDATION loss: 0.353, accuraccy: 0.880\n",
      "EPOCH 9: \n",
      "TRAIN loss: 0.213, VALIDATION loss: 0.364, accuraccy: 0.879\n",
      "EPOCH 10: \n",
      "TRAIN loss: 0.195, VALIDATION loss: 0.396, accuraccy: 0.876\n"
     ]
    }
   ],
   "source": [
    "model_conv = ConvNN2(start_weight = bpCNN['start_weight'])\n",
    "loss_fn_conv = torch.nn.CrossEntropyLoss()\n",
    "optimizer_conv = torch.optim.Adam(model_conv.parameters())\n",
    "trainNN(model_conv, loss_fn_conv, optimizer_conv, 10, \n",
    "        activation_function = bpCNN['activation'], printInfo=True)"
   ]
  },
  {
   "cell_type": "markdown",
   "metadata": {},
   "source": [
    "Z výsledků vidíme, že jak i v případě dopředné neuronové síťě změna způsobu inicializace vah na Xavier normal vyznamě zlepšila výsledek(je dobře vidět na train lossu).\n",
    "\n",
    "#### Optimalizace\n",
    "\n",
    "\n",
    "Zkusíme ještě vyladit optimalizátor. K tomu použijeme funkci `find_opt_params`, která postupně vyzkouší nejpopulárnější optimalizátory s různými učícími parametry. Budeme tedy postupovat stejně jako u dopředné sítě."
   ]
  },
  {
   "cell_type": "code",
   "execution_count": 31,
   "metadata": {},
   "outputs": [
    {
     "name": "stdout",
     "output_type": "stream",
     "text": [
      "Tuning ended\n",
      "best params  {'optimizer': <class 'torch.optim.adadelta.Adadelta'>, 'lr': 0.3}\n"
     ]
    }
   ],
   "source": [
    "bpCNN2 = find_opt_params(ConvNN2, bpCNN['activation'], bpCNN['start_weight'])"
   ]
  },
  {
   "cell_type": "code",
   "execution_count": 36,
   "metadata": {},
   "outputs": [
    {
     "name": "stdout",
     "output_type": "stream",
     "text": [
      "EPOCH 1: \n",
      "TRAIN loss: 0.703, VALIDATION loss: 0.483, accuraccy: 0.820\n",
      "EPOCH 2: \n",
      "TRAIN loss: 0.407, VALIDATION loss: 0.379, accuraccy: 0.866\n",
      "EPOCH 3: \n",
      "TRAIN loss: 0.349, VALIDATION loss: 0.363, accuraccy: 0.869\n",
      "EPOCH 4: \n",
      "TRAIN loss: 0.317, VALIDATION loss: 0.366, accuraccy: 0.871\n",
      "EPOCH 5: \n",
      "TRAIN loss: 0.287, VALIDATION loss: 0.398, accuraccy: 0.877\n",
      "EPOCH 6: \n",
      "TRAIN loss: 0.266, VALIDATION loss: 0.370, accuraccy: 0.880\n",
      "EPOCH 7: \n",
      "TRAIN loss: 0.248, VALIDATION loss: 0.352, accuraccy: 0.885\n",
      "EPOCH 8: \n",
      "TRAIN loss: 0.236, VALIDATION loss: 0.370, accuraccy: 0.885\n",
      "EPOCH 9: \n",
      "TRAIN loss: 0.222, VALIDATION loss: 0.402, accuraccy: 0.882\n",
      "EPOCH 10: \n",
      "TRAIN loss: 0.210, VALIDATION loss: 0.417, accuraccy: 0.884\n"
     ]
    }
   ],
   "source": [
    "model_conv2 = ConvNN2(start_weight = bpCNN['start_weight'])\n",
    "loss_fn_conv2 = torch.nn.CrossEntropyLoss()\n",
    "optimizer_conv2 = bpCNN2['optimizer'](model_conv2.parameters(), lr=bpCNN2['lr'])\n",
    "trainNN(model_conv2, loss_fn_conv2, optimizer_conv2, 10, \n",
    "        activation_function = bpCNN['activation'], printInfo=True)"
   ]
  },
  {
   "cell_type": "markdown",
   "metadata": {},
   "source": [
    "Vysledek je dcela zajimavý. Nejlepším optimalizatorem je tedy `Adadelta` s docela velkým v porovnaní s dopřednou síťí učicím parametrem 0.3. Můžeme si taky všimnout, že na rozmezi 10 epoch `Adadelta` je lepší než `Adam`."
   ]
  },
  {
   "cell_type": "markdown",
   "metadata": {},
   "source": [
    "#### Regularizace"
   ]
  },
  {
   "cell_type": "markdown",
   "metadata": {},
   "source": [
    "Jak i v případě dopředné neuronové sítě, zkusíme použít několik regularizačních technik pro zlepšení modelu. Nejprve zkusíme použít dropout a dávkovou normalizaci. Tyto techniky používáme z důvodů, které jsem již popsal u dopředné sítě. Předčasné zastavení budeme používat již na finálním modelu s větším počtem epoch. Nyní to však vyzkoušíme pouze na 10 epochách. Parametr `p` v `Dropout2d` nastavíme na 0.2, ten určuje pravděpodobnost vynechání jednotlivých neuronů vstupního tensoru během trénování. "
   ]
  },
  {
   "cell_type": "code",
   "execution_count": 48,
   "metadata": {},
   "outputs": [],
   "source": [
    "class ConvNNReg(nn.Module):\n",
    "    def __init__(self, start_weight=torch.nn.init.kaiming_uniform_):\n",
    "        super().__init__()\n",
    "        \n",
    "        self.conv1 = nn.Conv2d(in_channels = 1, out_channels = 64, kernel_size = 3, bias=False)\n",
    "        start_weight(self.conv1.weight)\n",
    "        self.pool1 = nn.MaxPool2d(kernel_size = 2, stride = 2)\n",
    "        self.conv1_bn=nn.BatchNorm2d(64)\n",
    "        \n",
    "        \n",
    "        self.conv2 = nn.Conv2d(64, 32, 3, bias=False)\n",
    "        start_weight(self.conv2.weight)\n",
    "        self.pool2 = nn.MaxPool2d(kernel_size = 2, stride = 2)\n",
    "        self.conv2_bn=nn.BatchNorm2d(32)\n",
    "        \n",
    "        \n",
    "        self.conv2_drop = nn.Dropout2d(p=0.2)\n",
    "        \n",
    "        \n",
    "        self.hd1 = nn.Linear(32*6*6, 256, bias=False)\n",
    "        start_weight(self.hd1.weight)\n",
    "        self.hd1_bn=nn.BatchNorm1d(256)\n",
    "        \n",
    "        \n",
    "        self.hd2 = nn.Linear(256, 128, bias=False)\n",
    "        start_weight(self.hd2.weight)\n",
    "        self.hd2_bn=nn.BatchNorm1d(128)\n",
    "        \n",
    "        \n",
    "        self.hd3 = nn.Linear(128, 64, bias=False)\n",
    "        start_weight(self.hd3.weight)\n",
    "        self.hd3_bn=nn.BatchNorm1d(64)\n",
    "        \n",
    "        \n",
    "        self.output = nn.Linear(64, 10, bias=False)\n",
    "        start_weight(self.output.weight)\n",
    "        \n",
    "        \n",
    "    def forward(self, x, activation_function=F.relu):\n",
    "        \n",
    "        x = self.conv1(x)\n",
    "        x = activation_function(self.conv1_bn(x))\n",
    "        x = self.pool1(x)\n",
    "        \n",
    "        x = self.conv2(x)\n",
    "        x = activation_function(self.conv2_bn(x))\n",
    "        x = self.pool2(x)\n",
    "        \n",
    "        x = self.conv2_drop(x)\n",
    "        \n",
    "        x = x.flatten(start_dim = 1)\n",
    "        x = self.hd1(x)\n",
    "        x = activation_function(self.hd1_bn(x))\n",
    "        x = self.hd2(x)\n",
    "        x = activation_function(self.hd2_bn(x))\n",
    "        x = self.hd3(x)\n",
    "        x = activation_function(self.hd3_bn(x))\n",
    "        x = self.output(x)\n",
    "        return x\n"
   ]
  },
  {
   "cell_type": "markdown",
   "metadata": {},
   "source": [
    "Model natrénujeme s již nalezenými parametry, včetně metody inicializace vah, aktivační funkce pro skryté vrstvy a optimalizátora."
   ]
  },
  {
   "cell_type": "code",
   "execution_count": 49,
   "metadata": {},
   "outputs": [
    {
     "name": "stdout",
     "output_type": "stream",
     "text": [
      "EPOCH 1: \n",
      "TRAIN loss: 0.615, VALIDATION loss: 0.389, accuraccy: 0.853\n",
      "EPOCH 2: \n",
      "TRAIN loss: 0.421, VALIDATION loss: 0.345, accuraccy: 0.870\n",
      "EPOCH 3: \n",
      "TRAIN loss: 0.371, VALIDATION loss: 0.344, accuraccy: 0.868\n",
      "EPOCH 4: \n",
      "TRAIN loss: 0.335, VALIDATION loss: 0.323, accuraccy: 0.878\n",
      "EPOCH 5: \n",
      "TRAIN loss: 0.307, VALIDATION loss: 0.305, accuraccy: 0.887\n",
      "EPOCH 6: \n",
      "TRAIN loss: 0.292, VALIDATION loss: 0.306, accuraccy: 0.883\n",
      "EPOCH 7: \n",
      "TRAIN loss: 0.276, VALIDATION loss: 0.271, accuraccy: 0.900\n",
      "EPOCH 8: \n",
      "TRAIN loss: 0.258, VALIDATION loss: 0.274, accuraccy: 0.899\n",
      "EPOCH 9: \n",
      "TRAIN loss: 0.252, VALIDATION loss: 0.264, accuraccy: 0.905\n",
      "EPOCH 10: \n",
      "TRAIN loss: 0.237, VALIDATION loss: 0.272, accuraccy: 0.901\n"
     ]
    }
   ],
   "source": [
    "model_conv_reg = ConvNNReg(start_weight = bpCNN['start_weight'])\n",
    "loss_fn_conv_reg = torch.nn.CrossEntropyLoss()\n",
    "optimizer_conv_reg = bpCNN2['optimizer'](model_conv_reg.parameters(), lr=bpCNN2['lr'])\n",
    "trainNN(model_conv_reg, loss_fn_conv_reg, optimizer_conv_reg, 10, \n",
    "        activation_function = bpCNN['activation'], printInfo=True)"
   ]
  },
  {
   "cell_type": "markdown",
   "metadata": {},
   "source": [
    "Z výsledků vidíme, že tento model dosahuje nejlepších výsledků a již po 7 epochách dosahuje přesnosti 0.9. Můžeme tedy jednoznačně říct, že dropout a dávková normalizace mají velký vliv na kvalitu modelu. I přestože jsou výsledky poměrně dobré, vyzkoušíme stejný model ještě na normalizovaných a standardizovaných datech."
   ]
  },
  {
   "cell_type": "markdown",
   "metadata": {},
   "source": [
    "#### Konvoluční neuronová síť pro standardizovaná a normalizovaná data"
   ]
  },
  {
   "cell_type": "markdown",
   "metadata": {},
   "source": [
    "Na finálním modelu konvoluční neuronové sítě vyzkoušíme normalizovaná a standardizovaná data. Kód je v podstatě stejný jako dříve, jenom teď předáváme normalizovaná data do funkce `trainNN`.\n",
    "\n",
    "**Normalizace**"
   ]
  },
  {
   "cell_type": "code",
   "execution_count": 51,
   "metadata": {},
   "outputs": [
    {
     "name": "stdout",
     "output_type": "stream",
     "text": [
      "EPOCH 1: \n",
      "TRAIN loss: 0.626, VALIDATION loss: 0.397, accuraccy: 0.857\n",
      "EPOCH 2: \n",
      "TRAIN loss: 0.435, VALIDATION loss: 0.402, accuraccy: 0.850\n",
      "EPOCH 3: \n",
      "TRAIN loss: 0.375, VALIDATION loss: 0.324, accuraccy: 0.881\n",
      "EPOCH 4: \n",
      "TRAIN loss: 0.343, VALIDATION loss: 0.334, accuraccy: 0.877\n",
      "EPOCH 5: \n",
      "TRAIN loss: 0.318, VALIDATION loss: 0.293, accuraccy: 0.890\n",
      "EPOCH 6: \n",
      "TRAIN loss: 0.298, VALIDATION loss: 0.290, accuraccy: 0.894\n",
      "EPOCH 7: \n",
      "TRAIN loss: 0.282, VALIDATION loss: 0.279, accuraccy: 0.896\n",
      "EPOCH 8: \n",
      "TRAIN loss: 0.268, VALIDATION loss: 0.280, accuraccy: 0.898\n",
      "EPOCH 9: \n",
      "TRAIN loss: 0.253, VALIDATION loss: 0.279, accuraccy: 0.896\n",
      "EPOCH 10: \n",
      "TRAIN loss: 0.244, VALIDATION loss: 0.293, accuraccy: 0.893\n"
     ]
    }
   ],
   "source": [
    "model_conv_reg_Norm = ConvNNReg(start_weight=bpCNN['start_weight'])\n",
    "loss_fn_conv_reg_Norm = torch.nn.CrossEntropyLoss()\n",
    "optimizer_conv_reg_Norm = bpCNN2['optimizer'](model_conv_reg_Norm.parameters(), lr=bpCNN2['lr'])\n",
    "trainNN(model_conv_reg_Norm, loss_fn_conv_reg_Norm, optimizer_conv_reg_Norm, 10, printInfo=True, \n",
    "        activation_function=bpCNN['activation'], \n",
    "        train_data_loader=train_loader_MinMax, val_data_loader=val_loader_MinMax)"
   ]
  },
  {
   "cell_type": "markdown",
   "metadata": {},
   "source": [
    "Jak i v případě dopředné neuronové sítě, model s MinMax normalizací dosahuje téměř stejných výsledků jako model s původními daty. Vzhledem k preferenci jednoduchých modelů se rozhodneme nepoužívat normalizaci."
   ]
  },
  {
   "cell_type": "markdown",
   "metadata": {},
   "source": [
    "**Standardizace**"
   ]
  },
  {
   "cell_type": "code",
   "execution_count": 52,
   "metadata": {},
   "outputs": [
    {
     "name": "stdout",
     "output_type": "stream",
     "text": [
      "EPOCH 1: \n",
      "TRAIN loss: 0.616, VALIDATION loss: 0.408, accuraccy: 0.844\n",
      "EPOCH 2: \n",
      "TRAIN loss: 0.420, VALIDATION loss: 0.410, accuraccy: 0.843\n",
      "EPOCH 3: \n",
      "TRAIN loss: 0.367, VALIDATION loss: 0.367, accuraccy: 0.863\n",
      "EPOCH 4: \n",
      "TRAIN loss: 0.338, VALIDATION loss: 0.323, accuraccy: 0.881\n",
      "EPOCH 5: \n",
      "TRAIN loss: 0.314, VALIDATION loss: 0.324, accuraccy: 0.881\n",
      "EPOCH 6: \n",
      "TRAIN loss: 0.290, VALIDATION loss: 0.302, accuraccy: 0.890\n",
      "EPOCH 7: \n",
      "TRAIN loss: 0.274, VALIDATION loss: 0.296, accuraccy: 0.891\n",
      "EPOCH 8: \n",
      "TRAIN loss: 0.263, VALIDATION loss: 0.359, accuraccy: 0.868\n",
      "EPOCH 9: \n",
      "TRAIN loss: 0.248, VALIDATION loss: 0.294, accuraccy: 0.891\n",
      "EPOCH 10: \n",
      "TRAIN loss: 0.241, VALIDATION loss: 0.291, accuraccy: 0.892\n"
     ]
    }
   ],
   "source": [
    "model_conv_reg_Stand = ConvNNReg(start_weight=bpCNN['start_weight'])\n",
    "loss_fn_conv_reg_Stand = torch.nn.CrossEntropyLoss()\n",
    "optimizer_conv_reg_Stand = bpCNN2['optimizer'](model_conv_reg_Stand.parameters(), lr=bpCNN2['lr'])\n",
    "trainNN(model_conv_reg_Stand, loss_fn_conv_reg_Stand, optimizer_conv_reg_Stand, 10, printInfo=True, \n",
    "        activation_function=bpCNN['activation'],\n",
    "        train_data_loader=train_loader_Stand, val_data_loader=val_loader_Stand)"
   ]
  },
  {
   "cell_type": "markdown",
   "metadata": {},
   "source": [
    "Standardizace jak i MinMax normalizace nepřináší žádný přírůstek v přesnosti ani snížení hodnoty ztrátové funkce. Proto jako výsledný model dopředné neuronové sítě budeme uvažovat model na původních datech."
   ]
  },
  {
   "cell_type": "markdown",
   "metadata": {},
   "source": [
    "### Finální model"
   ]
  },
  {
   "cell_type": "markdown",
   "metadata": {},
   "source": [
    "Natrénujeme finální model po dobu 50 epoch s použitím předčasného zastavení. Předčasné zastavení je již implementováno v funkci `trainNN`, takže pouze nastavíme parametr `onEarlyStop` na hodnotu `True`."
   ]
  },
  {
   "cell_type": "code",
   "execution_count": 53,
   "metadata": {},
   "outputs": [
    {
     "name": "stdout",
     "output_type": "stream",
     "text": [
      "Best model saved\n",
      "EPOCH 1: \n",
      "TRAIN loss: 0.616, VALIDATION loss: 0.403, accuraccy: 0.849\n",
      "Best model saved\n",
      "EPOCH 2: \n",
      "TRAIN loss: 0.422, VALIDATION loss: 0.337, accuraccy: 0.873\n",
      "EPOCH 3: \n",
      "TRAIN loss: 0.370, VALIDATION loss: 0.340, accuraccy: 0.873\n",
      "Best model saved\n",
      "EPOCH 4: \n",
      "TRAIN loss: 0.337, VALIDATION loss: 0.318, accuraccy: 0.881\n",
      "Best model saved\n",
      "EPOCH 5: \n",
      "TRAIN loss: 0.313, VALIDATION loss: 0.300, accuraccy: 0.888\n",
      "EPOCH 6: \n",
      "TRAIN loss: 0.296, VALIDATION loss: 0.301, accuraccy: 0.887\n",
      "Best model saved\n",
      "EPOCH 7: \n",
      "TRAIN loss: 0.282, VALIDATION loss: 0.280, accuraccy: 0.898\n",
      "Best model saved\n",
      "EPOCH 8: \n",
      "TRAIN loss: 0.264, VALIDATION loss: 0.274, accuraccy: 0.897\n",
      "Best model saved\n",
      "EPOCH 9: \n",
      "TRAIN loss: 0.255, VALIDATION loss: 0.272, accuraccy: 0.901\n",
      "EPOCH 10: \n",
      "TRAIN loss: 0.245, VALIDATION loss: 0.277, accuraccy: 0.899\n",
      "EPOCH 11: \n",
      "TRAIN loss: 0.231, VALIDATION loss: 0.294, accuraccy: 0.890\n",
      "Best model saved\n",
      "EPOCH 12: \n",
      "TRAIN loss: 0.224, VALIDATION loss: 0.270, accuraccy: 0.904\n",
      "Best model saved\n",
      "EPOCH 13: \n",
      "TRAIN loss: 0.216, VALIDATION loss: 0.270, accuraccy: 0.907\n",
      "EPOCH 14: \n",
      "TRAIN loss: 0.202, VALIDATION loss: 0.276, accuraccy: 0.904\n",
      "EPOCH 15: \n",
      "TRAIN loss: 0.194, VALIDATION loss: 0.307, accuraccy: 0.893\n",
      "EPOCH 16: \n",
      "TRAIN loss: 0.191, VALIDATION loss: 0.291, accuraccy: 0.900\n",
      "EPOCH 17: \n",
      "TRAIN loss: 0.182, VALIDATION loss: 0.279, accuraccy: 0.903\n",
      "EPOCH 18: \n",
      "TRAIN loss: 0.173, VALIDATION loss: 0.282, accuraccy: 0.905\n",
      "EPOCH 19: \n",
      "TRAIN loss: 0.169, VALIDATION loss: 0.289, accuraccy: 0.908\n",
      "EPOCH 20: \n",
      "TRAIN loss: 0.161, VALIDATION loss: 0.340, accuraccy: 0.895\n",
      "EPOCH 21: \n",
      "TRAIN loss: 0.158, VALIDATION loss: 0.287, accuraccy: 0.906\n",
      "EPOCH 22: \n",
      "TRAIN loss: 0.153, VALIDATION loss: 0.290, accuraccy: 0.906\n"
     ]
    },
    {
     "data": {
      "image/png": "[encoded data removed]",
      "text/plain": [
       "<Figure size 640x480 with 1 Axes>"
      ]
     },
     "metadata": {},
     "output_type": "display_data"
    }
   ],
   "source": [
    "model_conv_fin = ConvNNReg(start_weight = bpCNN['start_weight'])\n",
    "loss_fn_conv_fin = torch.nn.CrossEntropyLoss()\n",
    "optimizer_conv_fin = bpCNN2['optimizer'](model_conv_fin.parameters(), lr=bpCNN2['lr'])\n",
    "trainNN(model_conv_fin, loss_fn_conv_fin, optimizer_conv_fin, 50, \n",
    "        activation_function = bpCNN['activation'], printInfo=True, showGraph=True, onEarlyStop=True)"
   ]
  },
  {
   "cell_type": "markdown",
   "metadata": {},
   "source": [
    "Z grafu je zřejmé, že nejlepší výsledek dosahujeme po 13 epochách. Hodnota ztrátové funkce na validačním datasetu již neklesá a někdy dokonce roste, ale to je pouze kvůli předčasnému zastavení po 9 epochách. Pokud bychom pokračovali v trénování, výsledek by se pravděpodobně ještě mohl zlepšil.\n",
    "\n",
    "Načteme nejlepší model"
   ]
  },
  {
   "cell_type": "code",
   "execution_count": 54,
   "metadata": {},
   "outputs": [
    {
     "data": {
      "text/plain": [
       "<All keys matched successfully>"
      ]
     },
     "execution_count": 54,
     "metadata": {},
     "output_type": "execute_result"
    }
   ],
   "source": [
    "model_conv_fin.load_state_dict(torch.load(\"saves/best_model.pt\"))"
   ]
  },
  {
   "cell_type": "markdown",
   "metadata": {},
   "source": [
    "Pro další měření hodnot na evaluačních datech, přepneme model do režimu evaluace pomocí metody `eval()`."
   ]
  },
  {
   "cell_type": "code",
   "execution_count": 55,
   "metadata": {},
   "outputs": [
    {
     "data": {
      "text/plain": [
       "ConvNNReg(\n",
       "  (conv1): Conv2d(1, 64, kernel_size=(3, 3), stride=(1, 1), bias=False)\n",
       "  (pool1): MaxPool2d(kernel_size=2, stride=2, padding=0, dilation=1, ceil_mode=False)\n",
       "  (conv1_bn): BatchNorm2d(64, eps=1e-05, momentum=0.1, affine=True, track_running_stats=True)\n",
       "  (conv2): Conv2d(64, 32, kernel_size=(3, 3), stride=(1, 1), bias=False)\n",
       "  (pool2): MaxPool2d(kernel_size=2, stride=2, padding=0, dilation=1, ceil_mode=False)\n",
       "  (conv2_bn): BatchNorm2d(32, eps=1e-05, momentum=0.1, affine=True, track_running_stats=True)\n",
       "  (conv2_drop): Dropout2d(p=0.2, inplace=False)\n",
       "  (hd1): Linear(in_features=1152, out_features=256, bias=False)\n",
       "  (hd1_bn): BatchNorm1d(256, eps=1e-05, momentum=0.1, affine=True, track_running_stats=True)\n",
       "  (hd2): Linear(in_features=256, out_features=128, bias=False)\n",
       "  (hd2_bn): BatchNorm1d(128, eps=1e-05, momentum=0.1, affine=True, track_running_stats=True)\n",
       "  (hd3): Linear(in_features=128, out_features=64, bias=False)\n",
       "  (hd3_bn): BatchNorm1d(64, eps=1e-05, momentum=0.1, affine=True, track_running_stats=True)\n",
       "  (output): Linear(in_features=64, out_features=10, bias=False)\n",
       ")"
      ]
     },
     "execution_count": 55,
     "metadata": {},
     "output_type": "execute_result"
    }
   ],
   "source": [
    "model_conv_fin.eval()"
   ]
  },
  {
   "cell_type": "markdown",
   "metadata": {},
   "source": [
    "Naměřime přesnost na testovacích datech."
   ]
  },
  {
   "cell_type": "code",
   "execution_count": 118,
   "metadata": {},
   "outputs": [
    {
     "name": "stdout",
     "output_type": "stream",
     "text": [
      "Testovací přesnost: 0.9007142857142857\n"
     ]
    }
   ],
   "source": [
    "ii = 0\n",
    "test_predictions = np.zeros(len(Xtest)) #for prediction \n",
    "test_y = np.zeros(len(Xtest)) #for real values\n",
    "for vdata in test_loader:\n",
    "    vinputs, vlabels = vdata\n",
    "    #compute outputs and loss\n",
    "    with torch.no_grad(): \n",
    "        voutputs = model_conv_fin(vinputs)\n",
    "        vloss = loss_fn_conv_fin(voutputs, vlabels)\n",
    "    #save prediction values\n",
    "    test_predictions[ii:(ii + vinputs.shape[0])] = voutputs.argmax(1).numpy()\n",
    "    #save real values\n",
    "    test_y[ii:(ii + vinputs.shape[0])] = vlabels.numpy()\n",
    "    #inc index\n",
    "    ii += vinputs.shape[0]\n",
    "\n",
    "#compute accuracy using sklearn     \n",
    "from sklearn.metrics import accuracy_score\n",
    "print(f\"Testovací přesnost: {accuracy_score(test_y, test_predictions)}\")"
   ]
  },
  {
   "cell_type": "markdown",
   "metadata": {},
   "source": [
    "Testovací přesnost je téměř stejná jako validační, což je docela dobře. Můžeme předpokládat, že přesnost na nových datech bude přibližně stejná.\n",
    "\n",
    "Teď naměříme výsledky pro evaluační dataset. Postupujeme stejně jako s trénovacím datasetem, jenom si uložíme proměnnou `ID`, kterou pak přidáme do výsledného souboru."
   ]
  },
  {
   "cell_type": "code",
   "execution_count": 114,
   "metadata": {},
   "outputs": [
    {
     "data": {
      "text/plain": [
       "(14000, 1024)"
      ]
     },
     "execution_count": 114,
     "metadata": {},
     "output_type": "execute_result"
    }
   ],
   "source": [
    "evaluation = pd.read_csv(\"evaluate.csv\")\n",
    "index_evaluation = evaluation.ID\n",
    "evaluation = evaluation.drop(\"ID\", axis = 1)\n",
    "\n",
    "evaluation = evaluation.to_numpy()\n",
    "evaluation.shape"
   ]
  },
  {
   "cell_type": "markdown",
   "metadata": {},
   "source": [
    "Hodnoty labelů naměříme stejně jako v případě testovacích dat. Poté je uložíme do dataframu a ten uložíme do souboru."
   ]
  },
  {
   "cell_type": "code",
   "execution_count": 115,
   "metadata": {},
   "outputs": [],
   "source": [
    "evaluation = evaluation.reshape(14000,1,32,32)\n",
    "dataset_evaluation = torch.tensor(evaluation, dtype = torch.float)\n",
    "dataset_evaluation\n",
    "with torch.no_grad():\n",
    "       predictions = model_conv_fin(dataset_evaluation)\n",
    "        \n",
    "prediction_value = predictions.argmax(1).numpy()\n",
    "results = pd.DataFrame({'ID': index_evaluation, 'label': prediction_value})\n",
    "results.to_csv('results.csv', index=False)"
   ]
  },
  {
   "cell_type": "code",
   "execution_count": null,
   "metadata": {},
   "outputs": [],
   "source": []
  }
 ],
 "metadata": {
  "kernelspec": {
   "display_name": "Python 3 (ipykernel)",
   "language": "python",
   "name": "python3"
  },
  "language_info": {
   "codemirror_mode": {
    "name": "ipython",
    "version": 3
   },
   "file_extension": ".py",
   "mimetype": "text/x-python",
   "name": "python",
   "nbconvert_exporter": "python",
   "pygments_lexer": "ipython3",
   "version": "3.10.0"
  }
 },
 "nbformat": 4,
 "nbformat_minor": 4
}
