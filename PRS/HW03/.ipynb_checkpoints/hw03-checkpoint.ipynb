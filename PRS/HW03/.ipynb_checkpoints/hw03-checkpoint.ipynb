{
 "cells": [
  {
   "cell_type": "markdown",
   "id": "7c022bfb",
   "metadata": {},
   "source": [
    "# Analýza hrubého domácího produktu evropských zemí v roce 2022."
   ]
  },
  {
   "cell_type": "markdown",
   "id": "e041dfab-2443-4491-b220-96048c170ed9",
   "metadata": {},
   "source": [
    "Naimportujeme knihovny pro zpracování a vizualizaci dat, vytváření tabulek a provedení dalších statistických operací."
   ]
  },
  {
   "cell_type": "code",
   "execution_count": 1,
   "id": "a6dce45c",
   "metadata": {
    "tags": []
   },
   "outputs": [
    {
     "name": "stderr",
     "output_type": "stream",
     "text": [
      "Загрузка требуемого пакета: kableExtra\n",
      "\n",
      "\n",
      "Присоединяю пакет: 'olsrr'\n",
      "\n",
      "\n",
      "Следующий объект скрыт от 'package:datasets':\n",
      "\n",
      "    rivers\n",
      "\n",
      "\n",
      "Загрузка требуемого пакета: zoo\n",
      "\n",
      "\n",
      "Присоединяю пакет: 'zoo'\n",
      "\n",
      "\n",
      "Следующие объекты скрыты от 'package:base':\n",
      "\n",
      "    as.Date, as.Date.numeric\n",
      "\n",
      "\n",
      "Загрузка требуемого пакета: carData\n",
      "\n",
      "\n",
      "Присоединяю пакет: 'MASS'\n",
      "\n",
      "\n",
      "Следующий объект скрыт от 'package:olsrr':\n",
      "\n",
      "    cement\n",
      "\n",
      "\n"
     ]
    }
   ],
   "source": [
    "library(eurostat)\n",
    "library(vtable)\n",
    "library(ggplot2)\n",
    "library(olsrr)\n",
    "library(lmtest)\n",
    "library(tibble)\n",
    "library(moments)\n",
    "library(cowplot)\n",
    "library(car)\n",
    "library(MASS)\n",
    "\n",
    "\n",
    "options(width=200, repr.plot.width=13, repr.plot.height=10) \n",
    "options(scipen = 5)"
   ]
  },
  {
   "cell_type": "markdown",
   "id": "6cd87f4f",
   "metadata": {},
   "source": [
    "Příjmení reprezentanta 'Stambrouski', délka řetězce 11 a den a narození 18."
   ]
  },
  {
   "cell_type": "code",
   "execution_count": 2,
   "id": "3a942e2d",
   "metadata": {
    "tags": []
   },
   "outputs": [
    {
     "data": {
      "text/html": [
       "<span style=white-space:pre-wrap>'Cislo datasetu :  11'</span>"
      ],
      "text/latex": [
       "'Cislo datasetu :  11'"
      ],
      "text/markdown": [
       "<span style=white-space:pre-wrap>'Cislo datasetu :  11'</span>"
      ],
      "text/plain": [
       "[1] \"Cislo datasetu :  11\""
      ]
     },
     "metadata": {},
     "output_type": "display_data"
    }
   ],
   "source": [
    "k = 18\n",
    "l = 11\n",
    "m = (((k+l)*47)%%11) +1\n",
    "paste('Číslo datasetu : ', m)"
   ]
  },
  {
   "cell_type": "markdown",
   "id": "f2d4a93b",
   "metadata": {},
   "source": [
    "## Úloha 1"
   ]
  },
  {
   "cell_type": "markdown",
   "id": "318090e5-23d1-459d-be5a-94f46a8292ee",
   "metadata": {},
   "source": [
    "### Prezentace dat"
   ]
  },
  {
   "cell_type": "markdown",
   "id": "3f29f78a",
   "metadata": {},
   "source": [
    "> Krátce prezentujte rozdělení HDP a jeho charakteristiky číselně i graficky."
   ]
  },
  {
   "cell_type": "markdown",
   "id": "c763133d-db0f-4519-8161-149f334a6582",
   "metadata": {},
   "source": [
    "Na základě identifikátoru datasetu načteme potřebná data z Eurostatu."
   ]
  },
  {
   "cell_type": "code",
   "execution_count": 3,
   "id": "e50b4187",
   "metadata": {
    "tags": []
   },
   "outputs": [],
   "source": [
    "id <- \"nama_10_gdp\" \n",
    "data <- get_eurostat(id=id)"
   ]
  },
  {
   "cell_type": "markdown",
   "id": "35b15f1a-2809-4d58-b2ac-438c253dfeba",
   "metadata": {},
   "source": [
    "Odfiltrujeme data podle pokynů úlohy. Zajímá nás výpočet tržních cen, kde hodnota `na_item` je `B1GQ`, jednotka `unit` je `CP_MEUR` (vyjádření v milionech eur) a rok `time` je `2022-01-01`."
   ]
  },
  {
   "cell_type": "code",
   "execution_count": 4,
   "id": "6e6b3767",
   "metadata": {
    "tags": []
   },
   "outputs": [
    {
     "data": {
      "text/html": [
       "<table class=\"dataframe\">\n",
       "<caption>A tibble: 6 x 5</caption>\n",
       "<thead>\n",
       "\t<tr><th scope=col>unit</th><th scope=col>na_item</th><th scope=col>geo</th><th scope=col>time</th><th scope=col>values</th></tr>\n",
       "\t<tr><th scope=col>&lt;chr&gt;</th><th scope=col>&lt;chr&gt;</th><th scope=col>&lt;chr&gt;</th><th scope=col>&lt;date&gt;</th><th scope=col>&lt;dbl&gt;</th></tr>\n",
       "</thead>\n",
       "<tbody>\n",
       "\t<tr><td>CP_MEUR</td><td>B1GQ</td><td>AL</td><td>2022-01-01</td><td> 17939.7</td></tr>\n",
       "\t<tr><td>CP_MEUR</td><td>B1GQ</td><td>AT</td><td>2022-01-01</td><td>446933.3</td></tr>\n",
       "\t<tr><td>CP_MEUR</td><td>B1GQ</td><td>BA</td><td>2022-01-01</td><td> 23317.3</td></tr>\n",
       "\t<tr><td>CP_MEUR</td><td>B1GQ</td><td>BE</td><td>2022-01-01</td><td>549456.2</td></tr>\n",
       "\t<tr><td>CP_MEUR</td><td>B1GQ</td><td>BG</td><td>2022-01-01</td><td> 84560.6</td></tr>\n",
       "\t<tr><td>CP_MEUR</td><td>B1GQ</td><td>CH</td><td>2022-01-01</td><td>767616.2</td></tr>\n",
       "</tbody>\n",
       "</table>\n"
      ],
      "text/latex": [
       "A tibble: 6 x 5\n",
       "\\begin{tabular}{lllll}\n",
       " unit & na\\_item & geo & time & values\\\\\n",
       " <chr> & <chr> & <chr> & <date> & <dbl>\\\\\n",
       "\\hline\n",
       "\t CP\\_MEUR & B1GQ & AL & 2022-01-01 &  17939.7\\\\\n",
       "\t CP\\_MEUR & B1GQ & AT & 2022-01-01 & 446933.3\\\\\n",
       "\t CP\\_MEUR & B1GQ & BA & 2022-01-01 &  23317.3\\\\\n",
       "\t CP\\_MEUR & B1GQ & BE & 2022-01-01 & 549456.2\\\\\n",
       "\t CP\\_MEUR & B1GQ & BG & 2022-01-01 &  84560.6\\\\\n",
       "\t CP\\_MEUR & B1GQ & CH & 2022-01-01 & 767616.2\\\\\n",
       "\\end{tabular}\n"
      ],
      "text/markdown": [
       "\n",
       "A tibble: 6 x 5\n",
       "\n",
       "| unit &lt;chr&gt; | na_item &lt;chr&gt; | geo &lt;chr&gt; | time &lt;date&gt; | values &lt;dbl&gt; |\n",
       "|---|---|---|---|---|\n",
       "| CP_MEUR | B1GQ | AL | 2022-01-01 |  17939.7 |\n",
       "| CP_MEUR | B1GQ | AT | 2022-01-01 | 446933.3 |\n",
       "| CP_MEUR | B1GQ | BA | 2022-01-01 |  23317.3 |\n",
       "| CP_MEUR | B1GQ | BE | 2022-01-01 | 549456.2 |\n",
       "| CP_MEUR | B1GQ | BG | 2022-01-01 |  84560.6 |\n",
       "| CP_MEUR | B1GQ | CH | 2022-01-01 | 767616.2 |\n",
       "\n"
      ],
      "text/plain": [
       "  unit    na_item geo time       values  \n",
       "1 CP_MEUR B1GQ    AL  2022-01-01  17939.7\n",
       "2 CP_MEUR B1GQ    AT  2022-01-01 446933.3\n",
       "3 CP_MEUR B1GQ    BA  2022-01-01  23317.3\n",
       "4 CP_MEUR B1GQ    BE  2022-01-01 549456.2\n",
       "5 CP_MEUR B1GQ    BG  2022-01-01  84560.6\n",
       "6 CP_MEUR B1GQ    CH  2022-01-01 767616.2"
      ]
     },
     "metadata": {},
     "output_type": "display_data"
    },
    {
     "data": {
      "text/html": [
       "<table class=\"dataframe\">\n",
       "<caption>A tibble: 6 x 5</caption>\n",
       "<thead>\n",
       "\t<tr><th scope=col>unit</th><th scope=col>na_item</th><th scope=col>geo</th><th scope=col>time</th><th scope=col>values</th></tr>\n",
       "\t<tr><th scope=col>&lt;chr&gt;</th><th scope=col>&lt;chr&gt;</th><th scope=col>&lt;chr&gt;</th><th scope=col>&lt;date&gt;</th><th scope=col>&lt;dbl&gt;</th></tr>\n",
       "</thead>\n",
       "<tbody>\n",
       "\t<tr><td>CP_MEUR</td><td>B1GQ</td><td>RS</td><td>2022-01-01</td><td> 60367.9</td></tr>\n",
       "\t<tr><td>CP_MEUR</td><td>B1GQ</td><td>SE</td><td>2022-01-01</td><td>560958.6</td></tr>\n",
       "\t<tr><td>CP_MEUR</td><td>B1GQ</td><td>SI</td><td>2022-01-01</td><td> 58988.5</td></tr>\n",
       "\t<tr><td>CP_MEUR</td><td>B1GQ</td><td>SK</td><td>2022-01-01</td><td>109651.9</td></tr>\n",
       "\t<tr><td>CP_MEUR</td><td>B1GQ</td><td>TR</td><td>2022-01-01</td><td>862010.8</td></tr>\n",
       "\t<tr><td>CP_MEUR</td><td>B1GQ</td><td>XK</td><td>2022-01-01</td><td>  8954.9</td></tr>\n",
       "</tbody>\n",
       "</table>\n"
      ],
      "text/latex": [
       "A tibble: 6 x 5\n",
       "\\begin{tabular}{lllll}\n",
       " unit & na\\_item & geo & time & values\\\\\n",
       " <chr> & <chr> & <chr> & <date> & <dbl>\\\\\n",
       "\\hline\n",
       "\t CP\\_MEUR & B1GQ & RS & 2022-01-01 &  60367.9\\\\\n",
       "\t CP\\_MEUR & B1GQ & SE & 2022-01-01 & 560958.6\\\\\n",
       "\t CP\\_MEUR & B1GQ & SI & 2022-01-01 &  58988.5\\\\\n",
       "\t CP\\_MEUR & B1GQ & SK & 2022-01-01 & 109651.9\\\\\n",
       "\t CP\\_MEUR & B1GQ & TR & 2022-01-01 & 862010.8\\\\\n",
       "\t CP\\_MEUR & B1GQ & XK & 2022-01-01 &   8954.9\\\\\n",
       "\\end{tabular}\n"
      ],
      "text/markdown": [
       "\n",
       "A tibble: 6 x 5\n",
       "\n",
       "| unit &lt;chr&gt; | na_item &lt;chr&gt; | geo &lt;chr&gt; | time &lt;date&gt; | values &lt;dbl&gt; |\n",
       "|---|---|---|---|---|\n",
       "| CP_MEUR | B1GQ | RS | 2022-01-01 |  60367.9 |\n",
       "| CP_MEUR | B1GQ | SE | 2022-01-01 | 560958.6 |\n",
       "| CP_MEUR | B1GQ | SI | 2022-01-01 |  58988.5 |\n",
       "| CP_MEUR | B1GQ | SK | 2022-01-01 | 109651.9 |\n",
       "| CP_MEUR | B1GQ | TR | 2022-01-01 | 862010.8 |\n",
       "| CP_MEUR | B1GQ | XK | 2022-01-01 |   8954.9 |\n",
       "\n"
      ],
      "text/plain": [
       "  unit    na_item geo time       values  \n",
       "1 CP_MEUR B1GQ    RS  2022-01-01  60367.9\n",
       "2 CP_MEUR B1GQ    SE  2022-01-01 560958.6\n",
       "3 CP_MEUR B1GQ    SI  2022-01-01  58988.5\n",
       "4 CP_MEUR B1GQ    SK  2022-01-01 109651.9\n",
       "5 CP_MEUR B1GQ    TR  2022-01-01 862010.8\n",
       "6 CP_MEUR B1GQ    XK  2022-01-01   8954.9"
      ]
     },
     "metadata": {},
     "output_type": "display_data"
    }
   ],
   "source": [
    "data_de <- data[data$na_item==\"B1GQ\",]\n",
    "data_de <- data_de[data_de$unit==\"CP_MEUR\",]\n",
    "data_de <- data_de[data_de$time >= \"2022-01-01\",]\n",
    "head(data_de)\n",
    "tail(data_de)"
   ]
  },
  {
   "cell_type": "markdown",
   "id": "d767b761-317c-4a9b-9ea7-1664f64bfaf3",
   "metadata": {},
   "source": [
    "Sloupce `time`, `unit` a `na_item` už nepotřebujeme, proto je odstraníme."
   ]
  },
  {
   "cell_type": "code",
   "execution_count": 5,
   "id": "b791cc07",
   "metadata": {
    "tags": []
   },
   "outputs": [
    {
     "data": {
      "text/html": [
       "<table class=\"dataframe\">\n",
       "<caption>A tibble: 6 x 2</caption>\n",
       "<thead>\n",
       "\t<tr><th scope=col>geo</th><th scope=col>values</th></tr>\n",
       "\t<tr><th scope=col>&lt;chr&gt;</th><th scope=col>&lt;dbl&gt;</th></tr>\n",
       "</thead>\n",
       "<tbody>\n",
       "\t<tr><td>AL</td><td> 17939.7</td></tr>\n",
       "\t<tr><td>AT</td><td>446933.3</td></tr>\n",
       "\t<tr><td>BA</td><td> 23317.3</td></tr>\n",
       "\t<tr><td>BE</td><td>549456.2</td></tr>\n",
       "\t<tr><td>BG</td><td> 84560.6</td></tr>\n",
       "\t<tr><td>CH</td><td>767616.2</td></tr>\n",
       "</tbody>\n",
       "</table>\n"
      ],
      "text/latex": [
       "A tibble: 6 x 2\n",
       "\\begin{tabular}{ll}\n",
       " geo & values\\\\\n",
       " <chr> & <dbl>\\\\\n",
       "\\hline\n",
       "\t AL &  17939.7\\\\\n",
       "\t AT & 446933.3\\\\\n",
       "\t BA &  23317.3\\\\\n",
       "\t BE & 549456.2\\\\\n",
       "\t BG &  84560.6\\\\\n",
       "\t CH & 767616.2\\\\\n",
       "\\end{tabular}\n"
      ],
      "text/markdown": [
       "\n",
       "A tibble: 6 x 2\n",
       "\n",
       "| geo &lt;chr&gt; | values &lt;dbl&gt; |\n",
       "|---|---|\n",
       "| AL |  17939.7 |\n",
       "| AT | 446933.3 |\n",
       "| BA |  23317.3 |\n",
       "| BE | 549456.2 |\n",
       "| BG |  84560.6 |\n",
       "| CH | 767616.2 |\n",
       "\n"
      ],
      "text/plain": [
       "  geo values  \n",
       "1 AL   17939.7\n",
       "2 AT  446933.3\n",
       "3 BA   23317.3\n",
       "4 BE  549456.2\n",
       "5 BG   84560.6\n",
       "6 CH  767616.2"
      ]
     },
     "metadata": {},
     "output_type": "display_data"
    },
    {
     "data": {
      "text/html": [
       "<table class=\"dataframe\">\n",
       "<caption>A tibble: 6 x 2</caption>\n",
       "<thead>\n",
       "\t<tr><th scope=col>geo</th><th scope=col>values</th></tr>\n",
       "\t<tr><th scope=col>&lt;chr&gt;</th><th scope=col>&lt;dbl&gt;</th></tr>\n",
       "</thead>\n",
       "<tbody>\n",
       "\t<tr><td>RS</td><td> 60367.9</td></tr>\n",
       "\t<tr><td>SE</td><td>560958.6</td></tr>\n",
       "\t<tr><td>SI</td><td> 58988.5</td></tr>\n",
       "\t<tr><td>SK</td><td>109651.9</td></tr>\n",
       "\t<tr><td>TR</td><td>862010.8</td></tr>\n",
       "\t<tr><td>XK</td><td>  8954.9</td></tr>\n",
       "</tbody>\n",
       "</table>\n"
      ],
      "text/latex": [
       "A tibble: 6 x 2\n",
       "\\begin{tabular}{ll}\n",
       " geo & values\\\\\n",
       " <chr> & <dbl>\\\\\n",
       "\\hline\n",
       "\t RS &  60367.9\\\\\n",
       "\t SE & 560958.6\\\\\n",
       "\t SI &  58988.5\\\\\n",
       "\t SK & 109651.9\\\\\n",
       "\t TR & 862010.8\\\\\n",
       "\t XK &   8954.9\\\\\n",
       "\\end{tabular}\n"
      ],
      "text/markdown": [
       "\n",
       "A tibble: 6 x 2\n",
       "\n",
       "| geo &lt;chr&gt; | values &lt;dbl&gt; |\n",
       "|---|---|\n",
       "| RS |  60367.9 |\n",
       "| SE | 560958.6 |\n",
       "| SI |  58988.5 |\n",
       "| SK | 109651.9 |\n",
       "| TR | 862010.8 |\n",
       "| XK |   8954.9 |\n",
       "\n"
      ],
      "text/plain": [
       "  geo values  \n",
       "1 RS   60367.9\n",
       "2 SE  560958.6\n",
       "3 SI   58988.5\n",
       "4 SK  109651.9\n",
       "5 TR  862010.8\n",
       "6 XK    8954.9"
      ]
     },
     "metadata": {},
     "output_type": "display_data"
    }
   ],
   "source": [
    "data_de$time <- NULL\n",
    "data_de$unit <- NULL\n",
    "data_de$na_item <- NULL\n",
    "head(data_de)\n",
    "tail(data_de)"
   ]
  },
  {
   "cell_type": "markdown",
   "id": "7fd1dd22-130c-49fb-b18e-edbd65a2a175",
   "metadata": {},
   "source": [
    "Pojďme se podívat na hodnoty HDP."
   ]
  },
  {
   "cell_type": "code",
   "execution_count": 6,
   "id": "6d32c616",
   "metadata": {
    "tags": []
   },
   "outputs": [
    {
     "data": {
      "text/html": [
       "<table class=\"dataframe\">\n",
       "<caption>A tibble: 42 x 2</caption>\n",
       "<thead>\n",
       "\t<tr><th scope=col>geo</th><th scope=col>values</th></tr>\n",
       "\t<tr><th scope=col>&lt;chr&gt;</th><th scope=col>&lt;dbl&gt;</th></tr>\n",
       "</thead>\n",
       "<tbody>\n",
       "\t<tr><td>AL       </td><td>   17939.7</td></tr>\n",
       "\t<tr><td>AT       </td><td>  446933.3</td></tr>\n",
       "\t<tr><td>BA       </td><td>   23317.3</td></tr>\n",
       "\t<tr><td>BE       </td><td>  549456.2</td></tr>\n",
       "\t<tr><td>BG       </td><td>   84560.6</td></tr>\n",
       "\t<tr><td>CH       </td><td>  767616.2</td></tr>\n",
       "\t<tr><td>CY       </td><td>   27006.4</td></tr>\n",
       "\t<tr><td>CZ       </td><td>  276605.9</td></tr>\n",
       "\t<tr><td>DE       </td><td> 3869900.0</td></tr>\n",
       "\t<tr><td>DK       </td><td>  376087.2</td></tr>\n",
       "\t<tr><td>EA       </td><td>13332098.1</td></tr>\n",
       "\t<tr><td>EA12     </td><td>12977493.6</td></tr>\n",
       "\t<tr><td>EA19     </td><td>13332098.1</td></tr>\n",
       "\t<tr><td>EA20     </td><td>13399037.1</td></tr>\n",
       "\t<tr><td>EE       </td><td>   36181.4</td></tr>\n",
       "\t<tr><td>EL       </td><td>  208030.2</td></tr>\n",
       "\t<tr><td>ES       </td><td> 1327108.0</td></tr>\n",
       "\t<tr><td>EU27_2020</td><td>15810286.6</td></tr>\n",
       "\t<tr><td>FI       </td><td>  266679.0</td></tr>\n",
       "\t<tr><td>FR       </td><td> 2639092.0</td></tr>\n",
       "\t<tr><td>HR       </td><td>   66939.0</td></tr>\n",
       "\t<tr><td>HU       </td><td>  170246.8</td></tr>\n",
       "\t<tr><td>IE       </td><td>  502583.5</td></tr>\n",
       "\t<tr><td>IS       </td><td>   26479.3</td></tr>\n",
       "\t<tr><td>IT       </td><td> 1909153.6</td></tr>\n",
       "\t<tr><td>LT       </td><td>   66791.1</td></tr>\n",
       "\t<tr><td>LU       </td><td>   78130.1</td></tr>\n",
       "\t<tr><td>LV       </td><td>   39062.5</td></tr>\n",
       "\t<tr><td>ME       </td><td>    5796.8</td></tr>\n",
       "\t<tr><td>MK       </td><td>   12897.8</td></tr>\n",
       "\t<tr><td>MT       </td><td>   16922.6</td></tr>\n",
       "\t<tr><td>NL       </td><td>  941186.0</td></tr>\n",
       "\t<tr><td>NO       </td><td>  551408.9</td></tr>\n",
       "\t<tr><td>PL       </td><td>  656905.5</td></tr>\n",
       "\t<tr><td>PT       </td><td>  239241.7</td></tr>\n",
       "\t<tr><td>RO       </td><td>  285884.8</td></tr>\n",
       "\t<tr><td>RS       </td><td>   60367.9</td></tr>\n",
       "\t<tr><td>SE       </td><td>  560958.6</td></tr>\n",
       "\t<tr><td>SI       </td><td>   58988.5</td></tr>\n",
       "\t<tr><td>SK       </td><td>  109651.9</td></tr>\n",
       "\t<tr><td>TR       </td><td>  862010.8</td></tr>\n",
       "\t<tr><td>XK       </td><td>    8954.9</td></tr>\n",
       "</tbody>\n",
       "</table>\n"
      ],
      "text/latex": [
       "A tibble: 42 x 2\n",
       "\\begin{tabular}{ll}\n",
       " geo & values\\\\\n",
       " <chr> & <dbl>\\\\\n",
       "\\hline\n",
       "\t AL        &    17939.7\\\\\n",
       "\t AT        &   446933.3\\\\\n",
       "\t BA        &    23317.3\\\\\n",
       "\t BE        &   549456.2\\\\\n",
       "\t BG        &    84560.6\\\\\n",
       "\t CH        &   767616.2\\\\\n",
       "\t CY        &    27006.4\\\\\n",
       "\t CZ        &   276605.9\\\\\n",
       "\t DE        &  3869900.0\\\\\n",
       "\t DK        &   376087.2\\\\\n",
       "\t EA        & 13332098.1\\\\\n",
       "\t EA12      & 12977493.6\\\\\n",
       "\t EA19      & 13332098.1\\\\\n",
       "\t EA20      & 13399037.1\\\\\n",
       "\t EE        &    36181.4\\\\\n",
       "\t EL        &   208030.2\\\\\n",
       "\t ES        &  1327108.0\\\\\n",
       "\t EU27\\_2020 & 15810286.6\\\\\n",
       "\t FI        &   266679.0\\\\\n",
       "\t FR        &  2639092.0\\\\\n",
       "\t HR        &    66939.0\\\\\n",
       "\t HU        &   170246.8\\\\\n",
       "\t IE        &   502583.5\\\\\n",
       "\t IS        &    26479.3\\\\\n",
       "\t IT        &  1909153.6\\\\\n",
       "\t LT        &    66791.1\\\\\n",
       "\t LU        &    78130.1\\\\\n",
       "\t LV        &    39062.5\\\\\n",
       "\t ME        &     5796.8\\\\\n",
       "\t MK        &    12897.8\\\\\n",
       "\t MT        &    16922.6\\\\\n",
       "\t NL        &   941186.0\\\\\n",
       "\t NO        &   551408.9\\\\\n",
       "\t PL        &   656905.5\\\\\n",
       "\t PT        &   239241.7\\\\\n",
       "\t RO        &   285884.8\\\\\n",
       "\t RS        &    60367.9\\\\\n",
       "\t SE        &   560958.6\\\\\n",
       "\t SI        &    58988.5\\\\\n",
       "\t SK        &   109651.9\\\\\n",
       "\t TR        &   862010.8\\\\\n",
       "\t XK        &     8954.9\\\\\n",
       "\\end{tabular}\n"
      ],
      "text/markdown": [
       "\n",
       "A tibble: 42 x 2\n",
       "\n",
       "| geo &lt;chr&gt; | values &lt;dbl&gt; |\n",
       "|---|---|\n",
       "| AL        |    17939.7 |\n",
       "| AT        |   446933.3 |\n",
       "| BA        |    23317.3 |\n",
       "| BE        |   549456.2 |\n",
       "| BG        |    84560.6 |\n",
       "| CH        |   767616.2 |\n",
       "| CY        |    27006.4 |\n",
       "| CZ        |   276605.9 |\n",
       "| DE        |  3869900.0 |\n",
       "| DK        |   376087.2 |\n",
       "| EA        | 13332098.1 |\n",
       "| EA12      | 12977493.6 |\n",
       "| EA19      | 13332098.1 |\n",
       "| EA20      | 13399037.1 |\n",
       "| EE        |    36181.4 |\n",
       "| EL        |   208030.2 |\n",
       "| ES        |  1327108.0 |\n",
       "| EU27_2020 | 15810286.6 |\n",
       "| FI        |   266679.0 |\n",
       "| FR        |  2639092.0 |\n",
       "| HR        |    66939.0 |\n",
       "| HU        |   170246.8 |\n",
       "| IE        |   502583.5 |\n",
       "| IS        |    26479.3 |\n",
       "| IT        |  1909153.6 |\n",
       "| LT        |    66791.1 |\n",
       "| LU        |    78130.1 |\n",
       "| LV        |    39062.5 |\n",
       "| ME        |     5796.8 |\n",
       "| MK        |    12897.8 |\n",
       "| MT        |    16922.6 |\n",
       "| NL        |   941186.0 |\n",
       "| NO        |   551408.9 |\n",
       "| PL        |   656905.5 |\n",
       "| PT        |   239241.7 |\n",
       "| RO        |   285884.8 |\n",
       "| RS        |    60367.9 |\n",
       "| SE        |   560958.6 |\n",
       "| SI        |    58988.5 |\n",
       "| SK        |   109651.9 |\n",
       "| TR        |   862010.8 |\n",
       "| XK        |     8954.9 |\n",
       "\n"
      ],
      "text/plain": [
       "   geo       values    \n",
       "1  AL           17939.7\n",
       "2  AT          446933.3\n",
       "3  BA           23317.3\n",
       "4  BE          549456.2\n",
       "5  BG           84560.6\n",
       "6  CH          767616.2\n",
       "7  CY           27006.4\n",
       "8  CZ          276605.9\n",
       "9  DE         3869900.0\n",
       "10 DK          376087.2\n",
       "11 EA        13332098.1\n",
       "12 EA12      12977493.6\n",
       "13 EA19      13332098.1\n",
       "14 EA20      13399037.1\n",
       "15 EE           36181.4\n",
       "16 EL          208030.2\n",
       "17 ES         1327108.0\n",
       "18 EU27_2020 15810286.6\n",
       "19 FI          266679.0\n",
       "20 FR         2639092.0\n",
       "21 HR           66939.0\n",
       "22 HU          170246.8\n",
       "23 IE          502583.5\n",
       "24 IS           26479.3\n",
       "25 IT         1909153.6\n",
       "26 LT           66791.1\n",
       "27 LU           78130.1\n",
       "28 LV           39062.5\n",
       "29 ME            5796.8\n",
       "30 MK           12897.8\n",
       "31 MT           16922.6\n",
       "32 NL          941186.0\n",
       "33 NO          551408.9\n",
       "34 PL          656905.5\n",
       "35 PT          239241.7\n",
       "36 RO          285884.8\n",
       "37 RS           60367.9\n",
       "38 SE          560958.6\n",
       "39 SI           58988.5\n",
       "40 SK          109651.9\n",
       "41 TR          862010.8\n",
       "42 XK            8954.9"
      ]
     },
     "metadata": {},
     "output_type": "display_data"
    }
   ],
   "source": [
    "data_de"
   ]
  },
  {
   "cell_type": "markdown",
   "id": "b3be810d-fa35-40cf-aac2-7c21506075f3",
   "metadata": {},
   "source": [
    "Vzhledem k tomu, že identifikátory 'EA', 'EA12', 'EA19', 'EA20' a 'EU27_2020' popisují celkový HDP skupiny zemí a my se zajímáme o jednotlivé ukazatele každé země, odstraníme záznamy s těmito identifikátory."
   ]
  },
  {
   "cell_type": "code",
   "execution_count": 7,
   "id": "1ffa70f2",
   "metadata": {
    "tags": []
   },
   "outputs": [
    {
     "data": {
      "text/html": [
       "<table class=\"dataframe\">\n",
       "<caption>A tibble: 6 x 2</caption>\n",
       "<thead>\n",
       "\t<tr><th scope=col>geo</th><th scope=col>values</th></tr>\n",
       "\t<tr><th scope=col>&lt;chr&gt;</th><th scope=col>&lt;dbl&gt;</th></tr>\n",
       "</thead>\n",
       "<tbody>\n",
       "\t<tr><td>AL</td><td> 17939.7</td></tr>\n",
       "\t<tr><td>AT</td><td>446933.3</td></tr>\n",
       "\t<tr><td>BA</td><td> 23317.3</td></tr>\n",
       "\t<tr><td>BE</td><td>549456.2</td></tr>\n",
       "\t<tr><td>BG</td><td> 84560.6</td></tr>\n",
       "\t<tr><td>CH</td><td>767616.2</td></tr>\n",
       "</tbody>\n",
       "</table>\n"
      ],
      "text/latex": [
       "A tibble: 6 x 2\n",
       "\\begin{tabular}{ll}\n",
       " geo & values\\\\\n",
       " <chr> & <dbl>\\\\\n",
       "\\hline\n",
       "\t AL &  17939.7\\\\\n",
       "\t AT & 446933.3\\\\\n",
       "\t BA &  23317.3\\\\\n",
       "\t BE & 549456.2\\\\\n",
       "\t BG &  84560.6\\\\\n",
       "\t CH & 767616.2\\\\\n",
       "\\end{tabular}\n"
      ],
      "text/markdown": [
       "\n",
       "A tibble: 6 x 2\n",
       "\n",
       "| geo &lt;chr&gt; | values &lt;dbl&gt; |\n",
       "|---|---|\n",
       "| AL |  17939.7 |\n",
       "| AT | 446933.3 |\n",
       "| BA |  23317.3 |\n",
       "| BE | 549456.2 |\n",
       "| BG |  84560.6 |\n",
       "| CH | 767616.2 |\n",
       "\n"
      ],
      "text/plain": [
       "  geo values  \n",
       "1 AL   17939.7\n",
       "2 AT  446933.3\n",
       "3 BA   23317.3\n",
       "4 BE  549456.2\n",
       "5 BG   84560.6\n",
       "6 CH  767616.2"
      ]
     },
     "metadata": {},
     "output_type": "display_data"
    },
    {
     "data": {
      "text/html": [
       "<style>\n",
       ".list-inline {list-style: none; margin:0; padding: 0}\n",
       ".list-inline>li {display: inline-block}\n",
       ".list-inline>li:not(:last-child)::after {content: \"\\00b7\"; padding: 0 .5ex}\n",
       "</style>\n",
       "<ol class=list-inline><li>37</li><li>2</li></ol>\n"
      ],
      "text/latex": [
       "\\begin{enumerate*}\n",
       "\\item 37\n",
       "\\item 2\n",
       "\\end{enumerate*}\n"
      ],
      "text/markdown": [
       "1. 37\n",
       "2. 2\n",
       "\n",
       "\n"
      ],
      "text/plain": [
       "[1] 37  2"
      ]
     },
     "metadata": {},
     "output_type": "display_data"
    }
   ],
   "source": [
    "data_countries <- data_de[!(data_de$geo %in% c('EA', 'EA12', 'EA19', 'EA20', 'EU27_2020')),]\n",
    "head(data_countries)\n",
    "dim(data_countries)"
   ]
  },
  {
   "cell_type": "markdown",
   "id": "aa35cef6-2313-450b-a48e-9228d8e0f28b",
   "metadata": {},
   "source": [
    "V našem datasetu je zastoupeno 37 různých zemí."
   ]
  },
  {
   "cell_type": "markdown",
   "id": "2d865ee5-0dd3-4d62-a436-27e97d34f8d4",
   "metadata": {},
   "source": [
    "Pomocí knihovny `vtable` se podíváme na číselné charakteristiky HDP (popisné statistiky)."
   ]
  },
  {
   "cell_type": "code",
   "execution_count": 8,
   "id": "aa36cb9b-3457-4b9b-9616-1f5add1377ec",
   "metadata": {},
   "outputs": [
    {
     "data": {
      "text/html": [
       "<table class=\"dataframe\">\n",
       "<caption>A data.frame: 1 x 11</caption>\n",
       "<thead>\n",
       "\t<tr><th scope=col>Variable</th><th scope=col>Mean</th><th scope=col>Sd</th><th scope=col>Min</th><th scope=col>Pctile[25]</th><th scope=col>Median</th><th scope=col>Pctile[75]</th><th scope=col>Max</th><th scope=col>IQR</th><th scope=col>Skewness</th><th scope=col>Kurtosis</th></tr>\n",
       "\t<tr><th scope=col>&lt;chr&gt;</th><th scope=col>&lt;chr&gt;</th><th scope=col>&lt;chr&gt;</th><th scope=col>&lt;chr&gt;</th><th scope=col>&lt;chr&gt;</th><th scope=col>&lt;chr&gt;</th><th scope=col>&lt;chr&gt;</th><th scope=col>&lt;chr&gt;</th><th scope=col>&lt;chr&gt;</th><th scope=col>&lt;chr&gt;</th><th scope=col>&lt;chr&gt;</th></tr>\n",
       "</thead>\n",
       "<tbody>\n",
       "\t<tr><td>data_countries$values</td><td>490461.5</td><td>799592.492</td><td>5796.8</td><td>39062.5</td><td>208030.2</td><td>551408.9</td><td>3869900</td><td>512346.4</td><td>2.781</td><td>10.971</td></tr>\n",
       "</tbody>\n",
       "</table>\n"
      ],
      "text/latex": [
       "A data.frame: 1 x 11\n",
       "\\begin{tabular}{lllllllllll}\n",
       " Variable & Mean & Sd & Min & Pctile{[}25{]} & Median & Pctile{[}75{]} & Max & IQR & Skewness & Kurtosis\\\\\n",
       " <chr> & <chr> & <chr> & <chr> & <chr> & <chr> & <chr> & <chr> & <chr> & <chr> & <chr>\\\\\n",
       "\\hline\n",
       "\t data\\_countries\\$values & 490461.5 & 799592.492 & 5796.8 & 39062.5 & 208030.2 & 551408.9 & 3869900 & 512346.4 & 2.781 & 10.971\\\\\n",
       "\\end{tabular}\n"
      ],
      "text/markdown": [
       "\n",
       "A data.frame: 1 x 11\n",
       "\n",
       "| Variable &lt;chr&gt; | Mean &lt;chr&gt; | Sd &lt;chr&gt; | Min &lt;chr&gt; | Pctile[25] &lt;chr&gt; | Median &lt;chr&gt; | Pctile[75] &lt;chr&gt; | Max &lt;chr&gt; | IQR &lt;chr&gt; | Skewness &lt;chr&gt; | Kurtosis &lt;chr&gt; |\n",
       "|---|---|---|---|---|---|---|---|---|---|---|\n",
       "| data_countries$values | 490461.5 | 799592.492 | 5796.8 | 39062.5 | 208030.2 | 551408.9 | 3869900 | 512346.4 | 2.781 | 10.971 |\n",
       "\n"
      ],
      "text/plain": [
       "  Variable              Mean     Sd         Min    Pctile[25] Median   Pctile[75] Max     IQR      Skewness Kurtosis\n",
       "1 data_countries$values 490461.5 799592.492 5796.8 39062.5    208030.2 551408.9   3869900 512346.4 2.781    10.971  "
      ]
     },
     "metadata": {},
     "output_type": "display_data"
    }
   ],
   "source": [
    "summ <- c('mean(x)', 'sd(x)', 'min(x)', 'pctile(x)[25]', 'median(x)', 'pctile(x)[75]', \n",
    "          'max(x)', 'IQR(x)', 'skewness(x)', 'kurtosis(x)')\n",
    "df <- tibble(data_countries$values)\n",
    "View(sumtable(df,  out=\"return\", summ=summ, ))"
   ]
  },
  {
   "cell_type": "markdown",
   "id": "951a06e3-16ec-430f-98e2-33c8eb12063a",
   "metadata": {},
   "source": [
    "Šikmost (skewness) regresandu je kladná, což znamená, že data jsou více sešikmená vpravo. Špičatost (kurtosis) je také kladná, což naznačuje vyšší koncentraci dat blíže k vyběrovému průměru. Vyběrový průměr je mnohem větší než medián, což naznačuje přítomnost odlehlých pozorování."
   ]
  },
  {
   "cell_type": "markdown",
   "id": "43b5c41f-8b1e-461c-a947-7ebfcc29e3fe",
   "metadata": {},
   "source": [
    "Také znázorníme je graficky."
   ]
  },
  {
   "cell_type": "code",
   "execution_count": 9,
   "id": "ac7823fc",
   "metadata": {
    "tags": []
   },
   "outputs": [
    {
     "data": {
      "image/png": "[encoded data removed]",
      "text/plain": [
       "Plot with title \"HDP rozdeleni europskych zemi\""
      ]
     },
     "metadata": {
      "image/png": {
       "height": 600,
       "width": 780
      }
     },
     "output_type": "display_data"
    }
   ],
   "source": [
    "hist(data_countries$values, prob=F, col=\"Lightgreen\", main=\"HDP rozdělení europských zemí\", xlab = \"HDP\")\n",
    "abline(v = mean(data_countries$values), col = \"red\", lty = 2, lwd=2)\n",
    "text(mean(data_countries$values), 13, \"Mean\", pos = 2, srt = 90, cex=1.25)"
   ]
  },
  {
   "cell_type": "markdown",
   "id": "8769d9cc-896f-42d0-9ba4-b103227f3481",
   "metadata": {},
   "source": [
    "Histogram také potvrzuje sešikmenost vpravo a koncentraci dat kolem vyběrového průměru."
   ]
  },
  {
   "cell_type": "markdown",
   "id": "e06b8168-ffcd-4e44-b19f-54211b427bd7",
   "metadata": {},
   "source": [
    "Pro další průzkum dat použijeme box-plot a viollin-plot."
   ]
  },
  {
   "cell_type": "code",
   "execution_count": 10,
   "id": "f12811e7",
   "metadata": {
    "tags": []
   },
   "outputs": [
    {
     "data": {
      "image/png": "[encoded data removed]",
      "text/plain": [
       "plot without title"
      ]
     },
     "metadata": {
      "image/png": {
       "height": 600,
       "width": 780
      }
     },
     "output_type": "display_data"
    }
   ],
   "source": [
    "boxplot <- ggplot(data_countries, aes(x = values)) +\n",
    "  geom_boxplot(fill = \"lightblue\", color = \"black\", outlier.shape = 16, outlier.color = \"black\") +\n",
    "  xlab(\"Hodnoty HDP\") +\n",
    "  ggtitle(\"Box Plot rozdělení hodnot HDP europských zemí\") +\n",
    "  theme_bw() +\n",
    "  theme(plot.title = element_text(face = \"bold\", hjust = 0.5))\n",
    "\n",
    "violinplot <- ggplot(data_countries, aes(x = values, y = 1)) +\n",
    "  geom_violin(fill = \"lightgreen\", color = \"black\") +\n",
    "  xlab(\"Hodnoty HDP\") +\n",
    "  ggtitle(\"Violin Plot rozdělení hodnot HDP europských zemí\") +\n",
    "  theme_bw() +\n",
    "  theme(plot.title = element_text(face = \"bold\", hjust = 0.5))\n",
    "\n",
    "plot_grid(boxplot, violinplot, nrow = 2)"
   ]
  },
  {
   "cell_type": "markdown",
   "id": "c50e1161-fcdd-4661-8726-e6e5e47177a7",
   "metadata": {},
   "source": [
    "Na box plotu je patrné, že se vyskytují 4 odlehlá pozorování (což ovšem vyžaduje další ověření vhodnými testy). Z violin plotu je jasně viditelná distribuce hodnot HDP."
   ]
  },
  {
   "cell_type": "markdown",
   "id": "9e084693-5843-42c7-b7ac-67f23c090978",
   "metadata": {},
   "source": [
    "### Diskuze o regresorech"
   ]
  },
  {
   "cell_type": "markdown",
   "id": "2a214b48",
   "metadata": {},
   "source": [
    "> Diskutujte, které údaje o zemích by mohly mít na HDP vliv.\n"
   ]
  },
  {
   "cell_type": "markdown",
   "id": "33873612-195b-4da1-b8b4-27f50c9c1e08",
   "metadata": {},
   "source": [
    "**HDP (Hrubý domácí produkt)** je ekonomický ukazatel, který měří celkovou hodnotu všech finálních statků a služeb vyprodukovaných v rámci ekonomiky dané země za určité období (v našem případě za rok 2022) . Obecně lze říci, že HDP země může být ovlivněn mnoha různými faktory, včetně ekonomických (protože HDP je především ekonomický ukazatel), demografických, geografických, politických, ekologických a mnoha dalších.\n",
    "\n",
    "Nejprve zkusíme **demografický faktor**, který je vyjádřen počtem obyvatelů. Předpokládáme kladnou korelaci s vysvětlovanou hodnotou - čím více je obyvatelů, tím větší je HDP země.\n",
    "\n",
    "Jako druhý regresor chceme vyzkoušet **eurozónu**. Euro se považuje za tvrdou měnu a předpokládáme, že země, které obchodují v eurech, mají vyšší HDP.\n",
    "\n",
    "Třetím faktorem je **ekonomický faktor** - [harmonizovaný index spotřebitelských cen](https://www.ecb.europa.eu/ecb/educational/explainers/tell-me-more/html/what_is_inflation.cs.html#:~:text=harmonizovan%C3%BDm%20indexem%20spot%C5%99ebitelsk%C3%BDch%20cen%2C%20%C4%8Dasto,se%20ceny%20v%20ekonomice%20m%C4%9Bn%C3%AD), který pomáhá porovnávat ceny a inflaci mezi státy. Dopředu ale nevíme, zda má kladnou nebo zápornou korelaci s HDP.\n",
    "\n",
    "Jako poslední regresor zvolíme **geografický faktor**, tedy rozdělení zemí do čtyř regionů: severní, jižní, západní a východní. Máme předpoklad, že západní Evropa by měla mít vyšší HDP, protože tam jsou země jako například Německo a Francie, které mají největší HDP."
   ]
  },
  {
   "cell_type": "markdown",
   "id": "a4c56d1f",
   "metadata": {},
   "source": [
    "## Úloha 2"
   ]
  },
  {
   "cell_type": "markdown",
   "id": "e8f4b04a-cc6c-4c48-8d5a-0876cf4a4b5b",
   "metadata": {},
   "source": [
    "### Přídaní nových regresorů"
   ]
  },
  {
   "cell_type": "markdown",
   "id": "5134107e-2d2d-4da8-a123-781f1e91abbd",
   "metadata": {},
   "source": [
    "> Pro zkoumané země si vhodně zvolte čtyři údaje dostupné z databází Eurostatu či jiných externích zdrojů. Může se jednat např. o demografické, geografické nebo ekonomické ukazatele. Alespoň jedna proměnná nechť je numerická a alespoň jedna kategoriální (např. zda má země přístup k moři, zda se v zemi platí Eurem, jestli se jedná o monarchii nebo republiku,…)."
   ]
  },
  {
   "cell_type": "markdown",
   "id": "ee0afae4",
   "metadata": {},
   "source": [
    "#### Demografie\n",
    "\n",
    "Začneme s demografickým příznakem - počtem obyvatel každého státu. Data o počtu obyvatel v jednotlivých evropských státech získáme z [datasetu](https://ec.europa.eu/eurostat/databrowser/view/demo_r_pjanaggr3/default/table?lang=en), který jsme používali v prvním semestrálním projektu."
   ]
  },
  {
   "cell_type": "code",
   "execution_count": 11,
   "id": "1a394c5e",
   "metadata": {
    "tags": []
   },
   "outputs": [],
   "source": [
    "dat_demog <- get_eurostat(id = 'demo_r_pjanaggr3')"
   ]
  },
  {
   "cell_type": "markdown",
   "id": "db8ca54f-73bf-4144-913d-7629dec187b5",
   "metadata": {},
   "source": [
    "Podívejme se, jak vypadá dataset."
   ]
  },
  {
   "cell_type": "code",
   "execution_count": 12,
   "id": "fced0f0e-690a-4ff3-a364-1dd1d923b8e6",
   "metadata": {},
   "outputs": [
    {
     "data": {
      "text/html": [
       "<table class=\"dataframe\">\n",
       "<caption>A tibble: 6 x 6</caption>\n",
       "<thead>\n",
       "\t<tr><th scope=col>unit</th><th scope=col>sex</th><th scope=col>age</th><th scope=col>geo</th><th scope=col>time</th><th scope=col>values</th></tr>\n",
       "\t<tr><th scope=col>&lt;chr&gt;</th><th scope=col>&lt;chr&gt;</th><th scope=col>&lt;chr&gt;</th><th scope=col>&lt;chr&gt;</th><th scope=col>&lt;date&gt;</th><th scope=col>&lt;dbl&gt;</th></tr>\n",
       "</thead>\n",
       "<tbody>\n",
       "\t<tr><td>NR</td><td>F</td><td>TOTAL</td><td>AL   </td><td>2022-01-01</td><td>1406532</td></tr>\n",
       "\t<tr><td>NR</td><td>F</td><td>TOTAL</td><td>AL0  </td><td>2022-01-01</td><td>1406532</td></tr>\n",
       "\t<tr><td>NR</td><td>F</td><td>TOTAL</td><td>AL01 </td><td>2022-01-01</td><td> 390886</td></tr>\n",
       "\t<tr><td>NR</td><td>F</td><td>TOTAL</td><td>AL011</td><td>2022-01-01</td><td>  52440</td></tr>\n",
       "\t<tr><td>NR</td><td>F</td><td>TOTAL</td><td>AL012</td><td>2022-01-01</td><td> 144229</td></tr>\n",
       "\t<tr><td>NR</td><td>F</td><td>TOTAL</td><td>AL013</td><td>2022-01-01</td><td>  35407</td></tr>\n",
       "</tbody>\n",
       "</table>\n"
      ],
      "text/latex": [
       "A tibble: 6 x 6\n",
       "\\begin{tabular}{llllll}\n",
       " unit & sex & age & geo & time & values\\\\\n",
       " <chr> & <chr> & <chr> & <chr> & <date> & <dbl>\\\\\n",
       "\\hline\n",
       "\t NR & F & TOTAL & AL    & 2022-01-01 & 1406532\\\\\n",
       "\t NR & F & TOTAL & AL0   & 2022-01-01 & 1406532\\\\\n",
       "\t NR & F & TOTAL & AL01  & 2022-01-01 &  390886\\\\\n",
       "\t NR & F & TOTAL & AL011 & 2022-01-01 &   52440\\\\\n",
       "\t NR & F & TOTAL & AL012 & 2022-01-01 &  144229\\\\\n",
       "\t NR & F & TOTAL & AL013 & 2022-01-01 &   35407\\\\\n",
       "\\end{tabular}\n"
      ],
      "text/markdown": [
       "\n",
       "A tibble: 6 x 6\n",
       "\n",
       "| unit &lt;chr&gt; | sex &lt;chr&gt; | age &lt;chr&gt; | geo &lt;chr&gt; | time &lt;date&gt; | values &lt;dbl&gt; |\n",
       "|---|---|---|---|---|---|\n",
       "| NR | F | TOTAL | AL    | 2022-01-01 | 1406532 |\n",
       "| NR | F | TOTAL | AL0   | 2022-01-01 | 1406532 |\n",
       "| NR | F | TOTAL | AL01  | 2022-01-01 |  390886 |\n",
       "| NR | F | TOTAL | AL011 | 2022-01-01 |   52440 |\n",
       "| NR | F | TOTAL | AL012 | 2022-01-01 |  144229 |\n",
       "| NR | F | TOTAL | AL013 | 2022-01-01 |   35407 |\n",
       "\n"
      ],
      "text/plain": [
       "  unit sex age   geo   time       values \n",
       "1 NR   F   TOTAL AL    2022-01-01 1406532\n",
       "2 NR   F   TOTAL AL0   2022-01-01 1406532\n",
       "3 NR   F   TOTAL AL01  2022-01-01  390886\n",
       "4 NR   F   TOTAL AL011 2022-01-01   52440\n",
       "5 NR   F   TOTAL AL012 2022-01-01  144229\n",
       "6 NR   F   TOTAL AL013 2022-01-01   35407"
      ]
     },
     "metadata": {},
     "output_type": "display_data"
    }
   ],
   "source": [
    "head(dat_demog)"
   ]
  },
  {
   "cell_type": "markdown",
   "id": "a51c8da1-1f57-4494-aa31-940019ce3a60",
   "metadata": {},
   "source": [
    "Odfiltrujeme data podle roku 2022. Vzhledem k tomu, že nezajímáme rozdělení podle pohlaví a věku, vybereme pouze hodnoty pro kategorii `TOTAL`. Dále potřebujeme rozdělení podle NUTS-1, takže filtrujeme položku `geo` podle délky 2."
   ]
  },
  {
   "cell_type": "code",
   "execution_count": 13,
   "id": "4470bb11",
   "metadata": {
    "tags": []
   },
   "outputs": [
    {
     "data": {
      "text/html": [
       "<table class=\"dataframe\">\n",
       "<caption>A tibble: 6 x 6</caption>\n",
       "<thead>\n",
       "\t<tr><th scope=col>unit</th><th scope=col>sex</th><th scope=col>age</th><th scope=col>geo</th><th scope=col>time</th><th scope=col>values</th></tr>\n",
       "\t<tr><th scope=col>&lt;chr&gt;</th><th scope=col>&lt;chr&gt;</th><th scope=col>&lt;chr&gt;</th><th scope=col>&lt;chr&gt;</th><th scope=col>&lt;date&gt;</th><th scope=col>&lt;dbl&gt;</th></tr>\n",
       "</thead>\n",
       "<tbody>\n",
       "\t<tr><td>NR</td><td>T</td><td>TOTAL</td><td>AL</td><td>2022-01-01</td><td> 2793592</td></tr>\n",
       "\t<tr><td>NR</td><td>T</td><td>TOTAL</td><td>AT</td><td>2022-01-01</td><td> 8978929</td></tr>\n",
       "\t<tr><td>NR</td><td>T</td><td>TOTAL</td><td>BE</td><td>2022-01-01</td><td>11617623</td></tr>\n",
       "\t<tr><td>NR</td><td>T</td><td>TOTAL</td><td>BG</td><td>2022-01-01</td><td> 6838937</td></tr>\n",
       "\t<tr><td>NR</td><td>T</td><td>TOTAL</td><td>CH</td><td>2022-01-01</td><td> 8738791</td></tr>\n",
       "\t<tr><td>NR</td><td>T</td><td>TOTAL</td><td>CY</td><td>2022-01-01</td><td>  904705</td></tr>\n",
       "</tbody>\n",
       "</table>\n"
      ],
      "text/latex": [
       "A tibble: 6 x 6\n",
       "\\begin{tabular}{llllll}\n",
       " unit & sex & age & geo & time & values\\\\\n",
       " <chr> & <chr> & <chr> & <chr> & <date> & <dbl>\\\\\n",
       "\\hline\n",
       "\t NR & T & TOTAL & AL & 2022-01-01 &  2793592\\\\\n",
       "\t NR & T & TOTAL & AT & 2022-01-01 &  8978929\\\\\n",
       "\t NR & T & TOTAL & BE & 2022-01-01 & 11617623\\\\\n",
       "\t NR & T & TOTAL & BG & 2022-01-01 &  6838937\\\\\n",
       "\t NR & T & TOTAL & CH & 2022-01-01 &  8738791\\\\\n",
       "\t NR & T & TOTAL & CY & 2022-01-01 &   904705\\\\\n",
       "\\end{tabular}\n"
      ],
      "text/markdown": [
       "\n",
       "A tibble: 6 x 6\n",
       "\n",
       "| unit &lt;chr&gt; | sex &lt;chr&gt; | age &lt;chr&gt; | geo &lt;chr&gt; | time &lt;date&gt; | values &lt;dbl&gt; |\n",
       "|---|---|---|---|---|---|\n",
       "| NR | T | TOTAL | AL | 2022-01-01 |  2793592 |\n",
       "| NR | T | TOTAL | AT | 2022-01-01 |  8978929 |\n",
       "| NR | T | TOTAL | BE | 2022-01-01 | 11617623 |\n",
       "| NR | T | TOTAL | BG | 2022-01-01 |  6838937 |\n",
       "| NR | T | TOTAL | CH | 2022-01-01 |  8738791 |\n",
       "| NR | T | TOTAL | CY | 2022-01-01 |   904705 |\n",
       "\n"
      ],
      "text/plain": [
       "  unit sex age   geo time       values  \n",
       "1 NR   T   TOTAL AL  2022-01-01  2793592\n",
       "2 NR   T   TOTAL AT  2022-01-01  8978929\n",
       "3 NR   T   TOTAL BE  2022-01-01 11617623\n",
       "4 NR   T   TOTAL BG  2022-01-01  6838937\n",
       "5 NR   T   TOTAL CH  2022-01-01  8738791\n",
       "6 NR   T   TOTAL CY  2022-01-01   904705"
      ]
     },
     "metadata": {},
     "output_type": "display_data"
    },
    {
     "data": {
      "text/html": [
       "<style>\n",
       ".list-inline {list-style: none; margin:0; padding: 0}\n",
       ".list-inline>li {display: inline-block}\n",
       ".list-inline>li:not(:last-child)::after {content: \"\\00b7\"; padding: 0 .5ex}\n",
       "</style>\n",
       "<ol class=list-inline><li>35</li><li>6</li></ol>\n"
      ],
      "text/latex": [
       "\\begin{enumerate*}\n",
       "\\item 35\n",
       "\\item 6\n",
       "\\end{enumerate*}\n"
      ],
      "text/markdown": [
       "1. 35\n",
       "2. 6\n",
       "\n",
       "\n"
      ],
      "text/plain": [
       "[1] 35  6"
      ]
     },
     "metadata": {},
     "output_type": "display_data"
    }
   ],
   "source": [
    "data_demog <- dat_demog[dat_demog$time == '2022-01-01',]\n",
    "data_demog_total <- data_demog[data_demog$age =='TOTAL',]\n",
    "data_demog_total <- data_demog_total[data_demog_total$sex =='T',]\n",
    "data_demog_total <- data_demog_total[nchar(data_demog_total$geo) == 2,]\n",
    "head(data_demog_total)\n",
    "dim(data_demog_total)"
   ]
  },
  {
   "cell_type": "markdown",
   "id": "7bd5de40-33ca-4462-951a-ff289ed3bd6d",
   "metadata": {},
   "source": [
    "Bohužel, tento dataset neobsahuje všechny státy, které potřebujeme pro zkoumání. Proto budeme muset data o těchto státech doplnit ručně.</br> \n",
    "V rámci úprav datového souboru odstraníme sloupce `unit`, `time`, `sex` a `age`, protože již nejsou potřebné. Také přejmenujeme sloupec `values` na `population`."
   ]
  },
  {
   "cell_type": "code",
   "execution_count": 14,
   "id": "c3d4a8a9",
   "metadata": {
    "tags": []
   },
   "outputs": [
    {
     "data": {
      "text/html": [
       "<table class=\"dataframe\">\n",
       "<caption>A tibble: 6 x 2</caption>\n",
       "<thead>\n",
       "\t<tr><th scope=col>geo</th><th scope=col>population</th></tr>\n",
       "\t<tr><th scope=col>&lt;chr&gt;</th><th scope=col>&lt;dbl&gt;</th></tr>\n",
       "</thead>\n",
       "<tbody>\n",
       "\t<tr><td>AL</td><td> 2793592</td></tr>\n",
       "\t<tr><td>AT</td><td> 8978929</td></tr>\n",
       "\t<tr><td>BE</td><td>11617623</td></tr>\n",
       "\t<tr><td>BG</td><td> 6838937</td></tr>\n",
       "\t<tr><td>CH</td><td> 8738791</td></tr>\n",
       "\t<tr><td>CY</td><td>  904705</td></tr>\n",
       "</tbody>\n",
       "</table>\n"
      ],
      "text/latex": [
       "A tibble: 6 x 2\n",
       "\\begin{tabular}{ll}\n",
       " geo & population\\\\\n",
       " <chr> & <dbl>\\\\\n",
       "\\hline\n",
       "\t AL &  2793592\\\\\n",
       "\t AT &  8978929\\\\\n",
       "\t BE & 11617623\\\\\n",
       "\t BG &  6838937\\\\\n",
       "\t CH &  8738791\\\\\n",
       "\t CY &   904705\\\\\n",
       "\\end{tabular}\n"
      ],
      "text/markdown": [
       "\n",
       "A tibble: 6 x 2\n",
       "\n",
       "| geo &lt;chr&gt; | population &lt;dbl&gt; |\n",
       "|---|---|\n",
       "| AL |  2793592 |\n",
       "| AT |  8978929 |\n",
       "| BE | 11617623 |\n",
       "| BG |  6838937 |\n",
       "| CH |  8738791 |\n",
       "| CY |   904705 |\n",
       "\n"
      ],
      "text/plain": [
       "  geo population\n",
       "1 AL   2793592  \n",
       "2 AT   8978929  \n",
       "3 BE  11617623  \n",
       "4 BG   6838937  \n",
       "5 CH   8738791  \n",
       "6 CY    904705  "
      ]
     },
     "metadata": {},
     "output_type": "display_data"
    },
    {
     "data": {
      "text/html": [
       "<style>\n",
       ".list-inline {list-style: none; margin:0; padding: 0}\n",
       ".list-inline>li {display: inline-block}\n",
       ".list-inline>li:not(:last-child)::after {content: \"\\00b7\"; padding: 0 .5ex}\n",
       "</style>\n",
       "<ol class=list-inline><li>35</li><li>2</li></ol>\n"
      ],
      "text/latex": [
       "\\begin{enumerate*}\n",
       "\\item 35\n",
       "\\item 2\n",
       "\\end{enumerate*}\n"
      ],
      "text/markdown": [
       "1. 35\n",
       "2. 2\n",
       "\n",
       "\n"
      ],
      "text/plain": [
       "[1] 35  2"
      ]
     },
     "metadata": {},
     "output_type": "display_data"
    }
   ],
   "source": [
    "data_demog_total$unit <-NULL\n",
    "data_demog_total$time <-NULL\n",
    "data_demog_total$sex <-NULL\n",
    "data_demog_total$age <-NULL\n",
    "names(data_demog_total)[names(data_demog_total) == \"values\"] <- \"population\"\n",
    "head(data_demog_total)\n",
    "dim(data_demog_total)"
   ]
  },
  {
   "cell_type": "markdown",
   "id": "ce91455b-5457-4814-8df7-87953b43be1e",
   "metadata": {},
   "source": [
    "Spojujeme vzniklý dataset o počtu obyvatelů s naším hlavním datasetem (HDP států) na základě společného sloupce `geo`."
   ]
  },
  {
   "cell_type": "code",
   "execution_count": 15,
   "id": "9884e246",
   "metadata": {
    "tags": []
   },
   "outputs": [
    {
     "data": {
      "text/html": [
       "<table class=\"dataframe\">\n",
       "<caption>A data.frame: 6 x 3</caption>\n",
       "<thead>\n",
       "\t<tr><th></th><th scope=col>geo</th><th scope=col>values</th><th scope=col>population</th></tr>\n",
       "\t<tr><th></th><th scope=col>&lt;chr&gt;</th><th scope=col>&lt;dbl&gt;</th><th scope=col>&lt;dbl&gt;</th></tr>\n",
       "</thead>\n",
       "<tbody>\n",
       "\t<tr><th scope=row>1</th><td>AL</td><td> 17939.7</td><td> 2793592</td></tr>\n",
       "\t<tr><th scope=row>2</th><td>AT</td><td>446933.3</td><td> 8978929</td></tr>\n",
       "\t<tr><th scope=row>3</th><td>BA</td><td> 23317.3</td><td>      NA</td></tr>\n",
       "\t<tr><th scope=row>4</th><td>BE</td><td>549456.2</td><td>11617623</td></tr>\n",
       "\t<tr><th scope=row>5</th><td>BG</td><td> 84560.6</td><td> 6838937</td></tr>\n",
       "\t<tr><th scope=row>6</th><td>CH</td><td>767616.2</td><td> 8738791</td></tr>\n",
       "</tbody>\n",
       "</table>\n"
      ],
      "text/latex": [
       "A data.frame: 6 x 3\n",
       "\\begin{tabular}{r|lll}\n",
       "  & geo & values & population\\\\\n",
       "  & <chr> & <dbl> & <dbl>\\\\\n",
       "\\hline\n",
       "\t1 & AL &  17939.7 &  2793592\\\\\n",
       "\t2 & AT & 446933.3 &  8978929\\\\\n",
       "\t3 & BA &  23317.3 &       NA\\\\\n",
       "\t4 & BE & 549456.2 & 11617623\\\\\n",
       "\t5 & BG &  84560.6 &  6838937\\\\\n",
       "\t6 & CH & 767616.2 &  8738791\\\\\n",
       "\\end{tabular}\n"
      ],
      "text/markdown": [
       "\n",
       "A data.frame: 6 x 3\n",
       "\n",
       "| <!--/--> | geo &lt;chr&gt; | values &lt;dbl&gt; | population &lt;dbl&gt; |\n",
       "|---|---|---|---|\n",
       "| 1 | AL |  17939.7 |  2793592 |\n",
       "| 2 | AT | 446933.3 |  8978929 |\n",
       "| 3 | BA |  23317.3 |       NA |\n",
       "| 4 | BE | 549456.2 | 11617623 |\n",
       "| 5 | BG |  84560.6 |  6838937 |\n",
       "| 6 | CH | 767616.2 |  8738791 |\n",
       "\n"
      ],
      "text/plain": [
       "  geo values   population\n",
       "1 AL   17939.7  2793592  \n",
       "2 AT  446933.3  8978929  \n",
       "3 BA   23317.3       NA  \n",
       "4 BE  549456.2 11617623  \n",
       "5 BG   84560.6  6838937  \n",
       "6 CH  767616.2  8738791  "
      ]
     },
     "metadata": {},
     "output_type": "display_data"
    }
   ],
   "source": [
    "merged_dataset <- merge(data_countries, data_demog_total, by = \"geo\", all.x = T)\n",
    "head(merged_dataset)"
   ]
  },
  {
   "cell_type": "markdown",
   "id": "fb6024d7",
   "metadata": {},
   "source": [
    "Jak jsme zmíněli předtím, pro některé státy v tomto datasetu nejsou k dispozici informace o počtu obyvatelů, proto je budeme muset doplnit z [jiného](https://countrymeters.info/en/Albania) zdroje."
   ]
  },
  {
   "cell_type": "code",
   "execution_count": 16,
   "id": "55783d5d",
   "metadata": {
    "tags": []
   },
   "outputs": [],
   "source": [
    "merged_dataset[1, 3]   <- 2877275   #AL \n",
    "merged_dataset[3, 3]   <- 3282300   #BA \n",
    "merged_dataset[36, 3]  <- 86735919  #TR \n",
    "merged_dataset[37, 3]  <- 1768942   #XK "
   ]
  },
  {
   "cell_type": "markdown",
   "id": "71f3a7ee-1845-4f69-941d-8938ec47115d",
   "metadata": {},
   "source": [
    "Ověříme, zda data po doplnění neobsahují žádné chybějící hodnoty (`NA`)."
   ]
  },
  {
   "cell_type": "code",
   "execution_count": 17,
   "id": "86815970",
   "metadata": {
    "tags": []
   },
   "outputs": [
    {
     "name": "stdout",
     "output_type": "stream",
     "text": [
      "Pocet NA hodnot: 0"
     ]
    }
   ],
   "source": [
    "cat(\"Počet NA hodnot:\", sum(is.na(merged_dataset)))"
   ]
  },
  {
   "cell_type": "markdown",
   "id": "76d2a4c1",
   "metadata": {},
   "source": [
    "#### Euro area\n",
    "\n",
    "\n",
    "Vytvoříme v datasetu sloupec s názvem `euro`, který bude obsahovat logické hodnoty indikující, zda daná země patří do eurozóny nebo ne. Použijeme informace z odkazu [odsud](https://european-union.europa.eu/institutions-law-budget/euro/countries-using-euro_en). Vzhledem k tomu, že Chorvatsko se připojilo k eurozóně až v roce 2023, nezahrneme ho."
   ]
  },
  {
   "cell_type": "code",
   "execution_count": 18,
   "id": "712cde9e",
   "metadata": {
    "tags": []
   },
   "outputs": [
    {
     "data": {
      "text/html": [
       "<table class=\"dataframe\">\n",
       "<caption>A data.frame: 6 x 4</caption>\n",
       "<thead>\n",
       "\t<tr><th></th><th scope=col>geo</th><th scope=col>values</th><th scope=col>population</th><th scope=col>euro</th></tr>\n",
       "\t<tr><th></th><th scope=col>&lt;chr&gt;</th><th scope=col>&lt;dbl&gt;</th><th scope=col>&lt;dbl&gt;</th><th scope=col>&lt;lgl&gt;</th></tr>\n",
       "</thead>\n",
       "<tbody>\n",
       "\t<tr><th scope=row>1</th><td>AL</td><td> 17939.7</td><td> 2877275</td><td>FALSE</td></tr>\n",
       "\t<tr><th scope=row>2</th><td>AT</td><td>446933.3</td><td> 8978929</td><td> TRUE</td></tr>\n",
       "\t<tr><th scope=row>3</th><td>BA</td><td> 23317.3</td><td> 3282300</td><td>FALSE</td></tr>\n",
       "\t<tr><th scope=row>4</th><td>BE</td><td>549456.2</td><td>11617623</td><td> TRUE</td></tr>\n",
       "\t<tr><th scope=row>5</th><td>BG</td><td> 84560.6</td><td> 6838937</td><td>FALSE</td></tr>\n",
       "\t<tr><th scope=row>6</th><td>CH</td><td>767616.2</td><td> 8738791</td><td>FALSE</td></tr>\n",
       "</tbody>\n",
       "</table>\n"
      ],
      "text/latex": [
       "A data.frame: 6 x 4\n",
       "\\begin{tabular}{r|llll}\n",
       "  & geo & values & population & euro\\\\\n",
       "  & <chr> & <dbl> & <dbl> & <lgl>\\\\\n",
       "\\hline\n",
       "\t1 & AL &  17939.7 &  2877275 & FALSE\\\\\n",
       "\t2 & AT & 446933.3 &  8978929 &  TRUE\\\\\n",
       "\t3 & BA &  23317.3 &  3282300 & FALSE\\\\\n",
       "\t4 & BE & 549456.2 & 11617623 &  TRUE\\\\\n",
       "\t5 & BG &  84560.6 &  6838937 & FALSE\\\\\n",
       "\t6 & CH & 767616.2 &  8738791 & FALSE\\\\\n",
       "\\end{tabular}\n"
      ],
      "text/markdown": [
       "\n",
       "A data.frame: 6 x 4\n",
       "\n",
       "| <!--/--> | geo &lt;chr&gt; | values &lt;dbl&gt; | population &lt;dbl&gt; | euro &lt;lgl&gt; |\n",
       "|---|---|---|---|---|\n",
       "| 1 | AL |  17939.7 |  2877275 | FALSE |\n",
       "| 2 | AT | 446933.3 |  8978929 |  TRUE |\n",
       "| 3 | BA |  23317.3 |  3282300 | FALSE |\n",
       "| 4 | BE | 549456.2 | 11617623 |  TRUE |\n",
       "| 5 | BG |  84560.6 |  6838937 | FALSE |\n",
       "| 6 | CH | 767616.2 |  8738791 | FALSE |\n",
       "\n"
      ],
      "text/plain": [
       "  geo values   population euro \n",
       "1 AL   17939.7  2877275   FALSE\n",
       "2 AT  446933.3  8978929    TRUE\n",
       "3 BA   23317.3  3282300   FALSE\n",
       "4 BE  549456.2 11617623    TRUE\n",
       "5 BG   84560.6  6838937   FALSE\n",
       "6 CH  767616.2  8738791   FALSE"
      ]
     },
     "metadata": {},
     "output_type": "display_data"
    }
   ],
   "source": [
    "geo_euro <- c(\"BE\", \"IE\", \"CY\", \"LU\", \"AT\", \n",
    "              \"SK\", \"DE\", \"EL\", \"LV\", \"MT\", \n",
    "              \"PT\", \"FI\", \"EE\", \"ES\", \"IT\", \n",
    "              \"LT\", \"NL\", \"SI\", \"FR\")\n",
    "\n",
    "merged_dataset$euro <- merged_dataset$geo %in% geo_euro\n",
    "head(merged_dataset)"
   ]
  },
  {
   "cell_type": "markdown",
   "id": "99d7c481",
   "metadata": {},
   "source": [
    "#### HICP\n",
    "\n",
    "Načítáme data o harmonizovaném indexu spotřebitelských cen (HICP) v jednotlivých evropských státech, která jsme nalezli na [Eurostatu](https://ec.europa.eu/eurostat/databrowser/view/prc_hicp_midx/default/table?lang=en)."
   ]
  },
  {
   "cell_type": "code",
   "execution_count": 19,
   "id": "7087d065",
   "metadata": {
    "tags": []
   },
   "outputs": [
    {
     "data": {
      "text/html": [
       "<table class=\"dataframe\">\n",
       "<caption>A tibble: 6 x 5</caption>\n",
       "<thead>\n",
       "\t<tr><th scope=col>unit</th><th scope=col>coicop</th><th scope=col>geo</th><th scope=col>time</th><th scope=col>values</th></tr>\n",
       "\t<tr><th scope=col>&lt;chr&gt;</th><th scope=col>&lt;chr&gt;</th><th scope=col>&lt;chr&gt;</th><th scope=col>&lt;date&gt;</th><th scope=col>&lt;dbl&gt;</th></tr>\n",
       "</thead>\n",
       "<tbody>\n",
       "\t<tr><td>I15</td><td>CP00</td><td>AT</td><td>2023-05-01</td><td>130.01</td></tr>\n",
       "\t<tr><td>I15</td><td>CP00</td><td>BE</td><td>2023-05-01</td><td>124.92</td></tr>\n",
       "\t<tr><td>I15</td><td>CP00</td><td>CY</td><td>2023-05-01</td><td>114.06</td></tr>\n",
       "\t<tr><td>I15</td><td>CP00</td><td>EA</td><td>2023-05-01</td><td>123.16</td></tr>\n",
       "\t<tr><td>I15</td><td>CP00</td><td>EE</td><td>2023-05-01</td><td>150.10</td></tr>\n",
       "\t<tr><td>I15</td><td>CP00</td><td>EL</td><td>2023-05-01</td><td>116.19</td></tr>\n",
       "</tbody>\n",
       "</table>\n"
      ],
      "text/latex": [
       "A tibble: 6 x 5\n",
       "\\begin{tabular}{lllll}\n",
       " unit & coicop & geo & time & values\\\\\n",
       " <chr> & <chr> & <chr> & <date> & <dbl>\\\\\n",
       "\\hline\n",
       "\t I15 & CP00 & AT & 2023-05-01 & 130.01\\\\\n",
       "\t I15 & CP00 & BE & 2023-05-01 & 124.92\\\\\n",
       "\t I15 & CP00 & CY & 2023-05-01 & 114.06\\\\\n",
       "\t I15 & CP00 & EA & 2023-05-01 & 123.16\\\\\n",
       "\t I15 & CP00 & EE & 2023-05-01 & 150.10\\\\\n",
       "\t I15 & CP00 & EL & 2023-05-01 & 116.19\\\\\n",
       "\\end{tabular}\n"
      ],
      "text/markdown": [
       "\n",
       "A tibble: 6 x 5\n",
       "\n",
       "| unit &lt;chr&gt; | coicop &lt;chr&gt; | geo &lt;chr&gt; | time &lt;date&gt; | values &lt;dbl&gt; |\n",
       "|---|---|---|---|---|\n",
       "| I15 | CP00 | AT | 2023-05-01 | 130.01 |\n",
       "| I15 | CP00 | BE | 2023-05-01 | 124.92 |\n",
       "| I15 | CP00 | CY | 2023-05-01 | 114.06 |\n",
       "| I15 | CP00 | EA | 2023-05-01 | 123.16 |\n",
       "| I15 | CP00 | EE | 2023-05-01 | 150.10 |\n",
       "| I15 | CP00 | EL | 2023-05-01 | 116.19 |\n",
       "\n"
      ],
      "text/plain": [
       "  unit coicop geo time       values\n",
       "1 I15  CP00   AT  2023-05-01 130.01\n",
       "2 I15  CP00   BE  2023-05-01 124.92\n",
       "3 I15  CP00   CY  2023-05-01 114.06\n",
       "4 I15  CP00   EA  2023-05-01 123.16\n",
       "5 I15  CP00   EE  2023-05-01 150.10\n",
       "6 I15  CP00   EL  2023-05-01 116.19"
      ]
     },
     "metadata": {},
     "output_type": "display_data"
    }
   ],
   "source": [
    "dat_hicp <- get_eurostat(id = 'prc_hicp_midx')\n",
    "head(dat_hicp)"
   ]
  },
  {
   "cell_type": "markdown",
   "id": "e635cc6d-a62f-403c-ac8d-69a2a0a1d991",
   "metadata": {},
   "source": [
    "Filtrujeme data o harmonizovaném indexu spotřebitelských cen (HICP). Nejprve filtrujeme podle kódu `coicop` rovného `CP00`, což představuje HICP pro všechny druhy zboží. Poté provádíme filtraci podle roku `2022-01-01`. Nakonec filtrujeme podle jednotky měření (`unit`) `I15`, která představuje nejnovější dostupnou jednotku."
   ]
  },
  {
   "cell_type": "code",
   "execution_count": 20,
   "id": "a116a8ba",
   "metadata": {
    "tags": []
   },
   "outputs": [],
   "source": [
    "data_hicp <- dat_hicp[dat_hicp$coicop == 'CP00',]\n",
    "data_hicp <- data_hicp[data_hicp$time == '2022-01-01',]\n",
    "data_hicp <- data_hicp[data_hicp$unit == 'I15',]"
   ]
  },
  {
   "cell_type": "markdown",
   "id": "b0d6eba7-f51d-4804-af03-a40b3aa63e5e",
   "metadata": {},
   "source": [
    "V rámci úprav datového souboru odstraníme sloupce `unit`, `time`,  a `coicop`, protože již nejsou potřebné. Také přejmenujeme sloupec `values` na `hicp`."
   ]
  },
  {
   "cell_type": "code",
   "execution_count": 21,
   "id": "f37212c9",
   "metadata": {
    "tags": []
   },
   "outputs": [
    {
     "data": {
      "text/html": [
       "<table class=\"dataframe\">\n",
       "<caption>A tibble: 6 x 2</caption>\n",
       "<thead>\n",
       "\t<tr><th scope=col>geo</th><th scope=col>hicp</th></tr>\n",
       "\t<tr><th scope=col>&lt;chr&gt;</th><th scope=col>&lt;dbl&gt;</th></tr>\n",
       "</thead>\n",
       "<tbody>\n",
       "\t<tr><td>AL</td><td>116.03</td></tr>\n",
       "\t<tr><td>AT</td><td>113.93</td></tr>\n",
       "\t<tr><td>BE</td><td>116.99</td></tr>\n",
       "\t<tr><td>BG</td><td>114.80</td></tr>\n",
       "\t<tr><td>CH</td><td>101.69</td></tr>\n",
       "\t<tr><td>CY</td><td>103.33</td></tr>\n",
       "</tbody>\n",
       "</table>\n"
      ],
      "text/latex": [
       "A tibble: 6 x 2\n",
       "\\begin{tabular}{ll}\n",
       " geo & hicp\\\\\n",
       " <chr> & <dbl>\\\\\n",
       "\\hline\n",
       "\t AL & 116.03\\\\\n",
       "\t AT & 113.93\\\\\n",
       "\t BE & 116.99\\\\\n",
       "\t BG & 114.80\\\\\n",
       "\t CH & 101.69\\\\\n",
       "\t CY & 103.33\\\\\n",
       "\\end{tabular}\n"
      ],
      "text/markdown": [
       "\n",
       "A tibble: 6 x 2\n",
       "\n",
       "| geo &lt;chr&gt; | hicp &lt;dbl&gt; |\n",
       "|---|---|\n",
       "| AL | 116.03 |\n",
       "| AT | 113.93 |\n",
       "| BE | 116.99 |\n",
       "| BG | 114.80 |\n",
       "| CH | 101.69 |\n",
       "| CY | 103.33 |\n",
       "\n"
      ],
      "text/plain": [
       "  geo hicp  \n",
       "1 AL  116.03\n",
       "2 AT  113.93\n",
       "3 BE  116.99\n",
       "4 BG  114.80\n",
       "5 CH  101.69\n",
       "6 CY  103.33"
      ]
     },
     "metadata": {},
     "output_type": "display_data"
    }
   ],
   "source": [
    "data_hicp['unit'] <- NULL\n",
    "data_hicp['coicop'] <- NULL\n",
    "data_hicp['time'] <- NULL\n",
    "names(data_hicp)[names(data_hicp) == \"values\"] <- \"hicp\"\n",
    "head(data_hicp)"
   ]
  },
  {
   "cell_type": "markdown",
   "id": "5fcb1322-6953-4ffa-97cd-83399fe58101",
   "metadata": {},
   "source": [
    "Spojujeme vzniklý dataset s hodnotámi HICP s naším hlavním datasetem na základě společného sloupce `geo`. \n",
    "Také ověříme, zda náš dataset obsahuje hodnoty `NA`."
   ]
  },
  {
   "cell_type": "code",
   "execution_count": 22,
   "id": "a1d3ee93",
   "metadata": {
    "tags": []
   },
   "outputs": [
    {
     "data": {
      "text/html": [
       "<table class=\"dataframe\">\n",
       "<caption>A data.frame: 6 x 5</caption>\n",
       "<thead>\n",
       "\t<tr><th></th><th scope=col>geo</th><th scope=col>values</th><th scope=col>population</th><th scope=col>euro</th><th scope=col>hicp</th></tr>\n",
       "\t<tr><th></th><th scope=col>&lt;chr&gt;</th><th scope=col>&lt;dbl&gt;</th><th scope=col>&lt;dbl&gt;</th><th scope=col>&lt;lgl&gt;</th><th scope=col>&lt;dbl&gt;</th></tr>\n",
       "</thead>\n",
       "<tbody>\n",
       "\t<tr><th scope=row>1</th><td>AL</td><td> 17939.7</td><td> 2877275</td><td>FALSE</td><td>116.03</td></tr>\n",
       "\t<tr><th scope=row>2</th><td>AT</td><td>446933.3</td><td> 8978929</td><td> TRUE</td><td>113.93</td></tr>\n",
       "\t<tr><th scope=row>3</th><td>BA</td><td> 23317.3</td><td> 3282300</td><td>FALSE</td><td>    NA</td></tr>\n",
       "\t<tr><th scope=row>4</th><td>BE</td><td>549456.2</td><td>11617623</td><td> TRUE</td><td>116.99</td></tr>\n",
       "\t<tr><th scope=row>5</th><td>BG</td><td> 84560.6</td><td> 6838937</td><td>FALSE</td><td>114.80</td></tr>\n",
       "\t<tr><th scope=row>6</th><td>CH</td><td>767616.2</td><td> 8738791</td><td>FALSE</td><td>101.69</td></tr>\n",
       "</tbody>\n",
       "</table>\n"
      ],
      "text/latex": [
       "A data.frame: 6 x 5\n",
       "\\begin{tabular}{r|lllll}\n",
       "  & geo & values & population & euro & hicp\\\\\n",
       "  & <chr> & <dbl> & <dbl> & <lgl> & <dbl>\\\\\n",
       "\\hline\n",
       "\t1 & AL &  17939.7 &  2877275 & FALSE & 116.03\\\\\n",
       "\t2 & AT & 446933.3 &  8978929 &  TRUE & 113.93\\\\\n",
       "\t3 & BA &  23317.3 &  3282300 & FALSE &     NA\\\\\n",
       "\t4 & BE & 549456.2 & 11617623 &  TRUE & 116.99\\\\\n",
       "\t5 & BG &  84560.6 &  6838937 & FALSE & 114.80\\\\\n",
       "\t6 & CH & 767616.2 &  8738791 & FALSE & 101.69\\\\\n",
       "\\end{tabular}\n"
      ],
      "text/markdown": [
       "\n",
       "A data.frame: 6 x 5\n",
       "\n",
       "| <!--/--> | geo &lt;chr&gt; | values &lt;dbl&gt; | population &lt;dbl&gt; | euro &lt;lgl&gt; | hicp &lt;dbl&gt; |\n",
       "|---|---|---|---|---|---|\n",
       "| 1 | AL |  17939.7 |  2877275 | FALSE | 116.03 |\n",
       "| 2 | AT | 446933.3 |  8978929 |  TRUE | 113.93 |\n",
       "| 3 | BA |  23317.3 |  3282300 | FALSE |     NA |\n",
       "| 4 | BE | 549456.2 | 11617623 |  TRUE | 116.99 |\n",
       "| 5 | BG |  84560.6 |  6838937 | FALSE | 114.80 |\n",
       "| 6 | CH | 767616.2 |  8738791 | FALSE | 101.69 |\n",
       "\n"
      ],
      "text/plain": [
       "  geo values   population euro  hicp  \n",
       "1 AL   17939.7  2877275   FALSE 116.03\n",
       "2 AT  446933.3  8978929    TRUE 113.93\n",
       "3 BA   23317.3  3282300   FALSE     NA\n",
       "4 BE  549456.2 11617623    TRUE 116.99\n",
       "5 BG   84560.6  6838937   FALSE 114.80\n",
       "6 CH  767616.2  8738791   FALSE 101.69"
      ]
     },
     "metadata": {},
     "output_type": "display_data"
    },
    {
     "name": "stdout",
     "output_type": "stream",
     "text": [
      "Pocet NA hodnot: 1"
     ]
    }
   ],
   "source": [
    "merged_dataset3 <- merge(merged_dataset, data_hicp, by = \"geo\", all.x = T)\n",
    "head(merged_dataset3)\n",
    "cat(\"Počet NA hodnot:\", sum(is.na(merged_dataset3)))"
   ]
  },
  {
   "cell_type": "markdown",
   "id": "8f8b93d5",
   "metadata": {},
   "source": [
    "Pro jeden stát na Eurostatu nemáme k dispozici údaje o HICP, proto jej musíme doplnit z jiného [zdroje](https://tradingeconomics.com/bosnia-and-herzegovina/consumer-price-index-cpi)."
   ]
  },
  {
   "cell_type": "code",
   "execution_count": 23,
   "id": "e9a04302",
   "metadata": {
    "tags": []
   },
   "outputs": [
    {
     "data": {
      "text/html": [
       "<table class=\"dataframe\">\n",
       "<caption>A data.frame: 6 x 5</caption>\n",
       "<thead>\n",
       "\t<tr><th></th><th scope=col>geo</th><th scope=col>values</th><th scope=col>population</th><th scope=col>euro</th><th scope=col>hicp</th></tr>\n",
       "\t<tr><th></th><th scope=col>&lt;chr&gt;</th><th scope=col>&lt;dbl&gt;</th><th scope=col>&lt;dbl&gt;</th><th scope=col>&lt;lgl&gt;</th><th scope=col>&lt;dbl&gt;</th></tr>\n",
       "</thead>\n",
       "<tbody>\n",
       "\t<tr><th scope=row>1</th><td>AL</td><td> 17939.7</td><td> 2877275</td><td>FALSE</td><td>116.03</td></tr>\n",
       "\t<tr><th scope=row>2</th><td>AT</td><td>446933.3</td><td> 8978929</td><td> TRUE</td><td>113.93</td></tr>\n",
       "\t<tr><th scope=row>3</th><td>BA</td><td> 23317.3</td><td> 3282300</td><td>FALSE</td><td>107.10</td></tr>\n",
       "\t<tr><th scope=row>4</th><td>BE</td><td>549456.2</td><td>11617623</td><td> TRUE</td><td>116.99</td></tr>\n",
       "\t<tr><th scope=row>5</th><td>BG</td><td> 84560.6</td><td> 6838937</td><td>FALSE</td><td>114.80</td></tr>\n",
       "\t<tr><th scope=row>6</th><td>CH</td><td>767616.2</td><td> 8738791</td><td>FALSE</td><td>101.69</td></tr>\n",
       "</tbody>\n",
       "</table>\n"
      ],
      "text/latex": [
       "A data.frame: 6 x 5\n",
       "\\begin{tabular}{r|lllll}\n",
       "  & geo & values & population & euro & hicp\\\\\n",
       "  & <chr> & <dbl> & <dbl> & <lgl> & <dbl>\\\\\n",
       "\\hline\n",
       "\t1 & AL &  17939.7 &  2877275 & FALSE & 116.03\\\\\n",
       "\t2 & AT & 446933.3 &  8978929 &  TRUE & 113.93\\\\\n",
       "\t3 & BA &  23317.3 &  3282300 & FALSE & 107.10\\\\\n",
       "\t4 & BE & 549456.2 & 11617623 &  TRUE & 116.99\\\\\n",
       "\t5 & BG &  84560.6 &  6838937 & FALSE & 114.80\\\\\n",
       "\t6 & CH & 767616.2 &  8738791 & FALSE & 101.69\\\\\n",
       "\\end{tabular}\n"
      ],
      "text/markdown": [
       "\n",
       "A data.frame: 6 x 5\n",
       "\n",
       "| <!--/--> | geo &lt;chr&gt; | values &lt;dbl&gt; | population &lt;dbl&gt; | euro &lt;lgl&gt; | hicp &lt;dbl&gt; |\n",
       "|---|---|---|---|---|---|\n",
       "| 1 | AL |  17939.7 |  2877275 | FALSE | 116.03 |\n",
       "| 2 | AT | 446933.3 |  8978929 |  TRUE | 113.93 |\n",
       "| 3 | BA |  23317.3 |  3282300 | FALSE | 107.10 |\n",
       "| 4 | BE | 549456.2 | 11617623 |  TRUE | 116.99 |\n",
       "| 5 | BG |  84560.6 |  6838937 | FALSE | 114.80 |\n",
       "| 6 | CH | 767616.2 |  8738791 | FALSE | 101.69 |\n",
       "\n"
      ],
      "text/plain": [
       "  geo values   population euro  hicp  \n",
       "1 AL   17939.7  2877275   FALSE 116.03\n",
       "2 AT  446933.3  8978929    TRUE 113.93\n",
       "3 BA   23317.3  3282300   FALSE 107.10\n",
       "4 BE  549456.2 11617623    TRUE 116.99\n",
       "5 BG   84560.6  6838937   FALSE 114.80\n",
       "6 CH  767616.2  8738791   FALSE 101.69"
      ]
     },
     "metadata": {},
     "output_type": "display_data"
    }
   ],
   "source": [
    "merged_dataset3[3, 5] <- 107.1   #BA\n",
    "head(merged_dataset3)"
   ]
  },
  {
   "cell_type": "markdown",
   "id": "6fbe4577",
   "metadata": {},
   "source": [
    "#### GEO regions\n",
    "\n",
    "Rozšíříme dataset o geografický příznak, který bude zahrnovat třídění států do čtyř kategorií na základě [UN geoscheme](https://en.wikipedia.org/wiki/Regions_of_Europe#/media/File:Europe_subregion_map_UN_geoscheme.svg)."
   ]
  },
  {
   "cell_type": "code",
   "execution_count": 24,
   "id": "ecd1c24f",
   "metadata": {
    "tags": []
   },
   "outputs": [],
   "source": [
    "north_geo   <- c('NO', 'DK', 'SE', 'FI', 'IS', 'IE', 'EE', 'LT', 'LV')\n",
    "east_geo    <- c('CZ', 'PL', 'HR', 'SK', 'RO', 'HU', 'BG', 'RS', 'XK', 'AL', 'MK', 'BA', 'ME', 'SI')\n",
    "west_geo    <- c('FR', 'DE', 'AT', 'CH', 'LU', 'BE', 'NL')\n",
    "south_geo   <- c('ES', 'IT', 'PT', 'EL', 'CY', 'MT', 'TR')"
   ]
  },
  {
   "cell_type": "code",
   "execution_count": 25,
   "id": "953c4102",
   "metadata": {
    "tags": []
   },
   "outputs": [],
   "source": [
    "merged_dataset3$region[merged_dataset3$geo %in% north_geo] <- \"NORTH\"\n",
    "merged_dataset3$region[merged_dataset3$geo %in% east_geo] <- \"EAST\"\n",
    "merged_dataset3$region[merged_dataset3$geo %in% west_geo] <- \"WEST\"\n",
    "merged_dataset3$region[merged_dataset3$geo %in% south_geo] <- \"SOUTH\""
   ]
  },
  {
   "cell_type": "code",
   "execution_count": 26,
   "id": "e157d91b",
   "metadata": {
    "tags": []
   },
   "outputs": [
    {
     "data": {
      "text/html": [
       "<table class=\"dataframe\">\n",
       "<caption>A data.frame: 6 x 6</caption>\n",
       "<thead>\n",
       "\t<tr><th></th><th scope=col>geo</th><th scope=col>values</th><th scope=col>population</th><th scope=col>euro</th><th scope=col>hicp</th><th scope=col>region</th></tr>\n",
       "\t<tr><th></th><th scope=col>&lt;chr&gt;</th><th scope=col>&lt;dbl&gt;</th><th scope=col>&lt;dbl&gt;</th><th scope=col>&lt;lgl&gt;</th><th scope=col>&lt;dbl&gt;</th><th scope=col>&lt;chr&gt;</th></tr>\n",
       "</thead>\n",
       "<tbody>\n",
       "\t<tr><th scope=row>1</th><td>AL</td><td> 17939.7</td><td> 2877275</td><td>FALSE</td><td>116.03</td><td>EAST</td></tr>\n",
       "\t<tr><th scope=row>2</th><td>AT</td><td>446933.3</td><td> 8978929</td><td> TRUE</td><td>113.93</td><td>WEST</td></tr>\n",
       "\t<tr><th scope=row>3</th><td>BA</td><td> 23317.3</td><td> 3282300</td><td>FALSE</td><td>107.10</td><td>EAST</td></tr>\n",
       "\t<tr><th scope=row>4</th><td>BE</td><td>549456.2</td><td>11617623</td><td> TRUE</td><td>116.99</td><td>WEST</td></tr>\n",
       "\t<tr><th scope=row>5</th><td>BG</td><td> 84560.6</td><td> 6838937</td><td>FALSE</td><td>114.80</td><td>EAST</td></tr>\n",
       "\t<tr><th scope=row>6</th><td>CH</td><td>767616.2</td><td> 8738791</td><td>FALSE</td><td>101.69</td><td>WEST</td></tr>\n",
       "</tbody>\n",
       "</table>\n"
      ],
      "text/latex": [
       "A data.frame: 6 x 6\n",
       "\\begin{tabular}{r|llllll}\n",
       "  & geo & values & population & euro & hicp & region\\\\\n",
       "  & <chr> & <dbl> & <dbl> & <lgl> & <dbl> & <chr>\\\\\n",
       "\\hline\n",
       "\t1 & AL &  17939.7 &  2877275 & FALSE & 116.03 & EAST\\\\\n",
       "\t2 & AT & 446933.3 &  8978929 &  TRUE & 113.93 & WEST\\\\\n",
       "\t3 & BA &  23317.3 &  3282300 & FALSE & 107.10 & EAST\\\\\n",
       "\t4 & BE & 549456.2 & 11617623 &  TRUE & 116.99 & WEST\\\\\n",
       "\t5 & BG &  84560.6 &  6838937 & FALSE & 114.80 & EAST\\\\\n",
       "\t6 & CH & 767616.2 &  8738791 & FALSE & 101.69 & WEST\\\\\n",
       "\\end{tabular}\n"
      ],
      "text/markdown": [
       "\n",
       "A data.frame: 6 x 6\n",
       "\n",
       "| <!--/--> | geo &lt;chr&gt; | values &lt;dbl&gt; | population &lt;dbl&gt; | euro &lt;lgl&gt; | hicp &lt;dbl&gt; | region &lt;chr&gt; |\n",
       "|---|---|---|---|---|---|---|\n",
       "| 1 | AL |  17939.7 |  2877275 | FALSE | 116.03 | EAST |\n",
       "| 2 | AT | 446933.3 |  8978929 |  TRUE | 113.93 | WEST |\n",
       "| 3 | BA |  23317.3 |  3282300 | FALSE | 107.10 | EAST |\n",
       "| 4 | BE | 549456.2 | 11617623 |  TRUE | 116.99 | WEST |\n",
       "| 5 | BG |  84560.6 |  6838937 | FALSE | 114.80 | EAST |\n",
       "| 6 | CH | 767616.2 |  8738791 | FALSE | 101.69 | WEST |\n",
       "\n"
      ],
      "text/plain": [
       "  geo values   population euro  hicp   region\n",
       "1 AL   17939.7  2877275   FALSE 116.03 EAST  \n",
       "2 AT  446933.3  8978929    TRUE 113.93 WEST  \n",
       "3 BA   23317.3  3282300   FALSE 107.10 EAST  \n",
       "4 BE  549456.2 11617623    TRUE 116.99 WEST  \n",
       "5 BG   84560.6  6838937   FALSE 114.80 EAST  \n",
       "6 CH  767616.2  8738791   FALSE 101.69 WEST  "
      ]
     },
     "metadata": {},
     "output_type": "display_data"
    },
    {
     "data": {
      "text/html": [
       "<style>\n",
       ".list-inline {list-style: none; margin:0; padding: 0}\n",
       ".list-inline>li {display: inline-block}\n",
       ".list-inline>li:not(:last-child)::after {content: \"\\00b7\"; padding: 0 .5ex}\n",
       "</style>\n",
       "<ol class=list-inline><li>37</li><li>6</li></ol>\n"
      ],
      "text/latex": [
       "\\begin{enumerate*}\n",
       "\\item 37\n",
       "\\item 6\n",
       "\\end{enumerate*}\n"
      ],
      "text/markdown": [
       "1. 37\n",
       "2. 6\n",
       "\n",
       "\n"
      ],
      "text/plain": [
       "[1] 37  6"
      ]
     },
     "metadata": {},
     "output_type": "display_data"
    }
   ],
   "source": [
    "head(merged_dataset3)\n",
    "dim(merged_dataset3)"
   ]
  },
  {
   "cell_type": "markdown",
   "id": "880f3072-824d-4ede-89cb-4da481d0bfd0",
   "metadata": {},
   "source": [
    "Přejmenujme výsledný dataset pro snadnější práci a převeďme kategorické regresory na faktorovou reprezentaci."
   ]
  },
  {
   "cell_type": "code",
   "execution_count": 27,
   "id": "e723c874",
   "metadata": {
    "tags": []
   },
   "outputs": [
    {
     "data": {
      "text/html": [
       "<table class=\"dataframe\">\n",
       "<caption>A data.frame: 6 x 6</caption>\n",
       "<thead>\n",
       "\t<tr><th></th><th scope=col>geo</th><th scope=col>values</th><th scope=col>population</th><th scope=col>euro</th><th scope=col>hicp</th><th scope=col>region</th></tr>\n",
       "\t<tr><th></th><th scope=col>&lt;chr&gt;</th><th scope=col>&lt;dbl&gt;</th><th scope=col>&lt;dbl&gt;</th><th scope=col>&lt;fct&gt;</th><th scope=col>&lt;dbl&gt;</th><th scope=col>&lt;fct&gt;</th></tr>\n",
       "</thead>\n",
       "<tbody>\n",
       "\t<tr><th scope=row>1</th><td>AL</td><td> 17939.7</td><td> 2877275</td><td>FALSE</td><td>116.03</td><td>EAST</td></tr>\n",
       "\t<tr><th scope=row>2</th><td>AT</td><td>446933.3</td><td> 8978929</td><td>TRUE </td><td>113.93</td><td>WEST</td></tr>\n",
       "\t<tr><th scope=row>3</th><td>BA</td><td> 23317.3</td><td> 3282300</td><td>FALSE</td><td>107.10</td><td>EAST</td></tr>\n",
       "\t<tr><th scope=row>4</th><td>BE</td><td>549456.2</td><td>11617623</td><td>TRUE </td><td>116.99</td><td>WEST</td></tr>\n",
       "\t<tr><th scope=row>5</th><td>BG</td><td> 84560.6</td><td> 6838937</td><td>FALSE</td><td>114.80</td><td>EAST</td></tr>\n",
       "\t<tr><th scope=row>6</th><td>CH</td><td>767616.2</td><td> 8738791</td><td>FALSE</td><td>101.69</td><td>WEST</td></tr>\n",
       "</tbody>\n",
       "</table>\n"
      ],
      "text/latex": [
       "A data.frame: 6 x 6\n",
       "\\begin{tabular}{r|llllll}\n",
       "  & geo & values & population & euro & hicp & region\\\\\n",
       "  & <chr> & <dbl> & <dbl> & <fct> & <dbl> & <fct>\\\\\n",
       "\\hline\n",
       "\t1 & AL &  17939.7 &  2877275 & FALSE & 116.03 & EAST\\\\\n",
       "\t2 & AT & 446933.3 &  8978929 & TRUE  & 113.93 & WEST\\\\\n",
       "\t3 & BA &  23317.3 &  3282300 & FALSE & 107.10 & EAST\\\\\n",
       "\t4 & BE & 549456.2 & 11617623 & TRUE  & 116.99 & WEST\\\\\n",
       "\t5 & BG &  84560.6 &  6838937 & FALSE & 114.80 & EAST\\\\\n",
       "\t6 & CH & 767616.2 &  8738791 & FALSE & 101.69 & WEST\\\\\n",
       "\\end{tabular}\n"
      ],
      "text/markdown": [
       "\n",
       "A data.frame: 6 x 6\n",
       "\n",
       "| <!--/--> | geo &lt;chr&gt; | values &lt;dbl&gt; | population &lt;dbl&gt; | euro &lt;fct&gt; | hicp &lt;dbl&gt; | region &lt;fct&gt; |\n",
       "|---|---|---|---|---|---|---|\n",
       "| 1 | AL |  17939.7 |  2877275 | FALSE | 116.03 | EAST |\n",
       "| 2 | AT | 446933.3 |  8978929 | TRUE  | 113.93 | WEST |\n",
       "| 3 | BA |  23317.3 |  3282300 | FALSE | 107.10 | EAST |\n",
       "| 4 | BE | 549456.2 | 11617623 | TRUE  | 116.99 | WEST |\n",
       "| 5 | BG |  84560.6 |  6838937 | FALSE | 114.80 | EAST |\n",
       "| 6 | CH | 767616.2 |  8738791 | FALSE | 101.69 | WEST |\n",
       "\n"
      ],
      "text/plain": [
       "  geo values   population euro  hicp   region\n",
       "1 AL   17939.7  2877275   FALSE 116.03 EAST  \n",
       "2 AT  446933.3  8978929   TRUE  113.93 WEST  \n",
       "3 BA   23317.3  3282300   FALSE 107.10 EAST  \n",
       "4 BE  549456.2 11617623   TRUE  116.99 WEST  \n",
       "5 BG   84560.6  6838937   FALSE 114.80 EAST  \n",
       "6 CH  767616.2  8738791   FALSE 101.69 WEST  "
      ]
     },
     "metadata": {},
     "output_type": "display_data"
    }
   ],
   "source": [
    "data <- merged_dataset3\n",
    "data$euro <- factor(data$euro)\n",
    "data$region <- factor(data$region)\n",
    "head(data)"
   ]
  },
  {
   "cell_type": "markdown",
   "id": "abb3fc8d-5ae9-43db-8a71-6f7575754df0",
   "metadata": {},
   "source": [
    "### Ověření vztahu k HDP"
   ]
  },
  {
   "cell_type": "markdown",
   "id": "0bf6e8de",
   "metadata": {},
   "source": [
    "> Tyto údaje budou sloužit jako regresory, proto je zvolte tak, aby modelovanou veličinu alespoň v minimální míře determinovaly. Vztah k HDP ověřte."
   ]
  },
  {
   "cell_type": "markdown",
   "id": "ed654511-368f-4902-9902-e75db2758472",
   "metadata": {},
   "source": [
    "Příznaky `euro` a `region` jsou kategorické. K ověření jejich vztahu k HDP použijeme boxploty. Boxploty nám umožňují vizuálně porovnat rozdělení hodnoty HDP pro různé hodnoty regresorů a identifikovat případné rozdíly mezi nimi. Tímto způsobem můžeme získat předběžné informace o vztahu mezi regresory a HDP a případně identifikovat potenciální vzorce nebo trendy. První boxplot porovnává distribuci hodnot HDP v závislosti na eurozóně (tzn, patří-li stát do eurozóny). Z grafu je patrné, že hodnoty HDP mají tendenci být vyšší v zemích eurozóny (rozdíl se však nejeví jako významný). Druhý boxplot porovnává distribuci hodnot regresandu v různých regionech. Graf ukazuje, že existují významné rozdíly ve hodnotách regresoru mezi různými regiony (ve západním regionu jsou hodnoty nejvyšší, což potvrzuje předpoklad, který jsme měli předtím)."
   ]
  },
  {
   "cell_type": "code",
   "execution_count": 28,
   "id": "dd295f63",
   "metadata": {
    "tags": []
   },
   "outputs": [
    {
     "data": {
      "image/png": "[encoded data removed]",
      "text/plain": [
       "plot without title"
      ]
     },
     "metadata": {
      "image/png": {
       "height": 600,
       "width": 780
      }
     },
     "output_type": "display_data"
    }
   ],
   "source": [
    "par(mfrow=c(1,2))\n",
    "boxplot(values~euro, col=c(\"magenta\",\"cyan\"), data=data)\n",
    "boxplot(values~region, col=c(\"magenta\",\"cyan\",\"darkblue\", \"red\"), data=data)"
   ]
  },
  {
   "cell_type": "markdown",
   "id": "eeca0ed3-797d-420a-8526-5a90cbe4971f",
   "metadata": {},
   "source": [
    "Vztah mezi regresorem a regresandem také můžeme ověřit pomocí funkce `lm()`, která provádí lineární regresi a vrací výsledky, včetně testu na statistickou významnost vztahu. P-hodnota se v tomto kontextu používá ve spojitosti s nulovou hypotézou, která předpokládá, že neexistuje žádný vztah mezi regresorem a regresandem (koeficient regresoru je nulový)."
   ]
  },
  {
   "cell_type": "code",
   "execution_count": 29,
   "id": "2bb2c8e7",
   "metadata": {},
   "outputs": [
    {
     "data": {
      "text/plain": [
       "\n",
       "Call:\n",
       "lm(formula = values ~ euro, data = data)\n",
       "\n",
       "Residuals:\n",
       "    Min      1Q  Median      3Q     Max \n",
       "-684767 -462448 -207131  239497 3168211 \n",
       "\n",
       "Coefficients:\n",
       "            Estimate Std. Error t value Pr(>|t|)  \n",
       "(Intercept)   267499     183761   1.456   0.1544  \n",
       "euroTRUE      434191     256436   1.693   0.0993 .\n",
       "---\n",
       "Signif. codes:  0 '***' 0.001 '**' 0.01 '*' 0.05 '.' 0.1 ' ' 1\n",
       "\n",
       "Residual standard error: 779600 on 35 degrees of freedom\n",
       "Multiple R-squared:  0.07571,\tAdjusted R-squared:  0.0493 \n",
       "F-statistic: 2.867 on 1 and 35 DF,  p-value: 0.09931\n"
      ]
     },
     "metadata": {},
     "output_type": "display_data"
    }
   ],
   "source": [
    "fit.euro = lm(values~euro, data=data)\n",
    "summary(fit.euro)"
   ]
  },
  {
   "cell_type": "markdown",
   "id": "a69cf652-6c74-4edb-a35e-1b1c0fa5fed7",
   "metadata": {},
   "source": [
    "Jak vidíme, p-hodnota je větší než standardní hladina významnosti, znamená to, že nezamítáme nulovou hypotézu. V tomto konkrétním případě to znamená, že koeficient regresoru `euro` nemá významný vliv na hodnotu HDP. Proto jej nepovažujeme za významný regresor ve vztahu k HDP a nemá smysl jej dále používat v modelu."
   ]
  },
  {
   "cell_type": "code",
   "execution_count": 30,
   "id": "708f5e66",
   "metadata": {},
   "outputs": [
    {
     "data": {
      "text/plain": [
       "\n",
       "Call:\n",
       "lm(formula = values ~ region, data = data)\n",
       "\n",
       "Residuals:\n",
       "     Min       1Q   Median       3Q      Max \n",
       "-1249343  -243102   -72373   154524  2542427 \n",
       "\n",
       "Coefficients:\n",
       "            Estimate Std. Error t value Pr(>|t|)    \n",
       "(Intercept)   131361     184209   0.713 0.480790    \n",
       "regionNORTH   138220     294478   0.469 0.641890    \n",
       "regionSOUTH   524278     319059   1.643 0.109837    \n",
       "regionWEST   1196112     319059   3.749 0.000682 ***\n",
       "---\n",
       "Signif. codes:  0 '***' 0.001 '**' 0.01 '*' 0.05 '.' 0.1 ' ' 1\n",
       "\n",
       "Residual standard error: 689200 on 33 degrees of freedom\n",
       "Multiple R-squared:  0.3189,\tAdjusted R-squared:  0.257 \n",
       "F-statistic:  5.15 on 3 and 33 DF,  p-value: 0.004958\n"
      ]
     },
     "metadata": {},
     "output_type": "display_data"
    }
   ],
   "source": [
    "fit.region = lm(values~region, data=data)\n",
    "summary(fit.region)"
   ]
  },
  {
   "cell_type": "markdown",
   "id": "98908a74-7614-4b19-99fd-5fbf88d75dfa",
   "metadata": {},
   "source": [
    "V případě regresoru `region` vidíme, že pro hodnotu regoinu `WEST` máme dostatečné důkazy pro zamítnutí nulové hypotézy. Tím pádem zjišťujeme, že region `WEST` má významný vliv na hodnotu HDP. Proto ponecháváme tento regresor v našem budoucím modelu."
   ]
  },
  {
   "cell_type": "markdown",
   "id": "666ca280-e459-4aef-9ca5-6b78b5543234",
   "metadata": {},
   "source": [
    "Nyní se podíváme na závislosti mezi regresandem HDP a numerickými regresory. Znázorníme tyto vztahy pomocí scatter plotů."
   ]
  },
  {
   "cell_type": "code",
   "execution_count": 31,
   "id": "f85d369e",
   "metadata": {
    "tags": []
   },
   "outputs": [
    {
     "data": {
      "image/png": "[encoded data removed]",
      "text/plain": [
       "plot without title"
      ]
     },
     "metadata": {
      "image/png": {
       "height": 600,
       "width": 780
      }
     },
     "output_type": "display_data"
    }
   ],
   "source": [
    "p1 <- ggplot(data, aes(x=population, y=values)) +\n",
    "        geom_point() +\n",
    "        stat_smooth(method=\"lm\", formula=y~x, col=\"blue\", se=F) +\n",
    "        labs(title = \"Relationship between GDP and population\")+\n",
    "        theme(plot.title = element_text(size = 20, hjust = 0.5))\n",
    "\n",
    "p2 <- ggplot(data, aes(x=hicp, y=values)) +\n",
    "        geom_point() +\n",
    "        stat_smooth(method=\"lm\", formula=y~x, col=\"blue\", se=F) +\n",
    "        labs(title = \"Relationship between GDP and HICP\")+\n",
    "        theme(plot.title = element_text(size = 20, hjust = 0.5))\n",
    "\n",
    "plot_grid(p1, p2, nrow=1)"
   ]
  },
  {
   "cell_type": "markdown",
   "id": "dbfba7c9-bbdf-482d-bbcd-b59b724a8f9f",
   "metadata": {},
   "source": [
    "Z těchto grafů je možné předpokládat, že počet obyvatel lépe vysvětluje HDP než HICP. V obou grafech je patrná určitá variabilita a několik odlehlých pozorování, ale ve grafu HICP/HDP vyskytuje významné odlehlé pozorování, které ovlivňuje směr lineární křivky(\"táhnou\" nahoru). Pro přesnější závěry je však nezbytné provést další statistické testy."
   ]
  },
  {
   "cell_type": "code",
   "execution_count": 32,
   "id": "91951664",
   "metadata": {
    "tags": []
   },
   "outputs": [
    {
     "data": {
      "text/plain": [
       "\n",
       "Call:\n",
       "lm(formula = values ~ population, data = data)\n",
       "\n",
       "Residuals:\n",
       "     Min       1Q   Median       3Q      Max \n",
       "-1712895  -107608   -57109   142403  1397051 \n",
       "\n",
       "Coefficients:\n",
       "                Estimate   Std. Error t value Pr(>|t|)    \n",
       "(Intercept) 44888.660433 85393.344236   0.526    0.602    \n",
       "population      0.029169     0.003104   9.398 4.19e-11 ***\n",
       "---\n",
       "Signif. codes:  0 '***' 0.001 '**' 0.01 '*' 0.05 '.' 0.1 ' ' 1\n",
       "\n",
       "Residual standard error: 432000 on 35 degrees of freedom\n",
       "Multiple R-squared:  0.7162,\tAdjusted R-squared:  0.7081 \n",
       "F-statistic: 88.32 on 1 and 35 DF,  p-value: 4.194e-11\n"
      ]
     },
     "metadata": {},
     "output_type": "display_data"
    }
   ],
   "source": [
    "fit.population = lm(values~population, data=data)\n",
    "summary(fit.population)"
   ]
  },
  {
   "cell_type": "markdown",
   "id": "744646b5-e169-4a17-b336-d200f7af56d4",
   "metadata": {},
   "source": [
    "Koeficient regresoru `population` je statisticky významný (p-hodnota < 0.05), což naznačuje, že můžeme předpokládat, že existuje významný lineární vztah mezi počtem obyvatel `population` a hodnotou HDP `values`. Tento regresor ponecháme."
   ]
  },
  {
   "cell_type": "code",
   "execution_count": 33,
   "id": "b7b7abaa-4a53-4dbc-a1b0-2371ebacd12c",
   "metadata": {
    "tags": []
   },
   "outputs": [
    {
     "data": {
      "text/plain": [
       "\n",
       "Call:\n",
       "lm(formula = values ~ hicp, data = data)\n",
       "\n",
       "Residuals:\n",
       "    Min      1Q  Median      3Q     Max \n",
       "-476728 -444632 -265315   60152 3386661 \n",
       "\n",
       "Coefficients:\n",
       "            Estimate Std. Error t value Pr(>|t|)\n",
       "(Intercept)   338011     544907   0.620    0.539\n",
       "hicp            1293       4482   0.289    0.775\n",
       "\n",
       "Residual standard error: 810000 on 35 degrees of freedom\n",
       "Multiple R-squared:  0.002373,\tAdjusted R-squared:  -0.02613 \n",
       "F-statistic: 0.08324 on 1 and 35 DF,  p-value: 0.7746\n"
      ]
     },
     "metadata": {},
     "output_type": "display_data"
    }
   ],
   "source": [
    "fit.population = lm(values~hicp, data=data)\n",
    "summary(fit.population)"
   ]
  },
  {
   "cell_type": "markdown",
   "id": "dbabfb93-7ab0-4b3e-8df5-47a8ef662223",
   "metadata": {},
   "source": [
    "Koeficient regresoru `hicp` není statisticky významný (p-hodnota > 0.05), což naznačuje, že předpokládáme, že neexistuje lineární vztah mezi harmonizovaným indexem spotřebitelských cen `hicp` a hodnotou HDP `values`. Tedy, hodnota `hicp` nemá signifikantní vliv na hodnotu `values` v našem modelu."
   ]
  },
  {
   "cell_type": "markdown",
   "id": "47b04ba5-767a-41ea-8e22-145398489f6f",
   "metadata": {},
   "source": [
    "Z důvodu nízkého vztahu mezi regresory `hicp` a `euro` a regresandem `HDP`, se rozhodujeme tyto regresory odstranit a pokusit se nalézt jiné, které mají silnější vztah k regresandu `HDP`."
   ]
  },
  {
   "cell_type": "code",
   "execution_count": 34,
   "id": "91ca94cd",
   "metadata": {
    "tags": []
   },
   "outputs": [],
   "source": [
    "data$hicp <- NULL\n",
    "data$euro <- NULL"
   ]
  },
  {
   "cell_type": "markdown",
   "id": "b2b18935-0c23-4f0f-86de-93155fe120c5",
   "metadata": {},
   "source": [
    "### Přídaní jiných regresorů"
   ]
  },
  {
   "cell_type": "markdown",
   "id": "e208608a-bdb5-4c07-8441-aa51fcb58815",
   "metadata": {},
   "source": [
    "Namísto ekonomického faktoru HICP(Harmonizovaný index spotřebitelských cen) zkusíme použít **Export** a **Import** jako dva regresory. Předpokládáme, že HDP má kladnou korelaci s exportem a importem. Máme podezření, že export bude silně korelovat s importem, ale vezmeme v úvahu oba faktory, abychom přesněji určili, který z nich přesněji determinuje HDP.\n",
    "\n",
    "Jako další regresor zvolíme **průměrnou mzdu** na jednoho pracujícího člověka bez dětí. Předpokládáme, že i tento faktor má kladnou korelaci s vysvětlovanou proměnnou, tedy s HDP."
   ]
  },
  {
   "cell_type": "markdown",
   "id": "2f9fb2c1",
   "metadata": {},
   "source": [
    "#### Export"
   ]
  },
  {
   "cell_type": "markdown",
   "id": "016e3e9b-fd8d-44e1-ba9f-019568541385",
   "metadata": {},
   "source": [
    "Načteme data o exportu a importu v jednotlivých evropských státech, která byla získána z [Eurostatu](https://ec.europa.eu/eurostat/databrowser/view/tec00110/default/table?lang=en)."
   ]
  },
  {
   "cell_type": "code",
   "execution_count": 35,
   "id": "b0b23c68",
   "metadata": {
    "tags": []
   },
   "outputs": [
    {
     "data": {
      "text/html": [
       "<table class=\"dataframe\">\n",
       "<caption>A tibble: 6 x 5</caption>\n",
       "<thead>\n",
       "\t<tr><th scope=col>unit</th><th scope=col>na_item</th><th scope=col>geo</th><th scope=col>time</th><th scope=col>values</th></tr>\n",
       "\t<tr><th scope=col>&lt;chr&gt;</th><th scope=col>&lt;chr&gt;</th><th scope=col>&lt;chr&gt;</th><th scope=col>&lt;date&gt;</th><th scope=col>&lt;dbl&gt;</th></tr>\n",
       "</thead>\n",
       "<tbody>\n",
       "\t<tr><td>CP_MEUR</td><td>P6</td><td>AL</td><td>2011-01-01</td><td>  2710.2</td></tr>\n",
       "\t<tr><td>CP_MEUR</td><td>P6</td><td>AT</td><td>2011-01-01</td><td>167310.3</td></tr>\n",
       "\t<tr><td>CP_MEUR</td><td>P6</td><td>BA</td><td>2011-01-01</td><td>  4296.6</td></tr>\n",
       "\t<tr><td>CP_MEUR</td><td>P6</td><td>BE</td><td>2011-01-01</td><td>303396.1</td></tr>\n",
       "\t<tr><td>CP_MEUR</td><td>P6</td><td>BG</td><td>2011-01-01</td><td> 24390.8</td></tr>\n",
       "\t<tr><td>CP_MEUR</td><td>P6</td><td>CH</td><td>2011-01-01</td><td>342729.1</td></tr>\n",
       "</tbody>\n",
       "</table>\n"
      ],
      "text/latex": [
       "A tibble: 6 x 5\n",
       "\\begin{tabular}{lllll}\n",
       " unit & na\\_item & geo & time & values\\\\\n",
       " <chr> & <chr> & <chr> & <date> & <dbl>\\\\\n",
       "\\hline\n",
       "\t CP\\_MEUR & P6 & AL & 2011-01-01 &   2710.2\\\\\n",
       "\t CP\\_MEUR & P6 & AT & 2011-01-01 & 167310.3\\\\\n",
       "\t CP\\_MEUR & P6 & BA & 2011-01-01 &   4296.6\\\\\n",
       "\t CP\\_MEUR & P6 & BE & 2011-01-01 & 303396.1\\\\\n",
       "\t CP\\_MEUR & P6 & BG & 2011-01-01 &  24390.8\\\\\n",
       "\t CP\\_MEUR & P6 & CH & 2011-01-01 & 342729.1\\\\\n",
       "\\end{tabular}\n"
      ],
      "text/markdown": [
       "\n",
       "A tibble: 6 x 5\n",
       "\n",
       "| unit &lt;chr&gt; | na_item &lt;chr&gt; | geo &lt;chr&gt; | time &lt;date&gt; | values &lt;dbl&gt; |\n",
       "|---|---|---|---|---|\n",
       "| CP_MEUR | P6 | AL | 2011-01-01 |   2710.2 |\n",
       "| CP_MEUR | P6 | AT | 2011-01-01 | 167310.3 |\n",
       "| CP_MEUR | P6 | BA | 2011-01-01 |   4296.6 |\n",
       "| CP_MEUR | P6 | BE | 2011-01-01 | 303396.1 |\n",
       "| CP_MEUR | P6 | BG | 2011-01-01 |  24390.8 |\n",
       "| CP_MEUR | P6 | CH | 2011-01-01 | 342729.1 |\n",
       "\n"
      ],
      "text/plain": [
       "  unit    na_item geo time       values  \n",
       "1 CP_MEUR P6      AL  2011-01-01   2710.2\n",
       "2 CP_MEUR P6      AT  2011-01-01 167310.3\n",
       "3 CP_MEUR P6      BA  2011-01-01   4296.6\n",
       "4 CP_MEUR P6      BE  2011-01-01 303396.1\n",
       "5 CP_MEUR P6      BG  2011-01-01  24390.8\n",
       "6 CP_MEUR P6      CH  2011-01-01 342729.1"
      ]
     },
     "metadata": {},
     "output_type": "display_data"
    },
    {
     "data": {
      "text/html": [
       "<table class=\"dataframe\">\n",
       "<caption>A tibble: 6 x 5</caption>\n",
       "<thead>\n",
       "\t<tr><th scope=col>unit</th><th scope=col>na_item</th><th scope=col>geo</th><th scope=col>time</th><th scope=col>values</th></tr>\n",
       "\t<tr><th scope=col>&lt;chr&gt;</th><th scope=col>&lt;chr&gt;</th><th scope=col>&lt;chr&gt;</th><th scope=col>&lt;date&gt;</th><th scope=col>&lt;dbl&gt;</th></tr>\n",
       "</thead>\n",
       "<tbody>\n",
       "\t<tr><td>CP_MEUR</td><td>P7</td><td>RS</td><td>2022-01-01</td><td> 44773.0</td></tr>\n",
       "\t<tr><td>CP_MEUR</td><td>P7</td><td>SE</td><td>2022-01-01</td><td>281069.2</td></tr>\n",
       "\t<tr><td>CP_MEUR</td><td>P7</td><td>SI</td><td>2022-01-01</td><td> 52353.4</td></tr>\n",
       "\t<tr><td>CP_MEUR</td><td>P7</td><td>SK</td><td>2022-01-01</td><td>114946.3</td></tr>\n",
       "\t<tr><td>CP_MEUR</td><td>P7</td><td>TR</td><td>2022-01-01</td><td>367250.6</td></tr>\n",
       "\t<tr><td>CP_MEUR</td><td>P7</td><td>XK</td><td>2022-01-01</td><td>  6336.5</td></tr>\n",
       "</tbody>\n",
       "</table>\n"
      ],
      "text/latex": [
       "A tibble: 6 x 5\n",
       "\\begin{tabular}{lllll}\n",
       " unit & na\\_item & geo & time & values\\\\\n",
       " <chr> & <chr> & <chr> & <date> & <dbl>\\\\\n",
       "\\hline\n",
       "\t CP\\_MEUR & P7 & RS & 2022-01-01 &  44773.0\\\\\n",
       "\t CP\\_MEUR & P7 & SE & 2022-01-01 & 281069.2\\\\\n",
       "\t CP\\_MEUR & P7 & SI & 2022-01-01 &  52353.4\\\\\n",
       "\t CP\\_MEUR & P7 & SK & 2022-01-01 & 114946.3\\\\\n",
       "\t CP\\_MEUR & P7 & TR & 2022-01-01 & 367250.6\\\\\n",
       "\t CP\\_MEUR & P7 & XK & 2022-01-01 &   6336.5\\\\\n",
       "\\end{tabular}\n"
      ],
      "text/markdown": [
       "\n",
       "A tibble: 6 x 5\n",
       "\n",
       "| unit &lt;chr&gt; | na_item &lt;chr&gt; | geo &lt;chr&gt; | time &lt;date&gt; | values &lt;dbl&gt; |\n",
       "|---|---|---|---|---|\n",
       "| CP_MEUR | P7 | RS | 2022-01-01 |  44773.0 |\n",
       "| CP_MEUR | P7 | SE | 2022-01-01 | 281069.2 |\n",
       "| CP_MEUR | P7 | SI | 2022-01-01 |  52353.4 |\n",
       "| CP_MEUR | P7 | SK | 2022-01-01 | 114946.3 |\n",
       "| CP_MEUR | P7 | TR | 2022-01-01 | 367250.6 |\n",
       "| CP_MEUR | P7 | XK | 2022-01-01 |   6336.5 |\n",
       "\n"
      ],
      "text/plain": [
       "  unit    na_item geo time       values  \n",
       "1 CP_MEUR P7      RS  2022-01-01  44773.0\n",
       "2 CP_MEUR P7      SE  2022-01-01 281069.2\n",
       "3 CP_MEUR P7      SI  2022-01-01  52353.4\n",
       "4 CP_MEUR P7      SK  2022-01-01 114946.3\n",
       "5 CP_MEUR P7      TR  2022-01-01 367250.6\n",
       "6 CP_MEUR P7      XK  2022-01-01   6336.5"
      ]
     },
     "metadata": {},
     "output_type": "display_data"
    }
   ],
   "source": [
    "dat_exp_import <- get_eurostat(id = 'tec00110')\n",
    "head(dat_exp_import)\n",
    "tail(dat_exp_import)"
   ]
  },
  {
   "cell_type": "markdown",
   "id": "fc1acccf-214f-46e5-8eae-6b5de474c49f",
   "metadata": {},
   "source": [
    "Provedeme filtraci dat pro export, kde hodnota `na_item` odpovídá `P6`. Zároveň budeme brát v úvahu jednotku unit s hodnotou `CP_MEUR`(vyjádření v milionech eur) a rok `time` s hodnotou `2022-01-01`."
   ]
  },
  {
   "cell_type": "code",
   "execution_count": 36,
   "id": "a862a7a0",
   "metadata": {
    "tags": []
   },
   "outputs": [
    {
     "data": {
      "text/html": [
       "<table class=\"dataframe\">\n",
       "<caption>A tibble: 6 x 5</caption>\n",
       "<thead>\n",
       "\t<tr><th scope=col>unit</th><th scope=col>na_item</th><th scope=col>geo</th><th scope=col>time</th><th scope=col>values</th></tr>\n",
       "\t<tr><th scope=col>&lt;chr&gt;</th><th scope=col>&lt;chr&gt;</th><th scope=col>&lt;chr&gt;</th><th scope=col>&lt;date&gt;</th><th scope=col>&lt;dbl&gt;</th></tr>\n",
       "</thead>\n",
       "<tbody>\n",
       "\t<tr><td>CP_MEUR</td><td>P6</td><td>AL</td><td>2022-01-01</td><td>  6720.8</td></tr>\n",
       "\t<tr><td>CP_MEUR</td><td>P6</td><td>AT</td><td>2022-01-01</td><td>275626.3</td></tr>\n",
       "\t<tr><td>CP_MEUR</td><td>P6</td><td>BA</td><td>2022-01-01</td><td> 10783.4</td></tr>\n",
       "\t<tr><td>CP_MEUR</td><td>P6</td><td>BE</td><td>2022-01-01</td><td>523788.2</td></tr>\n",
       "\t<tr><td>CP_MEUR</td><td>P6</td><td>BG</td><td>2022-01-01</td><td> 57960.8</td></tr>\n",
       "\t<tr><td>CP_MEUR</td><td>P6</td><td>CH</td><td>2022-01-01</td><td>575518.0</td></tr>\n",
       "</tbody>\n",
       "</table>\n"
      ],
      "text/latex": [
       "A tibble: 6 x 5\n",
       "\\begin{tabular}{lllll}\n",
       " unit & na\\_item & geo & time & values\\\\\n",
       " <chr> & <chr> & <chr> & <date> & <dbl>\\\\\n",
       "\\hline\n",
       "\t CP\\_MEUR & P6 & AL & 2022-01-01 &   6720.8\\\\\n",
       "\t CP\\_MEUR & P6 & AT & 2022-01-01 & 275626.3\\\\\n",
       "\t CP\\_MEUR & P6 & BA & 2022-01-01 &  10783.4\\\\\n",
       "\t CP\\_MEUR & P6 & BE & 2022-01-01 & 523788.2\\\\\n",
       "\t CP\\_MEUR & P6 & BG & 2022-01-01 &  57960.8\\\\\n",
       "\t CP\\_MEUR & P6 & CH & 2022-01-01 & 575518.0\\\\\n",
       "\\end{tabular}\n"
      ],
      "text/markdown": [
       "\n",
       "A tibble: 6 x 5\n",
       "\n",
       "| unit &lt;chr&gt; | na_item &lt;chr&gt; | geo &lt;chr&gt; | time &lt;date&gt; | values &lt;dbl&gt; |\n",
       "|---|---|---|---|---|\n",
       "| CP_MEUR | P6 | AL | 2022-01-01 |   6720.8 |\n",
       "| CP_MEUR | P6 | AT | 2022-01-01 | 275626.3 |\n",
       "| CP_MEUR | P6 | BA | 2022-01-01 |  10783.4 |\n",
       "| CP_MEUR | P6 | BE | 2022-01-01 | 523788.2 |\n",
       "| CP_MEUR | P6 | BG | 2022-01-01 |  57960.8 |\n",
       "| CP_MEUR | P6 | CH | 2022-01-01 | 575518.0 |\n",
       "\n"
      ],
      "text/plain": [
       "  unit    na_item geo time       values  \n",
       "1 CP_MEUR P6      AL  2022-01-01   6720.8\n",
       "2 CP_MEUR P6      AT  2022-01-01 275626.3\n",
       "3 CP_MEUR P6      BA  2022-01-01  10783.4\n",
       "4 CP_MEUR P6      BE  2022-01-01 523788.2\n",
       "5 CP_MEUR P6      BG  2022-01-01  57960.8\n",
       "6 CP_MEUR P6      CH  2022-01-01 575518.0"
      ]
     },
     "metadata": {},
     "output_type": "display_data"
    }
   ],
   "source": [
    "data_export <- dat_exp_import[dat_exp_import$na_item=='P6',]\n",
    "data_export <- data_export[data_export$unit=='CP_MEUR',]\n",
    "data_export <- data_export[data_export$time=='2022-01-01',]\n",
    "head(data_export)"
   ]
  },
  {
   "cell_type": "markdown",
   "id": "96eb845e-81f8-4f78-9b81-02639d7c8268",
   "metadata": {},
   "source": [
    "Odstraníme sloupce `time`, `unit` a `na_item`, které již nepotřebujeme. Také přejmenujeme sloupec `values` na `export`, abychom lépe identifikovali hodnoty exportu v našem datasetu."
   ]
  },
  {
   "cell_type": "code",
   "execution_count": 37,
   "id": "c36aefb3",
   "metadata": {
    "tags": []
   },
   "outputs": [
    {
     "data": {
      "text/html": [
       "<table class=\"dataframe\">\n",
       "<caption>A tibble: 6 x 2</caption>\n",
       "<thead>\n",
       "\t<tr><th scope=col>geo</th><th scope=col>export</th></tr>\n",
       "\t<tr><th scope=col>&lt;chr&gt;</th><th scope=col>&lt;dbl&gt;</th></tr>\n",
       "</thead>\n",
       "<tbody>\n",
       "\t<tr><td>AL</td><td>  6720.8</td></tr>\n",
       "\t<tr><td>AT</td><td>275626.3</td></tr>\n",
       "\t<tr><td>BA</td><td> 10783.4</td></tr>\n",
       "\t<tr><td>BE</td><td>523788.2</td></tr>\n",
       "\t<tr><td>BG</td><td> 57960.8</td></tr>\n",
       "\t<tr><td>CH</td><td>575518.0</td></tr>\n",
       "</tbody>\n",
       "</table>\n"
      ],
      "text/latex": [
       "A tibble: 6 x 2\n",
       "\\begin{tabular}{ll}\n",
       " geo & export\\\\\n",
       " <chr> & <dbl>\\\\\n",
       "\\hline\n",
       "\t AL &   6720.8\\\\\n",
       "\t AT & 275626.3\\\\\n",
       "\t BA &  10783.4\\\\\n",
       "\t BE & 523788.2\\\\\n",
       "\t BG &  57960.8\\\\\n",
       "\t CH & 575518.0\\\\\n",
       "\\end{tabular}\n"
      ],
      "text/markdown": [
       "\n",
       "A tibble: 6 x 2\n",
       "\n",
       "| geo &lt;chr&gt; | export &lt;dbl&gt; |\n",
       "|---|---|\n",
       "| AL |   6720.8 |\n",
       "| AT | 275626.3 |\n",
       "| BA |  10783.4 |\n",
       "| BE | 523788.2 |\n",
       "| BG |  57960.8 |\n",
       "| CH | 575518.0 |\n",
       "\n"
      ],
      "text/plain": [
       "  geo export  \n",
       "1 AL    6720.8\n",
       "2 AT  275626.3\n",
       "3 BA   10783.4\n",
       "4 BE  523788.2\n",
       "5 BG   57960.8\n",
       "6 CH  575518.0"
      ]
     },
     "metadata": {},
     "output_type": "display_data"
    }
   ],
   "source": [
    "data_export$unit <- NULL\n",
    "data_export$na_item <- NULL\n",
    "data_export$time <- NULL\n",
    "names(data_export)[names(data_export) == \"values\"] <- \"export\"\n",
    "head(data_export)"
   ]
  },
  {
   "cell_type": "markdown",
   "id": "7a279966-1d71-4ec2-8af6-384f84d5af27",
   "metadata": {},
   "source": [
    "Spojujeme vzniklý dataset o exportu s naším hlavním datasetem (HDP států) na základě společného sloupce `geo`. Po spojení datasetů ověříme vzniklé hodnoty a zkontrolujeme, zda obsahují nějaké `NA` hodnoty."
   ]
  },
  {
   "cell_type": "code",
   "execution_count": 38,
   "id": "69596c79",
   "metadata": {
    "tags": []
   },
   "outputs": [
    {
     "data": {
      "text/html": [
       "<table class=\"dataframe\">\n",
       "<caption>A data.frame: 6 x 5</caption>\n",
       "<thead>\n",
       "\t<tr><th></th><th scope=col>geo</th><th scope=col>values</th><th scope=col>population</th><th scope=col>region</th><th scope=col>export</th></tr>\n",
       "\t<tr><th></th><th scope=col>&lt;chr&gt;</th><th scope=col>&lt;dbl&gt;</th><th scope=col>&lt;dbl&gt;</th><th scope=col>&lt;fct&gt;</th><th scope=col>&lt;dbl&gt;</th></tr>\n",
       "</thead>\n",
       "<tbody>\n",
       "\t<tr><th scope=row>1</th><td>AL</td><td> 17939.7</td><td> 2877275</td><td>EAST</td><td>  6720.8</td></tr>\n",
       "\t<tr><th scope=row>2</th><td>AT</td><td>446933.3</td><td> 8978929</td><td>WEST</td><td>275626.3</td></tr>\n",
       "\t<tr><th scope=row>3</th><td>BA</td><td> 23317.3</td><td> 3282300</td><td>EAST</td><td> 10783.4</td></tr>\n",
       "\t<tr><th scope=row>4</th><td>BE</td><td>549456.2</td><td>11617623</td><td>WEST</td><td>523788.2</td></tr>\n",
       "\t<tr><th scope=row>5</th><td>BG</td><td> 84560.6</td><td> 6838937</td><td>EAST</td><td> 57960.8</td></tr>\n",
       "\t<tr><th scope=row>6</th><td>CH</td><td>767616.2</td><td> 8738791</td><td>WEST</td><td>575518.0</td></tr>\n",
       "</tbody>\n",
       "</table>\n"
      ],
      "text/latex": [
       "A data.frame: 6 x 5\n",
       "\\begin{tabular}{r|lllll}\n",
       "  & geo & values & population & region & export\\\\\n",
       "  & <chr> & <dbl> & <dbl> & <fct> & <dbl>\\\\\n",
       "\\hline\n",
       "\t1 & AL &  17939.7 &  2877275 & EAST &   6720.8\\\\\n",
       "\t2 & AT & 446933.3 &  8978929 & WEST & 275626.3\\\\\n",
       "\t3 & BA &  23317.3 &  3282300 & EAST &  10783.4\\\\\n",
       "\t4 & BE & 549456.2 & 11617623 & WEST & 523788.2\\\\\n",
       "\t5 & BG &  84560.6 &  6838937 & EAST &  57960.8\\\\\n",
       "\t6 & CH & 767616.2 &  8738791 & WEST & 575518.0\\\\\n",
       "\\end{tabular}\n"
      ],
      "text/markdown": [
       "\n",
       "A data.frame: 6 x 5\n",
       "\n",
       "| <!--/--> | geo &lt;chr&gt; | values &lt;dbl&gt; | population &lt;dbl&gt; | region &lt;fct&gt; | export &lt;dbl&gt; |\n",
       "|---|---|---|---|---|---|\n",
       "| 1 | AL |  17939.7 |  2877275 | EAST |   6720.8 |\n",
       "| 2 | AT | 446933.3 |  8978929 | WEST | 275626.3 |\n",
       "| 3 | BA |  23317.3 |  3282300 | EAST |  10783.4 |\n",
       "| 4 | BE | 549456.2 | 11617623 | WEST | 523788.2 |\n",
       "| 5 | BG |  84560.6 |  6838937 | EAST |  57960.8 |\n",
       "| 6 | CH | 767616.2 |  8738791 | WEST | 575518.0 |\n",
       "\n"
      ],
      "text/plain": [
       "  geo values   population region export  \n",
       "1 AL   17939.7  2877275   EAST     6720.8\n",
       "2 AT  446933.3  8978929   WEST   275626.3\n",
       "3 BA   23317.3  3282300   EAST    10783.4\n",
       "4 BE  549456.2 11617623   WEST   523788.2\n",
       "5 BG   84560.6  6838937   EAST    57960.8\n",
       "6 CH  767616.2  8738791   WEST   575518.0"
      ]
     },
     "metadata": {},
     "output_type": "display_data"
    },
    {
     "name": "stdout",
     "output_type": "stream",
     "text": [
      "Pocet NA hodnot: 0"
     ]
    }
   ],
   "source": [
    "data_merged <- merge(data, data_export, by = \"geo\", all.x = T)\n",
    "head(data_merged)\n",
    "cat(\"Počet NA hodnot:\", sum(is.na(data_merged)))"
   ]
  },
  {
   "cell_type": "markdown",
   "id": "2e46d177",
   "metadata": {},
   "source": [
    "#### Import"
   ]
  },
  {
   "cell_type": "markdown",
   "id": "2cf002ec-2a64-4b73-837c-7bceb2662841",
   "metadata": {},
   "source": [
    "Provedeme stejné kroky jako pro export, tentokrát však hledáme hodnotu `P7` ve sloupeci `na_item`, což představuje import. Tím získáme dataset s informacemi o importu v jednotlivých evropských státech."
   ]
  },
  {
   "cell_type": "code",
   "execution_count": 39,
   "id": "b0afee5c",
   "metadata": {
    "tags": []
   },
   "outputs": [
    {
     "data": {
      "text/html": [
       "<table class=\"dataframe\">\n",
       "<caption>A tibble: 6 x 5</caption>\n",
       "<thead>\n",
       "\t<tr><th scope=col>unit</th><th scope=col>na_item</th><th scope=col>geo</th><th scope=col>time</th><th scope=col>values</th></tr>\n",
       "\t<tr><th scope=col>&lt;chr&gt;</th><th scope=col>&lt;chr&gt;</th><th scope=col>&lt;chr&gt;</th><th scope=col>&lt;date&gt;</th><th scope=col>&lt;dbl&gt;</th></tr>\n",
       "</thead>\n",
       "<tbody>\n",
       "\t<tr><td>CP_MEUR</td><td>P7</td><td>AL</td><td>2022-01-01</td><td>  8582.7</td></tr>\n",
       "\t<tr><td>CP_MEUR</td><td>P7</td><td>AT</td><td>2022-01-01</td><td>270142.9</td></tr>\n",
       "\t<tr><td>CP_MEUR</td><td>P7</td><td>BA</td><td>2022-01-01</td><td> 14198.7</td></tr>\n",
       "\t<tr><td>CP_MEUR</td><td>P7</td><td>BE</td><td>2022-01-01</td><td>537070.1</td></tr>\n",
       "\t<tr><td>CP_MEUR</td><td>P7</td><td>BG</td><td>2022-01-01</td><td> 57281.3</td></tr>\n",
       "\t<tr><td>CP_MEUR</td><td>P7</td><td>CH</td><td>2022-01-01</td><td>481272.0</td></tr>\n",
       "</tbody>\n",
       "</table>\n"
      ],
      "text/latex": [
       "A tibble: 6 x 5\n",
       "\\begin{tabular}{lllll}\n",
       " unit & na\\_item & geo & time & values\\\\\n",
       " <chr> & <chr> & <chr> & <date> & <dbl>\\\\\n",
       "\\hline\n",
       "\t CP\\_MEUR & P7 & AL & 2022-01-01 &   8582.7\\\\\n",
       "\t CP\\_MEUR & P7 & AT & 2022-01-01 & 270142.9\\\\\n",
       "\t CP\\_MEUR & P7 & BA & 2022-01-01 &  14198.7\\\\\n",
       "\t CP\\_MEUR & P7 & BE & 2022-01-01 & 537070.1\\\\\n",
       "\t CP\\_MEUR & P7 & BG & 2022-01-01 &  57281.3\\\\\n",
       "\t CP\\_MEUR & P7 & CH & 2022-01-01 & 481272.0\\\\\n",
       "\\end{tabular}\n"
      ],
      "text/markdown": [
       "\n",
       "A tibble: 6 x 5\n",
       "\n",
       "| unit &lt;chr&gt; | na_item &lt;chr&gt; | geo &lt;chr&gt; | time &lt;date&gt; | values &lt;dbl&gt; |\n",
       "|---|---|---|---|---|\n",
       "| CP_MEUR | P7 | AL | 2022-01-01 |   8582.7 |\n",
       "| CP_MEUR | P7 | AT | 2022-01-01 | 270142.9 |\n",
       "| CP_MEUR | P7 | BA | 2022-01-01 |  14198.7 |\n",
       "| CP_MEUR | P7 | BE | 2022-01-01 | 537070.1 |\n",
       "| CP_MEUR | P7 | BG | 2022-01-01 |  57281.3 |\n",
       "| CP_MEUR | P7 | CH | 2022-01-01 | 481272.0 |\n",
       "\n"
      ],
      "text/plain": [
       "  unit    na_item geo time       values  \n",
       "1 CP_MEUR P7      AL  2022-01-01   8582.7\n",
       "2 CP_MEUR P7      AT  2022-01-01 270142.9\n",
       "3 CP_MEUR P7      BA  2022-01-01  14198.7\n",
       "4 CP_MEUR P7      BE  2022-01-01 537070.1\n",
       "5 CP_MEUR P7      BG  2022-01-01  57281.3\n",
       "6 CP_MEUR P7      CH  2022-01-01 481272.0"
      ]
     },
     "metadata": {},
     "output_type": "display_data"
    }
   ],
   "source": [
    "data_import <- dat_exp_import[dat_exp_import$na_item=='P7',]\n",
    "data_import <- data_import[data_import$unit=='CP_MEUR',]\n",
    "data_import <- data_import[data_import$time=='2022-01-01',]\n",
    "head(data_import)"
   ]
  },
  {
   "cell_type": "code",
   "execution_count": 40,
   "id": "71921b3c",
   "metadata": {
    "tags": []
   },
   "outputs": [
    {
     "data": {
      "text/html": [
       "<table class=\"dataframe\">\n",
       "<caption>A tibble: 6 x 2</caption>\n",
       "<thead>\n",
       "\t<tr><th scope=col>geo</th><th scope=col>import</th></tr>\n",
       "\t<tr><th scope=col>&lt;chr&gt;</th><th scope=col>&lt;dbl&gt;</th></tr>\n",
       "</thead>\n",
       "<tbody>\n",
       "\t<tr><td>AL</td><td>  8582.7</td></tr>\n",
       "\t<tr><td>AT</td><td>270142.9</td></tr>\n",
       "\t<tr><td>BA</td><td> 14198.7</td></tr>\n",
       "\t<tr><td>BE</td><td>537070.1</td></tr>\n",
       "\t<tr><td>BG</td><td> 57281.3</td></tr>\n",
       "\t<tr><td>CH</td><td>481272.0</td></tr>\n",
       "</tbody>\n",
       "</table>\n"
      ],
      "text/latex": [
       "A tibble: 6 x 2\n",
       "\\begin{tabular}{ll}\n",
       " geo & import\\\\\n",
       " <chr> & <dbl>\\\\\n",
       "\\hline\n",
       "\t AL &   8582.7\\\\\n",
       "\t AT & 270142.9\\\\\n",
       "\t BA &  14198.7\\\\\n",
       "\t BE & 537070.1\\\\\n",
       "\t BG &  57281.3\\\\\n",
       "\t CH & 481272.0\\\\\n",
       "\\end{tabular}\n"
      ],
      "text/markdown": [
       "\n",
       "A tibble: 6 x 2\n",
       "\n",
       "| geo &lt;chr&gt; | import &lt;dbl&gt; |\n",
       "|---|---|\n",
       "| AL |   8582.7 |\n",
       "| AT | 270142.9 |\n",
       "| BA |  14198.7 |\n",
       "| BE | 537070.1 |\n",
       "| BG |  57281.3 |\n",
       "| CH | 481272.0 |\n",
       "\n"
      ],
      "text/plain": [
       "  geo import  \n",
       "1 AL    8582.7\n",
       "2 AT  270142.9\n",
       "3 BA   14198.7\n",
       "4 BE  537070.1\n",
       "5 BG   57281.3\n",
       "6 CH  481272.0"
      ]
     },
     "metadata": {},
     "output_type": "display_data"
    }
   ],
   "source": [
    "data_import$unit <- NULL\n",
    "data_import$na_item <- NULL\n",
    "data_import$time <- NULL\n",
    "names(data_import)[names(data_import) == \"values\"] <- \"import\"\n",
    "head(data_import)"
   ]
  },
  {
   "cell_type": "code",
   "execution_count": 41,
   "id": "fe05dd32",
   "metadata": {
    "tags": []
   },
   "outputs": [
    {
     "data": {
      "text/html": [
       "<table class=\"dataframe\">\n",
       "<caption>A data.frame: 6 x 6</caption>\n",
       "<thead>\n",
       "\t<tr><th></th><th scope=col>geo</th><th scope=col>values</th><th scope=col>population</th><th scope=col>region</th><th scope=col>export</th><th scope=col>import</th></tr>\n",
       "\t<tr><th></th><th scope=col>&lt;chr&gt;</th><th scope=col>&lt;dbl&gt;</th><th scope=col>&lt;dbl&gt;</th><th scope=col>&lt;fct&gt;</th><th scope=col>&lt;dbl&gt;</th><th scope=col>&lt;dbl&gt;</th></tr>\n",
       "</thead>\n",
       "<tbody>\n",
       "\t<tr><th scope=row>1</th><td>AL</td><td> 17939.7</td><td> 2877275</td><td>EAST</td><td>  6720.8</td><td>  8582.7</td></tr>\n",
       "\t<tr><th scope=row>2</th><td>AT</td><td>446933.3</td><td> 8978929</td><td>WEST</td><td>275626.3</td><td>270142.9</td></tr>\n",
       "\t<tr><th scope=row>3</th><td>BA</td><td> 23317.3</td><td> 3282300</td><td>EAST</td><td> 10783.4</td><td> 14198.7</td></tr>\n",
       "\t<tr><th scope=row>4</th><td>BE</td><td>549456.2</td><td>11617623</td><td>WEST</td><td>523788.2</td><td>537070.1</td></tr>\n",
       "\t<tr><th scope=row>5</th><td>BG</td><td> 84560.6</td><td> 6838937</td><td>EAST</td><td> 57960.8</td><td> 57281.3</td></tr>\n",
       "\t<tr><th scope=row>6</th><td>CH</td><td>767616.2</td><td> 8738791</td><td>WEST</td><td>575518.0</td><td>481272.0</td></tr>\n",
       "</tbody>\n",
       "</table>\n"
      ],
      "text/latex": [
       "A data.frame: 6 x 6\n",
       "\\begin{tabular}{r|llllll}\n",
       "  & geo & values & population & region & export & import\\\\\n",
       "  & <chr> & <dbl> & <dbl> & <fct> & <dbl> & <dbl>\\\\\n",
       "\\hline\n",
       "\t1 & AL &  17939.7 &  2877275 & EAST &   6720.8 &   8582.7\\\\\n",
       "\t2 & AT & 446933.3 &  8978929 & WEST & 275626.3 & 270142.9\\\\\n",
       "\t3 & BA &  23317.3 &  3282300 & EAST &  10783.4 &  14198.7\\\\\n",
       "\t4 & BE & 549456.2 & 11617623 & WEST & 523788.2 & 537070.1\\\\\n",
       "\t5 & BG &  84560.6 &  6838937 & EAST &  57960.8 &  57281.3\\\\\n",
       "\t6 & CH & 767616.2 &  8738791 & WEST & 575518.0 & 481272.0\\\\\n",
       "\\end{tabular}\n"
      ],
      "text/markdown": [
       "\n",
       "A data.frame: 6 x 6\n",
       "\n",
       "| <!--/--> | geo &lt;chr&gt; | values &lt;dbl&gt; | population &lt;dbl&gt; | region &lt;fct&gt; | export &lt;dbl&gt; | import &lt;dbl&gt; |\n",
       "|---|---|---|---|---|---|---|\n",
       "| 1 | AL |  17939.7 |  2877275 | EAST |   6720.8 |   8582.7 |\n",
       "| 2 | AT | 446933.3 |  8978929 | WEST | 275626.3 | 270142.9 |\n",
       "| 3 | BA |  23317.3 |  3282300 | EAST |  10783.4 |  14198.7 |\n",
       "| 4 | BE | 549456.2 | 11617623 | WEST | 523788.2 | 537070.1 |\n",
       "| 5 | BG |  84560.6 |  6838937 | EAST |  57960.8 |  57281.3 |\n",
       "| 6 | CH | 767616.2 |  8738791 | WEST | 575518.0 | 481272.0 |\n",
       "\n"
      ],
      "text/plain": [
       "  geo values   population region export   import  \n",
       "1 AL   17939.7  2877275   EAST     6720.8   8582.7\n",
       "2 AT  446933.3  8978929   WEST   275626.3 270142.9\n",
       "3 BA   23317.3  3282300   EAST    10783.4  14198.7\n",
       "4 BE  549456.2 11617623   WEST   523788.2 537070.1\n",
       "5 BG   84560.6  6838937   EAST    57960.8  57281.3\n",
       "6 CH  767616.2  8738791   WEST   575518.0 481272.0"
      ]
     },
     "metadata": {},
     "output_type": "display_data"
    },
    {
     "name": "stdout",
     "output_type": "stream",
     "text": [
      "Pocet NA hodnot: 0"
     ]
    }
   ],
   "source": [
    "data_merged2 <- merge(data_merged, data_import, by = \"geo\", all.x = T)\n",
    "head(data_merged2)\n",
    "cat(\"Počet NA hodnot:\", sum(is.na(data_merged2)))"
   ]
  },
  {
   "cell_type": "markdown",
   "id": "03b3faaa",
   "metadata": {},
   "source": [
    "#### Average salary"
   ]
  },
  {
   "cell_type": "markdown",
   "id": "82855683-7c57-424e-a22b-3a0b6b336ec8",
   "metadata": {},
   "source": [
    "Pro zjištění průměrné mzdy využijeme dataset [Annual net earnings](https://ec.europa.eu/eurostat/databrowser/view/earn_nt_net/default/table?lang=en), který jsme nalezli na Eurostatu."
   ]
  },
  {
   "cell_type": "code",
   "execution_count": 42,
   "id": "0a081742",
   "metadata": {
    "tags": []
   },
   "outputs": [
    {
     "data": {
      "text/html": [
       "<table class=\"dataframe\">\n",
       "<caption>A tibble: 6 x 6</caption>\n",
       "<thead>\n",
       "\t<tr><th scope=col>currency</th><th scope=col>estruct</th><th scope=col>ecase</th><th scope=col>geo</th><th scope=col>time</th><th scope=col>values</th></tr>\n",
       "\t<tr><th scope=col>&lt;chr&gt;</th><th scope=col>&lt;chr&gt;</th><th scope=col>&lt;chr&gt;</th><th scope=col>&lt;chr&gt;</th><th scope=col>&lt;date&gt;</th><th scope=col>&lt;dbl&gt;</th></tr>\n",
       "</thead>\n",
       "<tbody>\n",
       "\t<tr><td>EUR</td><td>FAM</td><td>CPL_CH2_AW100</td><td>AT</td><td>2022-01-01</td><td>6678.00</td></tr>\n",
       "\t<tr><td>EUR</td><td>FAM</td><td>CPL_CH2_AW100</td><td>BE</td><td>2022-01-01</td><td>4344.20</td></tr>\n",
       "\t<tr><td>EUR</td><td>FAM</td><td>CPL_CH2_AW100</td><td>BG</td><td>2022-01-01</td><td> 674.92</td></tr>\n",
       "\t<tr><td>EUR</td><td>FAM</td><td>CPL_CH2_AW100</td><td>CH</td><td>2022-01-01</td><td>5971.93</td></tr>\n",
       "\t<tr><td>EUR</td><td>FAM</td><td>CPL_CH2_AW100</td><td>CY</td><td>2022-01-01</td><td>1065.48</td></tr>\n",
       "\t<tr><td>EUR</td><td>FAM</td><td>CPL_CH2_AW100</td><td>CZ</td><td>2022-01-01</td><td>1240.74</td></tr>\n",
       "</tbody>\n",
       "</table>\n"
      ],
      "text/latex": [
       "A tibble: 6 x 6\n",
       "\\begin{tabular}{llllll}\n",
       " currency & estruct & ecase & geo & time & values\\\\\n",
       " <chr> & <chr> & <chr> & <chr> & <date> & <dbl>\\\\\n",
       "\\hline\n",
       "\t EUR & FAM & CPL\\_CH2\\_AW100 & AT & 2022-01-01 & 6678.00\\\\\n",
       "\t EUR & FAM & CPL\\_CH2\\_AW100 & BE & 2022-01-01 & 4344.20\\\\\n",
       "\t EUR & FAM & CPL\\_CH2\\_AW100 & BG & 2022-01-01 &  674.92\\\\\n",
       "\t EUR & FAM & CPL\\_CH2\\_AW100 & CH & 2022-01-01 & 5971.93\\\\\n",
       "\t EUR & FAM & CPL\\_CH2\\_AW100 & CY & 2022-01-01 & 1065.48\\\\\n",
       "\t EUR & FAM & CPL\\_CH2\\_AW100 & CZ & 2022-01-01 & 1240.74\\\\\n",
       "\\end{tabular}\n"
      ],
      "text/markdown": [
       "\n",
       "A tibble: 6 x 6\n",
       "\n",
       "| currency &lt;chr&gt; | estruct &lt;chr&gt; | ecase &lt;chr&gt; | geo &lt;chr&gt; | time &lt;date&gt; | values &lt;dbl&gt; |\n",
       "|---|---|---|---|---|---|\n",
       "| EUR | FAM | CPL_CH2_AW100 | AT | 2022-01-01 | 6678.00 |\n",
       "| EUR | FAM | CPL_CH2_AW100 | BE | 2022-01-01 | 4344.20 |\n",
       "| EUR | FAM | CPL_CH2_AW100 | BG | 2022-01-01 |  674.92 |\n",
       "| EUR | FAM | CPL_CH2_AW100 | CH | 2022-01-01 | 5971.93 |\n",
       "| EUR | FAM | CPL_CH2_AW100 | CY | 2022-01-01 | 1065.48 |\n",
       "| EUR | FAM | CPL_CH2_AW100 | CZ | 2022-01-01 | 1240.74 |\n",
       "\n"
      ],
      "text/plain": [
       "  currency estruct ecase         geo time       values \n",
       "1 EUR      FAM     CPL_CH2_AW100 AT  2022-01-01 6678.00\n",
       "2 EUR      FAM     CPL_CH2_AW100 BE  2022-01-01 4344.20\n",
       "3 EUR      FAM     CPL_CH2_AW100 BG  2022-01-01  674.92\n",
       "4 EUR      FAM     CPL_CH2_AW100 CH  2022-01-01 5971.93\n",
       "5 EUR      FAM     CPL_CH2_AW100 CY  2022-01-01 1065.48\n",
       "6 EUR      FAM     CPL_CH2_AW100 CZ  2022-01-01 1240.74"
      ]
     },
     "metadata": {},
     "output_type": "display_data"
    },
    {
     "data": {
      "text/html": [
       "<table class=\"dataframe\">\n",
       "<caption>A tibble: 6 x 6</caption>\n",
       "<thead>\n",
       "\t<tr><th scope=col>currency</th><th scope=col>estruct</th><th scope=col>ecase</th><th scope=col>geo</th><th scope=col>time</th><th scope=col>values</th></tr>\n",
       "\t<tr><th scope=col>&lt;chr&gt;</th><th scope=col>&lt;chr&gt;</th><th scope=col>&lt;chr&gt;</th><th scope=col>&lt;chr&gt;</th><th scope=col>&lt;date&gt;</th><th scope=col>&lt;dbl&gt;</th></tr>\n",
       "</thead>\n",
       "<tbody>\n",
       "\t<tr><td>PPS</td><td>TOTAL</td><td>P1_NCH_AW80</td><td>SE</td><td>2000-01-01</td><td>      25473.59</td></tr>\n",
       "\t<tr><td>PPS</td><td>TOTAL</td><td>P1_NCH_AW80</td><td>SI</td><td>2000-01-01</td><td>      11091.57</td></tr>\n",
       "\t<tr><td>PPS</td><td>TOTAL</td><td>P1_NCH_AW80</td><td>SK</td><td>2000-01-01</td><td>      12520.25</td></tr>\n",
       "\t<tr><td>PPS</td><td>TOTAL</td><td>P1_NCH_AW80</td><td>TR</td><td>2000-01-01</td><td>13676841784.94</td></tr>\n",
       "\t<tr><td>PPS</td><td>TOTAL</td><td>P1_NCH_AW80</td><td>UK</td><td>2000-01-01</td><td>      23794.61</td></tr>\n",
       "\t<tr><td>PPS</td><td>TOTAL</td><td>P1_NCH_AW80</td><td>US</td><td>2000-01-01</td><td>      24448.87</td></tr>\n",
       "</tbody>\n",
       "</table>\n"
      ],
      "text/latex": [
       "A tibble: 6 x 6\n",
       "\\begin{tabular}{llllll}\n",
       " currency & estruct & ecase & geo & time & values\\\\\n",
       " <chr> & <chr> & <chr> & <chr> & <date> & <dbl>\\\\\n",
       "\\hline\n",
       "\t PPS & TOTAL & P1\\_NCH\\_AW80 & SE & 2000-01-01 &       25473.59\\\\\n",
       "\t PPS & TOTAL & P1\\_NCH\\_AW80 & SI & 2000-01-01 &       11091.57\\\\\n",
       "\t PPS & TOTAL & P1\\_NCH\\_AW80 & SK & 2000-01-01 &       12520.25\\\\\n",
       "\t PPS & TOTAL & P1\\_NCH\\_AW80 & TR & 2000-01-01 & 13676841784.94\\\\\n",
       "\t PPS & TOTAL & P1\\_NCH\\_AW80 & UK & 2000-01-01 &       23794.61\\\\\n",
       "\t PPS & TOTAL & P1\\_NCH\\_AW80 & US & 2000-01-01 &       24448.87\\\\\n",
       "\\end{tabular}\n"
      ],
      "text/markdown": [
       "\n",
       "A tibble: 6 x 6\n",
       "\n",
       "| currency &lt;chr&gt; | estruct &lt;chr&gt; | ecase &lt;chr&gt; | geo &lt;chr&gt; | time &lt;date&gt; | values &lt;dbl&gt; |\n",
       "|---|---|---|---|---|---|\n",
       "| PPS | TOTAL | P1_NCH_AW80 | SE | 2000-01-01 |       25473.59 |\n",
       "| PPS | TOTAL | P1_NCH_AW80 | SI | 2000-01-01 |       11091.57 |\n",
       "| PPS | TOTAL | P1_NCH_AW80 | SK | 2000-01-01 |       12520.25 |\n",
       "| PPS | TOTAL | P1_NCH_AW80 | TR | 2000-01-01 | 13676841784.94 |\n",
       "| PPS | TOTAL | P1_NCH_AW80 | UK | 2000-01-01 |       23794.61 |\n",
       "| PPS | TOTAL | P1_NCH_AW80 | US | 2000-01-01 |       24448.87 |\n",
       "\n"
      ],
      "text/plain": [
       "  currency estruct ecase       geo time       values        \n",
       "1 PPS      TOTAL   P1_NCH_AW80 SE  2000-01-01       25473.59\n",
       "2 PPS      TOTAL   P1_NCH_AW80 SI  2000-01-01       11091.57\n",
       "3 PPS      TOTAL   P1_NCH_AW80 SK  2000-01-01       12520.25\n",
       "4 PPS      TOTAL   P1_NCH_AW80 TR  2000-01-01 13676841784.94\n",
       "5 PPS      TOTAL   P1_NCH_AW80 UK  2000-01-01       23794.61\n",
       "6 PPS      TOTAL   P1_NCH_AW80 US  2000-01-01       24448.87"
      ]
     },
     "metadata": {},
     "output_type": "display_data"
    }
   ],
   "source": [
    "dat_exp_salary <- get_eurostat(id = 'earn_nt_net')\n",
    "head(dat_exp_salary)\n",
    "tail(dat_exp_salary)"
   ]
  },
  {
   "cell_type": "markdown",
   "id": "09d816ba-f611-41be-a86e-7f3cb1951898",
   "metadata": {},
   "source": [
    "Zajímá nás:\n",
    "1. rok(`time`)      - 2022(`2022-01-01`)\n",
    "2. měna(`currency`) - euro(`EUR`)\n",
    "3. čista mzda(`estruct` == `NET`)\n",
    "4. jeden pracující člověk bez dětí(`ecase` == `P1_NCH_AW100`)"
   ]
  },
  {
   "cell_type": "code",
   "execution_count": 43,
   "id": "560142fd",
   "metadata": {
    "tags": []
   },
   "outputs": [
    {
     "data": {
      "text/html": [
       "<table class=\"dataframe\">\n",
       "<caption>A tibble: 6 x 6</caption>\n",
       "<thead>\n",
       "\t<tr><th scope=col>currency</th><th scope=col>estruct</th><th scope=col>ecase</th><th scope=col>geo</th><th scope=col>time</th><th scope=col>values</th></tr>\n",
       "\t<tr><th scope=col>&lt;chr&gt;</th><th scope=col>&lt;chr&gt;</th><th scope=col>&lt;chr&gt;</th><th scope=col>&lt;chr&gt;</th><th scope=col>&lt;date&gt;</th><th scope=col>&lt;dbl&gt;</th></tr>\n",
       "</thead>\n",
       "<tbody>\n",
       "\t<tr><td>EUR</td><td>NET</td><td>P1_NCH_AW100</td><td>AT</td><td>2022-01-01</td><td>35837.40</td></tr>\n",
       "\t<tr><td>EUR</td><td>NET</td><td>P1_NCH_AW100</td><td>BE</td><td>2022-01-01</td><td>33006.19</td></tr>\n",
       "\t<tr><td>EUR</td><td>NET</td><td>P1_NCH_AW100</td><td>BG</td><td>2022-01-01</td><td> 8411.76</td></tr>\n",
       "\t<tr><td>EUR</td><td>NET</td><td>P1_NCH_AW100</td><td>CH</td><td>2022-01-01</td><td>81818.30</td></tr>\n",
       "\t<tr><td>EUR</td><td>NET</td><td>P1_NCH_AW100</td><td>CY</td><td>2022-01-01</td><td>21757.39</td></tr>\n",
       "\t<tr><td>EUR</td><td>NET</td><td>P1_NCH_AW100</td><td>CZ</td><td>2022-01-01</td><td>15497.00</td></tr>\n",
       "</tbody>\n",
       "</table>\n"
      ],
      "text/latex": [
       "A tibble: 6 x 6\n",
       "\\begin{tabular}{llllll}\n",
       " currency & estruct & ecase & geo & time & values\\\\\n",
       " <chr> & <chr> & <chr> & <chr> & <date> & <dbl>\\\\\n",
       "\\hline\n",
       "\t EUR & NET & P1\\_NCH\\_AW100 & AT & 2022-01-01 & 35837.40\\\\\n",
       "\t EUR & NET & P1\\_NCH\\_AW100 & BE & 2022-01-01 & 33006.19\\\\\n",
       "\t EUR & NET & P1\\_NCH\\_AW100 & BG & 2022-01-01 &  8411.76\\\\\n",
       "\t EUR & NET & P1\\_NCH\\_AW100 & CH & 2022-01-01 & 81818.30\\\\\n",
       "\t EUR & NET & P1\\_NCH\\_AW100 & CY & 2022-01-01 & 21757.39\\\\\n",
       "\t EUR & NET & P1\\_NCH\\_AW100 & CZ & 2022-01-01 & 15497.00\\\\\n",
       "\\end{tabular}\n"
      ],
      "text/markdown": [
       "\n",
       "A tibble: 6 x 6\n",
       "\n",
       "| currency &lt;chr&gt; | estruct &lt;chr&gt; | ecase &lt;chr&gt; | geo &lt;chr&gt; | time &lt;date&gt; | values &lt;dbl&gt; |\n",
       "|---|---|---|---|---|---|\n",
       "| EUR | NET | P1_NCH_AW100 | AT | 2022-01-01 | 35837.40 |\n",
       "| EUR | NET | P1_NCH_AW100 | BE | 2022-01-01 | 33006.19 |\n",
       "| EUR | NET | P1_NCH_AW100 | BG | 2022-01-01 |  8411.76 |\n",
       "| EUR | NET | P1_NCH_AW100 | CH | 2022-01-01 | 81818.30 |\n",
       "| EUR | NET | P1_NCH_AW100 | CY | 2022-01-01 | 21757.39 |\n",
       "| EUR | NET | P1_NCH_AW100 | CZ | 2022-01-01 | 15497.00 |\n",
       "\n"
      ],
      "text/plain": [
       "  currency estruct ecase        geo time       values  \n",
       "1 EUR      NET     P1_NCH_AW100 AT  2022-01-01 35837.40\n",
       "2 EUR      NET     P1_NCH_AW100 BE  2022-01-01 33006.19\n",
       "3 EUR      NET     P1_NCH_AW100 BG  2022-01-01  8411.76\n",
       "4 EUR      NET     P1_NCH_AW100 CH  2022-01-01 81818.30\n",
       "5 EUR      NET     P1_NCH_AW100 CY  2022-01-01 21757.39\n",
       "6 EUR      NET     P1_NCH_AW100 CZ  2022-01-01 15497.00"
      ]
     },
     "metadata": {},
     "output_type": "display_data"
    }
   ],
   "source": [
    "data_salary <- dat_exp_salary[dat_exp_salary$time == '2022-01-01',]\n",
    "data_salary <- data_salary[data_salary$currency == 'EUR',]\n",
    "data_salary <- data_salary[data_salary$ecase == 'P1_NCH_AW100',]\n",
    "data_salary <- data_salary[data_salary$estruct == 'NET',]\n",
    "head(data_salary) "
   ]
  },
  {
   "cell_type": "markdown",
   "id": "dbec2127-083c-4fd7-808b-c6c7104a76fc",
   "metadata": {},
   "source": [
    "Sloupce `currency`, `estruct`, `ecase` a `time` už nepotřebujeme, proto je odstraníme. Zároveň přejmenujeme sloupec `values` na `salary`."
   ]
  },
  {
   "cell_type": "code",
   "execution_count": 44,
   "id": "8f0edfca",
   "metadata": {
    "tags": []
   },
   "outputs": [
    {
     "data": {
      "text/html": [
       "<table class=\"dataframe\">\n",
       "<caption>A tibble: 6 x 2</caption>\n",
       "<thead>\n",
       "\t<tr><th scope=col>geo</th><th scope=col>salary</th></tr>\n",
       "\t<tr><th scope=col>&lt;chr&gt;</th><th scope=col>&lt;dbl&gt;</th></tr>\n",
       "</thead>\n",
       "<tbody>\n",
       "\t<tr><td>AT</td><td>35837.40</td></tr>\n",
       "\t<tr><td>BE</td><td>33006.19</td></tr>\n",
       "\t<tr><td>BG</td><td> 8411.76</td></tr>\n",
       "\t<tr><td>CH</td><td>81818.30</td></tr>\n",
       "\t<tr><td>CY</td><td>21757.39</td></tr>\n",
       "\t<tr><td>CZ</td><td>15497.00</td></tr>\n",
       "</tbody>\n",
       "</table>\n"
      ],
      "text/latex": [
       "A tibble: 6 x 2\n",
       "\\begin{tabular}{ll}\n",
       " geo & salary\\\\\n",
       " <chr> & <dbl>\\\\\n",
       "\\hline\n",
       "\t AT & 35837.40\\\\\n",
       "\t BE & 33006.19\\\\\n",
       "\t BG &  8411.76\\\\\n",
       "\t CH & 81818.30\\\\\n",
       "\t CY & 21757.39\\\\\n",
       "\t CZ & 15497.00\\\\\n",
       "\\end{tabular}\n"
      ],
      "text/markdown": [
       "\n",
       "A tibble: 6 x 2\n",
       "\n",
       "| geo &lt;chr&gt; | salary &lt;dbl&gt; |\n",
       "|---|---|\n",
       "| AT | 35837.40 |\n",
       "| BE | 33006.19 |\n",
       "| BG |  8411.76 |\n",
       "| CH | 81818.30 |\n",
       "| CY | 21757.39 |\n",
       "| CZ | 15497.00 |\n",
       "\n"
      ],
      "text/plain": [
       "  geo salary  \n",
       "1 AT  35837.40\n",
       "2 BE  33006.19\n",
       "3 BG   8411.76\n",
       "4 CH  81818.30\n",
       "5 CY  21757.39\n",
       "6 CZ  15497.00"
      ]
     },
     "metadata": {},
     "output_type": "display_data"
    }
   ],
   "source": [
    "data_salary$currency <- NULL\n",
    "data_salary$estruct <- NULL\n",
    "data_salary$ecase <- NULL\n",
    "data_salary$time <- NULL\n",
    "names(data_salary)[names(data_salary) == \"values\"] <- \"salary\"\n",
    "head(data_salary)"
   ]
  },
  {
   "cell_type": "markdown",
   "id": "21c67593-af1c-4d92-9e44-6d72f28a5362",
   "metadata": {},
   "source": [
    "Spojujeme datasety na základě společného sloupce `geo`. Pak spočítáme počet chybějících hodnot `NA` v tomto datasetu."
   ]
  },
  {
   "cell_type": "code",
   "execution_count": 45,
   "id": "17f6cdbc",
   "metadata": {
    "tags": []
   },
   "outputs": [
    {
     "data": {
      "text/html": [
       "<table class=\"dataframe\">\n",
       "<caption>A data.frame: 6 x 7</caption>\n",
       "<thead>\n",
       "\t<tr><th></th><th scope=col>geo</th><th scope=col>values</th><th scope=col>population</th><th scope=col>region</th><th scope=col>export</th><th scope=col>import</th><th scope=col>salary</th></tr>\n",
       "\t<tr><th></th><th scope=col>&lt;chr&gt;</th><th scope=col>&lt;dbl&gt;</th><th scope=col>&lt;dbl&gt;</th><th scope=col>&lt;fct&gt;</th><th scope=col>&lt;dbl&gt;</th><th scope=col>&lt;dbl&gt;</th><th scope=col>&lt;dbl&gt;</th></tr>\n",
       "</thead>\n",
       "<tbody>\n",
       "\t<tr><th scope=row>1</th><td>AL</td><td> 17939.7</td><td> 2877275</td><td>EAST</td><td>  6720.8</td><td>  8582.7</td><td>      NA</td></tr>\n",
       "\t<tr><th scope=row>2</th><td>AT</td><td>446933.3</td><td> 8978929</td><td>WEST</td><td>275626.3</td><td>270142.9</td><td>35837.40</td></tr>\n",
       "\t<tr><th scope=row>3</th><td>BA</td><td> 23317.3</td><td> 3282300</td><td>EAST</td><td> 10783.4</td><td> 14198.7</td><td>      NA</td></tr>\n",
       "\t<tr><th scope=row>4</th><td>BE</td><td>549456.2</td><td>11617623</td><td>WEST</td><td>523788.2</td><td>537070.1</td><td>33006.19</td></tr>\n",
       "\t<tr><th scope=row>5</th><td>BG</td><td> 84560.6</td><td> 6838937</td><td>EAST</td><td> 57960.8</td><td> 57281.3</td><td> 8411.76</td></tr>\n",
       "\t<tr><th scope=row>6</th><td>CH</td><td>767616.2</td><td> 8738791</td><td>WEST</td><td>575518.0</td><td>481272.0</td><td>81818.30</td></tr>\n",
       "</tbody>\n",
       "</table>\n"
      ],
      "text/latex": [
       "A data.frame: 6 x 7\n",
       "\\begin{tabular}{r|lllllll}\n",
       "  & geo & values & population & region & export & import & salary\\\\\n",
       "  & <chr> & <dbl> & <dbl> & <fct> & <dbl> & <dbl> & <dbl>\\\\\n",
       "\\hline\n",
       "\t1 & AL &  17939.7 &  2877275 & EAST &   6720.8 &   8582.7 &       NA\\\\\n",
       "\t2 & AT & 446933.3 &  8978929 & WEST & 275626.3 & 270142.9 & 35837.40\\\\\n",
       "\t3 & BA &  23317.3 &  3282300 & EAST &  10783.4 &  14198.7 &       NA\\\\\n",
       "\t4 & BE & 549456.2 & 11617623 & WEST & 523788.2 & 537070.1 & 33006.19\\\\\n",
       "\t5 & BG &  84560.6 &  6838937 & EAST &  57960.8 &  57281.3 &  8411.76\\\\\n",
       "\t6 & CH & 767616.2 &  8738791 & WEST & 575518.0 & 481272.0 & 81818.30\\\\\n",
       "\\end{tabular}\n"
      ],
      "text/markdown": [
       "\n",
       "A data.frame: 6 x 7\n",
       "\n",
       "| <!--/--> | geo &lt;chr&gt; | values &lt;dbl&gt; | population &lt;dbl&gt; | region &lt;fct&gt; | export &lt;dbl&gt; | import &lt;dbl&gt; | salary &lt;dbl&gt; |\n",
       "|---|---|---|---|---|---|---|---|\n",
       "| 1 | AL |  17939.7 |  2877275 | EAST |   6720.8 |   8582.7 |       NA |\n",
       "| 2 | AT | 446933.3 |  8978929 | WEST | 275626.3 | 270142.9 | 35837.40 |\n",
       "| 3 | BA |  23317.3 |  3282300 | EAST |  10783.4 |  14198.7 |       NA |\n",
       "| 4 | BE | 549456.2 | 11617623 | WEST | 523788.2 | 537070.1 | 33006.19 |\n",
       "| 5 | BG |  84560.6 |  6838937 | EAST |  57960.8 |  57281.3 |  8411.76 |\n",
       "| 6 | CH | 767616.2 |  8738791 | WEST | 575518.0 | 481272.0 | 81818.30 |\n",
       "\n"
      ],
      "text/plain": [
       "  geo values   population region export   import   salary  \n",
       "1 AL   17939.7  2877275   EAST     6720.8   8582.7       NA\n",
       "2 AT  446933.3  8978929   WEST   275626.3 270142.9 35837.40\n",
       "3 BA   23317.3  3282300   EAST    10783.4  14198.7       NA\n",
       "4 BE  549456.2 11617623   WEST   523788.2 537070.1 33006.19\n",
       "5 BG   84560.6  6838937   EAST    57960.8  57281.3  8411.76\n",
       "6 CH  767616.2  8738791   WEST   575518.0 481272.0 81818.30"
      ]
     },
     "metadata": {},
     "output_type": "display_data"
    },
    {
     "name": "stdout",
     "output_type": "stream",
     "text": [
      "Pocet NA hodnot: 6"
     ]
    }
   ],
   "source": [
    "data_merged3 <- merge(data_merged2, data_salary, by = \"geo\", all.x = T)\n",
    "head(data_merged3)\n",
    "cat(\"Počet NA hodnot:\", sum(is.na(data_merged3)))"
   ]
  },
  {
   "cell_type": "markdown",
   "id": "90ffdf5b",
   "metadata": {},
   "source": [
    "Vidíme, že pro 6 zemí nemáme k dispozici data o mzdě, proto je budeme doplňovat z jiného [zdroje](https://www.numbeo.com/cost-of-living/country_price_rankings?itemId=105)."
   ]
  },
  {
   "cell_type": "code",
   "execution_count": 46,
   "id": "d9e5de70",
   "metadata": {
    "tags": []
   },
   "outputs": [],
   "source": [
    "data_merged3[1, 7]   <- 5017.2   #AL \n",
    "data_merged3[3, 7]   <- 7118.16  #BA\n",
    "data_merged3[24, 7]  <- 7978.44  #ME \n",
    "data_merged3[25, 7]  <- 5006.76  #MK \n",
    "data_merged3[32, 7]  <- 6635.76  #RS \n",
    "data_merged3[37, 7]  <- 4651.2   #XK"
   ]
  },
  {
   "cell_type": "code",
   "execution_count": 47,
   "id": "1b267d78",
   "metadata": {
    "tags": []
   },
   "outputs": [
    {
     "data": {
      "text/html": [
       "<table class=\"dataframe\">\n",
       "<caption>A data.frame: 6 x 7</caption>\n",
       "<thead>\n",
       "\t<tr><th></th><th scope=col>geo</th><th scope=col>values</th><th scope=col>population</th><th scope=col>region</th><th scope=col>export</th><th scope=col>import</th><th scope=col>salary</th></tr>\n",
       "\t<tr><th></th><th scope=col>&lt;chr&gt;</th><th scope=col>&lt;dbl&gt;</th><th scope=col>&lt;dbl&gt;</th><th scope=col>&lt;fct&gt;</th><th scope=col>&lt;dbl&gt;</th><th scope=col>&lt;dbl&gt;</th><th scope=col>&lt;dbl&gt;</th></tr>\n",
       "</thead>\n",
       "<tbody>\n",
       "\t<tr><th scope=row>1</th><td>AL</td><td> 17939.7</td><td> 2877275</td><td>EAST</td><td>  6720.8</td><td>  8582.7</td><td> 5017.20</td></tr>\n",
       "\t<tr><th scope=row>2</th><td>AT</td><td>446933.3</td><td> 8978929</td><td>WEST</td><td>275626.3</td><td>270142.9</td><td>35837.40</td></tr>\n",
       "\t<tr><th scope=row>3</th><td>BA</td><td> 23317.3</td><td> 3282300</td><td>EAST</td><td> 10783.4</td><td> 14198.7</td><td> 7118.16</td></tr>\n",
       "\t<tr><th scope=row>4</th><td>BE</td><td>549456.2</td><td>11617623</td><td>WEST</td><td>523788.2</td><td>537070.1</td><td>33006.19</td></tr>\n",
       "\t<tr><th scope=row>5</th><td>BG</td><td> 84560.6</td><td> 6838937</td><td>EAST</td><td> 57960.8</td><td> 57281.3</td><td> 8411.76</td></tr>\n",
       "\t<tr><th scope=row>6</th><td>CH</td><td>767616.2</td><td> 8738791</td><td>WEST</td><td>575518.0</td><td>481272.0</td><td>81818.30</td></tr>\n",
       "</tbody>\n",
       "</table>\n"
      ],
      "text/latex": [
       "A data.frame: 6 x 7\n",
       "\\begin{tabular}{r|lllllll}\n",
       "  & geo & values & population & region & export & import & salary\\\\\n",
       "  & <chr> & <dbl> & <dbl> & <fct> & <dbl> & <dbl> & <dbl>\\\\\n",
       "\\hline\n",
       "\t1 & AL &  17939.7 &  2877275 & EAST &   6720.8 &   8582.7 &  5017.20\\\\\n",
       "\t2 & AT & 446933.3 &  8978929 & WEST & 275626.3 & 270142.9 & 35837.40\\\\\n",
       "\t3 & BA &  23317.3 &  3282300 & EAST &  10783.4 &  14198.7 &  7118.16\\\\\n",
       "\t4 & BE & 549456.2 & 11617623 & WEST & 523788.2 & 537070.1 & 33006.19\\\\\n",
       "\t5 & BG &  84560.6 &  6838937 & EAST &  57960.8 &  57281.3 &  8411.76\\\\\n",
       "\t6 & CH & 767616.2 &  8738791 & WEST & 575518.0 & 481272.0 & 81818.30\\\\\n",
       "\\end{tabular}\n"
      ],
      "text/markdown": [
       "\n",
       "A data.frame: 6 x 7\n",
       "\n",
       "| <!--/--> | geo &lt;chr&gt; | values &lt;dbl&gt; | population &lt;dbl&gt; | region &lt;fct&gt; | export &lt;dbl&gt; | import &lt;dbl&gt; | salary &lt;dbl&gt; |\n",
       "|---|---|---|---|---|---|---|---|\n",
       "| 1 | AL |  17939.7 |  2877275 | EAST |   6720.8 |   8582.7 |  5017.20 |\n",
       "| 2 | AT | 446933.3 |  8978929 | WEST | 275626.3 | 270142.9 | 35837.40 |\n",
       "| 3 | BA |  23317.3 |  3282300 | EAST |  10783.4 |  14198.7 |  7118.16 |\n",
       "| 4 | BE | 549456.2 | 11617623 | WEST | 523788.2 | 537070.1 | 33006.19 |\n",
       "| 5 | BG |  84560.6 |  6838937 | EAST |  57960.8 |  57281.3 |  8411.76 |\n",
       "| 6 | CH | 767616.2 |  8738791 | WEST | 575518.0 | 481272.0 | 81818.30 |\n",
       "\n"
      ],
      "text/plain": [
       "  geo values   population region export   import   salary  \n",
       "1 AL   17939.7  2877275   EAST     6720.8   8582.7  5017.20\n",
       "2 AT  446933.3  8978929   WEST   275626.3 270142.9 35837.40\n",
       "3 BA   23317.3  3282300   EAST    10783.4  14198.7  7118.16\n",
       "4 BE  549456.2 11617623   WEST   523788.2 537070.1 33006.19\n",
       "5 BG   84560.6  6838937   EAST    57960.8  57281.3  8411.76\n",
       "6 CH  767616.2  8738791   WEST   575518.0 481272.0 81818.30"
      ]
     },
     "metadata": {},
     "output_type": "display_data"
    },
    {
     "name": "stdout",
     "output_type": "stream",
     "text": [
      "Pocet NA hodnot: 0"
     ]
    }
   ],
   "source": [
    "head(data_merged3)\n",
    "cat(\"Počet NA hodnot:\", sum(is.na(data_merged3)))"
   ]
  },
  {
   "cell_type": "markdown",
   "id": "8deacd51",
   "metadata": {},
   "source": [
    "### Ověření vztahu k HDP"
   ]
  },
  {
   "cell_type": "markdown",
   "id": "cdb245bf-d164-4dea-99f3-06dffc71cddb",
   "metadata": {},
   "source": [
    "Podíváme se na závislosti mezi regresandem HDP a numerickými regresory exportem a importem. Znázorníme tyto vztahy pomocí scatter plotů."
   ]
  },
  {
   "cell_type": "code",
   "execution_count": 48,
   "id": "adcfcd75",
   "metadata": {
    "tags": []
   },
   "outputs": [
    {
     "data": {
      "image/png": "[encoded data removed]",
      "text/plain": [
       "plot without title"
      ]
     },
     "metadata": {
      "image/png": {
       "height": 600,
       "width": 780
      }
     },
     "output_type": "display_data"
    }
   ],
   "source": [
    "p3 <- ggplot(data_merged3, aes(x=export, y=values)) +\n",
    "        geom_point() +\n",
    "        stat_smooth(method=\"lm\", formula=y~x, col=\"blue\", se=F) +\n",
    "        labs(title = \"Relationship between GDP and Export\")+\n",
    "        theme(plot.title = element_text(size = 20, hjust = 0.5))\n",
    "\n",
    "p4 <- ggplot(data_merged3, aes(x=import, y=values)) +\n",
    "        geom_point() +\n",
    "        stat_smooth(method=\"lm\", formula=y~x, col=\"blue\", se=F) +\n",
    "        labs(title = \"Relationship between GDP and Import\")+\n",
    "        theme(plot.title = element_text(size = 20, hjust = 0.5))\n",
    "\n",
    "plot_grid(p3, p4, nrow=1)"
   ]
  },
  {
   "cell_type": "markdown",
   "id": "4b4e6034-e4c0-4f48-bbb0-e951d6955058",
   "metadata": {},
   "source": [
    "Z grafu je vidět, že import a export dobře vysvětlují chování HDP (body leží relativně blízko lineární křivky). Nicméně, nemůžeme na základě grafu jednoznačně určit, který regresor lépe determinuje HDP."
   ]
  },
  {
   "cell_type": "code",
   "execution_count": 49,
   "id": "1b55523c",
   "metadata": {
    "tags": []
   },
   "outputs": [
    {
     "data": {
      "text/plain": [
       "\n",
       "Call:\n",
       "lm(formula = values ~ export, data = data_merged3)\n",
       "\n",
       "Residuals:\n",
       "    Min      1Q  Median      3Q     Max \n",
       "-797045  -56804   27218   50695  927834 \n",
       "\n",
       "Coefficients:\n",
       "               Estimate  Std. Error t value Pr(>|t|)    \n",
       "(Intercept) -45893.7878  58480.8387  -0.785    0.438    \n",
       "export           1.9549      0.1254  15.592   <2e-16 ***\n",
       "---\n",
       "Signif. codes:  0 '***' 0.001 '**' 0.01 '*' 0.05 '.' 0.1 ' ' 1\n",
       "\n",
       "Residual standard error: 287700 on 35 degrees of freedom\n",
       "Multiple R-squared:  0.8742,\tAdjusted R-squared:  0.8706 \n",
       "F-statistic: 243.1 on 1 and 35 DF,  p-value: < 2.2e-16\n"
      ]
     },
     "metadata": {},
     "output_type": "display_data"
    }
   ],
   "source": [
    "fit.export = lm(values~export, data=data_merged3)\n",
    "summary(fit.export)"
   ]
  },
  {
   "cell_type": "markdown",
   "id": "77c7b2fb-2c27-49f2-94d0-74ab050352cd",
   "metadata": {},
   "source": [
    "Podle testu významnosti koeficientu v lineární regresi vidíme, že koeficient importu je významný na hladině významnosti 5%. Navíc, náš model má poměrně vysoký adjustovaný koeficient determinace, což nás motivuje ponechat tento regresor v našem datasetu."
   ]
  },
  {
   "cell_type": "code",
   "execution_count": 50,
   "id": "335991dd-c5a5-4523-94b3-560ce67cf0fc",
   "metadata": {
    "tags": []
   },
   "outputs": [
    {
     "data": {
      "text/plain": [
       "\n",
       "Call:\n",
       "lm(formula = values ~ import, data = data_merged3)\n",
       "\n",
       "Residuals:\n",
       "    Min      1Q  Median      3Q     Max \n",
       "-632754  -59380   27225   51613  597980 \n",
       "\n",
       "Coefficients:\n",
       "               Estimate  Std. Error t value Pr(>|t|)    \n",
       "(Intercept) -55843.8417  45323.8548  -1.232    0.226    \n",
       "import           2.0810      0.1009  20.617   <2e-16 ***\n",
       "---\n",
       "Signif. codes:  0 '***' 0.001 '**' 0.01 '*' 0.05 '.' 0.1 ' ' 1\n",
       "\n",
       "Residual standard error: 223700 on 35 degrees of freedom\n",
       "Multiple R-squared:  0.9239,\tAdjusted R-squared:  0.9218 \n",
       "F-statistic: 425.1 on 1 and 35 DF,  p-value: < 2.2e-16\n"
      ]
     },
     "metadata": {},
     "output_type": "display_data"
    }
   ],
   "source": [
    "fit.import = lm(values~import, data=data_merged3)\n",
    "summary(fit.import)"
   ]
  },
  {
   "cell_type": "markdown",
   "id": "5456ae5d-4f57-49c8-adba-db58f8c1ae5c",
   "metadata": {},
   "source": [
    "Koeficient regresoru `import` je statisticky významný, protože jeho p-hodnota je velmi nízká (p-hodnota < 0.05). Proto můžeme předpokládat, že existuje lineární závislost mezi importem a hodnotou HDP. Navíc, ve srovnání s exportem má tento lineární model ještě vyšší adjusted R-squared skóre, což naznačuje, že import má silnější vliv na hodnotu HDP než export (to však budeme muset ověřit ještě jiným způsobem)."
   ]
  },
  {
   "cell_type": "markdown",
   "id": "922abaf3-8aea-4a3a-af33-aa2964320a43",
   "metadata": {},
   "source": [
    "Jak i v případě exportu/importu se podíváme na vztahy mezi regresandem HDP a numerickým regresorem `salary`. Znázorníme tyto vztahy pomocí scatter plotů."
   ]
  },
  {
   "cell_type": "code",
   "execution_count": 51,
   "id": "11206073",
   "metadata": {
    "tags": []
   },
   "outputs": [
    {
     "data": {
      "image/png": "[encoded data removed]",
      "text/plain": [
       "plot without title"
      ]
     },
     "metadata": {
      "image/png": {
       "height": 600,
       "width": 780
      }
     },
     "output_type": "display_data"
    }
   ],
   "source": [
    "ggplot(data_merged3, aes(x=salary, y=values)) +\n",
    "    geom_point() +\n",
    "    stat_smooth(method=\"lm\", formula=y~x, col=\"blue\", se=F) +\n",
    "    labs(title = \"Relationship between GDP and Salary\")+\n",
    "    theme(plot.title = element_text(size = 20, hjust = 0.5))"
   ]
  },
  {
   "cell_type": "markdown",
   "id": "484a6f4d-e674-4f6d-b130-ad19af7efabb",
   "metadata": {},
   "source": [
    "Z grafu je patrná pozitivní korelace mezi mzdou a HDP. Nicméně, také jsou viditelná odlehlá pozorování, která mohou významně ovlivnit směr křivky, což je nežádoucí. Pro další zkoumání významnosti tohoto regresoru provedeme další testy."
   ]
  },
  {
   "cell_type": "code",
   "execution_count": 52,
   "id": "488164e3",
   "metadata": {
    "tags": []
   },
   "outputs": [
    {
     "data": {
      "text/plain": [
       "\n",
       "Call:\n",
       "lm(formula = values ~ salary, data = data_merged3)\n",
       "\n",
       "Residuals:\n",
       "    Min      1Q  Median      3Q     Max \n",
       "-871231 -315757 -238273  -83152 3235820 \n",
       "\n",
       "Coefficients:\n",
       "              Estimate Std. Error t value Pr(>|t|)\n",
       "(Intercept) 199365.924 214794.990   0.928     0.36\n",
       "salary          12.623      7.473   1.689     0.10\n",
       "\n",
       "Residual standard error: 779800 on 35 degrees of freedom\n",
       "Multiple R-squared:  0.07537,\tAdjusted R-squared:  0.04895 \n",
       "F-statistic: 2.853 on 1 and 35 DF,  p-value: 0.1001\n"
      ]
     },
     "metadata": {},
     "output_type": "display_data"
    }
   ],
   "source": [
    "fit.salary = lm(values~salary, data=data_merged3)\n",
    "summary(fit.salary)"
   ]
  },
  {
   "cell_type": "markdown",
   "id": "1a50a6ea-24df-4dd6-a12a-2d2be7b719b3",
   "metadata": {},
   "source": [
    "Jak vidíme, p-hodnota je menší než standardní hladina významnosti (5 %), což znamená, že nezamítáme nulovou hypotézu. V tomto konkrétním případě to znamená, že koeficient regresoru \"salary\" nemá významný vliv na hodnotu HDP. Adjustovaný koeficient determinace je také poměrně malý ve srovnání s jinými příznaky. "
   ]
  },
  {
   "cell_type": "code",
   "execution_count": 53,
   "id": "4f338fa5",
   "metadata": {
    "tags": []
   },
   "outputs": [
    {
     "data": {
      "text/plain": [
       "\n",
       "Call:\n",
       "lm(formula = values ~ salary + population, data = data_merged3)\n",
       "\n",
       "Residuals:\n",
       "     Min       1Q   Median       3Q      Max \n",
       "-1495300   -43120    31374    86735  1249265 \n",
       "\n",
       "Coefficients:\n",
       "                  Estimate     Std. Error t value Pr(>|t|)    \n",
       "(Intercept) -250187.068725  111022.380436  -2.253  0.03079 *  \n",
       "salary           12.771217       3.584758   3.563  0.00111 ** \n",
       "population        0.029206       0.002687  10.868 1.33e-12 ***\n",
       "---\n",
       "Signif. codes:  0 '***' 0.001 '**' 0.01 '*' 0.05 '.' 0.1 ' ' 1\n",
       "\n",
       "Residual standard error: 374000 on 34 degrees of freedom\n",
       "Multiple R-squared:  0.7933,\tAdjusted R-squared:  0.7812 \n",
       "F-statistic: 65.26 on 2 and 34 DF,  p-value: 2.287e-12\n"
      ]
     },
     "metadata": {},
     "output_type": "display_data"
    }
   ],
   "source": [
    "fit.salary_pop = lm(values~salary+population, data=data_merged3)\n",
    "summary(fit.salary_pop)"
   ]
  },
  {
   "cell_type": "markdown",
   "id": "448eb094-a154-4a7b-8a78-04468128a211",
   "metadata": {},
   "source": [
    "Ale pokud se pokusíme postavit lineární model, ve kterém kromě platu (`salary`) použijeme také populace (`population`) jako další regresor, uvidíme, že statistická významnost tohoto parametru vzhledem k HDP se zlepšila, což vypadá dost logicky, protože na HDP ovlivňuje ne průměrná mzda jednotlivých osob, ale součet všech mzdových příjmů. Proto ponecháme tento příznak pro další průzkum."
   ]
  },
  {
   "cell_type": "markdown",
   "id": "e0c4dba3",
   "metadata": {},
   "source": [
    "### Testy korelace \n",
    "\n",
    "\n",
    "> Pomocí vhodných testů prozkoumejte závislosti mezi regresory."
   ]
  },
  {
   "cell_type": "markdown",
   "id": "14ed21c8-5639-47da-b66a-62e27fef7ec6",
   "metadata": {},
   "source": [
    "Provedení testu korelace před lineární regresí je důležité z několika důvodů:\n",
    "\n",
    "* Identifikace lineárního vztahu: Test korelace nám pomáhá určit, zda mezi proměnnými existuje lineární vztah. Pokud není nalezena statisticky významná korelace, může to naznačovat, že lineární regrese nebude adekvátním modelem pro data (\n",
    "častečně jsme se tímto již zabývali před pár kroky).\n",
    "\n",
    "* Detekce multikolinearity: Korelace mezi regresory nám poskytuje informace o jejich vzájemné korelaci. V případě vysoké korelace mezi regresory může být problém s multicolinearity, což znamená, že regresory jsou vzájemně silně závislé. Pokud jsou regresory korelované, je matice $\\mathbf X^T\\mathbf X$ špatně podmíněná a rozptyl odhadů regresních koeficientů příliš vysoký - tomu se chceme vyvarovat."
   ]
  },
  {
   "cell_type": "code",
   "execution_count": 54,
   "id": "e98cfc9a-fd87-4f99-a747-a658aaf51a40",
   "metadata": {
    "tags": []
   },
   "outputs": [],
   "source": [
    "data <- data_merged3"
   ]
  },
  {
   "cell_type": "markdown",
   "id": "3cd77bb0-40e4-4575-bcac-92012d91196a",
   "metadata": {},
   "source": [
    "Na začátku se podíváme na vztah mezi regresory `import` a `export`. Intuitivně se nám zdá, že by ty dva regresory měly být silně korelovány. Znázorníme tento vztah pomocí scatter plotu."
   ]
  },
  {
   "cell_type": "code",
   "execution_count": 55,
   "id": "68ec703f",
   "metadata": {
    "tags": []
   },
   "outputs": [
    {
     "data": {
      "image/png": "[encoded data removed]",
      "text/plain": [
       "plot without title"
      ]
     },
     "metadata": {
      "image/png": {
       "height": 600,
       "width": 780
      }
     },
     "output_type": "display_data"
    }
   ],
   "source": [
    "ggplot(data, aes(x=import, y=export)) +\n",
    "    geom_point() +\n",
    "    stat_smooth(method=\"lm\", formula=y~x, col=\"blue\", se=F) +\n",
    "    labs(title = \"Relationship between Import and Export\")+\n",
    "    theme(plot.title = element_text(size = 20, hjust = 0.5))"
   ]
  },
  {
   "cell_type": "markdown",
   "id": "e4008a5c-c731-4fdf-a775-bc67e35eb3b4",
   "metadata": {},
   "source": [
    "Z grafu pozorujeme silnou a pozitivní lineární korelaci mezi importem a exportem. Pro ověření této korelace provedeme vhodný test, nicméně máme tušení, že budeme muset některé z těchto regresorů odstranit z datasetu."
   ]
  },
  {
   "cell_type": "markdown",
   "id": "0ac0f110-bfdf-4ebc-aeb2-17b09cf8fdf3",
   "metadata": {},
   "source": [
    "Pro provedení testu korelace je nezbytné nejprve ověřit předpoklady normality rozdělení jednotlivých regresorů a regresandu. Ověříme tyto předpoklady pomocí Shapiro-Wilkova testu na hladině významnosti 5%."
   ]
  },
  {
   "cell_type": "code",
   "execution_count": 56,
   "id": "9b0ac0da-523f-4e31-8457-fa20fbe068b3",
   "metadata": {
    "tags": []
   },
   "outputs": [
    {
     "data": {
      "text/plain": [
       "\n",
       "\tShapiro-Wilk normality test\n",
       "\n",
       "data:  data$import\n",
       "W = 0.68353, p-value = 0.0000001192\n"
      ]
     },
     "metadata": {},
     "output_type": "display_data"
    },
    {
     "data": {
      "text/plain": [
       "\n",
       "\tShapiro-Wilk normality test\n",
       "\n",
       "data:  data$export\n",
       "W = 0.69364, p-value = 0.0000001711\n"
      ]
     },
     "metadata": {},
     "output_type": "display_data"
    },
    {
     "data": {
      "text/plain": [
       "\n",
       "\tShapiro-Wilk normality test\n",
       "\n",
       "data:  data$population\n",
       "W = 0.63229, p-value = 0.00000002116\n"
      ]
     },
     "metadata": {},
     "output_type": "display_data"
    },
    {
     "data": {
      "text/plain": [
       "\n",
       "\tShapiro-Wilk normality test\n",
       "\n",
       "data:  data$values\n",
       "W = 0.62192, p-value = 0.0000000152\n"
      ]
     },
     "metadata": {},
     "output_type": "display_data"
    }
   ],
   "source": [
    "shapiro.test(data$import)\n",
    "shapiro.test(data$export)\n",
    "shapiro.test(data$population)\n",
    "shapiro.test(data$values)"
   ]
  },
  {
   "cell_type": "markdown",
   "id": "7279776a-977a-4f94-a621-3a1432769770",
   "metadata": {},
   "source": [
    "**Závěr**: Žádná z proměnných nesplňuje předpoklad normality (Nepodařilo se zamítnout $\\mathbf{H_0}$). Proto budeme nadále používat Spearmanův korelační koeficient, který je neparametrickou alternativou k Pearsonovu korelačnímu koeficientu, zejména při porušení předpokladu normality ve výběru."
   ]
  },
  {
   "cell_type": "markdown",
   "id": "7b01047b-ad61-4cb9-b2ec-b2b3bb25fea2",
   "metadata": {},
   "source": [
    "Provedeme Spearmanův korelační test mezi proměnnými `import` a `export` v našem datasetu."
   ]
  },
  {
   "cell_type": "code",
   "execution_count": 57,
   "id": "ceec0da6-a01a-4934-bf7a-f02458b2fe9e",
   "metadata": {
    "tags": []
   },
   "outputs": [
    {
     "data": {
      "text/plain": [
       "\n",
       "\tSpearman's rank correlation rho\n",
       "\n",
       "data:  data$import and data$export\n",
       "S = 64, p-value < 2.2e-16\n",
       "alternative hypothesis: true rho is not equal to 0\n",
       "sample estimates:\n",
       "      rho \n",
       "0.9924135 \n"
      ]
     },
     "metadata": {},
     "output_type": "display_data"
    }
   ],
   "source": [
    "cor.test(data$import, data$export, method='spearman')"
   ]
  },
  {
   "cell_type": "markdown",
   "id": "09a34ade-563b-41b4-b09e-91669d569a3b",
   "metadata": {},
   "source": [
    "Výsledek testu naznačuje, že existuje silná pozitivní korelace mezi hodnotami importu a exportu (hodnota korelačního koeficientu je 0.99). Pro řešení multikolinearity, která nastává při vysoké korelaci mezi regresory v lineární regresi, existuje několik možností, v našem případě postupujeme takto - odstraníme jeden z korelovaných regresorů z modelu.</br>\n",
    "Nyní je naším úkolem určit, který z regresorů bychom měli ponechat. Podívejme se na korelaci mezi regresandem a každým z těchto dvou regresorů."
   ]
  },
  {
   "cell_type": "code",
   "execution_count": 58,
   "id": "2475819c-197e-4a47-a120-949a9cd4a7fb",
   "metadata": {},
   "outputs": [
    {
     "data": {
      "text/plain": [
       "\n",
       "\tSpearman's rank correlation rho\n",
       "\n",
       "data:  data$import and data$values\n",
       "S = 250, p-value < 2.2e-16\n",
       "alternative hypothesis: true rho is not equal to 0\n",
       "sample estimates:\n",
       "      rho \n",
       "0.9703651 \n"
      ]
     },
     "metadata": {},
     "output_type": "display_data"
    },
    {
     "data": {
      "text/plain": [
       "\n",
       "\tSpearman's rank correlation rho\n",
       "\n",
       "data:  data$export and data$values\n",
       "S = 240, p-value < 2.2e-16\n",
       "alternative hypothesis: true rho is not equal to 0\n",
       "sample estimates:\n",
       "      rho \n",
       "0.9715505 \n"
      ]
     },
     "metadata": {},
     "output_type": "display_data"
    }
   ],
   "source": [
    "cor.test(data$import, data$values, method='spearman')\n",
    "cor.test(data$export, data$values, method='spearman')"
   ]
  },
  {
   "cell_type": "markdown",
   "id": "49fc58f9-1e9e-4c50-ad57-90f9d049c842",
   "metadata": {},
   "source": [
    "Výsledky jsou téměř stejné. Oba regresory mají silnou pozitivní korelaci s regresandem. Pro další průzkum použijeme Variance Inflation Factor (VIF), který nám poskytne přehled o míře závislosti každého regresoru na ostatních. Spočítáme VIF pro regresory `import`, `export`, `salary` a `population`."
   ]
  },
  {
   "cell_type": "code",
   "execution_count": 59,
   "id": "1276e61c-9ed0-4557-9915-8f97480a7539",
   "metadata": {
    "tags": []
   },
   "outputs": [
    {
     "data": {
      "text/html": [
       "<table class=\"dataframe\">\n",
       "<caption>A data.frame: 4 x 1</caption>\n",
       "<thead>\n",
       "\t<tr><th></th><th scope=col>vif.lm.values...import...export...salary...population..data...data..</th></tr>\n",
       "\t<tr><th></th><th scope=col>&lt;dbl&gt;</th></tr>\n",
       "</thead>\n",
       "<tbody>\n",
       "\t<tr><th scope=row>import</th><td>101.777993</td></tr>\n",
       "\t<tr><th scope=row>export</th><td> 91.370304</td></tr>\n",
       "\t<tr><th scope=row>salary</th><td>  1.645638</td></tr>\n",
       "\t<tr><th scope=row>population</th><td>  3.729134</td></tr>\n",
       "</tbody>\n",
       "</table>\n"
      ],
      "text/latex": [
       "A data.frame: 4 x 1\n",
       "\\begin{tabular}{r|l}\n",
       "  & vif.lm.values...import...export...salary...population..data...data..\\\\\n",
       "  & <dbl>\\\\\n",
       "\\hline\n",
       "\timport & 101.777993\\\\\n",
       "\texport &  91.370304\\\\\n",
       "\tsalary &   1.645638\\\\\n",
       "\tpopulation &   3.729134\\\\\n",
       "\\end{tabular}\n"
      ],
      "text/markdown": [
       "\n",
       "A data.frame: 4 x 1\n",
       "\n",
       "| <!--/--> | vif.lm.values...import...export...salary...population..data...data.. &lt;dbl&gt; |\n",
       "|---|---|\n",
       "| import | 101.777993 |\n",
       "| export |  91.370304 |\n",
       "| salary |   1.645638 |\n",
       "| population |   3.729134 |\n",
       "\n"
      ],
      "text/plain": [
       "           vif.lm.values...import...export...salary...population..data...data..\n",
       "import     101.777993                                                          \n",
       "export      91.370304                                                          \n",
       "salary       1.645638                                                          \n",
       "population   3.729134                                                          "
      ]
     },
     "metadata": {},
     "output_type": "display_data"
    }
   ],
   "source": [
    "data.frame(vif(lm(values~import+export+salary+population, data=data)))"
   ]
  },
  {
   "cell_type": "markdown",
   "id": "dbc3d827-f02a-4b30-8aeb-6d1853274c26",
   "metadata": {},
   "source": [
    "Vyšší hodnoty VIF naznačují vyšší míru kolinearit, což může být problém. Obecně se doporučuje, aby hodnoty VIF byly nižší než 5. V našem případě pro regresory `import` a `export` jsou tyto hodnoty mnohonásobně vyšší. To jen potvrzuje náš předpoklad o tom, že potřebujeme odstranit jeden z těchto dvou regresorů. Na základě toho, že export měl o trochu větší hodnotu korelace s vysvětlovanou proměnnou HDP než import a také má nižší Variance Inflation Factor, ponecháme tento příznak a pokusíme se odstranit příznak `import` a podívat se, co se stane."
   ]
  },
  {
   "cell_type": "code",
   "execution_count": 60,
   "id": "212ab89d-1dfc-4888-b53d-2b5a72069616",
   "metadata": {
    "tags": []
   },
   "outputs": [],
   "source": [
    "data_noImport <- data\n",
    "data_noImport$import <- NULL"
   ]
  },
  {
   "cell_type": "code",
   "execution_count": 61,
   "id": "7798be9b-48c2-4af2-b730-fa4cdafa0296",
   "metadata": {
    "tags": []
   },
   "outputs": [
    {
     "data": {
      "text/html": [
       "<table class=\"dataframe\">\n",
       "<caption>A data.frame: 3 x 1</caption>\n",
       "<thead>\n",
       "\t<tr><th></th><th scope=col>vif.lm.values...export...salary...population..data...data_noImport..</th></tr>\n",
       "\t<tr><th></th><th scope=col>&lt;dbl&gt;</th></tr>\n",
       "</thead>\n",
       "<tbody>\n",
       "\t<tr><th scope=row>export</th><td>3.215295</td></tr>\n",
       "\t<tr><th scope=row>salary</th><td>1.547083</td></tr>\n",
       "\t<tr><th scope=row>population</th><td>2.675536</td></tr>\n",
       "</tbody>\n",
       "</table>\n"
      ],
      "text/latex": [
       "A data.frame: 3 x 1\n",
       "\\begin{tabular}{r|l}\n",
       "  & vif.lm.values...export...salary...population..data...data\\_noImport..\\\\\n",
       "  & <dbl>\\\\\n",
       "\\hline\n",
       "\texport & 3.215295\\\\\n",
       "\tsalary & 1.547083\\\\\n",
       "\tpopulation & 2.675536\\\\\n",
       "\\end{tabular}\n"
      ],
      "text/markdown": [
       "\n",
       "A data.frame: 3 x 1\n",
       "\n",
       "| <!--/--> | vif.lm.values...export...salary...population..data...data_noImport.. &lt;dbl&gt; |\n",
       "|---|---|\n",
       "| export | 3.215295 |\n",
       "| salary | 1.547083 |\n",
       "| population | 2.675536 |\n",
       "\n"
      ],
      "text/plain": [
       "           vif.lm.values...export...salary...population..data...data_noImport..\n",
       "export     3.215295                                                            \n",
       "salary     1.547083                                                            \n",
       "population 2.675536                                                            "
      ]
     },
     "metadata": {},
     "output_type": "display_data"
    }
   ],
   "source": [
    "data.frame(vif(lm(values~export+salary+population, data=data_noImport)))"
   ]
  },
  {
   "cell_type": "markdown",
   "id": "d2395e80-a41a-4f7e-94f3-687f124b271d",
   "metadata": {},
   "source": [
    "Nyní jsou všechny hodnoty VIF menší než 5, což nás uspokojuje. Proto budeme nadále používat příznak export."
   ]
  },
  {
   "cell_type": "markdown",
   "id": "ede77684-a1d4-4c78-8640-fd497426a8f5",
   "metadata": {},
   "source": [
    "Podívejme se na vyběrovou korelační matici mezi regresory(a regresandem). Opět použijeme Spearmanův korelační koeficient."
   ]
  },
  {
   "cell_type": "code",
   "execution_count": 62,
   "id": "72ce376d",
   "metadata": {
    "tags": []
   },
   "outputs": [
    {
     "data": {
      "text/html": [
       "<table class=\"dataframe\">\n",
       "<caption>A matrix: 4 x 4 of type dbl</caption>\n",
       "<thead>\n",
       "\t<tr><th></th><th scope=col>data.export</th><th scope=col>data.salary</th><th scope=col>data.population</th><th scope=col>data.values</th></tr>\n",
       "</thead>\n",
       "<tbody>\n",
       "\t<tr><th scope=row>data.export</th><td>1.0000000</td><td>0.58724514</td><td>0.78781413</td><td>0.9715505</td></tr>\n",
       "\t<tr><th scope=row>data.salary</th><td>0.5872451</td><td>1.00000000</td><td>0.09174964</td><td>0.5111427</td></tr>\n",
       "\t<tr><th scope=row>data.population</th><td>0.7878141</td><td>0.09174964</td><td>1.00000000</td><td>0.8707918</td></tr>\n",
       "\t<tr><th scope=row>data.values</th><td>0.9715505</td><td>0.51114272</td><td>0.87079184</td><td>1.0000000</td></tr>\n",
       "</tbody>\n",
       "</table>\n"
      ],
      "text/latex": [
       "A matrix: 4 x 4 of type dbl\n",
       "\\begin{tabular}{r|llll}\n",
       "  & data.export & data.salary & data.population & data.values\\\\\n",
       "\\hline\n",
       "\tdata.export & 1.0000000 & 0.58724514 & 0.78781413 & 0.9715505\\\\\n",
       "\tdata.salary & 0.5872451 & 1.00000000 & 0.09174964 & 0.5111427\\\\\n",
       "\tdata.population & 0.7878141 & 0.09174964 & 1.00000000 & 0.8707918\\\\\n",
       "\tdata.values & 0.9715505 & 0.51114272 & 0.87079184 & 1.0000000\\\\\n",
       "\\end{tabular}\n"
      ],
      "text/markdown": [
       "\n",
       "A matrix: 4 x 4 of type dbl\n",
       "\n",
       "| <!--/--> | data.export | data.salary | data.population | data.values |\n",
       "|---|---|---|---|---|\n",
       "| data.export | 1.0000000 | 0.58724514 | 0.78781413 | 0.9715505 |\n",
       "| data.salary | 0.5872451 | 1.00000000 | 0.09174964 | 0.5111427 |\n",
       "| data.population | 0.7878141 | 0.09174964 | 1.00000000 | 0.8707918 |\n",
       "| data.values | 0.9715505 | 0.51114272 | 0.87079184 | 1.0000000 |\n",
       "\n"
      ],
      "text/plain": [
       "                data.export data.salary data.population data.values\n",
       "data.export     1.0000000   0.58724514  0.78781413      0.9715505  \n",
       "data.salary     0.5872451   1.00000000  0.09174964      0.5111427  \n",
       "data.population 0.7878141   0.09174964  1.00000000      0.8707918  \n",
       "data.values     0.9715505   0.51114272  0.87079184      1.0000000  "
      ]
     },
     "metadata": {},
     "output_type": "display_data"
    }
   ],
   "source": [
    "data <- data_noImport\n",
    "cor(data.frame(data$export, data$salary, data$population, data$values), method='spearman')"
   ]
  },
  {
   "cell_type": "markdown",
   "id": "b6870afb-5427-4a33-8406-39fce9f0ea5a",
   "metadata": {},
   "source": [
    "Celkově vypadá tato matice pro nás dobře. Population a Export jsou silně korelovány s hodnotou HDP, což se nám líbí. Jediný problém je v tom, že Population a Export mají docela silnou korelaci mezi sebou. Nicméně, Variance Inflation Factor nám umožňuje (všechny hodnoty jsou menší než 5) ponechat oba tyto regresory, takže mu budeme věřit."
   ]
  },
  {
   "cell_type": "markdown",
   "id": "c2d29768-279d-43d9-81ab-e0fed4e428c1",
   "metadata": {},
   "source": [
    "### Prezentace regresorů"
   ]
  },
  {
   "cell_type": "markdown",
   "id": "fda2ed20-1634-4ebc-9031-a4e8a499adfe",
   "metadata": {},
   "source": [
    "> Prezentujte důležité vlastnosti zvolených ukazatelů číselně i graficky."
   ]
  },
  {
   "cell_type": "markdown",
   "id": "0fe308d0-0cd3-4729-96b1-1ded9b4fdc99",
   "metadata": {},
   "source": [
    "Nakresleme histogramy rozdělení každého ze spojitých regresorů."
   ]
  },
  {
   "cell_type": "code",
   "execution_count": 63,
   "id": "21f8b195-b958-4a56-bf60-f3b9480b154b",
   "metadata": {},
   "outputs": [
    {
     "data": {
      "image/png": "[encoded data removed]",
      "text/plain": [
       "Plot with title \"Rozdeleni populace europskych zemi\""
      ]
     },
     "metadata": {
      "image/png": {
       "height": 900,
       "width": 780
      }
     },
     "output_type": "display_data"
    }
   ],
   "source": [
    "options(width=200, repr.plot.width=13, repr.plot.height=15) \n",
    "par(mfrow = c(3,1))\n",
    "\n",
    "hist(data$export, prob=F, col=\"Lightgreen\", main=\"Rozdělení exportu europských zemí\", xlab = \"Export\", cex.lab=1.5, cex.main=2)\n",
    "abline(v = mean(data$export), col = \"red\", lty = 2, lwd=2)\n",
    "text(mean(data$export), 13, \"Mean\", pos = 2, srt = 90, cex=1.5)\n",
    "\n",
    "hist(data$salary, prob=F, col=\"Lightgreen\", main=\"Rozdělení mezd europských zemí\", xlab = \"Salary\", cex.lab=1.5, cex.main=2)\n",
    "abline(v = mean(data$salary), col = \"red\", lty = 2, lwd=2)\n",
    "text(mean(data$salary), 7, \"Mean\", pos = 2, srt = 90, cex=1.5)\n",
    "\n",
    "hist(data$population, prob=F, col=\"Lightgreen\", main=\"Rozdělení populace europských zemí\", xlab = \"Population\", cex.lab=1.5, cex.main=2)\n",
    "abline(v = mean(data$population), col = \"red\", lty = 2, lwd=2)\n",
    "text(mean(data$population), 13, \"Mean\", pos = 2, srt = 90, cex=1.5)"
   ]
  },
  {
   "cell_type": "markdown",
   "id": "9fd381d6-b673-40e4-9f18-40461dec79da",
   "metadata": {},
   "source": [
    "Každý z histogramů ukazuje sešikmenost vpravo a koncentraci dat kolem výběrového průměru, což je podobné tomu, co jsme viděli u regresandu.\n",
    "\n",
    "Nyní vykreslíme sloupcový graf pro jediný kategorický příznak, který budeme používat v našem modelu - region, a podíváme se na četnosti každého z regionů."
   ]
  },
  {
   "cell_type": "code",
   "execution_count": 64,
   "id": "1925a483-0af6-4f29-9eaf-4b465a2e2d76",
   "metadata": {},
   "outputs": [
    {
     "data": {
      "image/png": "[encoded data removed]",
      "text/plain": [
       "Plot with title \"Rozdeleni europskych zemi podle regionu\""
      ]
     },
     "metadata": {
      "image/png": {
       "height": 420,
       "width": 780
      }
     },
     "output_type": "display_data"
    }
   ],
   "source": [
    "options(width=200, repr.plot.width=13, repr.plot.height=7) \n",
    "barplot(table(data$region), col=\"Lightgreen\", main=\"Rozdělení europských zemí podle regionů\", \n",
    "        xlab = \"Region\", cex.lab=1.5, cex.main=2)"
   ]
  },
  {
   "cell_type": "markdown",
   "id": "29a0047f-229d-4d5f-8601-ed5dc233d308",
   "metadata": {},
   "source": [
    "Největší počet států se nachází ve východním regionu.\n",
    "\n",
    "Pomocí funkce `summary()` prezentujeme základní deskriptivní statistiky našich regresorů."
   ]
  },
  {
   "cell_type": "code",
   "execution_count": 65,
   "id": "6cb1a852-68f8-41a6-b6a6-19af4b015fc8",
   "metadata": {},
   "outputs": [
    {
     "data": {
      "text/plain": [
       "     geo                values          population         region       export            salary     \n",
       " Length:37          Min.   :   5797   Min.   :  376248   EAST :14   Min.   :   3054   Min.   : 4651  \n",
       " Class :character   1st Qu.:  39062   1st Qu.: 2107180   NORTH: 9   1st Qu.:  30936   1st Qu.:10755  \n",
       " Mode  :character   Median : 208030   Median : 5873420   SOUTH: 7   Median : 119716   Median :15526  \n",
       "                    Mean   : 490462   Mean   :15275458   WEST : 7   Mean   : 274369   Mean   :23061  \n",
       "                    3rd Qu.: 551409   3rd Qu.:10516707              3rd Qu.: 326651   3rd Qu.:34972  \n",
       "                    Max.   :3869900   Max.   :86735919              Max.   :1954622   Max.   :81818  "
      ]
     },
     "metadata": {},
     "output_type": "display_data"
    }
   ],
   "source": [
    "summary(data)"
   ]
  },
  {
   "cell_type": "markdown",
   "id": "4486d7f5-8c73-4f08-9493-3e6ca1f5233c",
   "metadata": {},
   "source": [
    "Všechny naše spojité regresory mají podobnou vlastnost, že průměr každého z nich je větší (ve dvou z tří případů násobně větší) než medián, což jsme mohli pozorovat i u regresandu. Celkově lze říci, že pomocí grafické a číselné reprezentace můžeme pozorovat, že vizualně rozdělení regresorů vypadá podobně jako u regresandu."
   ]
  },
  {
   "cell_type": "markdown",
   "id": "1ea041dd-9315-4ade-9a6f-44bc8c4dc8ff",
   "metadata": {},
   "source": [
    "## Úloha 3"
   ]
  },
  {
   "cell_type": "markdown",
   "id": "c8f54eb8-af09-4257-8400-7f73c2e63d63",
   "metadata": {},
   "source": [
    "### Lineární model"
   ]
  },
  {
   "cell_type": "markdown",
   "id": "9e3d2abe-7eeb-415c-b616-78b0da91e7a8",
   "metadata": {},
   "source": [
    "> Pomocí lineárního regresního modelu nebo jeho variant zkoumejte závislost HDP na všech regresorech."
   ]
  },
  {
   "cell_type": "markdown",
   "id": "81ef4f20-2997-40b2-a38e-f181852c6680",
   "metadata": {},
   "source": [
    "Nejprve se pokusíme použít lineární model se všemi regresory, ale bez interakcí."
   ]
  },
  {
   "cell_type": "code",
   "execution_count": 66,
   "id": "ed13e4bc-0706-4f1f-9157-72b9131e7f95",
   "metadata": {
    "tags": []
   },
   "outputs": [
    {
     "data": {
      "text/plain": [
       "\n",
       "Call:\n",
       "lm(formula = values ~ export + population + region + salary, \n",
       "    data = data_noImport)\n",
       "\n",
       "Residuals:\n",
       "    Min      1Q  Median      3Q     Max \n",
       "-595248  -34266   37850   77318  596226 \n",
       "\n",
       "Coefficients:\n",
       "                 Estimate    Std. Error t value     Pr(>|t|)    \n",
       "(Intercept) -85334.275480  71065.921989  -1.201     0.239233    \n",
       "export           1.400929      0.195532   7.165 0.0000000569 ***\n",
       "population       0.012639      0.002931   4.313     0.000161 ***\n",
       "regionNORTH  45870.321591 124040.846062   0.370     0.714129    \n",
       "regionSOUTH  -6681.406151 119200.319230  -0.056     0.955672    \n",
       "regionWEST   34741.850102 174996.114038   0.199     0.843970    \n",
       "salary          -0.785059      3.594409  -0.218     0.828588    \n",
       "---\n",
       "Signif. codes:  0 '***' 0.001 '**' 0.01 '*' 0.05 '.' 0.1 ' ' 1\n",
       "\n",
       "Residual standard error: 220500 on 30 degrees of freedom\n",
       "Multiple R-squared:  0.9366,\tAdjusted R-squared:  0.924 \n",
       "F-statistic:  73.9 on 6 and 30 DF,  p-value: < 2.2e-16\n"
      ]
     },
     "metadata": {},
     "output_type": "display_data"
    }
   ],
   "source": [
    "fit.lin <- lm(values~export+population+region+salary, data=data_noImport)\n",
    "summary(fit.lin)"
   ]
  },
  {
   "cell_type": "markdown",
   "id": "23d09534-b13a-4572-8a58-afc9cbcc0192",
   "metadata": {},
   "source": [
    "Z jednoduchého lineárního modelu jsme si všimli, že významnými parametry v modelu jsou `export` a `populace`, zatímco region a mzda nejsou statisticky významné a mají obrovskou standardní chybu. Nicméně, i přes jednoduchost modelu dosahuje vysokého adjustovaného koeficientu determinace, což naznačuje dobrou vysvětlující schopnost modelu."
   ]
  },
  {
   "cell_type": "markdown",
   "id": "76ee83bd-6cb2-453b-a2ff-9fae233c5b6d",
   "metadata": {},
   "source": [
    "> Pomocí vhodných nástrojů se pokuste najít finální (pod-)model, který chování HDP dobře vysvětluje, ale neobsahuje nevýznamné komponenty. Prakticky interpretujte získané výsledky."
   ]
  },
  {
   "cell_type": "markdown",
   "id": "2ce64e22-a634-4cd3-8ada-3da7e78bc752",
   "metadata": {},
   "source": [
    "Použijeme metodu `step()`, která na základě Akaikeho informačního kritéria sestaví nejvhodnější model pro lineární regresi."
   ]
  },
  {
   "cell_type": "code",
   "execution_count": 67,
   "id": "2c7ff43c-2b99-4d56-8a1e-f3ae500be648",
   "metadata": {
    "tags": []
   },
   "outputs": [
    {
     "name": "stdout",
     "output_type": "stream",
     "text": [
      "Start:  AIC=1006.78\n",
      "values ~ 1\n",
      "\n",
      "             Df      Sum of Sq            RSS     AIC\n",
      "+ export      1 20119981761299  2896551765059  932.09\n",
      "+ population  1 16484290170539  6532243355819  962.18\n",
      "+ region      3  7339542368483 15676991157875  998.58\n",
      "+ salary      1  1734653825825 21281879700533 1005.88\n",
      "<none>                         23016533526358 1006.78\n",
      "\n",
      "Step:  AIC=932.09\n",
      "values ~ export\n",
      "\n",
      "             Df      Sum of Sq            RSS     AIC\n",
      "+ population  1  1428732335002  1467819430057  908.94\n",
      "+ salary      1   325986876660  2570564888399  929.68\n",
      "<none>                          2896551765059  932.09\n",
      "+ region      3   377404937651  2519146827407  932.93\n",
      "- export      1 20119981761299 23016533526358 1006.78\n",
      "\n",
      "Step:  AIC=908.94\n",
      "values ~ export + population\n",
      "\n",
      "                    Df     Sum of Sq           RSS    AIC\n",
      "+ export:population  1  421627508249 1046191921808 898.41\n",
      "<none>                               1467819430057 908.94\n",
      "+ salary             1      49992736 1467769437320 910.94\n",
      "+ region             3    6905976725 1460913453331 914.77\n",
      "- population         1 1428732335002 2896551765059 932.09\n",
      "- export             1 5064423925762 6532243355819 962.18\n",
      "\n",
      "Step:  AIC=898.41\n",
      "values ~ export + population + export:population\n",
      "\n",
      "                    Df    Sum of Sq           RSS    AIC\n",
      "+ salary             1  84652744644  961539177164 897.29\n",
      "<none>                              1046191921808 898.41\n",
      "+ region             3  49900641821  996291279987 902.61\n",
      "- export:population  1 421627508249 1467819430057 908.94\n",
      "\n",
      "Step:  AIC=897.29\n",
      "values ~ export + population + salary + export:population\n",
      "\n",
      "                    Df    Sum of Sq           RSS    AIC\n",
      "+ population:salary  1 864287644258   97251532906 814.52\n",
      "<none>                               961539177164 897.29\n",
      "- salary             1  84652744644 1046191921808 898.41\n",
      "+ export:salary      1   8626685742  952912491422 898.96\n",
      "+ region             3   1983031249  959556145915 903.22\n",
      "- export:population  1 506230260156 1467769437320 910.94\n",
      "\n",
      "Step:  AIC=814.52\n",
      "values ~ export + population + salary + export:population + population:salary\n",
      "\n",
      "                    Df    Sum of Sq          RSS    AIC\n",
      "+ export:salary      1  23297601900  73953931006 806.38\n",
      "+ region             3  29708097957  67543434949 807.03\n",
      "<none>                               97251532906 814.52\n",
      "- export:population  1   7035806909 104287339815 815.10\n",
      "- population:salary  1 864287644258 961539177164 897.29\n",
      "\n",
      "Step:  AIC=806.38\n",
      "values ~ export + population + salary + export:population + population:salary + \n",
      "    export:salary\n",
      "\n",
      "                           Df    Sum of Sq          RSS    AIC\n",
      "+ region                    3  17549981921  56403949086 802.36\n",
      "<none>                                      73953931006 806.38\n",
      "+ export:population:salary  1   1710898474  72243032533 807.52\n",
      "- export:population         1   6853929472  80807860478 807.66\n",
      "- export:salary             1  23297601900  97251532906 814.52\n",
      "- population:salary         1 878958560416 952912491422 898.96\n",
      "\n",
      "Step:  AIC=802.36\n",
      "values ~ export + population + salary + region + export:population + \n",
      "    population:salary + export:salary\n",
      "\n",
      "                           Df    Sum of Sq          RSS    AIC\n",
      "+ export:region             3  29553610380  26850338706 780.90\n",
      "+ population:region         3  14479448662  41924500424 797.38\n",
      "+ region:salary             3  13984863316  42419085769 797.82\n",
      "<none>                                      56403949086 802.36\n",
      "- export:population         1   3391418346  59795367432 802.52\n",
      "+ export:population:salary  1    431607097  55972341988 804.08\n",
      "- region                    3  17549981921  73953931006 806.38\n",
      "- export:salary             1  11139485863  67543434949 807.03\n",
      "- population:salary         1 894860066463 951264015548 904.90\n",
      "\n",
      "Step:  AIC=780.9\n",
      "values ~ export + population + salary + region + export:population + \n",
      "    population:salary + export:salary + export:region\n",
      "\n",
      "                           Df    Sum of Sq          RSS    AIC\n",
      "+ region:salary             3  10624338128  16226000578 768.26\n",
      "<none>                                      26850338706 780.90\n",
      "+ export:population:salary  1    212930276  26637408430 782.60\n",
      "+ population:region         3   1384420642  25465918064 784.94\n",
      "- export:population         1   6982285087  33832623792 787.45\n",
      "- export:salary             1   7456870125  34307208831 787.97\n",
      "- export:region             3  29553610380  56403949086 802.36\n",
      "- population:salary         1 819671795359 846522134065 906.58\n",
      "\n",
      "Step:  AIC=768.26\n",
      "values ~ export + population + salary + region + export:population + \n",
      "    population:salary + export:salary + export:region + salary:region\n",
      "\n",
      "                           Df    Sum of Sq          RSS    AIC\n",
      "+ export:region:salary      3   6521544381   9704456197 755.24\n",
      "+ population:region         3   6183930890  10042069688 756.51\n",
      "<none>                                      16226000578 768.26\n",
      "+ export:population:salary  1    741772015  15484228563 768.53\n",
      "- export:salary             1   5361215926  21587216504 776.82\n",
      "- salary:region             3  10624338128  26850338706 780.90\n",
      "- export:population         1  16586992045  32812992622 792.32\n",
      "- export:region             3  26193085192  42419085769 797.82\n",
      "- population:salary         1 303824882513 320050883090 876.59\n",
      "\n",
      "Step:  AIC=755.24\n",
      "values ~ export + population + salary + region + export:population + \n",
      "    population:salary + export:salary + export:region + salary:region + \n",
      "    export:salary:region\n",
      "\n",
      "                           Df   Sum of Sq         RSS    AIC\n",
      "+ population:region         3  4985727650  4718728547 734.56\n",
      "+ export:population:salary  1  1440415409  8264040788 751.30\n",
      "<none>                                     9704456197 755.24\n",
      "- export:population         1  4609307269 14313763465 767.62\n",
      "- export:salary:region      3  6521544381 16226000578 768.26\n",
      "- population:salary         1 74826344131 84530800328 833.33\n",
      "\n",
      "Step:  AIC=734.56\n",
      "values ~ export + population + salary + region + export:population + \n",
      "    population:salary + export:salary + export:region + salary:region + \n",
      "    population:region + export:salary:region\n",
      "\n",
      "                           Df  Sum of Sq         RSS    AIC\n",
      "+ export:population:salary  1 1392512714  3326215833 723.62\n",
      "+ export:population:region  3 1436362087  3282366460 727.13\n",
      "- population:salary         1   12867213  4731595760 732.66\n",
      "+ population:region:salary  3  887324564  3831403983 732.86\n",
      "<none>                                    4718728547 734.56\n",
      "- population:region         3 4985727650  9704456197 755.24\n",
      "- export:salary:region      3 5323341141 10042069688 756.51\n",
      "- export:population         1 4452750736  9171479283 757.15\n",
      "\n",
      "Step:  AIC=723.62\n",
      "values ~ export + population + salary + region + export:population + \n",
      "    population:salary + export:salary + export:region + salary:region + \n",
      "    population:region + export:salary:region + export:population:salary\n",
      "\n",
      "                           Df  Sum of Sq        RSS    AIC\n",
      "+ population:region:salary  3 1122607204 2203608629 714.39\n",
      "+ export:population:region  3  783956075 2542259758 719.68\n",
      "<none>                                   3326215833 723.62\n",
      "- export:population:salary  1 1392512714 4718728547 734.56\n",
      "- population:region         3 4937824955 8264040788 751.30\n",
      "- export:salary:region      3 6492790360 9819006194 757.68\n",
      "\n",
      "Step:  AIC=714.39\n",
      "values ~ export + population + salary + region + export:population + \n",
      "    population:salary + export:salary + export:region + salary:region + \n",
      "    population:region + export:salary:region + export:population:salary + \n",
      "    population:salary:region\n",
      "\n",
      "                           Df  Sum of Sq        RSS    AIC\n",
      "+ export:population:region  3 1185228807 1018379822 691.83\n",
      "<none>                                   2203608629 714.39\n",
      "- population:salary:region  3 1122607204 3326215833 723.62\n",
      "- export:salary:region      3 1461954532 3665563161 727.22\n",
      "- export:population:salary  1 1627795353 3831403983 732.86\n",
      "\n",
      "Step:  AIC=691.83\n",
      "values ~ export + population + salary + region + export:population + \n",
      "    population:salary + export:salary + export:region + salary:region + \n",
      "    population:region + export:salary:region + export:population:salary + \n",
      "    population:salary:region + export:population:region\n",
      "\n",
      "                                  Df  Sum of Sq        RSS    AIC\n",
      "+ export:population:region:salary  1  245089059  773290763 683.64\n",
      "<none>                                          1018379822 691.83\n",
      "- export:population:salary         1  149327490 1167707313 694.89\n",
      "- export:salary:region             3  938385203 1956765025 709.99\n",
      "- export:population:region         3 1185228807 2203608629 714.39\n",
      "- population:salary:region         3 1523879936 2542259758 719.68\n",
      "\n",
      "Step:  AIC=683.64\n",
      "values ~ export + population + salary + region + export:population + \n",
      "    population:salary + export:salary + export:region + salary:region + \n",
      "    population:region + export:salary:region + export:population:salary + \n",
      "    population:salary:region + export:population:region + export:population:salary:region\n",
      "\n",
      "                                  Df Sum of Sq        RSS    AIC\n",
      "<none>                                          773290763 683.64\n",
      "- export:population:salary:region  1 245089059 1018379822 691.83\n"
     ]
    },
    {
     "data": {
      "text/plain": [
       "\n",
       "Call:\n",
       "lm(formula = values ~ export + population + salary + region + \n",
       "    export:population + population:salary + export:salary + export:region + \n",
       "    salary:region + population:region + export:salary:region + \n",
       "    export:population:salary + population:salary:region + export:population:region + \n",
       "    export:population:salary:region, data = data_noImport)\n",
       "\n",
       "Coefficients:\n",
       "                         (Intercept)                                export                            population                                salary                           regionNORTH  \n",
       "                           1.308e+04                            -7.124e-01                            -6.491e-03                            -1.924e+00                            -3.724e+04  \n",
       "                         regionSOUTH                            regionWEST                     export:population                     population:salary                         export:salary  \n",
       "                          -2.040e+06                            -2.405e+06                             8.862e-08                             2.298e-06                             6.945e-05  \n",
       "                  export:regionNORTH                    export:regionSOUTH                     export:regionWEST                    salary:regionNORTH                    salary:regionSOUTH  \n",
       "                          -1.266e+00                             1.961e+02                             8.931e+00                             2.396e+00                             1.813e+02  \n",
       "                   salary:regionWEST                population:regionNORTH                population:regionSOUTH                 population:regionWEST             export:salary:regionNORTH  \n",
       "                           5.800e+01                             7.409e-02                            -1.335e+00                            -3.858e-01                            -1.644e-05  \n",
       "           export:salary:regionSOUTH              export:salary:regionWEST              export:population:salary         population:salary:regionNORTH         population:salary:regionSOUTH  \n",
       "                          -1.318e-02                            -2.863e-04                            -8.339e-12                            -2.892e-06                             7.691e-05  \n",
       "        population:salary:regionWEST         export:population:regionNORTH         export:population:regionSOUTH          export:population:regionWEST  export:population:salary:regionNORTH  \n",
       "                           1.106e-05                            -2.248e-07                             1.347e-06                             1.814e-07                             1.323e-11  \n",
       "export:population:salary:regionSOUTH   export:population:salary:regionWEST  \n",
       "                                  NA                                    NA  \n"
      ]
     },
     "metadata": {},
     "output_type": "display_data"
    }
   ],
   "source": [
    "step(lm(values~1, data=data_noImport), scope=list(lower=~1,upper=~export*population*region*salary))"
   ]
  },
  {
   "cell_type": "markdown",
   "id": "91900cb6-7907-4064-a140-f86447b045cf",
   "metadata": {},
   "source": [
    "Dostali jsme nejlepší model podle AIC, nyní bychom měli provést jeho fitting a podívat se na výsledky."
   ]
  },
  {
   "cell_type": "code",
   "execution_count": 68,
   "id": "221966cc-889e-40ab-9f70-f4beb7f93802",
   "metadata": {
    "tags": []
   },
   "outputs": [
    {
     "data": {
      "text/plain": [
       "\n",
       "Call:\n",
       "lm(formula = values ~ export + population + salary + region + \n",
       "    export:population + population:salary + export:salary + export:region + \n",
       "    salary:region + population:region + export:salary:region + \n",
       "    export:population:salary + population:salary:region + export:population:region + \n",
       "    export:population:salary:region, data = data_noImport)\n",
       "\n",
       "Residuals:\n",
       "   Min     1Q Median     3Q    Max \n",
       "-15306      0      0   1496  12290 \n",
       "\n",
       "Coefficients: (2 not defined because of singularities)\n",
       "                                       Estimate Std. Error t value Pr(>|t|)  \n",
       "(Intercept)                           1.308e+04  1.978e+04   0.661   0.5296  \n",
       "export                               -7.124e-01  6.052e-01  -1.177   0.2776  \n",
       "population                           -6.491e-03  8.815e-03  -0.736   0.4855  \n",
       "salary                               -1.924e+00  2.066e+00  -0.931   0.3828  \n",
       "regionNORTH                          -3.724e+04  4.455e+04  -0.836   0.4308  \n",
       "regionSOUTH                          -2.040e+06  8.388e+05  -2.432   0.0453 *\n",
       "regionWEST                           -2.405e+06  1.553e+06  -1.549   0.1653  \n",
       "export:population                     8.862e-08  5.761e-08   1.538   0.1679  \n",
       "population:salary                     2.298e-06  1.063e-06   2.161   0.0675 .\n",
       "export:salary                         6.945e-05  6.205e-05   1.119   0.2999  \n",
       "export:regionNORTH                   -1.266e+00  1.759e+00  -0.720   0.4950  \n",
       "export:regionSOUTH                    1.961e+02  8.256e+01   2.375   0.0492 *\n",
       "export:regionWEST                     8.931e+00  5.345e+00   1.671   0.1387  \n",
       "salary:regionNORTH                    2.396e+00  2.257e+00   1.062   0.3235  \n",
       "salary:regionSOUTH                    1.813e+02  7.598e+01   2.386   0.0484 *\n",
       "salary:regionWEST                     5.800e+01  3.677e+01   1.577   0.1587  \n",
       "population:regionNORTH                7.409e-02  2.250e-02   3.292   0.0133 *\n",
       "population:regionSOUTH               -1.335e+00  5.750e-01  -2.321   0.0533 .\n",
       "population:regionWEST                -3.858e-01  2.277e-01  -1.694   0.1340  \n",
       "export:salary:regionNORTH            -1.644e-05  7.718e-05  -0.213   0.8373  \n",
       "export:salary:regionSOUTH            -1.318e-02  5.604e-03  -2.352   0.0509 .\n",
       "export:salary:regionWEST             -2.863e-04  1.792e-04  -1.597   0.1542  \n",
       "export:population:salary             -8.339e-12  4.699e-12  -1.775   0.1192  \n",
       "population:salary:regionNORTH        -2.892e-06  1.188e-06  -2.436   0.0451 *\n",
       "population:salary:regionSOUTH         7.691e-05  3.384e-05   2.273   0.0573 .\n",
       "population:salary:regionWEST          1.106e-05  7.198e-06   1.537   0.1682  \n",
       "export:population:regionNORTH        -2.248e-07  2.698e-07  -0.833   0.4323  \n",
       "export:population:regionSOUTH         1.347e-06  5.728e-07   2.351   0.0510 .\n",
       "export:population:regionWEST          1.814e-07  9.277e-08   1.956   0.0914 .\n",
       "export:population:salary:regionNORTH  1.323e-11  8.881e-12   1.489   0.1800  \n",
       "export:population:salary:regionSOUTH         NA         NA      NA       NA  \n",
       "export:population:salary:regionWEST          NA         NA      NA       NA  \n",
       "---\n",
       "Signif. codes:  0 '***' 0.001 '**' 0.01 '*' 0.05 '.' 0.1 ' ' 1\n",
       "\n",
       "Residual standard error: 10510 on 7 degrees of freedom\n",
       "Multiple R-squared:      1,\tAdjusted R-squared:  0.9998 \n",
       "F-statistic:  7184 on 29 and 7 DF,  p-value: 2.91e-13\n"
      ]
     },
     "metadata": {},
     "output_type": "display_data"
    }
   ],
   "source": [
    "fit.step <- lm(formula = values ~ export + population + salary + region + \n",
    "                         export:population + population:salary + export:salary + export:region + \n",
    "                         salary:region + population:region + export:salary:region + \n",
    "                         export:population:salary + population:salary:region + export:population:region + \n",
    "                         export:population:salary:region, data = data_noImport)\n",
    "summary(fit.step)"
   ]
  },
  {
   "cell_type": "markdown",
   "id": "663f06be-0615-41f0-bb1f-675cce35d8bd",
   "metadata": {},
   "source": [
    "Na první pohled model, který jsme navrhli pomocí metody `step()`, má velmi vysoký adjustovaný koeficient determinace. Nicméně, obsahuje mnoho nevýznamných parametrů a v případě jedné interakce nemáme dostatek pozorování. Přesto je tento model dobrým výchozím bodem, který můžeme zkusit zjednodušit a vylepšit."
   ]
  },
  {
   "cell_type": "code",
   "execution_count": 69,
   "id": "e7d31ccd-7054-4191-a0d2-a86462846eca",
   "metadata": {},
   "outputs": [
    {
     "data": {
      "text/plain": [
       "\n",
       "Call:\n",
       "lm(formula = values ~ export:region + salary:region + population:region + \n",
       "    export:salary:region + population:salary:region + export:population:region, \n",
       "    data = data_noImport)\n",
       "\n",
       "Residuals:\n",
       "     Min       1Q   Median       3Q      Max \n",
       "-18110.7  -3818.5    431.4   4214.6  14002.3 \n",
       "\n",
       "Coefficients:\n",
       "                                Estimate Std. Error t value  Pr(>|t|)    \n",
       "(Intercept)                   -9.657e+03  1.612e+04  -0.599  0.560343    \n",
       "export:regionEAST              6.194e-02  4.970e-01   0.125  0.902882    \n",
       "export:regionNORTH            -3.039e+00  5.197e-01  -5.846 0.0000788 ***\n",
       "export:regionSOUTH             1.623e+01  3.610e+00   4.497  0.000731 ***\n",
       "export:regionWEST              4.439e-01  1.157e-01   3.838  0.002361 ** \n",
       "regionEAST:salary              2.858e-01  1.806e+00   0.158  0.876885    \n",
       "regionNORTH:salary             9.982e-02  4.035e-01   0.247  0.808794    \n",
       "regionSOUTH:salary             6.758e+00  2.145e+00   3.151  0.008365 ** \n",
       "regionWEST:salary              1.524e+00  5.288e-01   2.882  0.013771 *  \n",
       "regionEAST:population         -2.749e-03  9.847e-03  -0.279  0.784869    \n",
       "regionNORTH:population         7.225e-02  1.650e-02   4.377  0.000901 ***\n",
       "regionSOUTH:population        -1.051e-01  2.489e-02  -4.223  0.001183 ** \n",
       "regionWEST:population         -6.558e-03  8.224e-03  -0.797  0.440699    \n",
       "export:regionEAST:salary      -7.952e-06  5.195e-05  -0.153  0.880885    \n",
       "export:regionNORTH:salary      8.279e-05  1.224e-05   6.762 0.0000201 ***\n",
       "export:regionSOUTH:salary     -1.050e-03  2.528e-04  -4.153  0.001340 ** \n",
       "export:regionWEST:salary      -1.192e-05  4.717e-06  -2.527  0.026564 *  \n",
       "regionEAST:salary:population   2.168e-06  1.227e-06   1.768  0.102481    \n",
       "regionNORTH:salary:population -6.986e-07  4.532e-07  -1.541  0.149143    \n",
       "regionSOUTH:salary:population  6.763e-06  1.635e-06   4.135  0.001383 ** \n",
       "regionWEST:salary:population   1.406e-06  2.978e-07   4.722  0.000495 ***\n",
       "export:regionEAST:population  -1.304e-08  7.051e-09  -1.849  0.089160 .  \n",
       "export:regionNORTH:population  3.346e-08  1.823e-08   1.835  0.091362 .  \n",
       "export:regionSOUTH:population  1.139e-07  2.421e-08   4.704  0.000511 ***\n",
       "export:regionWEST:population   1.701e-09  5.527e-10   3.078  0.009573 ** \n",
       "---\n",
       "Signif. codes:  0 '***' 0.001 '**' 0.01 '*' 0.05 '.' 0.1 ' ' 1\n",
       "\n",
       "Residual standard error: 12810 on 12 degrees of freedom\n",
       "Multiple R-squared:  0.9999,\tAdjusted R-squared:  0.9997 \n",
       "F-statistic:  5839 on 24 and 12 DF,  p-value: < 2.2e-16\n"
      ]
     },
     "metadata": {},
     "output_type": "display_data"
    }
   ],
   "source": [
    "fit.step.reduced <- lm(formula = values ~ export:region + \n",
    "                         salary:region + population:region + export:salary:region + \n",
    "                         population:salary:region + export:population:region, data = data_noImport)\n",
    "summary(fit.step.reduced)"
   ]
  },
  {
   "cell_type": "markdown",
   "id": "ab567de7-f55a-45d0-b7d2-18f9c21469c4",
   "metadata": {},
   "source": [
    "Po zjednodušení modelu jsme dosáhli přijatelného výsledku, protože téměř všechny regresory jsou významné a adjustovaný koeficient determinace se snížil pouze o 0,0001. Jedinou nevýhodou je, že intercept není statisticky významný a má vysokou standardní chybu. Pro další porovnání mezi modely můžeme použít funkci `anova()`.\n",
    "\n",
    "Porovnáme modely příkazem `anova()` pomocí `F-testu`."
   ]
  },
  {
   "cell_type": "code",
   "execution_count": 70,
   "id": "340d6373-eb7a-48a0-877a-8b854edbe6d0",
   "metadata": {
    "tags": []
   },
   "outputs": [
    {
     "data": {
      "text/html": [
       "<table class=\"dataframe\">\n",
       "<caption>A anova: 2 x 6</caption>\n",
       "<thead>\n",
       "\t<tr><th></th><th scope=col>Res.Df</th><th scope=col>RSS</th><th scope=col>Df</th><th scope=col>Sum of Sq</th><th scope=col>F</th><th scope=col>Pr(&gt;F)</th></tr>\n",
       "\t<tr><th></th><th scope=col>&lt;dbl&gt;</th><th scope=col>&lt;dbl&gt;</th><th scope=col>&lt;dbl&gt;</th><th scope=col>&lt;dbl&gt;</th><th scope=col>&lt;dbl&gt;</th><th scope=col>&lt;dbl&gt;</th></tr>\n",
       "</thead>\n",
       "<tbody>\n",
       "\t<tr><th scope=row>1</th><td>12</td><td>1970656540</td><td>NA</td><td>        NA</td><td>      NA</td><td>       NA</td></tr>\n",
       "\t<tr><th scope=row>2</th><td> 7</td><td> 773290763</td><td> 5</td><td>1197365777</td><td>2.167764</td><td>0.1707484</td></tr>\n",
       "</tbody>\n",
       "</table>\n"
      ],
      "text/latex": [
       "A anova: 2 x 6\n",
       "\\begin{tabular}{r|llllll}\n",
       "  & Res.Df & RSS & Df & Sum of Sq & F & Pr(>F)\\\\\n",
       "  & <dbl> & <dbl> & <dbl> & <dbl> & <dbl> & <dbl>\\\\\n",
       "\\hline\n",
       "\t1 & 12 & 1970656540 & NA &         NA &       NA &        NA\\\\\n",
       "\t2 &  7 &  773290763 &  5 & 1197365777 & 2.167764 & 0.1707484\\\\\n",
       "\\end{tabular}\n"
      ],
      "text/markdown": [
       "\n",
       "A anova: 2 x 6\n",
       "\n",
       "| <!--/--> | Res.Df &lt;dbl&gt; | RSS &lt;dbl&gt; | Df &lt;dbl&gt; | Sum of Sq &lt;dbl&gt; | F &lt;dbl&gt; | Pr(&gt;F) &lt;dbl&gt; |\n",
       "|---|---|---|---|---|---|---|\n",
       "| 1 | 12 | 1970656540 | NA |         NA |       NA |        NA |\n",
       "| 2 |  7 |  773290763 |  5 | 1197365777 | 2.167764 | 0.1707484 |\n",
       "\n"
      ],
      "text/plain": [
       "  Res.Df RSS        Df Sum of Sq  F        Pr(>F)   \n",
       "1 12     1970656540 NA         NA       NA        NA\n",
       "2  7      773290763  5 1197365777 2.167764 0.1707484"
      ]
     },
     "metadata": {},
     "output_type": "display_data"
    }
   ],
   "source": [
    "anova(fit.step.reduced, fit.step)"
   ]
  },
  {
   "cell_type": "markdown",
   "id": "e3628da8-ef1d-445c-a11c-acf4b12d8aee",
   "metadata": {},
   "source": [
    "Na standardní hladině významnosti 5% nebyl nalezen statisticky významný rozdíl mezi modely, a proto preferujeme ten jednodušší (`fit.step.reduced`)."
   ]
  },
  {
   "cell_type": "markdown",
   "id": "3167af2a-80bc-441d-a730-4237a1bc95ed",
   "metadata": {},
   "source": [
    "### Logaritmický model"
   ]
  },
  {
   "cell_type": "markdown",
   "id": "653a0f34-f5e8-4edf-8214-b7326e968ed9",
   "metadata": {},
   "source": [
    "Teď bychom chtěli použít některou z variant lineární regrese. Abychom zjistili, který model je vhodný použít, pojďme sledovat rezidua našeho lineárního modelu.\n",
    "\n",
    "Na začátku nakreslíme grafy závislosti hodnoty HDP na exportu a hodnoty HDP na počtu obyvatel ve státech. Na těchto grafech se podíváme, jak se odchylují původní hodnoty HDP od naší regresní přímky."
   ]
  },
  {
   "cell_type": "code",
   "execution_count": 71,
   "id": "5a6c994c-93ba-4fcc-af64-810016118b96",
   "metadata": {},
   "outputs": [
    {
     "data": {
      "image/png": "[encoded data removed]",
      "text/plain": [
       "plot without title"
      ]
     },
     "metadata": {
      "image/png": {
       "height": 420,
       "width": 780
      }
     },
     "output_type": "display_data"
    }
   ],
   "source": [
    "par(mfrow=c(2,1))\n",
    "\n",
    "plot(values~export,data=data_noImport)\n",
    "abline(lm(values~export,data=data_noImport))\n",
    "\n",
    "plot(values~population,data=data_noImport)\n",
    "abline(lm(values~population,data=data_noImport))"
   ]
  },
  {
   "cell_type": "markdown",
   "id": "35da533e-680b-437d-8ff8-faf5e16e5f78",
   "metadata": {},
   "source": [
    "Jak můžeme vidět na grafech, s rostoucí hodnotou regresoru se zvětšuje vzdálenost mezi předpovídanou hodnotou a skutečnou hodnotou, což nám dává důvod k podezření, že naše rezidua nejsou homoskedastická.\n",
    "\n",
    "Ověříme naši domněnku o homoskedasticitě reziduí pomocí **Breusch-Paganova** testu. Také vykreslíme graf \"Scale-Location\", který zobrazuje standardizované rezidua (rezidua, která jsou upravena tak, aby měla střední hodnotu 0 a standardní odchylku 1) v závislosti na předpovězených hodnotách. Tento graf slouží k posouzení **homoskedasticity**."
   ]
  },
  {
   "cell_type": "code",
   "execution_count": 72,
   "id": "e4fe69db-6c99-4eae-81c9-8ee28759fab0",
   "metadata": {
    "tags": []
   },
   "outputs": [
    {
     "data": {
      "text/plain": [
       "\n",
       " Breusch Pagan Test for Heteroskedasticity\n",
       " -----------------------------------------\n",
       " Ho: the variance is constant            \n",
       " Ha: the variance is not constant        \n",
       "\n",
       "               Data                \n",
       " ----------------------------------\n",
       " Response : values \n",
       " Variables: fitted values of values \n",
       "\n",
       "           Test Summary            \n",
       " ----------------------------------\n",
       " DF            =    1 \n",
       " Chi2          =    26.81018 \n",
       " Prob > Chi2   =    0.0000002244518 "
      ]
     },
     "metadata": {},
     "output_type": "display_data"
    },
    {
     "data": {
      "image/png": "[encoded data removed]",
      "text/plain": [
       "Plot with title \"\""
      ]
     },
     "metadata": {
      "image/png": {
       "height": 420,
       "width": 780
      }
     },
     "output_type": "display_data"
    }
   ],
   "source": [
    "plot(fit.lin, which=3, col=c(\"blue\"))\n",
    "ols_test_breusch_pagan(fit.lin)"
   ]
  },
  {
   "cell_type": "markdown",
   "id": "a2886b8c-861d-447c-911f-6f1890a73258",
   "metadata": {},
   "source": [
    "Zamítáme nulovou hypotézu o konstantním rozptylu reziduí na hladině významnosti 5% ve prospěch alternativy, že rozptyl není konstantní.\n",
    "\n",
    "Takže naše rezidua jsou heteroskedastická. V tomto případě bychom uvažovali o vhodné transformaci dat, která by stabilizovala rozptyl. Jako možnou transformaci může sloužit logaritmická transformace. Z grafů, které jsme výše vykreslili, můžeme pozorovat, že rezidua rostou s vysvětlující proměnnou, což je dobrým důvodem pro použití právě tohoto modelu."
   ]
  },
  {
   "cell_type": "code",
   "execution_count": 73,
   "id": "46cc2e80-110e-4de0-b50f-e4bdda60bcc2",
   "metadata": {
    "tags": []
   },
   "outputs": [
    {
     "data": {
      "text/plain": [
       "\n",
       "Call:\n",
       "lm(formula = log(values) ~ export + population + region + salary, \n",
       "    data = data_noImport)\n",
       "\n",
       "Residuals:\n",
       "    Min      1Q  Median      3Q     Max \n",
       "-2.0752 -0.5746  0.2367  0.6302  1.1482 \n",
       "\n",
       "Coefficients:\n",
       "                  Estimate     Std. Error t value Pr(>|t|)    \n",
       "(Intercept) 10.26652702246  0.31771862695  32.313  < 2e-16 ***\n",
       "export       0.00000131081  0.00000087418   1.499  0.14420    \n",
       "population   0.00000003664  0.00000001310   2.796  0.00894 ** \n",
       "regionNORTH  0.17019473073  0.55455675792   0.307  0.76104    \n",
       "regionSOUTH  0.08554270737  0.53291592789   0.161  0.87355    \n",
       "regionWEST  -0.16477631547  0.78236549274  -0.211  0.83461    \n",
       "salary       0.00003240452  0.00001606974   2.016  0.05278 .  \n",
       "---\n",
       "Signif. codes:  0 '***' 0.001 '**' 0.01 '*' 0.05 '.' 0.1 ' ' 1\n",
       "\n",
       "Residual standard error: 0.9858 on 30 degrees of freedom\n",
       "Multiple R-squared:  0.7148,\tAdjusted R-squared:  0.6578 \n",
       "F-statistic: 12.53 on 6 and 30 DF,  p-value: 0.0000004903\n"
      ]
     },
     "metadata": {},
     "output_type": "display_data"
    }
   ],
   "source": [
    "fit.log <- lm(log(values)~export+population+region+salary,data=data_noImport)\n",
    "summary(fit.log)"
   ]
  },
  {
   "cell_type": "markdown",
   "id": "b48ca019-8b9c-4610-bb2a-ff8240fd4b7b",
   "metadata": {},
   "source": [
    "Dostáváme zatím poměrně zajímavé výsledky. Nejprve si můžeme všimnout, že v jednoduchém logaritmickém modelu je **adjustovaný koeficient determinace** menší, což naznačuje horší schopnost modelu zachytit strukturu dat. Překvapivé je, že významnou proměnnou je pouze populace, zatímco všechny ostatní proměnné mají malou standardní chybu, což naznačuje přesnější odhad koeficientů. Nicméně, je rozumné, protože malá změna koeficientu u regresoru s vysokým rozptylem by vedla k velké změně vysvětlované proměnné, zejména pokud byla použita ji logaritmická transformace. \n",
    "Abychom tomu předešli, můžeme zkusit stabilizovat rozptyl u všech numerických regresorů."
   ]
  },
  {
   "cell_type": "code",
   "execution_count": 74,
   "id": "7cefe08d-e75e-44a8-9b0a-72315d6df323",
   "metadata": {
    "tags": []
   },
   "outputs": [
    {
     "data": {
      "text/plain": [
       "\n",
       "Call:\n",
       "lm(formula = log(values) ~ log(export) + log(population) + region + \n",
       "    log(salary), data = data_noImport)\n",
       "\n",
       "Residuals:\n",
       "     Min       1Q   Median       3Q      Max \n",
       "-0.15152 -0.06488 -0.01656  0.06575  0.20267 \n",
       "\n",
       "Coefficients:\n",
       "                 Estimate Std. Error t value Pr(>|t|)    \n",
       "(Intercept)     -9.241371   0.586709 -15.751 4.75e-16 ***\n",
       "log(export)      0.338388   0.032558  10.393 1.85e-11 ***\n",
       "log(population)  0.712020   0.029616  24.042  < 2e-16 ***\n",
       "regionNORTH      0.138728   0.061429   2.258   0.0314 *  \n",
       "regionSOUTH      0.009644   0.051988   0.186   0.8541    \n",
       "regionWEST      -0.073564   0.074894  -0.982   0.3338    \n",
       "log(salary)      0.631340   0.054740  11.533 1.49e-12 ***\n",
       "---\n",
       "Signif. codes:  0 '***' 0.001 '**' 0.01 '*' 0.05 '.' 0.1 ' ' 1\n",
       "\n",
       "Residual standard error: 0.09757 on 30 degrees of freedom\n",
       "Multiple R-squared:  0.9972,\tAdjusted R-squared:  0.9966 \n",
       "F-statistic:  1785 on 6 and 30 DF,  p-value: < 2.2e-16\n"
      ]
     },
     "metadata": {},
     "output_type": "display_data"
    }
   ],
   "source": [
    "fit.log_advanced <- lm(log(values)~log(export)+log(population)+region+log(salary),data=data_noImport)\n",
    "summary(fit.log_advanced)"
   ]
  },
  {
   "cell_type": "markdown",
   "id": "65702acc-8cd7-4b53-b4fc-b279d760cf2d",
   "metadata": {},
   "source": [
    "Je skvělé vidět, že stabilizace rozptylu měla pozitivní dopad. **Adjustovaný koeficient determinace** se výrazně zvýšilo a všechny proměnné (včetně interceptu) jsou významné, přičemž žádná z nich nemá standardní chybu vyšší než 1. Zdá se, že jsme dosáhli dobrého logaritmického modelu. Můžeme pokračovat a použít metodu `step` pro nalezení ještě lepšího modelu."
   ]
  },
  {
   "cell_type": "code",
   "execution_count": 75,
   "id": "f900cdcb-3a42-449b-ad78-5e8ddfedd8a5",
   "metadata": {
    "tags": []
   },
   "outputs": [
    {
     "name": "stdout",
     "output_type": "stream",
     "text": [
      "Start:  AIC=39.6\n",
      "log(values) ~ 1\n",
      "\n",
      "                  Df Sum of Sq     RSS     AIC\n",
      "+ log(export)      1    95.733   6.495 -60.376\n",
      "+ log(population)  1    77.354  24.874 -10.692\n",
      "+ log(salary)      1    30.252  71.976  28.621\n",
      "+ region           3    32.302  69.926  31.551\n",
      "<none>                         102.228  39.603\n",
      "\n",
      "Step:  AIC=-60.38\n",
      "log(values) ~ log(export)\n",
      "\n",
      "                  Df Sum of Sq     RSS     AIC\n",
      "+ log(population)  1     4.021   2.474 -94.091\n",
      "+ log(salary)      1     0.557   5.938 -61.690\n",
      "<none>                           6.495 -60.376\n",
      "+ region           3     0.325   6.170 -56.272\n",
      "- log(export)      1    95.733 102.228  39.603\n",
      "\n",
      "Step:  AIC=-94.09\n",
      "log(values) ~ log(export) + log(population)\n",
      "\n",
      "                              Df Sum of Sq     RSS      AIC\n",
      "+ log(salary)                  1    2.0161  0.4577 -154.517\n",
      "+ region                       3    0.9218  1.5520 -105.340\n",
      "+ log(export):log(population)  1    0.2374  2.2364  -95.823\n",
      "<none>                                      2.4738  -94.091\n",
      "- log(population)              1    4.0212  6.4950  -60.376\n",
      "- log(export)                  1   22.4005 24.8743  -10.692\n",
      "\n",
      "Step:  AIC=-154.52\n",
      "log(values) ~ log(export) + log(population) + log(salary)\n",
      "\n",
      "                              Df Sum of Sq    RSS      AIC\n",
      "+ region                       3    0.1721 0.2856 -165.969\n",
      "+ log(population):log(salary)  1    0.0693 0.3884 -158.595\n",
      "+ log(export):log(salary)      1    0.0482 0.4095 -156.634\n",
      "<none>                                     0.4577 -154.517\n",
      "+ log(export):log(population)  1    0.0098 0.4480 -153.317\n",
      "- log(export)                  1    0.9750 1.4327 -114.299\n",
      "- log(salary)                  1    2.0161 2.4738  -94.091\n",
      "- log(population)              1    5.4807 5.9385  -61.690\n",
      "\n",
      "Step:  AIC=-165.97\n",
      "log(values) ~ log(export) + log(population) + log(salary) + region\n",
      "\n",
      "                              Df Sum of Sq    RSS      AIC\n",
      "+ log(population):log(salary)  1    0.0364 0.2492 -169.019\n",
      "+ region:log(salary)           3    0.0537 0.2319 -167.679\n",
      "<none>                                     0.2856 -165.969\n",
      "+ log(export):log(salary)      1    0.0098 0.2758 -165.263\n",
      "+ log(export):region           3    0.0323 0.2533 -164.405\n",
      "+ log(export):log(population)  1    0.0000 0.2856 -163.969\n",
      "+ log(population):region       3    0.0266 0.2590 -163.583\n",
      "- region                       3    0.1721 0.4577 -154.517\n",
      "- log(export)                  1    1.0284 1.3140 -111.500\n",
      "- log(salary)                  1    1.2664 1.5520 -105.340\n",
      "- log(population)              1    5.5029 5.7885  -56.637\n",
      "\n",
      "Step:  AIC=-169.02\n",
      "log(values) ~ log(export) + log(population) + log(salary) + region + \n",
      "    log(population):log(salary)\n",
      "\n",
      "                              Df Sum of Sq     RSS     AIC\n",
      "<none>                                     0.24918 -169.02\n",
      "+ log(population):region       3   0.02899 0.22019 -167.59\n",
      "+ log(export):log(salary)      1   0.00365 0.24553 -167.56\n",
      "+ region:log(salary)           3   0.02837 0.22080 -167.49\n",
      "+ log(export):region           3   0.02754 0.22163 -167.35\n",
      "+ log(export):log(population)  1   0.00089 0.24829 -167.15\n",
      "- log(population):log(salary)  1   0.03644 0.28562 -165.97\n",
      "- region                       3   0.13923 0.38841 -158.59\n",
      "- log(export)                  1   0.86947 1.11865 -115.45\n"
     ]
    },
    {
     "data": {
      "text/plain": [
       "\n",
       "Call:\n",
       "lm(formula = log(values) ~ log(export) + log(population) + log(salary) + \n",
       "    region + log(population):log(salary), data = data_noImport)\n",
       "\n",
       "Coefficients:\n",
       "                (Intercept)                  log(export)              log(population)                  log(salary)                  regionNORTH                  regionSOUTH  \n",
       "                 -14.404720                     0.321676                     1.051020                     1.153101                     0.135114                    -0.007553  \n",
       "                 regionWEST  log(population):log(salary)  \n",
       "                  -0.051483                    -0.032986  \n"
      ]
     },
     "metadata": {},
     "output_type": "display_data"
    }
   ],
   "source": [
    "step(lm(log(values)~1, data=data_noImport), \n",
    "     scope=list(lower=~1,upper=~log(export)*log(population)*region*log(salary)))"
   ]
  },
  {
   "cell_type": "markdown",
   "id": "2655f331-619e-4195-bf47-ed76b6c3b948",
   "metadata": {},
   "source": [
    "Dostali jsme nejlepší model podle AIC, nyní bychom měli provést jeho fitting a podívat se na výsledky."
   ]
  },
  {
   "cell_type": "code",
   "execution_count": 76,
   "id": "4760d99c-85af-48a2-807b-e25e2fa8df24",
   "metadata": {
    "tags": []
   },
   "outputs": [
    {
     "data": {
      "text/plain": [
       "\n",
       "Call:\n",
       "lm(formula = log(values) ~ log(export) + log(population) + log(salary) + \n",
       "    region + log(population):log(salary), data = data_noImport)\n",
       "\n",
       "Residuals:\n",
       "     Min       1Q   Median       3Q      Max \n",
       "-0.13804 -0.05296 -0.01290  0.05546  0.21341 \n",
       "\n",
       "Coefficients:\n",
       "                              Estimate Std. Error t value Pr(>|t|)    \n",
       "(Intercept)                 -14.404720   2.568555  -5.608 4.69e-06 ***\n",
       "log(export)                   0.321676   0.031978  10.059 5.77e-11 ***\n",
       "log(population)               1.051020   0.167007   6.293 7.15e-07 ***\n",
       "log(salary)                   1.153101   0.258651   4.458 0.000114 ***\n",
       "regionNORTH                   0.135114   0.058384   2.314 0.027938 *  \n",
       "regionSOUTH                  -0.007553   0.050090  -0.151 0.881186    \n",
       "regionWEST                   -0.051483   0.071953  -0.716 0.480011    \n",
       "log(population):log(salary)  -0.032986   0.016018  -2.059 0.048546 *  \n",
       "---\n",
       "Signif. codes:  0 '***' 0.001 '**' 0.01 '*' 0.05 '.' 0.1 ' ' 1\n",
       "\n",
       "Residual standard error: 0.09269 on 29 degrees of freedom\n",
       "Multiple R-squared:  0.9976,\tAdjusted R-squared:  0.997 \n",
       "F-statistic:  1696 on 7 and 29 DF,  p-value: < 2.2e-16\n"
      ]
     },
     "metadata": {},
     "output_type": "display_data"
    }
   ],
   "source": [
    "fit.log.step <- lm(formula = log(values) ~ log(export) + log(population) + log(salary) + \n",
    "                                            region + log(population):log(salary), data = data_noImport)\n",
    "summary(fit.log.step)"
   ]
  },
  {
   "cell_type": "markdown",
   "id": "8f9644a9-925f-4458-b6e6-1b99e6c8d7a0",
   "metadata": {},
   "source": [
    "Metoda `step` tedy přibližně navrhla stejný model jako jsme měli v předchozím kroku, s přidáním jedné proměnné (interakce populace a mzdy). Všechny koeficienty jsou významné a **adjustovaný koeficient determinace** se mírně zvýšil. Porovnáme modely(`fit.log_advanced` a `fit.log.step`) příkazem `anova()` pomocí F-testu."
   ]
  },
  {
   "cell_type": "code",
   "execution_count": 77,
   "id": "44ddb7ab-1573-480f-9d39-8ac104ad097f",
   "metadata": {
    "tags": []
   },
   "outputs": [
    {
     "data": {
      "text/html": [
       "<table class=\"dataframe\">\n",
       "<caption>A anova: 2 x 6</caption>\n",
       "<thead>\n",
       "\t<tr><th></th><th scope=col>Res.Df</th><th scope=col>RSS</th><th scope=col>Df</th><th scope=col>Sum of Sq</th><th scope=col>F</th><th scope=col>Pr(&gt;F)</th></tr>\n",
       "\t<tr><th></th><th scope=col>&lt;dbl&gt;</th><th scope=col>&lt;dbl&gt;</th><th scope=col>&lt;dbl&gt;</th><th scope=col>&lt;dbl&gt;</th><th scope=col>&lt;dbl&gt;</th><th scope=col>&lt;dbl&gt;</th></tr>\n",
       "</thead>\n",
       "<tbody>\n",
       "\t<tr><th scope=row>1</th><td>30</td><td>0.2856152</td><td>NA</td><td>        NA</td><td>      NA</td><td>        NA</td></tr>\n",
       "\t<tr><th scope=row>2</th><td>29</td><td>0.2491780</td><td> 1</td><td>0.03643717</td><td>4.240655</td><td>0.04854574</td></tr>\n",
       "</tbody>\n",
       "</table>\n"
      ],
      "text/latex": [
       "A anova: 2 x 6\n",
       "\\begin{tabular}{r|llllll}\n",
       "  & Res.Df & RSS & Df & Sum of Sq & F & Pr(>F)\\\\\n",
       "  & <dbl> & <dbl> & <dbl> & <dbl> & <dbl> & <dbl>\\\\\n",
       "\\hline\n",
       "\t1 & 30 & 0.2856152 & NA &         NA &       NA &         NA\\\\\n",
       "\t2 & 29 & 0.2491780 &  1 & 0.03643717 & 4.240655 & 0.04854574\\\\\n",
       "\\end{tabular}\n"
      ],
      "text/markdown": [
       "\n",
       "A anova: 2 x 6\n",
       "\n",
       "| <!--/--> | Res.Df &lt;dbl&gt; | RSS &lt;dbl&gt; | Df &lt;dbl&gt; | Sum of Sq &lt;dbl&gt; | F &lt;dbl&gt; | Pr(&gt;F) &lt;dbl&gt; |\n",
       "|---|---|---|---|---|---|---|\n",
       "| 1 | 30 | 0.2856152 | NA |         NA |       NA |         NA |\n",
       "| 2 | 29 | 0.2491780 |  1 | 0.03643717 | 4.240655 | 0.04854574 |\n",
       "\n"
      ],
      "text/plain": [
       "  Res.Df RSS       Df Sum of Sq  F        Pr(>F)    \n",
       "1 30     0.2856152 NA         NA       NA         NA\n",
       "2 29     0.2491780  1 0.03643717 4.240655 0.04854574"
      ]
     },
     "metadata": {},
     "output_type": "display_data"
    }
   ],
   "source": [
    "anova(fit.log_advanced, fit.log.step)"
   ]
  },
  {
   "cell_type": "markdown",
   "id": "c19f22e2-51ce-4525-b5da-1cdc35d68e9d",
   "metadata": {},
   "source": [
    "Na standardní hladině významnosti 5 % jsme zaznamenali statisticky významný rozdíl mezi modely, a proto nemůžeme provést redukci modelu pomocí funkce `fit.log.step` na podmodel `fit.log_advanced`."
   ]
  },
  {
   "cell_type": "markdown",
   "id": "3cce2570-2142-42dd-84de-21a4e99b0bc1",
   "metadata": {},
   "source": [
    "### Testování předpokladů u modelů"
   ]
  },
  {
   "cell_type": "markdown",
   "id": "2d2304f6-319b-4510-9d25-d5ff5a22cc16",
   "metadata": {},
   "source": [
    "> Otestujte předpoklady modelu - pokud nebudou splněny, navrhněte a vyzkoušejte metody, které nesplnění kompenzují nebo se bez předpokladů obejdou."
   ]
  },
  {
   "cell_type": "markdown",
   "id": "4cd2ca81-cc7f-439e-9bed-30a54490d1cd",
   "metadata": {},
   "source": [
    "Předpoklady, které musíme ověřit: \n",
    "* normalitu odchylek \n",
    "* homoskedasticitu reziduí\n",
    "* nekorelovanost reziduí"
   ]
  },
  {
   "cell_type": "markdown",
   "id": "2e67df81-fb63-4824-a846-4b734bdebdb6",
   "metadata": {},
   "source": [
    "Začneme s ověřením normality odchylek v výsledných lineárních modelech. Pro tento účel použijeme **Shapiro-Wilkův** test normality."
   ]
  },
  {
   "cell_type": "code",
   "execution_count": 78,
   "id": "4c72aea5-af49-402f-9118-5c2b58f5511c",
   "metadata": {
    "tags": []
   },
   "outputs": [
    {
     "data": {
      "text/plain": [
       "\n",
       "\tShapiro-Wilk normality test\n",
       "\n",
       "data:  fit.step.reduced$residuals\n",
       "W = 0.97083, p-value = 0.4312\n"
      ]
     },
     "metadata": {},
     "output_type": "display_data"
    },
    {
     "data": {
      "text/plain": [
       "\n",
       "\tShapiro-Wilk normality test\n",
       "\n",
       "data:  fit.step$residuals\n",
       "W = 0.72822, p-value = 0.0000006243\n"
      ]
     },
     "metadata": {},
     "output_type": "display_data"
    }
   ],
   "source": [
    "shapiro.test(fit.step.reduced$residuals)\n",
    "shapiro.test(fit.step$residuals)"
   ]
  },
  {
   "cell_type": "markdown",
   "id": "104ddd06-9e3f-4ee8-9dc2-85ccdcdb5864",
   "metadata": {},
   "source": [
    "Z výsledků vidíme, že v případě neredukovaného modelu není splněn předpoklad normality reziduí, ale v případě redukovaného modelu jsou rezidua normálně rozdělena. Proto budeme dále preferovat redukovaný model. Zaroveň z toho vyplyvá, že **F-statistika**, kterou jsme použivali v `anova()`, **nemá Fisherovo-Snedecorovo F-rozdělení** s  $k-r$ a $n-k-1$ stupni volnosti. To znamená. že **p-hodnota**, která by měla vyjadřovat pravděpodobnost, že F-rozdělení bude vyšší než spočítaná F-statistika, **není příliš spolehlivá**.\n",
    "\n",
    "Ověříme také normalitu odchylek ve výsledných logaritmických modelech."
   ]
  },
  {
   "cell_type": "code",
   "execution_count": 79,
   "id": "3ab058d0-36be-4f66-83ba-d85e1278683d",
   "metadata": {
    "tags": []
   },
   "outputs": [
    {
     "data": {
      "text/plain": [
       "\n",
       "\tShapiro-Wilk normality test\n",
       "\n",
       "data:  fit.log.step$residuals\n",
       "W = 0.97583, p-value = 0.5875\n"
      ]
     },
     "metadata": {},
     "output_type": "display_data"
    },
    {
     "data": {
      "text/plain": [
       "\n",
       "\tShapiro-Wilk normality test\n",
       "\n",
       "data:  fit.log_advanced$residuals\n",
       "W = 0.9601, p-value = 0.2034\n"
      ]
     },
     "metadata": {},
     "output_type": "display_data"
    }
   ],
   "source": [
    "shapiro.test(fit.log.step$residuals)\n",
    "shapiro.test(fit.log_advanced$residuals)"
   ]
  },
  {
   "cell_type": "markdown",
   "id": "11dfcebf-b4e7-455a-8c6d-8dc8668bad9c",
   "metadata": {},
   "source": [
    "Z výsledků testů je patrné, že rezidua obou modelů jsou normálně rozdělena. To znamená, že **p-hodnota**, která vyjadřuje pravděpodobnost, že F-rozdělení bude vyšší než spočítaná F-statistika, **je spolehlivá**. \n",
    "\n",
    "Nyní se podíváme na homoskedasticitu reziduí našich modelů. Pro tento účel budeme používat **Breuschův-Paganův** test. Homoskedasticitu reziduí pro model `fit.step` už jsme otestovali (hypotézu o homoskedasticitě reziduí jsme zamitli ve prospěch heteroskedasticity reziduí). Teď otestujeme tuto vlastnost pro modely `fit.step.reduced` a `fit.log.step`."
   ]
  },
  {
   "cell_type": "code",
   "execution_count": 80,
   "id": "f2d91590-b2bd-40a6-85a7-00de59b492b5",
   "metadata": {
    "tags": []
   },
   "outputs": [
    {
     "data": {
      "text/plain": [
       "\n",
       " Breusch Pagan Test for Heteroskedasticity\n",
       " -----------------------------------------\n",
       " Ho: the variance is constant            \n",
       " Ha: the variance is not constant        \n",
       "\n",
       "               Data                \n",
       " ----------------------------------\n",
       " Response : values \n",
       " Variables: fitted values of values \n",
       "\n",
       "        Test Summary         \n",
       " ----------------------------\n",
       " DF            =    1 \n",
       " Chi2          =    3.300507 \n",
       " Prob > Chi2   =    0.0692585 "
      ]
     },
     "metadata": {},
     "output_type": "display_data"
    },
    {
     "data": {
      "image/png": "[encoded data removed]",
      "text/plain": [
       "Plot with title \"\""
      ]
     },
     "metadata": {
      "image/png": {
       "height": 420,
       "width": 780
      }
     },
     "output_type": "display_data"
    },
    {
     "data": {
      "text/plain": [
       "\n",
       " Breusch Pagan Test for Heteroskedasticity\n",
       " -----------------------------------------\n",
       " Ho: the variance is constant            \n",
       " Ha: the variance is not constant        \n",
       "\n",
       "                 Data                   \n",
       " ---------------------------------------\n",
       " Response : log(values) \n",
       " Variables: fitted values of log(values) \n",
       "\n",
       "        Test Summary         \n",
       " ----------------------------\n",
       " DF            =    1 \n",
       " Chi2          =    0.8829194 \n",
       " Prob > Chi2   =    0.3474033 "
      ]
     },
     "metadata": {},
     "output_type": "display_data"
    },
    {
     "data": {
      "image/png": "[encoded data removed]",
      "text/plain": [
       "Plot with title \"\""
      ]
     },
     "metadata": {
      "image/png": {
       "height": 420,
       "width": 780
      }
     },
     "output_type": "display_data"
    }
   ],
   "source": [
    "plot(fit.step.reduced, which=3, col=c(\"blue\"))\n",
    "ols_test_breusch_pagan(fit.step.reduced)\n",
    "plot(fit.log.step, which=3, col=c(\"blue\"))\n",
    "ols_test_breusch_pagan(fit.log.step)"
   ]
  },
  {
   "cell_type": "markdown",
   "id": "c4e3aecc-7acc-4d0e-9b17-c124238fd985",
   "metadata": {},
   "source": [
    "P-hodnota v obou případech je **větší** než 5%, proto nezamitáme nulovou hypotézu ($\\mathbf{H_0:}$ **rezidua jsou homoskedastická**), což je žádoucí vlastností regresního modelu."
   ]
  },
  {
   "cell_type": "markdown",
   "id": "33f380ca-c3e3-41db-88c7-fa7d3c1df8bc",
   "metadata": {},
   "source": [
    "Vypočteme hodnotu **Akaikeho informačního kritéria** (**AIC**) pro dva různé modely: `fit.log.step` a `fit.step.reduced`. **AIC** je statistická metrika pro porovnání různých modelů. Slouží k odhadu kvality modelu a penalizuje modely s větším počtem parametrů, takže můžeme říct, že hledáme model s nejlepším kompromisem mezi přesností a složitostí. Nižší hodnota **AIC** naznačuje lepší modelovou přizpůsobivost datům."
   ]
  },
  {
   "cell_type": "code",
   "execution_count": 81,
   "id": "3be291d6-6f56-4c65-9950-2b8c630ee6b8",
   "metadata": {
    "tags": []
   },
   "outputs": [
    {
     "data": {
      "text/html": [
       "<table class=\"dataframe\">\n",
       "<caption>A data.frame: 2 x 2</caption>\n",
       "<thead>\n",
       "\t<tr><th></th><th scope=col>df</th><th scope=col>AIC</th></tr>\n",
       "\t<tr><th></th><th scope=col>&lt;dbl&gt;</th><th scope=col>&lt;dbl&gt;</th></tr>\n",
       "</thead>\n",
       "<tbody>\n",
       "\t<tr><th scope=row>fit.log.step</th><td> 9</td><td>-62.01726</td></tr>\n",
       "\t<tr><th scope=row>fit.step.reduced</th><td>26</td><td>815.25789</td></tr>\n",
       "</tbody>\n",
       "</table>\n"
      ],
      "text/latex": [
       "A data.frame: 2 x 2\n",
       "\\begin{tabular}{r|ll}\n",
       "  & df & AIC\\\\\n",
       "  & <dbl> & <dbl>\\\\\n",
       "\\hline\n",
       "\tfit.log.step &  9 & -62.01726\\\\\n",
       "\tfit.step.reduced & 26 & 815.25789\\\\\n",
       "\\end{tabular}\n"
      ],
      "text/markdown": [
       "\n",
       "A data.frame: 2 x 2\n",
       "\n",
       "| <!--/--> | df &lt;dbl&gt; | AIC &lt;dbl&gt; |\n",
       "|---|---|---|\n",
       "| fit.log.step |  9 | -62.01726 |\n",
       "| fit.step.reduced | 26 | 815.25789 |\n",
       "\n"
      ],
      "text/plain": [
       "                 df AIC      \n",
       "fit.log.step      9 -62.01726\n",
       "fit.step.reduced 26 815.25789"
      ]
     },
     "metadata": {},
     "output_type": "display_data"
    }
   ],
   "source": [
    "AIC(fit.log.step, fit.step.reduced)"
   ]
  },
  {
   "cell_type": "markdown",
   "id": "6056c5e4-59da-4477-bf46-143f72d249c7",
   "metadata": {},
   "source": [
    "Pro model `fit.log.step` je hodnota **AIC** rovna -62, což je negativní hodnotou a říká nám, že je relativně blíže optimálnímu modelu, než model `fit.step.reduced`, kde je tato hodnota rovna 815. Na základě těchto výsledků bychom preferovali model `fit.log.step`."
   ]
  },
  {
   "cell_type": "markdown",
   "id": "7fd9ac42-502f-4919-ab18-4f389397a066",
   "metadata": {},
   "source": [
    "Teď se podíváme na korelaci reziduí. Pro tento účel použijeme **Breuschův-Godfreyúv** ($\\mathbf{H_0:}$ **Rezidua jsou nekorelovaná**)."
   ]
  },
  {
   "cell_type": "code",
   "execution_count": 82,
   "id": "2f87e384-db36-4216-8950-02f15d7f3bab",
   "metadata": {
    "tags": []
   },
   "outputs": [
    {
     "data": {
      "text/plain": [
       "\n",
       "\tBreusch-Godfrey test for serial correlation of order up to 1\n",
       "\n",
       "data:  fit.step.reduced\n",
       "LM test = 7.2894, df = 1, p-value = 0.006936\n"
      ]
     },
     "metadata": {},
     "output_type": "display_data"
    },
    {
     "data": {
      "image/png": "[encoded data removed]",
      "text/plain": [
       "Plot with title \"\""
      ]
     },
     "metadata": {
      "image/png": {
       "height": 420,
       "width": 780
      }
     },
     "output_type": "display_data"
    }
   ],
   "source": [
    "plot(fit.step.reduced, which=1, col=c(\"blue\"))\n",
    "bgtest(fit.step.reduced)"
   ]
  },
  {
   "cell_type": "code",
   "execution_count": 83,
   "id": "001edf3d-e54b-431f-9021-54e8f9bd87f6",
   "metadata": {
    "tags": []
   },
   "outputs": [
    {
     "data": {
      "text/plain": [
       "\n",
       "\tBreusch-Godfrey test for serial correlation of order up to 1\n",
       "\n",
       "data:  fit.log.step\n",
       "LM test = 1.8641, df = 1, p-value = 0.1722\n"
      ]
     },
     "metadata": {},
     "output_type": "display_data"
    },
    {
     "data": {
      "image/png": "[encoded data removed]",
      "text/plain": [
       "Plot with title \"\""
      ]
     },
     "metadata": {
      "image/png": {
       "height": 420,
       "width": 780
      }
     },
     "output_type": "display_data"
    }
   ],
   "source": [
    "plot(fit.log.step, which=1, col=c(\"blue\"))\n",
    "bgtest(fit.log.step)"
   ]
  },
  {
   "cell_type": "markdown",
   "id": "e5382825-70de-4ea0-846d-694af49d38e7",
   "metadata": {},
   "source": [
    "P-hodnota je v obou případech **větší** než 5%, proto **nezamitáme** nulovou hypotézu. Předpoklad nekorelovaností je splněn, to znamená, že model byl schopen dobře zachytit vzorce v datech a že v reziduích těchto modelů nejsou žádné významné zbývající vzorce nebo struktury. To je obecně považováno za dobrou věc."
   ]
  },
  {
   "cell_type": "markdown",
   "id": "f14f1826-aa55-4d69-9079-ce75de0b6b96",
   "metadata": {},
   "source": [
    "> Identifikujte odlehlá pozorování a prozkoumejte multikolinearitu."
   ]
  },
  {
   "cell_type": "markdown",
   "id": "fd23e291-f91b-4d4d-8148-a9989a1f20d4",
   "metadata": {},
   "source": [
    "Multikolinearitu a závislosti mezi regresory jsme již prozkoumali v úloze č. 2. Nyní se pojďme zabývat odlehlými pozorováními. S tím nám pomůže vyšetření **Cookovy vzdálenosti**, která indikuje míru vlivu jednotlivých pozorování na hodnoty odhadů parametrů modelu. Tímto způsobem dokážeme detekovat **odlehlá pozorování (outliery)**."
   ]
  },
  {
   "cell_type": "code",
   "execution_count": 84,
   "id": "7748f274-cd91-4525-ba50-8a9b6d0f1406",
   "metadata": {
    "tags": []
   },
   "outputs": [
    {
     "data": {
      "image/png": "[encoded data removed]",
      "text/plain": [
       "Plot with title \"\""
      ]
     },
     "metadata": {
      "image/png": {
       "height": 420,
       "width": 780
      }
     },
     "output_type": "display_data"
    },
    {
     "data": {
      "image/png": "[encoded data removed]",
      "text/plain": [
       "Plot with title \"\""
      ]
     },
     "metadata": {
      "image/png": {
       "height": 420,
       "width": 780
      }
     },
     "output_type": "display_data"
    }
   ],
   "source": [
    "plot(fit.log.step, which=4, col=c(\"blue\"))\n",
    "plot(fit.step.reduced, which=4, col=c(\"blue\"))"
   ]
  },
  {
   "cell_type": "code",
   "execution_count": 85,
   "id": "a8f3b506-379a-437c-b24e-af735f98ebba",
   "metadata": {},
   "outputs": [
    {
     "name": "stderr",
     "output_type": "stream",
     "text": [
      "Warning message in sqrt(crit * p * (1 - hh)/hh):\n",
      "\"созданы NaN\"\n",
      "Warning message in sqrt(crit * p * (1 - hh)/hh):\n",
      "\"созданы NaN\"\n"
     ]
    },
    {
     "data": {
      "image/png": "[encoded data removed]",
      "text/plain": [
       "Plot with title \"\""
      ]
     },
     "metadata": {
      "image/png": {
       "height": 420,
       "width": 780
      }
     },
     "output_type": "display_data"
    },
    {
     "data": {
      "image/png": "[encoded data removed]",
      "text/plain": [
       "Plot with title \"\""
      ]
     },
     "metadata": {
      "image/png": {
       "height": 420,
       "width": 780
      }
     },
     "output_type": "display_data"
    }
   ],
   "source": [
    "plot(fit.step.reduced, which=5, col=c(\"blue\"))\n",
    "plot(fit.log.step, which=5, col=c(\"blue\"))"
   ]
  },
  {
   "cell_type": "code",
   "execution_count": 86,
   "id": "4ccc5b29-c840-4f41-8674-28a983fe5d2c",
   "metadata": {
    "tags": []
   },
   "outputs": [
    {
     "data": {
      "text/html": [
       "<table class=\"dataframe\">\n",
       "<caption>A data.frame: 6 x 6</caption>\n",
       "<thead>\n",
       "\t<tr><th></th><th scope=col>geo</th><th scope=col>values</th><th scope=col>population</th><th scope=col>region</th><th scope=col>export</th><th scope=col>salary</th></tr>\n",
       "\t<tr><th></th><th scope=col>&lt;chr&gt;</th><th scope=col>&lt;dbl&gt;</th><th scope=col>&lt;dbl&gt;</th><th scope=col>&lt;fct&gt;</th><th scope=col>&lt;dbl&gt;</th><th scope=col>&lt;dbl&gt;</th></tr>\n",
       "</thead>\n",
       "<tbody>\n",
       "\t<tr><th scope=row>2</th><td>AT</td><td>446933.3</td><td> 8978929</td><td>WEST </td><td>275626.3</td><td>35837.40</td></tr>\n",
       "\t<tr><th scope=row>19</th><td>IS</td><td> 26479.3</td><td>  376248</td><td>NORTH</td><td> 12263.7</td><td>55324.10</td></tr>\n",
       "\t<tr><th scope=row>22</th><td>LU</td><td> 78130.1</td><td>  645397</td><td>WEST </td><td>163578.2</td><td>47639.65</td></tr>\n",
       "\t<tr><th scope=row>28</th><td>NO</td><td>551408.9</td><td> 5425270</td><td>NORTH</td><td>306911.2</td><td>47902.53</td></tr>\n",
       "\t<tr><th scope=row>33</th><td>SE</td><td>560958.6</td><td>10452326</td><td>NORTH</td><td>296508.3</td><td>35233.47</td></tr>\n",
       "\t<tr><th scope=row>36</th><td>TR</td><td>862010.8</td><td>86735919</td><td>SOUTH</td><td>326650.5</td><td> 5819.13</td></tr>\n",
       "</tbody>\n",
       "</table>\n"
      ],
      "text/latex": [
       "A data.frame: 6 x 6\n",
       "\\begin{tabular}{r|llllll}\n",
       "  & geo & values & population & region & export & salary\\\\\n",
       "  & <chr> & <dbl> & <dbl> & <fct> & <dbl> & <dbl>\\\\\n",
       "\\hline\n",
       "\t2 & AT & 446933.3 &  8978929 & WEST  & 275626.3 & 35837.40\\\\\n",
       "\t19 & IS &  26479.3 &   376248 & NORTH &  12263.7 & 55324.10\\\\\n",
       "\t22 & LU &  78130.1 &   645397 & WEST  & 163578.2 & 47639.65\\\\\n",
       "\t28 & NO & 551408.9 &  5425270 & NORTH & 306911.2 & 47902.53\\\\\n",
       "\t33 & SE & 560958.6 & 10452326 & NORTH & 296508.3 & 35233.47\\\\\n",
       "\t36 & TR & 862010.8 & 86735919 & SOUTH & 326650.5 &  5819.13\\\\\n",
       "\\end{tabular}\n"
      ],
      "text/markdown": [
       "\n",
       "A data.frame: 6 x 6\n",
       "\n",
       "| <!--/--> | geo &lt;chr&gt; | values &lt;dbl&gt; | population &lt;dbl&gt; | region &lt;fct&gt; | export &lt;dbl&gt; | salary &lt;dbl&gt; |\n",
       "|---|---|---|---|---|---|---|\n",
       "| 2 | AT | 446933.3 |  8978929 | WEST  | 275626.3 | 35837.40 |\n",
       "| 19 | IS |  26479.3 |   376248 | NORTH |  12263.7 | 55324.10 |\n",
       "| 22 | LU |  78130.1 |   645397 | WEST  | 163578.2 | 47639.65 |\n",
       "| 28 | NO | 551408.9 |  5425270 | NORTH | 306911.2 | 47902.53 |\n",
       "| 33 | SE | 560958.6 | 10452326 | NORTH | 296508.3 | 35233.47 |\n",
       "| 36 | TR | 862010.8 | 86735919 | SOUTH | 326650.5 |  5819.13 |\n",
       "\n"
      ],
      "text/plain": [
       "   geo values   population region export   salary  \n",
       "2  AT  446933.3  8978929   WEST   275626.3 35837.40\n",
       "19 IS   26479.3   376248   NORTH   12263.7 55324.10\n",
       "22 LU   78130.1   645397   WEST   163578.2 47639.65\n",
       "28 NO  551408.9  5425270   NORTH  306911.2 47902.53\n",
       "33 SE  560958.6 10452326   NORTH  296508.3 35233.47\n",
       "36 TR  862010.8 86735919   SOUTH  326650.5  5819.13"
      ]
     },
     "metadata": {},
     "output_type": "display_data"
    }
   ],
   "source": [
    "data[c(2, 19, 22, 28, 33, 36),]"
   ]
  },
  {
   "cell_type": "markdown",
   "id": "de711997-57c6-4768-b968-e1e0fcb16415",
   "metadata": {},
   "source": [
    "Pro logaritmickou regresi máme pozorování s relativně **nízkou Cookovou vzdáleností**, což je pro náš model pozitivním znakem. Tato skutečnost naznačuje, že tato odlehlá pozorování mají pouze malý vliv na odhady parametrů modelu. Mezi odlehlá pozorování patří **Island**, **Norsko** a **Lucembursko**. <br>\n",
    "V případě lineární regrese už to nevypadá tak dobře. Na posledním grafu je vidět, že máme docela mnoho odlehlých pozorování v tomto modelu, což znamená, že tyto pozorování mají vlivný efekt na regresní analýzu. **Cookova vzdálenost** měří, jak moc bychom výsledky regrese změnili, kdybychom vyjmuli dané pozorování z analýzy. Pokud je **Cookova vzdálenost** vyšší než 1, znamená to, že vyjmutí daného pozorování by mělo významný vliv na výsledky regrese. Zajímavá je situace s **Tureckem**, kde Cookova vzdálenost je kolem 3000, což je hodně."
   ]
  },
  {
   "cell_type": "markdown",
   "id": "01de9b00-4e36-4b2d-841f-07e88306b90f",
   "metadata": {},
   "source": [
    "### Finální volba"
   ]
  },
  {
   "cell_type": "markdown",
   "id": "0cb9e988-7dd7-481f-8ff3-cdf60ed27498",
   "metadata": {},
   "source": [
    "Výběr **logaritmického modelu** (fit.log.step) oproti lineárnímu modelu (fit.step.reduced) **je rozumný**, protože logaritmický model **splňuje** předpoklady: **normality** reziduí, **homoskedasticity** reziduí a **nekorelovanosti** reziduí. <br> \n",
    "Navíc, logaritmický model má **nižší** hodnotu **AIC**, což naznačuje, že je lepší přizpůsoben datům. Také **adjustovaný koeficient determinace** je 0.997, což je výborný výsledek, protože je velmi blízko své maximální hodnotě (jedničce).<br>\n",
    "To všechno znamená, že model byl schopen dobře zachytit vzorce v datech a nebyly nalezeny žádné významné struktury v reziduích. To je obecně považováno za pozitivní výsledek."
   ]
  },
  {
   "cell_type": "markdown",
   "id": "87db5c29-6ccc-44cf-a618-62b6ca1ff36c",
   "metadata": {},
   "source": [
    "> Prakticky interpretujte hodnoty odhadů regresních koeficientů."
   ]
  },
  {
   "cell_type": "code",
   "execution_count": 87,
   "id": "74d1c5cc-7471-4d55-bbb0-f41bca365bf3",
   "metadata": {},
   "outputs": [
    {
     "data": {
      "text/plain": [
       "\n",
       "Call:\n",
       "lm(formula = log(values) ~ log(export) + log(population) + log(salary) + \n",
       "    region + log(population):log(salary), data = data_noImport)\n",
       "\n",
       "Residuals:\n",
       "     Min       1Q   Median       3Q      Max \n",
       "-0.13804 -0.05296 -0.01290  0.05546  0.21341 \n",
       "\n",
       "Coefficients:\n",
       "                              Estimate Std. Error t value Pr(>|t|)    \n",
       "(Intercept)                 -14.404720   2.568555  -5.608 4.69e-06 ***\n",
       "log(export)                   0.321676   0.031978  10.059 5.77e-11 ***\n",
       "log(population)               1.051020   0.167007   6.293 7.15e-07 ***\n",
       "log(salary)                   1.153101   0.258651   4.458 0.000114 ***\n",
       "regionNORTH                   0.135114   0.058384   2.314 0.027938 *  \n",
       "regionSOUTH                  -0.007553   0.050090  -0.151 0.881186    \n",
       "regionWEST                   -0.051483   0.071953  -0.716 0.480011    \n",
       "log(population):log(salary)  -0.032986   0.016018  -2.059 0.048546 *  \n",
       "---\n",
       "Signif. codes:  0 '***' 0.001 '**' 0.01 '*' 0.05 '.' 0.1 ' ' 1\n",
       "\n",
       "Residual standard error: 0.09269 on 29 degrees of freedom\n",
       "Multiple R-squared:  0.9976,\tAdjusted R-squared:  0.997 \n",
       "F-statistic:  1696 on 7 and 29 DF,  p-value: < 2.2e-16\n"
      ]
     },
     "metadata": {},
     "output_type": "display_data"
    }
   ],
   "source": [
    "summary(fit.log.step)"
   ]
  },
  {
   "cell_type": "markdown",
   "id": "2ceed554-3ac9-4977-8c99-f88bc592ba5a",
   "metadata": {},
   "source": [
    "**Vzorec modelu**: `log(HDP) = -14.4 + 0.32*log(export) + 1.05*log(population) + 1.15*log(salary) + 0.13*if(region==NORTH) - 0.01*if(region==SOUTH) - 0.05*if(region==WEST) - 0.03*log(population)*log(salary)` + $\\varepsilon_i$.\n",
    "\n",
    "To zjednodušíme na `log(HDP)` = `-14.4 + 0.32*log(export) + 1.05*log(population) + 1.15*log(salary) + region - 0.03*log(population)*log(salary)` + $\\varepsilon_i$, <br>\n",
    "kde `region` = `0.13*if(region==NORTH) - 0.01*if(region==SOUTH) - 0.05*if(region==WEST)`\n",
    "\n",
    "Po umocnění na e dostaváme: <br>\n",
    "`HDP` = $e^{-14.4} \\cdot e^{0.09269^2/2} \\cdot export^{0.32} \\cdot population^{1.05} \\cdot salary^{1.15} \\cdot e^{region} \\cdot population^{-0.03*log(salary)}$\n",
    "\n",
    "Pozor, pokud budou všechny regresory nulové, získáme $\\operatorname E Y_i=\\operatorname E( e^{\\beta_0}\\cdot e^{\\varepsilon_i})= e^{\\beta_0}\\cdot \\operatorname E e^{\\varepsilon_i}$, přičemž v případě normality reziduí je $\\operatorname E e^{\\varepsilon_i}=e^{\\sigma^2/2}$, kde $\\sigma^2$ můžeme odhadnout pomocí reziduálního rozptylu $s^2$. Víme, že rezidua splňují předpoklad normality, z toho vyplyvá $s$ = 0.09269.\n",
    "\n",
    "Poznámka: Když ale v našem případě alespoň jeden regresor, kromě regionu, bude nulový => $E Y_i$ = 0\n",
    " \n",
    "- Při zvýšení exportu o jeden milion eur roste HDP v průměru $e^{0.32}=1.38$ krát (cca o 27.5%).\n",
    "\n",
    "Stejně tak to platí i pro ostatní regresory."
   ]
  }
 ],
 "metadata": {
  "kernelspec": {
   "display_name": "R",
   "language": "R",
   "name": "ir"
  },
  "language_info": {
   "codemirror_mode": "r",
   "file_extension": ".r",
   "mimetype": "text/x-r-source",
   "name": "R",
   "pygments_lexer": "r",
   "version": "4.1.3"
  },
  "toc-autonumbering": false,
  "toc-showmarkdowntxt": false,
  "toc-showtags": false
 },
 "nbformat": 4,
 "nbformat_minor": 5
}
